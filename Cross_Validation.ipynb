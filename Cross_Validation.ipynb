{
 "cells": [
  {
   "cell_type": "code",
   "execution_count": 6,
   "id": "ba48dbc6-07bb-4633-8515-920258ac644d",
   "metadata": {},
   "outputs": [],
   "source": [
    "import warnings \n",
    "warnings.filterwarnings(\"ignore\")"
   ]
  },
  {
   "cell_type": "markdown",
   "id": "ab302a47-2cad-4b76-9569-043bd7ff1f85",
   "metadata": {},
   "source": [
    "#### 이전에 feature engineering한 타이타닉 데이터 불러오기\n",
    " - onehot encoding 작업 완료\n",
    " - 처음부터 891개의 행까지만 훈련 데이터 (label 존재)\n",
    " - 그 이후는 테스트 데이터(label 미존재)"
   ]
  },
  {
   "cell_type": "code",
   "execution_count": 16,
   "id": "c8189dfc-7969-4112-85b3-74cb65bd0b36",
   "metadata": {},
   "outputs": [
    {
     "name": "stdout",
     "output_type": "stream",
     "text": [
      "훈련 데이터의 개수: 891\n"
     ]
    }
   ],
   "source": [
    "import pickle \n",
    "\n",
    "\n",
    "with open(\"titanic_step3_feature_engineering.pickle\", \"rb\") as pickle_file:\n",
    "    onehot_df = pickle.load(pickle_file)\n",
    "\n",
    "with open(\"titanic_step3_feature_engineering_y.pickle\", \"rb\") as pickle_file_y:\n",
    "    y_train = pickle.load(pickle_file_y)\n",
    "\n",
    "ntrain = 891\n",
    "X_train,X_test = onehot_df[:ntrain], onehot_df[ntrain:]\n",
    "\n",
    "print(f\"훈련 데이터의 개수: {X_train.shape[0]}\")"
   ]
  },
  {
   "cell_type": "code",
   "execution_count": 17,
   "id": "de167b32-27a2-4ccf-a2d3-7f64c2a032b1",
   "metadata": {},
   "outputs": [
    {
     "data": {
      "text/html": [
       "<div>\n",
       "<style scoped>\n",
       "    .dataframe tbody tr th:only-of-type {\n",
       "        vertical-align: middle;\n",
       "    }\n",
       "\n",
       "    .dataframe tbody tr th {\n",
       "        vertical-align: top;\n",
       "    }\n",
       "\n",
       "    .dataframe thead th {\n",
       "        text-align: right;\n",
       "    }\n",
       "</style>\n",
       "<table border=\"1\" class=\"dataframe\">\n",
       "  <thead>\n",
       "    <tr style=\"text-align: right;\">\n",
       "      <th></th>\n",
       "      <th>Pclass_0</th>\n",
       "      <th>Pclass_1</th>\n",
       "      <th>Pclass_2</th>\n",
       "      <th>Sex_0</th>\n",
       "      <th>Sex_1</th>\n",
       "      <th>Age_0</th>\n",
       "      <th>Age_1</th>\n",
       "      <th>Age_2</th>\n",
       "      <th>Age_3</th>\n",
       "      <th>Age_4</th>\n",
       "      <th>...</th>\n",
       "      <th>HighSurvival_0</th>\n",
       "      <th>HighSurvival_1</th>\n",
       "      <th>HighSurvival_2</th>\n",
       "      <th>HighSurvival_3</th>\n",
       "      <th>HighSurvival_4</th>\n",
       "      <th>HighSurvival_5</th>\n",
       "      <th>HighSurvival_6</th>\n",
       "      <th>LowSurvival_0</th>\n",
       "      <th>LowSurvival_1</th>\n",
       "      <th>LowSurvival_2</th>\n",
       "    </tr>\n",
       "  </thead>\n",
       "  <tbody>\n",
       "    <tr>\n",
       "      <th>0</th>\n",
       "      <td>False</td>\n",
       "      <td>False</td>\n",
       "      <td>True</td>\n",
       "      <td>True</td>\n",
       "      <td>False</td>\n",
       "      <td>False</td>\n",
       "      <td>False</td>\n",
       "      <td>False</td>\n",
       "      <td>True</td>\n",
       "      <td>False</td>\n",
       "      <td>...</td>\n",
       "      <td>True</td>\n",
       "      <td>False</td>\n",
       "      <td>False</td>\n",
       "      <td>False</td>\n",
       "      <td>False</td>\n",
       "      <td>False</td>\n",
       "      <td>False</td>\n",
       "      <td>True</td>\n",
       "      <td>False</td>\n",
       "      <td>False</td>\n",
       "    </tr>\n",
       "    <tr>\n",
       "      <th>1</th>\n",
       "      <td>True</td>\n",
       "      <td>False</td>\n",
       "      <td>False</td>\n",
       "      <td>False</td>\n",
       "      <td>True</td>\n",
       "      <td>False</td>\n",
       "      <td>False</td>\n",
       "      <td>False</td>\n",
       "      <td>False</td>\n",
       "      <td>True</td>\n",
       "      <td>...</td>\n",
       "      <td>False</td>\n",
       "      <td>False</td>\n",
       "      <td>True</td>\n",
       "      <td>False</td>\n",
       "      <td>False</td>\n",
       "      <td>False</td>\n",
       "      <td>False</td>\n",
       "      <td>True</td>\n",
       "      <td>False</td>\n",
       "      <td>False</td>\n",
       "    </tr>\n",
       "    <tr>\n",
       "      <th>2</th>\n",
       "      <td>False</td>\n",
       "      <td>False</td>\n",
       "      <td>True</td>\n",
       "      <td>False</td>\n",
       "      <td>True</td>\n",
       "      <td>False</td>\n",
       "      <td>False</td>\n",
       "      <td>False</td>\n",
       "      <td>True</td>\n",
       "      <td>False</td>\n",
       "      <td>...</td>\n",
       "      <td>True</td>\n",
       "      <td>False</td>\n",
       "      <td>False</td>\n",
       "      <td>False</td>\n",
       "      <td>False</td>\n",
       "      <td>False</td>\n",
       "      <td>False</td>\n",
       "      <td>True</td>\n",
       "      <td>False</td>\n",
       "      <td>False</td>\n",
       "    </tr>\n",
       "    <tr>\n",
       "      <th>3</th>\n",
       "      <td>True</td>\n",
       "      <td>False</td>\n",
       "      <td>False</td>\n",
       "      <td>False</td>\n",
       "      <td>True</td>\n",
       "      <td>False</td>\n",
       "      <td>False</td>\n",
       "      <td>False</td>\n",
       "      <td>False</td>\n",
       "      <td>True</td>\n",
       "      <td>...</td>\n",
       "      <td>False</td>\n",
       "      <td>False</td>\n",
       "      <td>True</td>\n",
       "      <td>False</td>\n",
       "      <td>False</td>\n",
       "      <td>False</td>\n",
       "      <td>False</td>\n",
       "      <td>True</td>\n",
       "      <td>False</td>\n",
       "      <td>False</td>\n",
       "    </tr>\n",
       "    <tr>\n",
       "      <th>4</th>\n",
       "      <td>False</td>\n",
       "      <td>False</td>\n",
       "      <td>True</td>\n",
       "      <td>True</td>\n",
       "      <td>False</td>\n",
       "      <td>False</td>\n",
       "      <td>False</td>\n",
       "      <td>False</td>\n",
       "      <td>False</td>\n",
       "      <td>True</td>\n",
       "      <td>...</td>\n",
       "      <td>True</td>\n",
       "      <td>False</td>\n",
       "      <td>False</td>\n",
       "      <td>False</td>\n",
       "      <td>False</td>\n",
       "      <td>False</td>\n",
       "      <td>False</td>\n",
       "      <td>False</td>\n",
       "      <td>False</td>\n",
       "      <td>True</td>\n",
       "    </tr>\n",
       "  </tbody>\n",
       "</table>\n",
       "<p>5 rows × 94 columns</p>\n",
       "</div>"
      ],
      "text/plain": [
       "   Pclass_0  Pclass_1  Pclass_2  Sex_0  Sex_1  Age_0  Age_1  Age_2  Age_3  \\\n",
       "0     False     False      True   True  False  False  False  False   True   \n",
       "1      True     False     False  False   True  False  False  False  False   \n",
       "2     False     False      True  False   True  False  False  False   True   \n",
       "3      True     False     False  False   True  False  False  False  False   \n",
       "4     False     False      True   True  False  False  False  False  False   \n",
       "\n",
       "   Age_4  ...  HighSurvival_0  HighSurvival_1  HighSurvival_2  HighSurvival_3  \\\n",
       "0  False  ...            True           False           False           False   \n",
       "1   True  ...           False           False            True           False   \n",
       "2  False  ...            True           False           False           False   \n",
       "3   True  ...           False           False            True           False   \n",
       "4   True  ...            True           False           False           False   \n",
       "\n",
       "   HighSurvival_4  HighSurvival_5  HighSurvival_6  LowSurvival_0  \\\n",
       "0           False           False           False           True   \n",
       "1           False           False           False           True   \n",
       "2           False           False           False           True   \n",
       "3           False           False           False           True   \n",
       "4           False           False           False          False   \n",
       "\n",
       "   LowSurvival_1  LowSurvival_2  \n",
       "0          False          False  \n",
       "1          False          False  \n",
       "2          False          False  \n",
       "3          False          False  \n",
       "4          False           True  \n",
       "\n",
       "[5 rows x 94 columns]"
      ]
     },
     "execution_count": 17,
     "metadata": {},
     "output_type": "execute_result"
    }
   ],
   "source": [
    "X_train.head()"
   ]
  },
  {
   "cell_type": "markdown",
   "id": "f5c3da50-0f99-4d63-bce5-3c6cc4e809b3",
   "metadata": {},
   "source": [
    "#### label"
   ]
  },
  {
   "cell_type": "code",
   "execution_count": 10,
   "id": "605e8441-13cd-4459-b376-b6f36871b2b0",
   "metadata": {},
   "outputs": [
    {
     "data": {
      "text/plain": [
       "Survived\n",
       "0.0         549\n",
       "1.0         342\n",
       "Name: count, dtype: int64"
      ]
     },
     "execution_count": 10,
     "metadata": {},
     "output_type": "execute_result"
    }
   ],
   "source": [
    "y_train.value_counts()"
   ]
  },
  {
   "cell_type": "markdown",
   "id": "24dbfcc4-8ca5-40dc-90ba-4c962e177c54",
   "metadata": {},
   "source": [
    "#### K-Fold 실습"
   ]
  },
  {
   "cell_type": "code",
   "execution_count": 18,
   "id": "ad134898-0fb3-4f72-b54c-866071a9635b",
   "metadata": {},
   "outputs": [],
   "source": [
    "from sklearn.model_selection import KFold\n",
    "from sklearn.model_selection import cross_val_score"
   ]
  },
  {
   "cell_type": "code",
   "execution_count": 19,
   "id": "cb069065-4519-4169-b4d3-603776814e52",
   "metadata": {},
   "outputs": [],
   "source": [
    "from sklearn.neighbors import KNeighborsClassifier\n",
    "\n",
    "knn = KNeighborsClassifier(n_neighbors=13)\n",
    "\n",
    "## fold의 개수를 10개, 매 fold를 나눌 때 마다 데이터를 섞음\n",
    "kfold = KFold(n_splits=10, shuffle=True, random_state=2025)"
   ]
  },
  {
   "cell_type": "markdown",
   "id": "08bb052d-9fc0-49fc-b991-82f5eb54c615",
   "metadata": {},
   "source": [
    "#### 각 fold에 의해 도출된 정확도의 평균을 냄"
   ]
  },
  {
   "cell_type": "code",
   "execution_count": 21,
   "id": "431374c1-dee8-4484-8110-0cf03140d2e3",
   "metadata": {},
   "outputs": [
    {
     "data": {
      "text/plain": [
       "array([0.81111111, 0.78651685, 0.85393258, 0.84269663, 0.79775281,\n",
       "       0.8988764 , 0.85393258, 0.85393258, 0.79775281, 0.79775281])"
      ]
     },
     "execution_count": 21,
     "metadata": {},
     "output_type": "execute_result"
    }
   ],
   "source": [
    "score = cross_val_score(knn,X_train, y_train, n_jobs=-1, cv=kfold, scoring=\"accuracy\")\n",
    "score"
   ]
  },
  {
   "cell_type": "code",
   "execution_count": 22,
   "id": "ba102db6-e7b8-4c00-bd90-18e4118fc1b9",
   "metadata": {},
   "outputs": [
    {
     "data": {
      "text/plain": [
       "np.float64(82.94257178526841)"
      ]
     },
     "execution_count": 22,
     "metadata": {},
     "output_type": "execute_result"
    }
   ],
   "source": [
    "import numpy as np \n",
    "np.mean(score) * 100"
   ]
  },
  {
   "cell_type": "markdown",
   "id": "457926d5-362f-497d-bdd2-53119bf7d8dc",
   "metadata": {},
   "source": [
    "#### Stratified K-Fold"
   ]
  },
  {
   "cell_type": "code",
   "execution_count": 24,
   "id": "03cb4d3d-bfea-43e1-bc00-2cf8da86ecfe",
   "metadata": {},
   "outputs": [],
   "source": [
    "import pandas as pd\n",
    "from sklearn.datasets import load_iris\n",
    "from sklearn.model_selection import StratifiedKFold\n",
    "from sklearn.model_selection import KFold\n",
    "\n",
    "iris_data = load_iris()\n"
   ]
  },
  {
   "cell_type": "code",
   "execution_count": 25,
   "id": "0362ca58-c55f-41a5-8064-1a7e2c099e43",
   "metadata": {},
   "outputs": [],
   "source": [
    "iris_df = pd.DataFrame(data=iris_data.data, columns=iris_data.feature_names)"
   ]
  },
  {
   "cell_type": "markdown",
   "id": "b19b95c8-e38e-498e-b4db-9aba038b35bd",
   "metadata": {},
   "source": [
    "#### iris 데이터의 target"
   ]
  },
  {
   "cell_type": "code",
   "execution_count": 30,
   "id": "8de08fa9-d4d2-4c0b-922c-3ed40b443805",
   "metadata": {},
   "outputs": [
    {
     "data": {
      "text/plain": [
       "species\n",
       "0    50\n",
       "1    50\n",
       "2    50\n",
       "Name: count, dtype: int64"
      ]
     },
     "execution_count": 30,
     "metadata": {},
     "output_type": "execute_result"
    }
   ],
   "source": [
    "iris_df[\"species\"] = iris_data.target\n",
    "iris_df[\"species\"].value_counts()"
   ]
  },
  {
   "cell_type": "code",
   "execution_count": 31,
   "id": "3f0ad343-e35a-4273-a0cf-10da906ac159",
   "metadata": {},
   "outputs": [
    {
     "data": {
      "text/html": [
       "<div>\n",
       "<style scoped>\n",
       "    .dataframe tbody tr th:only-of-type {\n",
       "        vertical-align: middle;\n",
       "    }\n",
       "\n",
       "    .dataframe tbody tr th {\n",
       "        vertical-align: top;\n",
       "    }\n",
       "\n",
       "    .dataframe thead th {\n",
       "        text-align: right;\n",
       "    }\n",
       "</style>\n",
       "<table border=\"1\" class=\"dataframe\">\n",
       "  <thead>\n",
       "    <tr style=\"text-align: right;\">\n",
       "      <th></th>\n",
       "      <th>sepal length (cm)</th>\n",
       "      <th>sepal width (cm)</th>\n",
       "      <th>petal length (cm)</th>\n",
       "      <th>petal width (cm)</th>\n",
       "      <th>species</th>\n",
       "    </tr>\n",
       "  </thead>\n",
       "  <tbody>\n",
       "    <tr>\n",
       "      <th>0</th>\n",
       "      <td>5.1</td>\n",
       "      <td>3.5</td>\n",
       "      <td>1.4</td>\n",
       "      <td>0.2</td>\n",
       "      <td>0</td>\n",
       "    </tr>\n",
       "    <tr>\n",
       "      <th>1</th>\n",
       "      <td>4.9</td>\n",
       "      <td>3.0</td>\n",
       "      <td>1.4</td>\n",
       "      <td>0.2</td>\n",
       "      <td>0</td>\n",
       "    </tr>\n",
       "    <tr>\n",
       "      <th>2</th>\n",
       "      <td>4.7</td>\n",
       "      <td>3.2</td>\n",
       "      <td>1.3</td>\n",
       "      <td>0.2</td>\n",
       "      <td>0</td>\n",
       "    </tr>\n",
       "    <tr>\n",
       "      <th>3</th>\n",
       "      <td>4.6</td>\n",
       "      <td>3.1</td>\n",
       "      <td>1.5</td>\n",
       "      <td>0.2</td>\n",
       "      <td>0</td>\n",
       "    </tr>\n",
       "    <tr>\n",
       "      <th>4</th>\n",
       "      <td>5.0</td>\n",
       "      <td>3.6</td>\n",
       "      <td>1.4</td>\n",
       "      <td>0.2</td>\n",
       "      <td>0</td>\n",
       "    </tr>\n",
       "  </tbody>\n",
       "</table>\n",
       "</div>"
      ],
      "text/plain": [
       "   sepal length (cm)  sepal width (cm)  petal length (cm)  petal width (cm)  \\\n",
       "0                5.1               3.5                1.4               0.2   \n",
       "1                4.9               3.0                1.4               0.2   \n",
       "2                4.7               3.2                1.3               0.2   \n",
       "3                4.6               3.1                1.5               0.2   \n",
       "4                5.0               3.6                1.4               0.2   \n",
       "\n",
       "   species  \n",
       "0        0  \n",
       "1        0  \n",
       "2        0  \n",
       "3        0  \n",
       "4        0  "
      ]
     },
     "execution_count": 31,
     "metadata": {},
     "output_type": "execute_result"
    }
   ],
   "source": [
    "iris_df.head()"
   ]
  },
  {
   "cell_type": "markdown",
   "id": "2ffc20fc-fe5d-4cd2-994f-6ee901a99c22",
   "metadata": {},
   "source": [
    "#### Stratified K-Fold의 데이터가 어떻게 분배되는지 확인\n",
    "- 실제로 각각의 레이블의 비율에 맞게 균등하게 train 및 test dataset이 분배됨"
   ]
  },
  {
   "cell_type": "code",
   "execution_count": 32,
   "id": "6ef37437-a295-432b-818b-87d58203a985",
   "metadata": {},
   "outputs": [
    {
     "name": "stdout",
     "output_type": "stream",
     "text": [
      "train set\n",
      " species\n",
      "2    34\n",
      "0    33\n",
      "1    33\n",
      "Name: count, dtype: int64\n",
      "test set\n",
      " species\n",
      "0    17\n",
      "1    17\n",
      "2    16\n",
      "Name: count, dtype: int64\n",
      "train set\n",
      " species\n",
      "1    34\n",
      "0    33\n",
      "2    33\n",
      "Name: count, dtype: int64\n",
      "test set\n",
      " species\n",
      "0    17\n",
      "2    17\n",
      "1    16\n",
      "Name: count, dtype: int64\n",
      "train set\n",
      " species\n",
      "0    34\n",
      "1    33\n",
      "2    33\n",
      "Name: count, dtype: int64\n",
      "test set\n",
      " species\n",
      "1    17\n",
      "2    17\n",
      "0    16\n",
      "Name: count, dtype: int64\n"
     ]
    }
   ],
   "source": [
    "skfold = StratifiedKFold(n_splits=3)\n",
    "\n",
    "for train_index, test_index in skfold.split(iris_df, iris_df[\"species\"]):\n",
    "    trainset = iris_df[\"species\"].iloc[train_index]\n",
    "    testset = iris_df[\"species\"].iloc[test_index]\n",
    "\n",
    "    print(\"train set\\n\", trainset.value_counts())\n",
    "    print(\"test set\\n\", testset.value_counts())"
   ]
  },
  {
   "cell_type": "markdown",
   "id": "6f0e72c1-36a2-4df9-9cb9-693e294a5669",
   "metadata": {},
   "source": [
    "#### K-Fold의 경우 train dataset에는 1과 2 레이블인 데이터, test datset에는 0이 레이블인 데이터만 분배됨"
   ]
  },
  {
   "cell_type": "code",
   "execution_count": 33,
   "id": "3d14362e-c19a-43c5-9ab9-2b3dc610f3e1",
   "metadata": {},
   "outputs": [
    {
     "name": "stdout",
     "output_type": "stream",
     "text": [
      "train set\n",
      " species\n",
      "1    50\n",
      "2    50\n",
      "Name: count, dtype: int64\n",
      "test set\n",
      " species\n",
      "0    50\n",
      "Name: count, dtype: int64\n",
      "train set\n",
      " species\n",
      "0    50\n",
      "2    50\n",
      "Name: count, dtype: int64\n",
      "test set\n",
      " species\n",
      "1    50\n",
      "Name: count, dtype: int64\n",
      "train set\n",
      " species\n",
      "0    50\n",
      "1    50\n",
      "Name: count, dtype: int64\n",
      "test set\n",
      " species\n",
      "2    50\n",
      "Name: count, dtype: int64\n"
     ]
    }
   ],
   "source": [
    "kfold = KFold(n_splits=3)\n",
    "\n",
    "for train_index, test_index in kfold.split(iris_df):\n",
    "    trainset = iris_df[\"species\"].iloc[train_index]\n",
    "    testset = iris_df[\"species\"].iloc[test_index]\n",
    "\n",
    "    print(\"train set\\n\", trainset.value_counts())\n",
    "    print(\"test set\\n\", testset.value_counts())"
   ]
  },
  {
   "cell_type": "code",
   "execution_count": null,
   "id": "ef8c1717-c8d3-4bc7-b53d-4c306064964d",
   "metadata": {},
   "outputs": [],
   "source": []
  }
 ],
 "metadata": {
  "kernelspec": {
   "display_name": "Python [conda env:base] *",
   "language": "python",
   "name": "conda-base-py"
  },
  "language_info": {
   "codemirror_mode": {
    "name": "ipython",
    "version": 3
   },
   "file_extension": ".py",
   "mimetype": "text/x-python",
   "name": "python",
   "nbconvert_exporter": "python",
   "pygments_lexer": "ipython3",
   "version": "3.13.5"
  }
 },
 "nbformat": 4,
 "nbformat_minor": 5
}
