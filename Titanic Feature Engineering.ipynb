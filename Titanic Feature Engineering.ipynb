{
 "cells": [
  {
   "cell_type": "code",
   "execution_count": 157,
   "id": "2c595a29-fc39-4ce7-868f-e9042c674129",
   "metadata": {},
   "outputs": [],
   "source": [
    "import pandas as pd\n",
    "\n",
    "train = pd.read_csv(\"./titanic/train.csv\")\n",
    "test = pd.read_csv(\"./titanic/test.csv\")"
   ]
  },
  {
   "cell_type": "code",
   "execution_count": 158,
   "id": "42474480-9393-4809-9dd4-a41751818bf6",
   "metadata": {},
   "outputs": [
    {
     "data": {
      "text/plain": [
       "(891, 12)"
      ]
     },
     "execution_count": 158,
     "metadata": {},
     "output_type": "execute_result"
    }
   ],
   "source": [
    "train.shape"
   ]
  },
  {
   "cell_type": "code",
   "execution_count": 159,
   "id": "2066b6e3-d666-4be2-8331-edd6b7d691f7",
   "metadata": {},
   "outputs": [
    {
     "data": {
      "text/plain": [
       "(418, 11)"
      ]
     },
     "execution_count": 159,
     "metadata": {},
     "output_type": "execute_result"
    }
   ],
   "source": [
    "test.shape"
   ]
  },
  {
   "cell_type": "markdown",
   "id": "0f09f33d-4cbd-4a3d-81b4-3a3246626012",
   "metadata": {},
   "source": [
    "#### 각 dataset의 크기(행의 개수)"
   ]
  },
  {
   "cell_type": "code",
   "execution_count": 160,
   "id": "d829541c-b1a6-4542-bd43-55ed8edd5292",
   "metadata": {},
   "outputs": [
    {
     "name": "stdout",
     "output_type": "stream",
     "text": [
      "891 418\n"
     ]
    }
   ],
   "source": [
    "ntrain = train.shape[0]\n",
    "ntest = test.shape[0]\n",
    "print(ntrain, ntest)"
   ]
  },
  {
   "cell_type": "markdown",
   "id": "9a03b914-7b8d-44c9-b623-795cf85d59a5",
   "metadata": {},
   "source": [
    "#### dataset 하나로 합치기"
   ]
  },
  {
   "cell_type": "code",
   "execution_count": 161,
   "id": "1a123e35-183a-414f-8567-21a1bda50a44",
   "metadata": {},
   "outputs": [
    {
     "data": {
      "text/html": [
       "<div>\n",
       "<style scoped>\n",
       "    .dataframe tbody tr th:only-of-type {\n",
       "        vertical-align: middle;\n",
       "    }\n",
       "\n",
       "    .dataframe tbody tr th {\n",
       "        vertical-align: top;\n",
       "    }\n",
       "\n",
       "    .dataframe thead th {\n",
       "        text-align: right;\n",
       "    }\n",
       "</style>\n",
       "<table border=\"1\" class=\"dataframe\">\n",
       "  <thead>\n",
       "    <tr style=\"text-align: right;\">\n",
       "      <th></th>\n",
       "      <th>PassengerId</th>\n",
       "      <th>Survived</th>\n",
       "      <th>Pclass</th>\n",
       "      <th>Name</th>\n",
       "      <th>Sex</th>\n",
       "      <th>Age</th>\n",
       "      <th>SibSp</th>\n",
       "      <th>Parch</th>\n",
       "      <th>Ticket</th>\n",
       "      <th>Fare</th>\n",
       "      <th>Cabin</th>\n",
       "      <th>Embarked</th>\n",
       "    </tr>\n",
       "  </thead>\n",
       "  <tbody>\n",
       "    <tr>\n",
       "      <th>0</th>\n",
       "      <td>1</td>\n",
       "      <td>0.0</td>\n",
       "      <td>3</td>\n",
       "      <td>Braund, Mr. Owen Harris</td>\n",
       "      <td>male</td>\n",
       "      <td>22.0</td>\n",
       "      <td>1</td>\n",
       "      <td>0</td>\n",
       "      <td>A/5 21171</td>\n",
       "      <td>7.2500</td>\n",
       "      <td>NaN</td>\n",
       "      <td>S</td>\n",
       "    </tr>\n",
       "    <tr>\n",
       "      <th>1</th>\n",
       "      <td>2</td>\n",
       "      <td>1.0</td>\n",
       "      <td>1</td>\n",
       "      <td>Cumings, Mrs. John Bradley (Florence Briggs Th...</td>\n",
       "      <td>female</td>\n",
       "      <td>38.0</td>\n",
       "      <td>1</td>\n",
       "      <td>0</td>\n",
       "      <td>PC 17599</td>\n",
       "      <td>71.2833</td>\n",
       "      <td>C85</td>\n",
       "      <td>C</td>\n",
       "    </tr>\n",
       "    <tr>\n",
       "      <th>2</th>\n",
       "      <td>3</td>\n",
       "      <td>1.0</td>\n",
       "      <td>3</td>\n",
       "      <td>Heikkinen, Miss. Laina</td>\n",
       "      <td>female</td>\n",
       "      <td>26.0</td>\n",
       "      <td>0</td>\n",
       "      <td>0</td>\n",
       "      <td>STON/O2. 3101282</td>\n",
       "      <td>7.9250</td>\n",
       "      <td>NaN</td>\n",
       "      <td>S</td>\n",
       "    </tr>\n",
       "    <tr>\n",
       "      <th>3</th>\n",
       "      <td>4</td>\n",
       "      <td>1.0</td>\n",
       "      <td>1</td>\n",
       "      <td>Futrelle, Mrs. Jacques Heath (Lily May Peel)</td>\n",
       "      <td>female</td>\n",
       "      <td>35.0</td>\n",
       "      <td>1</td>\n",
       "      <td>0</td>\n",
       "      <td>113803</td>\n",
       "      <td>53.1000</td>\n",
       "      <td>C123</td>\n",
       "      <td>S</td>\n",
       "    </tr>\n",
       "    <tr>\n",
       "      <th>4</th>\n",
       "      <td>5</td>\n",
       "      <td>0.0</td>\n",
       "      <td>3</td>\n",
       "      <td>Allen, Mr. William Henry</td>\n",
       "      <td>male</td>\n",
       "      <td>35.0</td>\n",
       "      <td>0</td>\n",
       "      <td>0</td>\n",
       "      <td>373450</td>\n",
       "      <td>8.0500</td>\n",
       "      <td>NaN</td>\n",
       "      <td>S</td>\n",
       "    </tr>\n",
       "    <tr>\n",
       "      <th>...</th>\n",
       "      <td>...</td>\n",
       "      <td>...</td>\n",
       "      <td>...</td>\n",
       "      <td>...</td>\n",
       "      <td>...</td>\n",
       "      <td>...</td>\n",
       "      <td>...</td>\n",
       "      <td>...</td>\n",
       "      <td>...</td>\n",
       "      <td>...</td>\n",
       "      <td>...</td>\n",
       "      <td>...</td>\n",
       "    </tr>\n",
       "    <tr>\n",
       "      <th>413</th>\n",
       "      <td>1305</td>\n",
       "      <td>NaN</td>\n",
       "      <td>3</td>\n",
       "      <td>Spector, Mr. Woolf</td>\n",
       "      <td>male</td>\n",
       "      <td>NaN</td>\n",
       "      <td>0</td>\n",
       "      <td>0</td>\n",
       "      <td>A.5. 3236</td>\n",
       "      <td>8.0500</td>\n",
       "      <td>NaN</td>\n",
       "      <td>S</td>\n",
       "    </tr>\n",
       "    <tr>\n",
       "      <th>414</th>\n",
       "      <td>1306</td>\n",
       "      <td>NaN</td>\n",
       "      <td>1</td>\n",
       "      <td>Oliva y Ocana, Dona. Fermina</td>\n",
       "      <td>female</td>\n",
       "      <td>39.0</td>\n",
       "      <td>0</td>\n",
       "      <td>0</td>\n",
       "      <td>PC 17758</td>\n",
       "      <td>108.9000</td>\n",
       "      <td>C105</td>\n",
       "      <td>C</td>\n",
       "    </tr>\n",
       "    <tr>\n",
       "      <th>415</th>\n",
       "      <td>1307</td>\n",
       "      <td>NaN</td>\n",
       "      <td>3</td>\n",
       "      <td>Saether, Mr. Simon Sivertsen</td>\n",
       "      <td>male</td>\n",
       "      <td>38.5</td>\n",
       "      <td>0</td>\n",
       "      <td>0</td>\n",
       "      <td>SOTON/O.Q. 3101262</td>\n",
       "      <td>7.2500</td>\n",
       "      <td>NaN</td>\n",
       "      <td>S</td>\n",
       "    </tr>\n",
       "    <tr>\n",
       "      <th>416</th>\n",
       "      <td>1308</td>\n",
       "      <td>NaN</td>\n",
       "      <td>3</td>\n",
       "      <td>Ware, Mr. Frederick</td>\n",
       "      <td>male</td>\n",
       "      <td>NaN</td>\n",
       "      <td>0</td>\n",
       "      <td>0</td>\n",
       "      <td>359309</td>\n",
       "      <td>8.0500</td>\n",
       "      <td>NaN</td>\n",
       "      <td>S</td>\n",
       "    </tr>\n",
       "    <tr>\n",
       "      <th>417</th>\n",
       "      <td>1309</td>\n",
       "      <td>NaN</td>\n",
       "      <td>3</td>\n",
       "      <td>Peter, Master. Michael J</td>\n",
       "      <td>male</td>\n",
       "      <td>NaN</td>\n",
       "      <td>1</td>\n",
       "      <td>1</td>\n",
       "      <td>2668</td>\n",
       "      <td>22.3583</td>\n",
       "      <td>NaN</td>\n",
       "      <td>C</td>\n",
       "    </tr>\n",
       "  </tbody>\n",
       "</table>\n",
       "<p>1309 rows × 12 columns</p>\n",
       "</div>"
      ],
      "text/plain": [
       "     PassengerId  Survived  Pclass  \\\n",
       "0              1       0.0       3   \n",
       "1              2       1.0       1   \n",
       "2              3       1.0       3   \n",
       "3              4       1.0       1   \n",
       "4              5       0.0       3   \n",
       "..           ...       ...     ...   \n",
       "413         1305       NaN       3   \n",
       "414         1306       NaN       1   \n",
       "415         1307       NaN       3   \n",
       "416         1308       NaN       3   \n",
       "417         1309       NaN       3   \n",
       "\n",
       "                                                  Name     Sex   Age  SibSp  \\\n",
       "0                              Braund, Mr. Owen Harris    male  22.0      1   \n",
       "1    Cumings, Mrs. John Bradley (Florence Briggs Th...  female  38.0      1   \n",
       "2                               Heikkinen, Miss. Laina  female  26.0      0   \n",
       "3         Futrelle, Mrs. Jacques Heath (Lily May Peel)  female  35.0      1   \n",
       "4                             Allen, Mr. William Henry    male  35.0      0   \n",
       "..                                                 ...     ...   ...    ...   \n",
       "413                                 Spector, Mr. Woolf    male   NaN      0   \n",
       "414                       Oliva y Ocana, Dona. Fermina  female  39.0      0   \n",
       "415                       Saether, Mr. Simon Sivertsen    male  38.5      0   \n",
       "416                                Ware, Mr. Frederick    male   NaN      0   \n",
       "417                           Peter, Master. Michael J    male   NaN      1   \n",
       "\n",
       "     Parch              Ticket      Fare Cabin Embarked  \n",
       "0        0           A/5 21171    7.2500   NaN        S  \n",
       "1        0            PC 17599   71.2833   C85        C  \n",
       "2        0    STON/O2. 3101282    7.9250   NaN        S  \n",
       "3        0              113803   53.1000  C123        S  \n",
       "4        0              373450    8.0500   NaN        S  \n",
       "..     ...                 ...       ...   ...      ...  \n",
       "413      0           A.5. 3236    8.0500   NaN        S  \n",
       "414      0            PC 17758  108.9000  C105        C  \n",
       "415      0  SOTON/O.Q. 3101262    7.2500   NaN        S  \n",
       "416      0              359309    8.0500   NaN        S  \n",
       "417      1                2668   22.3583   NaN        C  \n",
       "\n",
       "[1309 rows x 12 columns]"
      ]
     },
     "execution_count": 161,
     "metadata": {},
     "output_type": "execute_result"
    }
   ],
   "source": [
    "df = pd.concat([train, test])\n",
    "df"
   ]
  },
  {
   "cell_type": "markdown",
   "id": "1d98b3ce-9c61-4df3-a44e-55775643e19c",
   "metadata": {},
   "source": [
    "#### Feature Engineering 1\n",
    "- 범주형 데이터 수치형 데이터로 변환"
   ]
  },
  {
   "cell_type": "markdown",
   "id": "4ae8c48a-8143-4810-9fad-1cfbc2baa165",
   "metadata": {},
   "source": [
    "#### Sex(성별) 숫자 변환"
   ]
  },
  {
   "cell_type": "code",
   "execution_count": 162,
   "id": "c5470036-4e1f-4b0f-9017-5b98ed8a3b41",
   "metadata": {},
   "outputs": [
    {
     "data": {
      "text/plain": [
       "np.int64(0)"
      ]
     },
     "execution_count": 162,
     "metadata": {},
     "output_type": "execute_result"
    }
   ],
   "source": [
    "df[\"Sex\"].isnull().sum()"
   ]
  },
  {
   "cell_type": "code",
   "execution_count": 163,
   "id": "1761c5e8-7fde-40c0-ace8-25a17571e4c6",
   "metadata": {},
   "outputs": [
    {
     "data": {
      "text/plain": [
       "Sex\n",
       "male      843\n",
       "female    466\n",
       "Name: count, dtype: int64"
      ]
     },
     "execution_count": 163,
     "metadata": {},
     "output_type": "execute_result"
    }
   ],
   "source": [
    "df[\"Sex\"].value_counts()"
   ]
  },
  {
   "cell_type": "code",
   "execution_count": 164,
   "id": "1ccd5eaf-fb26-4bf4-8255-deb62ef2880e",
   "metadata": {},
   "outputs": [
    {
     "data": {
      "text/html": [
       "<div>\n",
       "<style scoped>\n",
       "    .dataframe tbody tr th:only-of-type {\n",
       "        vertical-align: middle;\n",
       "    }\n",
       "\n",
       "    .dataframe tbody tr th {\n",
       "        vertical-align: top;\n",
       "    }\n",
       "\n",
       "    .dataframe thead th {\n",
       "        text-align: right;\n",
       "    }\n",
       "</style>\n",
       "<table border=\"1\" class=\"dataframe\">\n",
       "  <thead>\n",
       "    <tr style=\"text-align: right;\">\n",
       "      <th></th>\n",
       "      <th>PassengerId</th>\n",
       "      <th>Survived</th>\n",
       "      <th>Pclass</th>\n",
       "      <th>Name</th>\n",
       "      <th>Sex</th>\n",
       "      <th>Age</th>\n",
       "      <th>SibSp</th>\n",
       "      <th>Parch</th>\n",
       "      <th>Ticket</th>\n",
       "      <th>Fare</th>\n",
       "      <th>Cabin</th>\n",
       "      <th>Embarked</th>\n",
       "    </tr>\n",
       "  </thead>\n",
       "  <tbody>\n",
       "    <tr>\n",
       "      <th>0</th>\n",
       "      <td>1</td>\n",
       "      <td>0.0</td>\n",
       "      <td>3</td>\n",
       "      <td>Braund, Mr. Owen Harris</td>\n",
       "      <td>0</td>\n",
       "      <td>22.0</td>\n",
       "      <td>1</td>\n",
       "      <td>0</td>\n",
       "      <td>A/5 21171</td>\n",
       "      <td>7.2500</td>\n",
       "      <td>NaN</td>\n",
       "      <td>S</td>\n",
       "    </tr>\n",
       "    <tr>\n",
       "      <th>1</th>\n",
       "      <td>2</td>\n",
       "      <td>1.0</td>\n",
       "      <td>1</td>\n",
       "      <td>Cumings, Mrs. John Bradley (Florence Briggs Th...</td>\n",
       "      <td>1</td>\n",
       "      <td>38.0</td>\n",
       "      <td>1</td>\n",
       "      <td>0</td>\n",
       "      <td>PC 17599</td>\n",
       "      <td>71.2833</td>\n",
       "      <td>C85</td>\n",
       "      <td>C</td>\n",
       "    </tr>\n",
       "    <tr>\n",
       "      <th>2</th>\n",
       "      <td>3</td>\n",
       "      <td>1.0</td>\n",
       "      <td>3</td>\n",
       "      <td>Heikkinen, Miss. Laina</td>\n",
       "      <td>1</td>\n",
       "      <td>26.0</td>\n",
       "      <td>0</td>\n",
       "      <td>0</td>\n",
       "      <td>STON/O2. 3101282</td>\n",
       "      <td>7.9250</td>\n",
       "      <td>NaN</td>\n",
       "      <td>S</td>\n",
       "    </tr>\n",
       "    <tr>\n",
       "      <th>3</th>\n",
       "      <td>4</td>\n",
       "      <td>1.0</td>\n",
       "      <td>1</td>\n",
       "      <td>Futrelle, Mrs. Jacques Heath (Lily May Peel)</td>\n",
       "      <td>1</td>\n",
       "      <td>35.0</td>\n",
       "      <td>1</td>\n",
       "      <td>0</td>\n",
       "      <td>113803</td>\n",
       "      <td>53.1000</td>\n",
       "      <td>C123</td>\n",
       "      <td>S</td>\n",
       "    </tr>\n",
       "    <tr>\n",
       "      <th>4</th>\n",
       "      <td>5</td>\n",
       "      <td>0.0</td>\n",
       "      <td>3</td>\n",
       "      <td>Allen, Mr. William Henry</td>\n",
       "      <td>0</td>\n",
       "      <td>35.0</td>\n",
       "      <td>0</td>\n",
       "      <td>0</td>\n",
       "      <td>373450</td>\n",
       "      <td>8.0500</td>\n",
       "      <td>NaN</td>\n",
       "      <td>S</td>\n",
       "    </tr>\n",
       "  </tbody>\n",
       "</table>\n",
       "</div>"
      ],
      "text/plain": [
       "   PassengerId  Survived  Pclass  \\\n",
       "0            1       0.0       3   \n",
       "1            2       1.0       1   \n",
       "2            3       1.0       3   \n",
       "3            4       1.0       1   \n",
       "4            5       0.0       3   \n",
       "\n",
       "                                                Name  Sex   Age  SibSp  Parch  \\\n",
       "0                            Braund, Mr. Owen Harris    0  22.0      1      0   \n",
       "1  Cumings, Mrs. John Bradley (Florence Briggs Th...    1  38.0      1      0   \n",
       "2                             Heikkinen, Miss. Laina    1  26.0      0      0   \n",
       "3       Futrelle, Mrs. Jacques Heath (Lily May Peel)    1  35.0      1      0   \n",
       "4                           Allen, Mr. William Henry    0  35.0      0      0   \n",
       "\n",
       "             Ticket     Fare Cabin Embarked  \n",
       "0         A/5 21171   7.2500   NaN        S  \n",
       "1          PC 17599  71.2833   C85        C  \n",
       "2  STON/O2. 3101282   7.9250   NaN        S  \n",
       "3            113803  53.1000  C123        S  \n",
       "4            373450   8.0500   NaN        S  "
      ]
     },
     "execution_count": 164,
     "metadata": {},
     "output_type": "execute_result"
    }
   ],
   "source": [
    "df[\"Sex\"] = df[\"Sex\"].map({\"male\":0, \"female\": 1})\n",
    "df.head()"
   ]
  },
  {
   "cell_type": "markdown",
   "id": "1ea2cf51-c82f-4eb5-a5a4-dbef5cf4cab0",
   "metadata": {},
   "source": [
    "#### Embarked(탑승지) 숫자 변환"
   ]
  },
  {
   "cell_type": "markdown",
   "id": "36837a61-e147-4f25-acef-cc93b9043e66",
   "metadata": {},
   "source": [
    "##### 결측치 확인\n",
    "- 결측치 2개 존재"
   ]
  },
  {
   "cell_type": "code",
   "execution_count": 165,
   "id": "0c5cf2f6-b127-47ce-a490-2fd38aa5d609",
   "metadata": {},
   "outputs": [
    {
     "data": {
      "text/plain": [
       "Embarked\n",
       "S    914\n",
       "C    270\n",
       "Q    123\n",
       "Name: count, dtype: int64"
      ]
     },
     "execution_count": 165,
     "metadata": {},
     "output_type": "execute_result"
    }
   ],
   "source": [
    "df[\"Embarked\"].value_counts()"
   ]
  },
  {
   "cell_type": "code",
   "execution_count": 166,
   "id": "15b72599-4169-4930-87de-442b9415bd5c",
   "metadata": {},
   "outputs": [
    {
     "data": {
      "text/plain": [
       "np.int64(2)"
      ]
     },
     "execution_count": 166,
     "metadata": {},
     "output_type": "execute_result"
    }
   ],
   "source": [
    "df[\"Embarked\"].isnull().sum()"
   ]
  },
  {
   "cell_type": "code",
   "execution_count": 167,
   "id": "7cf5846e-7c8f-44f0-bcea-b84ed88af475",
   "metadata": {},
   "outputs": [
    {
     "data": {
      "text/html": [
       "<div>\n",
       "<style scoped>\n",
       "    .dataframe tbody tr th:only-of-type {\n",
       "        vertical-align: middle;\n",
       "    }\n",
       "\n",
       "    .dataframe tbody tr th {\n",
       "        vertical-align: top;\n",
       "    }\n",
       "\n",
       "    .dataframe thead th {\n",
       "        text-align: right;\n",
       "    }\n",
       "</style>\n",
       "<table border=\"1\" class=\"dataframe\">\n",
       "  <thead>\n",
       "    <tr style=\"text-align: right;\">\n",
       "      <th></th>\n",
       "      <th>PassengerId</th>\n",
       "      <th>Survived</th>\n",
       "      <th>Pclass</th>\n",
       "      <th>Name</th>\n",
       "      <th>Sex</th>\n",
       "      <th>Age</th>\n",
       "      <th>SibSp</th>\n",
       "      <th>Parch</th>\n",
       "      <th>Ticket</th>\n",
       "      <th>Fare</th>\n",
       "      <th>Cabin</th>\n",
       "      <th>Embarked</th>\n",
       "    </tr>\n",
       "  </thead>\n",
       "  <tbody>\n",
       "    <tr>\n",
       "      <th>61</th>\n",
       "      <td>62</td>\n",
       "      <td>1.0</td>\n",
       "      <td>1</td>\n",
       "      <td>Icard, Miss. Amelie</td>\n",
       "      <td>1</td>\n",
       "      <td>38.0</td>\n",
       "      <td>0</td>\n",
       "      <td>0</td>\n",
       "      <td>113572</td>\n",
       "      <td>80.0</td>\n",
       "      <td>B28</td>\n",
       "      <td>NaN</td>\n",
       "    </tr>\n",
       "    <tr>\n",
       "      <th>829</th>\n",
       "      <td>830</td>\n",
       "      <td>1.0</td>\n",
       "      <td>1</td>\n",
       "      <td>Stone, Mrs. George Nelson (Martha Evelyn)</td>\n",
       "      <td>1</td>\n",
       "      <td>62.0</td>\n",
       "      <td>0</td>\n",
       "      <td>0</td>\n",
       "      <td>113572</td>\n",
       "      <td>80.0</td>\n",
       "      <td>B28</td>\n",
       "      <td>NaN</td>\n",
       "    </tr>\n",
       "  </tbody>\n",
       "</table>\n",
       "</div>"
      ],
      "text/plain": [
       "     PassengerId  Survived  Pclass                                       Name  \\\n",
       "61            62       1.0       1                        Icard, Miss. Amelie   \n",
       "829          830       1.0       1  Stone, Mrs. George Nelson (Martha Evelyn)   \n",
       "\n",
       "     Sex   Age  SibSp  Parch  Ticket  Fare Cabin Embarked  \n",
       "61     1  38.0      0      0  113572  80.0   B28      NaN  \n",
       "829    1  62.0      0      0  113572  80.0   B28      NaN  "
      ]
     },
     "execution_count": 167,
     "metadata": {},
     "output_type": "execute_result"
    }
   ],
   "source": [
    "df.loc[df[\"Embarked\"].isnull()]"
   ]
  },
  {
   "cell_type": "markdown",
   "id": "84a4372e-155f-4c34-bd48-155bb14f759f",
   "metadata": {},
   "source": [
    "##### 결측지 주변값 확인\n",
    "- 모두 S인 것을 알 수 있음\n",
    "- 따라서 해당 결측치도 S로 간주하는 것이 합리적"
   ]
  },
  {
   "cell_type": "code",
   "execution_count": 168,
   "id": "82f8f834-1ac3-4823-99df-cf2f82ea1e34",
   "metadata": {},
   "outputs": [
    {
     "data": {
      "text/html": [
       "<div>\n",
       "<style scoped>\n",
       "    .dataframe tbody tr th:only-of-type {\n",
       "        vertical-align: middle;\n",
       "    }\n",
       "\n",
       "    .dataframe tbody tr th {\n",
       "        vertical-align: top;\n",
       "    }\n",
       "\n",
       "    .dataframe thead th {\n",
       "        text-align: right;\n",
       "    }\n",
       "</style>\n",
       "<table border=\"1\" class=\"dataframe\">\n",
       "  <thead>\n",
       "    <tr style=\"text-align: right;\">\n",
       "      <th></th>\n",
       "      <th>PassengerId</th>\n",
       "      <th>Survived</th>\n",
       "      <th>Pclass</th>\n",
       "      <th>Name</th>\n",
       "      <th>Sex</th>\n",
       "      <th>Age</th>\n",
       "      <th>SibSp</th>\n",
       "      <th>Parch</th>\n",
       "      <th>Ticket</th>\n",
       "      <th>Fare</th>\n",
       "      <th>Cabin</th>\n",
       "      <th>Embarked</th>\n",
       "    </tr>\n",
       "  </thead>\n",
       "  <tbody>\n",
       "    <tr>\n",
       "      <th>54</th>\n",
       "      <td>55</td>\n",
       "      <td>0.0</td>\n",
       "      <td>1</td>\n",
       "      <td>Ostby, Mr. Engelhart Cornelius</td>\n",
       "      <td>0</td>\n",
       "      <td>65.00</td>\n",
       "      <td>0</td>\n",
       "      <td>1</td>\n",
       "      <td>113509</td>\n",
       "      <td>61.9792</td>\n",
       "      <td>B30</td>\n",
       "      <td>C</td>\n",
       "    </tr>\n",
       "    <tr>\n",
       "      <th>351</th>\n",
       "      <td>352</td>\n",
       "      <td>0.0</td>\n",
       "      <td>1</td>\n",
       "      <td>Williams-Lambert, Mr. Fletcher Fellows</td>\n",
       "      <td>0</td>\n",
       "      <td>NaN</td>\n",
       "      <td>0</td>\n",
       "      <td>0</td>\n",
       "      <td>113510</td>\n",
       "      <td>35.0000</td>\n",
       "      <td>C128</td>\n",
       "      <td>S</td>\n",
       "    </tr>\n",
       "    <tr>\n",
       "      <th>252</th>\n",
       "      <td>253</td>\n",
       "      <td>0.0</td>\n",
       "      <td>1</td>\n",
       "      <td>Stead, Mr. William Thomas</td>\n",
       "      <td>0</td>\n",
       "      <td>62.00</td>\n",
       "      <td>0</td>\n",
       "      <td>0</td>\n",
       "      <td>113514</td>\n",
       "      <td>26.5500</td>\n",
       "      <td>C87</td>\n",
       "      <td>S</td>\n",
       "    </tr>\n",
       "    <tr>\n",
       "      <th>829</th>\n",
       "      <td>830</td>\n",
       "      <td>1.0</td>\n",
       "      <td>1</td>\n",
       "      <td>Stone, Mrs. George Nelson (Martha Evelyn)</td>\n",
       "      <td>1</td>\n",
       "      <td>62.00</td>\n",
       "      <td>0</td>\n",
       "      <td>0</td>\n",
       "      <td>113572</td>\n",
       "      <td>80.0000</td>\n",
       "      <td>B28</td>\n",
       "      <td>NaN</td>\n",
       "    </tr>\n",
       "    <tr>\n",
       "      <th>61</th>\n",
       "      <td>62</td>\n",
       "      <td>1.0</td>\n",
       "      <td>1</td>\n",
       "      <td>Icard, Miss. Amelie</td>\n",
       "      <td>1</td>\n",
       "      <td>38.00</td>\n",
       "      <td>0</td>\n",
       "      <td>0</td>\n",
       "      <td>113572</td>\n",
       "      <td>80.0000</td>\n",
       "      <td>B28</td>\n",
       "      <td>NaN</td>\n",
       "    </tr>\n",
       "    <tr>\n",
       "      <th>802</th>\n",
       "      <td>803</td>\n",
       "      <td>1.0</td>\n",
       "      <td>1</td>\n",
       "      <td>Carter, Master. William Thornton II</td>\n",
       "      <td>0</td>\n",
       "      <td>11.00</td>\n",
       "      <td>1</td>\n",
       "      <td>2</td>\n",
       "      <td>113760</td>\n",
       "      <td>120.0000</td>\n",
       "      <td>B96 B98</td>\n",
       "      <td>S</td>\n",
       "    </tr>\n",
       "    <tr>\n",
       "      <th>390</th>\n",
       "      <td>391</td>\n",
       "      <td>1.0</td>\n",
       "      <td>1</td>\n",
       "      <td>Carter, Mr. William Ernest</td>\n",
       "      <td>0</td>\n",
       "      <td>36.00</td>\n",
       "      <td>1</td>\n",
       "      <td>2</td>\n",
       "      <td>113760</td>\n",
       "      <td>120.0000</td>\n",
       "      <td>B96 B98</td>\n",
       "      <td>S</td>\n",
       "    </tr>\n",
       "    <tr>\n",
       "      <th>435</th>\n",
       "      <td>436</td>\n",
       "      <td>1.0</td>\n",
       "      <td>1</td>\n",
       "      <td>Carter, Miss. Lucile Polk</td>\n",
       "      <td>1</td>\n",
       "      <td>14.00</td>\n",
       "      <td>1</td>\n",
       "      <td>2</td>\n",
       "      <td>113760</td>\n",
       "      <td>120.0000</td>\n",
       "      <td>B96 B98</td>\n",
       "      <td>S</td>\n",
       "    </tr>\n",
       "    <tr>\n",
       "      <th>763</th>\n",
       "      <td>764</td>\n",
       "      <td>1.0</td>\n",
       "      <td>1</td>\n",
       "      <td>Carter, Mrs. William Ernest (Lucile Polk)</td>\n",
       "      <td>1</td>\n",
       "      <td>36.00</td>\n",
       "      <td>1</td>\n",
       "      <td>2</td>\n",
       "      <td>113760</td>\n",
       "      <td>120.0000</td>\n",
       "      <td>B96 B98</td>\n",
       "      <td>S</td>\n",
       "    </tr>\n",
       "    <tr>\n",
       "      <th>185</th>\n",
       "      <td>186</td>\n",
       "      <td>0.0</td>\n",
       "      <td>1</td>\n",
       "      <td>Rood, Mr. Hugh Roscoe</td>\n",
       "      <td>0</td>\n",
       "      <td>NaN</td>\n",
       "      <td>0</td>\n",
       "      <td>0</td>\n",
       "      <td>113767</td>\n",
       "      <td>50.0000</td>\n",
       "      <td>A32</td>\n",
       "      <td>S</td>\n",
       "    </tr>\n",
       "    <tr>\n",
       "      <th>182</th>\n",
       "      <td>1074</td>\n",
       "      <td>NaN</td>\n",
       "      <td>1</td>\n",
       "      <td>Marvin, Mrs. Daniel Warner (Mary Graham Carmic...</td>\n",
       "      <td>1</td>\n",
       "      <td>18.00</td>\n",
       "      <td>1</td>\n",
       "      <td>0</td>\n",
       "      <td>113773</td>\n",
       "      <td>53.1000</td>\n",
       "      <td>D30</td>\n",
       "      <td>S</td>\n",
       "    </tr>\n",
       "    <tr>\n",
       "      <th>748</th>\n",
       "      <td>749</td>\n",
       "      <td>0.0</td>\n",
       "      <td>1</td>\n",
       "      <td>Marvin, Mr. Daniel Warner</td>\n",
       "      <td>0</td>\n",
       "      <td>19.00</td>\n",
       "      <td>1</td>\n",
       "      <td>0</td>\n",
       "      <td>113773</td>\n",
       "      <td>53.1000</td>\n",
       "      <td>D30</td>\n",
       "      <td>S</td>\n",
       "    </tr>\n",
       "    <tr>\n",
       "      <th>151</th>\n",
       "      <td>152</td>\n",
       "      <td>1.0</td>\n",
       "      <td>1</td>\n",
       "      <td>Pears, Mrs. Thomas (Edith Wearne)</td>\n",
       "      <td>1</td>\n",
       "      <td>22.00</td>\n",
       "      <td>1</td>\n",
       "      <td>0</td>\n",
       "      <td>113776</td>\n",
       "      <td>66.6000</td>\n",
       "      <td>C2</td>\n",
       "      <td>S</td>\n",
       "    </tr>\n",
       "    <tr>\n",
       "      <th>336</th>\n",
       "      <td>337</td>\n",
       "      <td>0.0</td>\n",
       "      <td>1</td>\n",
       "      <td>Pears, Mr. Thomas Clinton</td>\n",
       "      <td>0</td>\n",
       "      <td>29.00</td>\n",
       "      <td>1</td>\n",
       "      <td>0</td>\n",
       "      <td>113776</td>\n",
       "      <td>66.6000</td>\n",
       "      <td>C2</td>\n",
       "      <td>S</td>\n",
       "    </tr>\n",
       "    <tr>\n",
       "      <th>41</th>\n",
       "      <td>933</td>\n",
       "      <td>NaN</td>\n",
       "      <td>1</td>\n",
       "      <td>Franklin, Mr. Thomas Parham</td>\n",
       "      <td>0</td>\n",
       "      <td>NaN</td>\n",
       "      <td>0</td>\n",
       "      <td>0</td>\n",
       "      <td>113778</td>\n",
       "      <td>26.5500</td>\n",
       "      <td>D34</td>\n",
       "      <td>S</td>\n",
       "    </tr>\n",
       "    <tr>\n",
       "      <th>131</th>\n",
       "      <td>1023</td>\n",
       "      <td>NaN</td>\n",
       "      <td>1</td>\n",
       "      <td>Gracie, Col. Archibald IV</td>\n",
       "      <td>0</td>\n",
       "      <td>53.00</td>\n",
       "      <td>0</td>\n",
       "      <td>0</td>\n",
       "      <td>113780</td>\n",
       "      <td>28.5000</td>\n",
       "      <td>C51</td>\n",
       "      <td>C</td>\n",
       "    </tr>\n",
       "    <tr>\n",
       "      <th>306</th>\n",
       "      <td>1198</td>\n",
       "      <td>NaN</td>\n",
       "      <td>1</td>\n",
       "      <td>Allison, Mr. Hudson Joshua Creighton</td>\n",
       "      <td>0</td>\n",
       "      <td>30.00</td>\n",
       "      <td>1</td>\n",
       "      <td>2</td>\n",
       "      <td>113781</td>\n",
       "      <td>151.5500</td>\n",
       "      <td>C22 C26</td>\n",
       "      <td>S</td>\n",
       "    </tr>\n",
       "    <tr>\n",
       "      <th>141</th>\n",
       "      <td>1033</td>\n",
       "      <td>NaN</td>\n",
       "      <td>1</td>\n",
       "      <td>Daniels, Miss. Sarah</td>\n",
       "      <td>1</td>\n",
       "      <td>33.00</td>\n",
       "      <td>0</td>\n",
       "      <td>0</td>\n",
       "      <td>113781</td>\n",
       "      <td>151.5500</td>\n",
       "      <td>NaN</td>\n",
       "      <td>S</td>\n",
       "    </tr>\n",
       "    <tr>\n",
       "      <th>297</th>\n",
       "      <td>298</td>\n",
       "      <td>0.0</td>\n",
       "      <td>1</td>\n",
       "      <td>Allison, Miss. Helen Loraine</td>\n",
       "      <td>1</td>\n",
       "      <td>2.00</td>\n",
       "      <td>1</td>\n",
       "      <td>2</td>\n",
       "      <td>113781</td>\n",
       "      <td>151.5500</td>\n",
       "      <td>C22 C26</td>\n",
       "      <td>S</td>\n",
       "    </tr>\n",
       "    <tr>\n",
       "      <th>708</th>\n",
       "      <td>709</td>\n",
       "      <td>1.0</td>\n",
       "      <td>1</td>\n",
       "      <td>Cleaver, Miss. Alice</td>\n",
       "      <td>1</td>\n",
       "      <td>22.00</td>\n",
       "      <td>0</td>\n",
       "      <td>0</td>\n",
       "      <td>113781</td>\n",
       "      <td>151.5500</td>\n",
       "      <td>NaN</td>\n",
       "      <td>S</td>\n",
       "    </tr>\n",
       "    <tr>\n",
       "      <th>305</th>\n",
       "      <td>306</td>\n",
       "      <td>1.0</td>\n",
       "      <td>1</td>\n",
       "      <td>Allison, Master. Hudson Trevor</td>\n",
       "      <td>0</td>\n",
       "      <td>0.92</td>\n",
       "      <td>1</td>\n",
       "      <td>2</td>\n",
       "      <td>113781</td>\n",
       "      <td>151.5500</td>\n",
       "      <td>C22 C26</td>\n",
       "      <td>S</td>\n",
       "    </tr>\n",
       "    <tr>\n",
       "      <th>498</th>\n",
       "      <td>499</td>\n",
       "      <td>0.0</td>\n",
       "      <td>1</td>\n",
       "      <td>Allison, Mrs. Hudson J C (Bessie Waldo Daniels)</td>\n",
       "      <td>1</td>\n",
       "      <td>25.00</td>\n",
       "      <td>1</td>\n",
       "      <td>2</td>\n",
       "      <td>113781</td>\n",
       "      <td>151.5500</td>\n",
       "      <td>C22 C26</td>\n",
       "      <td>S</td>\n",
       "    </tr>\n",
       "    <tr>\n",
       "      <th>11</th>\n",
       "      <td>12</td>\n",
       "      <td>1.0</td>\n",
       "      <td>1</td>\n",
       "      <td>Bonnell, Miss. Elizabeth</td>\n",
       "      <td>1</td>\n",
       "      <td>58.00</td>\n",
       "      <td>0</td>\n",
       "      <td>0</td>\n",
       "      <td>113783</td>\n",
       "      <td>26.5500</td>\n",
       "      <td>C103</td>\n",
       "      <td>S</td>\n",
       "    </tr>\n",
       "    <tr>\n",
       "      <th>339</th>\n",
       "      <td>340</td>\n",
       "      <td>0.0</td>\n",
       "      <td>1</td>\n",
       "      <td>Blackwell, Mr. Stephen Weart</td>\n",
       "      <td>0</td>\n",
       "      <td>45.00</td>\n",
       "      <td>0</td>\n",
       "      <td>0</td>\n",
       "      <td>113784</td>\n",
       "      <td>35.5000</td>\n",
       "      <td>T</td>\n",
       "      <td>S</td>\n",
       "    </tr>\n",
       "    <tr>\n",
       "      <th>449</th>\n",
       "      <td>450</td>\n",
       "      <td>1.0</td>\n",
       "      <td>1</td>\n",
       "      <td>Peuchen, Major. Arthur Godfrey</td>\n",
       "      <td>0</td>\n",
       "      <td>52.00</td>\n",
       "      <td>0</td>\n",
       "      <td>0</td>\n",
       "      <td>113786</td>\n",
       "      <td>30.5000</td>\n",
       "      <td>C104</td>\n",
       "      <td>S</td>\n",
       "    </tr>\n",
       "  </tbody>\n",
       "</table>\n",
       "</div>"
      ],
      "text/plain": [
       "     PassengerId  Survived  Pclass  \\\n",
       "54            55       0.0       1   \n",
       "351          352       0.0       1   \n",
       "252          253       0.0       1   \n",
       "829          830       1.0       1   \n",
       "61            62       1.0       1   \n",
       "802          803       1.0       1   \n",
       "390          391       1.0       1   \n",
       "435          436       1.0       1   \n",
       "763          764       1.0       1   \n",
       "185          186       0.0       1   \n",
       "182         1074       NaN       1   \n",
       "748          749       0.0       1   \n",
       "151          152       1.0       1   \n",
       "336          337       0.0       1   \n",
       "41           933       NaN       1   \n",
       "131         1023       NaN       1   \n",
       "306         1198       NaN       1   \n",
       "141         1033       NaN       1   \n",
       "297          298       0.0       1   \n",
       "708          709       1.0       1   \n",
       "305          306       1.0       1   \n",
       "498          499       0.0       1   \n",
       "11            12       1.0       1   \n",
       "339          340       0.0       1   \n",
       "449          450       1.0       1   \n",
       "\n",
       "                                                  Name  Sex    Age  SibSp  \\\n",
       "54                      Ostby, Mr. Engelhart Cornelius    0  65.00      0   \n",
       "351             Williams-Lambert, Mr. Fletcher Fellows    0    NaN      0   \n",
       "252                          Stead, Mr. William Thomas    0  62.00      0   \n",
       "829          Stone, Mrs. George Nelson (Martha Evelyn)    1  62.00      0   \n",
       "61                                 Icard, Miss. Amelie    1  38.00      0   \n",
       "802                Carter, Master. William Thornton II    0  11.00      1   \n",
       "390                         Carter, Mr. William Ernest    0  36.00      1   \n",
       "435                          Carter, Miss. Lucile Polk    1  14.00      1   \n",
       "763          Carter, Mrs. William Ernest (Lucile Polk)    1  36.00      1   \n",
       "185                              Rood, Mr. Hugh Roscoe    0    NaN      0   \n",
       "182  Marvin, Mrs. Daniel Warner (Mary Graham Carmic...    1  18.00      1   \n",
       "748                          Marvin, Mr. Daniel Warner    0  19.00      1   \n",
       "151                  Pears, Mrs. Thomas (Edith Wearne)    1  22.00      1   \n",
       "336                          Pears, Mr. Thomas Clinton    0  29.00      1   \n",
       "41                         Franklin, Mr. Thomas Parham    0    NaN      0   \n",
       "131                          Gracie, Col. Archibald IV    0  53.00      0   \n",
       "306               Allison, Mr. Hudson Joshua Creighton    0  30.00      1   \n",
       "141                               Daniels, Miss. Sarah    1  33.00      0   \n",
       "297                       Allison, Miss. Helen Loraine    1   2.00      1   \n",
       "708                               Cleaver, Miss. Alice    1  22.00      0   \n",
       "305                     Allison, Master. Hudson Trevor    0   0.92      1   \n",
       "498    Allison, Mrs. Hudson J C (Bessie Waldo Daniels)    1  25.00      1   \n",
       "11                            Bonnell, Miss. Elizabeth    1  58.00      0   \n",
       "339                       Blackwell, Mr. Stephen Weart    0  45.00      0   \n",
       "449                     Peuchen, Major. Arthur Godfrey    0  52.00      0   \n",
       "\n",
       "     Parch  Ticket      Fare    Cabin Embarked  \n",
       "54       1  113509   61.9792      B30        C  \n",
       "351      0  113510   35.0000     C128        S  \n",
       "252      0  113514   26.5500      C87        S  \n",
       "829      0  113572   80.0000      B28      NaN  \n",
       "61       0  113572   80.0000      B28      NaN  \n",
       "802      2  113760  120.0000  B96 B98        S  \n",
       "390      2  113760  120.0000  B96 B98        S  \n",
       "435      2  113760  120.0000  B96 B98        S  \n",
       "763      2  113760  120.0000  B96 B98        S  \n",
       "185      0  113767   50.0000      A32        S  \n",
       "182      0  113773   53.1000      D30        S  \n",
       "748      0  113773   53.1000      D30        S  \n",
       "151      0  113776   66.6000       C2        S  \n",
       "336      0  113776   66.6000       C2        S  \n",
       "41       0  113778   26.5500      D34        S  \n",
       "131      0  113780   28.5000      C51        C  \n",
       "306      2  113781  151.5500  C22 C26        S  \n",
       "141      0  113781  151.5500      NaN        S  \n",
       "297      2  113781  151.5500  C22 C26        S  \n",
       "708      0  113781  151.5500      NaN        S  \n",
       "305      2  113781  151.5500  C22 C26        S  \n",
       "498      2  113781  151.5500  C22 C26        S  \n",
       "11       0  113783   26.5500     C103        S  \n",
       "339      0  113784   35.5000        T        S  \n",
       "449      0  113786   30.5000     C104        S  "
      ]
     },
     "execution_count": 168,
     "metadata": {},
     "output_type": "execute_result"
    }
   ],
   "source": [
    "df.sort_values([\"Ticket\"], ascending=True)[55:80]"
   ]
  },
  {
   "cell_type": "markdown",
   "id": "8ca3ba6e-b8a2-4d6f-82fd-2c83de0f5710",
   "metadata": {},
   "source": [
    "##### 결측치 처리"
   ]
  },
  {
   "cell_type": "code",
   "execution_count": 169,
   "id": "bc4c7742-a797-4dde-81f1-cb1aede9dba8",
   "metadata": {},
   "outputs": [],
   "source": [
    "df.loc[df[\"Embarked\"].isnull(), \"Embarked\"] = \"S\""
   ]
  },
  {
   "cell_type": "code",
   "execution_count": 170,
   "id": "91209244-0414-4291-a9e9-8af9e678a435",
   "metadata": {},
   "outputs": [
    {
     "data": {
      "text/plain": [
       "np.int64(0)"
      ]
     },
     "execution_count": 170,
     "metadata": {},
     "output_type": "execute_result"
    }
   ],
   "source": [
    "df[\"Embarked\"].isnull().sum()"
   ]
  },
  {
   "cell_type": "markdown",
   "id": "0f71d8d3-8832-4636-b60d-10049acbe8f0",
   "metadata": {},
   "source": [
    "#### Embarked 데이터 숫자 변환"
   ]
  },
  {
   "cell_type": "code",
   "execution_count": 171,
   "id": "481f8a59-91bd-47f5-aa95-18a42d6928c3",
   "metadata": {},
   "outputs": [],
   "source": [
    "df_tmp = df.copy()"
   ]
  },
  {
   "cell_type": "code",
   "execution_count": 172,
   "id": "ef4e7490-a98f-4347-a84e-3a8c709d30b6",
   "metadata": {},
   "outputs": [],
   "source": [
    "df_tmp[\"Embarked\"] = df_tmp[\"Embarked\"].map({\"S\": 0, \"C\": 1, \"Q\": 2})"
   ]
  },
  {
   "cell_type": "code",
   "execution_count": 173,
   "id": "128c6989-3133-4809-93f9-d2c43c2aad30",
   "metadata": {},
   "outputs": [
    {
     "data": {
      "text/html": [
       "<div>\n",
       "<style scoped>\n",
       "    .dataframe tbody tr th:only-of-type {\n",
       "        vertical-align: middle;\n",
       "    }\n",
       "\n",
       "    .dataframe tbody tr th {\n",
       "        vertical-align: top;\n",
       "    }\n",
       "\n",
       "    .dataframe thead th {\n",
       "        text-align: right;\n",
       "    }\n",
       "</style>\n",
       "<table border=\"1\" class=\"dataframe\">\n",
       "  <thead>\n",
       "    <tr style=\"text-align: right;\">\n",
       "      <th></th>\n",
       "      <th>PassengerId</th>\n",
       "      <th>Survived</th>\n",
       "      <th>Pclass</th>\n",
       "      <th>Name</th>\n",
       "      <th>Sex</th>\n",
       "      <th>Age</th>\n",
       "      <th>SibSp</th>\n",
       "      <th>Parch</th>\n",
       "      <th>Ticket</th>\n",
       "      <th>Fare</th>\n",
       "      <th>Cabin</th>\n",
       "      <th>Embarked</th>\n",
       "    </tr>\n",
       "  </thead>\n",
       "  <tbody>\n",
       "    <tr>\n",
       "      <th>0</th>\n",
       "      <td>1</td>\n",
       "      <td>0.0</td>\n",
       "      <td>3</td>\n",
       "      <td>Braund, Mr. Owen Harris</td>\n",
       "      <td>0</td>\n",
       "      <td>22.0</td>\n",
       "      <td>1</td>\n",
       "      <td>0</td>\n",
       "      <td>A/5 21171</td>\n",
       "      <td>7.2500</td>\n",
       "      <td>NaN</td>\n",
       "      <td>0</td>\n",
       "    </tr>\n",
       "    <tr>\n",
       "      <th>1</th>\n",
       "      <td>2</td>\n",
       "      <td>1.0</td>\n",
       "      <td>1</td>\n",
       "      <td>Cumings, Mrs. John Bradley (Florence Briggs Th...</td>\n",
       "      <td>1</td>\n",
       "      <td>38.0</td>\n",
       "      <td>1</td>\n",
       "      <td>0</td>\n",
       "      <td>PC 17599</td>\n",
       "      <td>71.2833</td>\n",
       "      <td>C85</td>\n",
       "      <td>1</td>\n",
       "    </tr>\n",
       "    <tr>\n",
       "      <th>2</th>\n",
       "      <td>3</td>\n",
       "      <td>1.0</td>\n",
       "      <td>3</td>\n",
       "      <td>Heikkinen, Miss. Laina</td>\n",
       "      <td>1</td>\n",
       "      <td>26.0</td>\n",
       "      <td>0</td>\n",
       "      <td>0</td>\n",
       "      <td>STON/O2. 3101282</td>\n",
       "      <td>7.9250</td>\n",
       "      <td>NaN</td>\n",
       "      <td>0</td>\n",
       "    </tr>\n",
       "    <tr>\n",
       "      <th>3</th>\n",
       "      <td>4</td>\n",
       "      <td>1.0</td>\n",
       "      <td>1</td>\n",
       "      <td>Futrelle, Mrs. Jacques Heath (Lily May Peel)</td>\n",
       "      <td>1</td>\n",
       "      <td>35.0</td>\n",
       "      <td>1</td>\n",
       "      <td>0</td>\n",
       "      <td>113803</td>\n",
       "      <td>53.1000</td>\n",
       "      <td>C123</td>\n",
       "      <td>0</td>\n",
       "    </tr>\n",
       "    <tr>\n",
       "      <th>4</th>\n",
       "      <td>5</td>\n",
       "      <td>0.0</td>\n",
       "      <td>3</td>\n",
       "      <td>Allen, Mr. William Henry</td>\n",
       "      <td>0</td>\n",
       "      <td>35.0</td>\n",
       "      <td>0</td>\n",
       "      <td>0</td>\n",
       "      <td>373450</td>\n",
       "      <td>8.0500</td>\n",
       "      <td>NaN</td>\n",
       "      <td>0</td>\n",
       "    </tr>\n",
       "  </tbody>\n",
       "</table>\n",
       "</div>"
      ],
      "text/plain": [
       "   PassengerId  Survived  Pclass  \\\n",
       "0            1       0.0       3   \n",
       "1            2       1.0       1   \n",
       "2            3       1.0       3   \n",
       "3            4       1.0       1   \n",
       "4            5       0.0       3   \n",
       "\n",
       "                                                Name  Sex   Age  SibSp  Parch  \\\n",
       "0                            Braund, Mr. Owen Harris    0  22.0      1      0   \n",
       "1  Cumings, Mrs. John Bradley (Florence Briggs Th...    1  38.0      1      0   \n",
       "2                             Heikkinen, Miss. Laina    1  26.0      0      0   \n",
       "3       Futrelle, Mrs. Jacques Heath (Lily May Peel)    1  35.0      1      0   \n",
       "4                           Allen, Mr. William Henry    0  35.0      0      0   \n",
       "\n",
       "             Ticket     Fare Cabin  Embarked  \n",
       "0         A/5 21171   7.2500   NaN         0  \n",
       "1          PC 17599  71.2833   C85         1  \n",
       "2  STON/O2. 3101282   7.9250   NaN         0  \n",
       "3            113803  53.1000  C123         0  \n",
       "4            373450   8.0500   NaN         0  "
      ]
     },
     "execution_count": 173,
     "metadata": {},
     "output_type": "execute_result"
    }
   ],
   "source": [
    "df_tmp.head()"
   ]
  },
  {
   "cell_type": "code",
   "execution_count": 174,
   "id": "3a3f639d-9730-4900-b75f-5621e4ccbc97",
   "metadata": {},
   "outputs": [
    {
     "data": {
      "text/html": [
       "<div>\n",
       "<style scoped>\n",
       "    .dataframe tbody tr th:only-of-type {\n",
       "        vertical-align: middle;\n",
       "    }\n",
       "\n",
       "    .dataframe tbody tr th {\n",
       "        vertical-align: top;\n",
       "    }\n",
       "\n",
       "    .dataframe thead th {\n",
       "        text-align: right;\n",
       "    }\n",
       "</style>\n",
       "<table border=\"1\" class=\"dataframe\">\n",
       "  <thead>\n",
       "    <tr style=\"text-align: right;\">\n",
       "      <th></th>\n",
       "      <th>PassengerId</th>\n",
       "      <th>Survived</th>\n",
       "      <th>Pclass</th>\n",
       "      <th>Name</th>\n",
       "      <th>Sex</th>\n",
       "      <th>Age</th>\n",
       "      <th>SibSp</th>\n",
       "      <th>Parch</th>\n",
       "      <th>Ticket</th>\n",
       "      <th>Fare</th>\n",
       "      <th>Cabin</th>\n",
       "      <th>Embarked</th>\n",
       "    </tr>\n",
       "  </thead>\n",
       "  <tbody>\n",
       "    <tr>\n",
       "      <th>0</th>\n",
       "      <td>1</td>\n",
       "      <td>0.0</td>\n",
       "      <td>3</td>\n",
       "      <td>Braund, Mr. Owen Harris</td>\n",
       "      <td>0</td>\n",
       "      <td>22.0</td>\n",
       "      <td>1</td>\n",
       "      <td>0</td>\n",
       "      <td>A/5 21171</td>\n",
       "      <td>7.2500</td>\n",
       "      <td>NaN</td>\n",
       "      <td>0</td>\n",
       "    </tr>\n",
       "    <tr>\n",
       "      <th>1</th>\n",
       "      <td>2</td>\n",
       "      <td>1.0</td>\n",
       "      <td>1</td>\n",
       "      <td>Cumings, Mrs. John Bradley (Florence Briggs Th...</td>\n",
       "      <td>1</td>\n",
       "      <td>38.0</td>\n",
       "      <td>1</td>\n",
       "      <td>0</td>\n",
       "      <td>PC 17599</td>\n",
       "      <td>71.2833</td>\n",
       "      <td>C85</td>\n",
       "      <td>1</td>\n",
       "    </tr>\n",
       "    <tr>\n",
       "      <th>2</th>\n",
       "      <td>3</td>\n",
       "      <td>1.0</td>\n",
       "      <td>3</td>\n",
       "      <td>Heikkinen, Miss. Laina</td>\n",
       "      <td>1</td>\n",
       "      <td>26.0</td>\n",
       "      <td>0</td>\n",
       "      <td>0</td>\n",
       "      <td>STON/O2. 3101282</td>\n",
       "      <td>7.9250</td>\n",
       "      <td>NaN</td>\n",
       "      <td>0</td>\n",
       "    </tr>\n",
       "    <tr>\n",
       "      <th>3</th>\n",
       "      <td>4</td>\n",
       "      <td>1.0</td>\n",
       "      <td>1</td>\n",
       "      <td>Futrelle, Mrs. Jacques Heath (Lily May Peel)</td>\n",
       "      <td>1</td>\n",
       "      <td>35.0</td>\n",
       "      <td>1</td>\n",
       "      <td>0</td>\n",
       "      <td>113803</td>\n",
       "      <td>53.1000</td>\n",
       "      <td>C123</td>\n",
       "      <td>0</td>\n",
       "    </tr>\n",
       "    <tr>\n",
       "      <th>4</th>\n",
       "      <td>5</td>\n",
       "      <td>0.0</td>\n",
       "      <td>3</td>\n",
       "      <td>Allen, Mr. William Henry</td>\n",
       "      <td>0</td>\n",
       "      <td>35.0</td>\n",
       "      <td>0</td>\n",
       "      <td>0</td>\n",
       "      <td>373450</td>\n",
       "      <td>8.0500</td>\n",
       "      <td>NaN</td>\n",
       "      <td>0</td>\n",
       "    </tr>\n",
       "    <tr>\n",
       "      <th>...</th>\n",
       "      <td>...</td>\n",
       "      <td>...</td>\n",
       "      <td>...</td>\n",
       "      <td>...</td>\n",
       "      <td>...</td>\n",
       "      <td>...</td>\n",
       "      <td>...</td>\n",
       "      <td>...</td>\n",
       "      <td>...</td>\n",
       "      <td>...</td>\n",
       "      <td>...</td>\n",
       "      <td>...</td>\n",
       "    </tr>\n",
       "    <tr>\n",
       "      <th>413</th>\n",
       "      <td>1305</td>\n",
       "      <td>NaN</td>\n",
       "      <td>3</td>\n",
       "      <td>Spector, Mr. Woolf</td>\n",
       "      <td>0</td>\n",
       "      <td>NaN</td>\n",
       "      <td>0</td>\n",
       "      <td>0</td>\n",
       "      <td>A.5. 3236</td>\n",
       "      <td>8.0500</td>\n",
       "      <td>NaN</td>\n",
       "      <td>0</td>\n",
       "    </tr>\n",
       "    <tr>\n",
       "      <th>414</th>\n",
       "      <td>1306</td>\n",
       "      <td>NaN</td>\n",
       "      <td>1</td>\n",
       "      <td>Oliva y Ocana, Dona. Fermina</td>\n",
       "      <td>1</td>\n",
       "      <td>39.0</td>\n",
       "      <td>0</td>\n",
       "      <td>0</td>\n",
       "      <td>PC 17758</td>\n",
       "      <td>108.9000</td>\n",
       "      <td>C105</td>\n",
       "      <td>1</td>\n",
       "    </tr>\n",
       "    <tr>\n",
       "      <th>415</th>\n",
       "      <td>1307</td>\n",
       "      <td>NaN</td>\n",
       "      <td>3</td>\n",
       "      <td>Saether, Mr. Simon Sivertsen</td>\n",
       "      <td>0</td>\n",
       "      <td>38.5</td>\n",
       "      <td>0</td>\n",
       "      <td>0</td>\n",
       "      <td>SOTON/O.Q. 3101262</td>\n",
       "      <td>7.2500</td>\n",
       "      <td>NaN</td>\n",
       "      <td>0</td>\n",
       "    </tr>\n",
       "    <tr>\n",
       "      <th>416</th>\n",
       "      <td>1308</td>\n",
       "      <td>NaN</td>\n",
       "      <td>3</td>\n",
       "      <td>Ware, Mr. Frederick</td>\n",
       "      <td>0</td>\n",
       "      <td>NaN</td>\n",
       "      <td>0</td>\n",
       "      <td>0</td>\n",
       "      <td>359309</td>\n",
       "      <td>8.0500</td>\n",
       "      <td>NaN</td>\n",
       "      <td>0</td>\n",
       "    </tr>\n",
       "    <tr>\n",
       "      <th>417</th>\n",
       "      <td>1309</td>\n",
       "      <td>NaN</td>\n",
       "      <td>3</td>\n",
       "      <td>Peter, Master. Michael J</td>\n",
       "      <td>0</td>\n",
       "      <td>NaN</td>\n",
       "      <td>1</td>\n",
       "      <td>1</td>\n",
       "      <td>2668</td>\n",
       "      <td>22.3583</td>\n",
       "      <td>NaN</td>\n",
       "      <td>1</td>\n",
       "    </tr>\n",
       "  </tbody>\n",
       "</table>\n",
       "<p>1309 rows × 12 columns</p>\n",
       "</div>"
      ],
      "text/plain": [
       "     PassengerId  Survived  Pclass  \\\n",
       "0              1       0.0       3   \n",
       "1              2       1.0       1   \n",
       "2              3       1.0       3   \n",
       "3              4       1.0       1   \n",
       "4              5       0.0       3   \n",
       "..           ...       ...     ...   \n",
       "413         1305       NaN       3   \n",
       "414         1306       NaN       1   \n",
       "415         1307       NaN       3   \n",
       "416         1308       NaN       3   \n",
       "417         1309       NaN       3   \n",
       "\n",
       "                                                  Name  Sex   Age  SibSp  \\\n",
       "0                              Braund, Mr. Owen Harris    0  22.0      1   \n",
       "1    Cumings, Mrs. John Bradley (Florence Briggs Th...    1  38.0      1   \n",
       "2                               Heikkinen, Miss. Laina    1  26.0      0   \n",
       "3         Futrelle, Mrs. Jacques Heath (Lily May Peel)    1  35.0      1   \n",
       "4                             Allen, Mr. William Henry    0  35.0      0   \n",
       "..                                                 ...  ...   ...    ...   \n",
       "413                                 Spector, Mr. Woolf    0   NaN      0   \n",
       "414                       Oliva y Ocana, Dona. Fermina    1  39.0      0   \n",
       "415                       Saether, Mr. Simon Sivertsen    0  38.5      0   \n",
       "416                                Ware, Mr. Frederick    0   NaN      0   \n",
       "417                           Peter, Master. Michael J    0   NaN      1   \n",
       "\n",
       "     Parch              Ticket      Fare Cabin  Embarked  \n",
       "0        0           A/5 21171    7.2500   NaN         0  \n",
       "1        0            PC 17599   71.2833   C85         1  \n",
       "2        0    STON/O2. 3101282    7.9250   NaN         0  \n",
       "3        0              113803   53.1000  C123         0  \n",
       "4        0              373450    8.0500   NaN         0  \n",
       "..     ...                 ...       ...   ...       ...  \n",
       "413      0           A.5. 3236    8.0500   NaN         0  \n",
       "414      0            PC 17758  108.9000  C105         1  \n",
       "415      0  SOTON/O.Q. 3101262    7.2500   NaN         0  \n",
       "416      0              359309    8.0500   NaN         0  \n",
       "417      1                2668   22.3583   NaN         1  \n",
       "\n",
       "[1309 rows x 12 columns]"
      ]
     },
     "execution_count": 174,
     "metadata": {},
     "output_type": "execute_result"
    }
   ],
   "source": [
    "df_tmp2 = df.copy()\n",
    "df_tmp2[\"Embarked\"] = pd.factorize(df_tmp2[\"Embarked\"])[0]\n",
    "df_tmp2"
   ]
  },
  {
   "cell_type": "code",
   "execution_count": 175,
   "id": "2e60a461-78ca-463f-8dd5-b8015ee957f7",
   "metadata": {},
   "outputs": [
    {
     "data": {
      "text/html": [
       "<div>\n",
       "<style scoped>\n",
       "    .dataframe tbody tr th:only-of-type {\n",
       "        vertical-align: middle;\n",
       "    }\n",
       "\n",
       "    .dataframe tbody tr th {\n",
       "        vertical-align: top;\n",
       "    }\n",
       "\n",
       "    .dataframe thead th {\n",
       "        text-align: right;\n",
       "    }\n",
       "</style>\n",
       "<table border=\"1\" class=\"dataframe\">\n",
       "  <thead>\n",
       "    <tr style=\"text-align: right;\">\n",
       "      <th></th>\n",
       "      <th>PassengerId</th>\n",
       "      <th>Survived</th>\n",
       "      <th>Pclass</th>\n",
       "      <th>Name</th>\n",
       "      <th>Sex</th>\n",
       "      <th>Age</th>\n",
       "      <th>SibSp</th>\n",
       "      <th>Parch</th>\n",
       "      <th>Ticket</th>\n",
       "      <th>Fare</th>\n",
       "      <th>Cabin</th>\n",
       "      <th>Embarked</th>\n",
       "    </tr>\n",
       "  </thead>\n",
       "  <tbody>\n",
       "    <tr>\n",
       "      <th>0</th>\n",
       "      <td>1</td>\n",
       "      <td>0.0</td>\n",
       "      <td>3</td>\n",
       "      <td>Braund, Mr. Owen Harris</td>\n",
       "      <td>0</td>\n",
       "      <td>22.0</td>\n",
       "      <td>1</td>\n",
       "      <td>0</td>\n",
       "      <td>A/5 21171</td>\n",
       "      <td>7.2500</td>\n",
       "      <td>NaN</td>\n",
       "      <td>0</td>\n",
       "    </tr>\n",
       "    <tr>\n",
       "      <th>1</th>\n",
       "      <td>2</td>\n",
       "      <td>1.0</td>\n",
       "      <td>1</td>\n",
       "      <td>Cumings, Mrs. John Bradley (Florence Briggs Th...</td>\n",
       "      <td>1</td>\n",
       "      <td>38.0</td>\n",
       "      <td>1</td>\n",
       "      <td>0</td>\n",
       "      <td>PC 17599</td>\n",
       "      <td>71.2833</td>\n",
       "      <td>C85</td>\n",
       "      <td>1</td>\n",
       "    </tr>\n",
       "    <tr>\n",
       "      <th>2</th>\n",
       "      <td>3</td>\n",
       "      <td>1.0</td>\n",
       "      <td>3</td>\n",
       "      <td>Heikkinen, Miss. Laina</td>\n",
       "      <td>1</td>\n",
       "      <td>26.0</td>\n",
       "      <td>0</td>\n",
       "      <td>0</td>\n",
       "      <td>STON/O2. 3101282</td>\n",
       "      <td>7.9250</td>\n",
       "      <td>NaN</td>\n",
       "      <td>0</td>\n",
       "    </tr>\n",
       "    <tr>\n",
       "      <th>3</th>\n",
       "      <td>4</td>\n",
       "      <td>1.0</td>\n",
       "      <td>1</td>\n",
       "      <td>Futrelle, Mrs. Jacques Heath (Lily May Peel)</td>\n",
       "      <td>1</td>\n",
       "      <td>35.0</td>\n",
       "      <td>1</td>\n",
       "      <td>0</td>\n",
       "      <td>113803</td>\n",
       "      <td>53.1000</td>\n",
       "      <td>C123</td>\n",
       "      <td>0</td>\n",
       "    </tr>\n",
       "    <tr>\n",
       "      <th>4</th>\n",
       "      <td>5</td>\n",
       "      <td>0.0</td>\n",
       "      <td>3</td>\n",
       "      <td>Allen, Mr. William Henry</td>\n",
       "      <td>0</td>\n",
       "      <td>35.0</td>\n",
       "      <td>0</td>\n",
       "      <td>0</td>\n",
       "      <td>373450</td>\n",
       "      <td>8.0500</td>\n",
       "      <td>NaN</td>\n",
       "      <td>0</td>\n",
       "    </tr>\n",
       "  </tbody>\n",
       "</table>\n",
       "</div>"
      ],
      "text/plain": [
       "   PassengerId  Survived  Pclass  \\\n",
       "0            1       0.0       3   \n",
       "1            2       1.0       1   \n",
       "2            3       1.0       3   \n",
       "3            4       1.0       1   \n",
       "4            5       0.0       3   \n",
       "\n",
       "                                                Name  Sex   Age  SibSp  Parch  \\\n",
       "0                            Braund, Mr. Owen Harris    0  22.0      1      0   \n",
       "1  Cumings, Mrs. John Bradley (Florence Briggs Th...    1  38.0      1      0   \n",
       "2                             Heikkinen, Miss. Laina    1  26.0      0      0   \n",
       "3       Futrelle, Mrs. Jacques Heath (Lily May Peel)    1  35.0      1      0   \n",
       "4                           Allen, Mr. William Henry    0  35.0      0      0   \n",
       "\n",
       "             Ticket     Fare Cabin  Embarked  \n",
       "0         A/5 21171   7.2500   NaN         0  \n",
       "1          PC 17599  71.2833   C85         1  \n",
       "2  STON/O2. 3101282   7.9250   NaN         0  \n",
       "3            113803  53.1000  C123         0  \n",
       "4            373450   8.0500   NaN         0  "
      ]
     },
     "execution_count": 175,
     "metadata": {},
     "output_type": "execute_result"
    }
   ],
   "source": [
    "df[\"Embarked\"] = df[\"Embarked\"].map({\"S\": 0, \"C\": 1, \"Q\": 2})\n",
    "df.head()"
   ]
  },
  {
   "cell_type": "markdown",
   "id": "6b1cd1a3-9dfa-441c-97c0-d650cda46825",
   "metadata": {},
   "source": [
    "#### Name\n",
    "- Mr, Mrs과 같이 성별 및 신분을 나타내는 문자열 추출 "
   ]
  },
  {
   "cell_type": "code",
   "execution_count": 176,
   "id": "5eb439bc-0728-4d92-acfc-74a4c6808324",
   "metadata": {},
   "outputs": [],
   "source": [
    "df['Initial'] = df[\"Name\"].str.extract(r\"([A-Za-z]+)\\.\")"
   ]
  },
  {
   "cell_type": "code",
   "execution_count": 177,
   "id": "a5bbff11-fece-4939-b37f-793ee2c3f24b",
   "metadata": {},
   "outputs": [
    {
     "data": {
      "text/plain": [
       "Initial\n",
       "Mr          757\n",
       "Miss        260\n",
       "Mrs         197\n",
       "Master       61\n",
       "Rev           8\n",
       "Dr            8\n",
       "Col           4\n",
       "Major         2\n",
       "Mlle          2\n",
       "Ms            2\n",
       "Mme           1\n",
       "Don           1\n",
       "Sir           1\n",
       "Lady          1\n",
       "Capt          1\n",
       "Countess      1\n",
       "Jonkheer      1\n",
       "Dona          1\n",
       "Name: count, dtype: int64"
      ]
     },
     "execution_count": 177,
     "metadata": {},
     "output_type": "execute_result"
    }
   ],
   "source": [
    "df[\"Initial\"].value_counts()"
   ]
  },
  {
   "cell_type": "markdown",
   "id": "7dbb47a0-78bd-4479-8dad-5618584e1f1f",
   "metadata": {},
   "source": [
    "#### 귀족 여성을 나타내는 많은 값이 존재 → 도메인 지식의 중요성(해당 initial에 대해 사전 지식을 가지고 있으면 feature Engineering에 수월)\n",
    "- **해당 명칭을 Lady로 통일**\n",
    "- Ms : 귀족 미망인\n",
    "- Mlle, Mme: 마드모아젤 또는 마담의 줄임말, 귀족 여성을 나타냄\n",
    "- Countess: 백작 부인\n",
    "- Lady: 귀족 여인"
   ]
  },
  {
   "cell_type": "code",
   "execution_count": 178,
   "id": "c7217fa6-d551-4d21-a427-8c44197e454f",
   "metadata": {},
   "outputs": [],
   "source": [
    "cond = (df[\"Initial\"] == \"Mme\") | (df[\"Initial\"] == \"Mlle\") | (df[\"Initial\"] == \"Ms\") | (df[\"Initial\"] == \"Countess\") |  (df[\"Initial\"] == \"Lady\")\n",
    "df.loc[cond, \"Initial\"] = \"Lady\""
   ]
  },
  {
   "cell_type": "code",
   "execution_count": 179,
   "id": "b753b882-072f-4af0-b3f5-18bd0471bf9a",
   "metadata": {},
   "outputs": [
    {
     "data": {
      "text/plain": [
       "Initial\n",
       "Mr          757\n",
       "Miss        260\n",
       "Mrs         197\n",
       "Master       61\n",
       "Rev           8\n",
       "Dr            8\n",
       "Lady          7\n",
       "Col           4\n",
       "Major         2\n",
       "Don           1\n",
       "Sir           1\n",
       "Capt          1\n",
       "Jonkheer      1\n",
       "Dona          1\n",
       "Name: count, dtype: int64"
      ]
     },
     "execution_count": 179,
     "metadata": {},
     "output_type": "execute_result"
    }
   ],
   "source": [
    "df[\"Initial\"].value_counts()"
   ]
  },
  {
   "cell_type": "code",
   "execution_count": 180,
   "id": "d6b4570b-3872-4e0f-a655-dbc0af3c06d4",
   "metadata": {},
   "outputs": [],
   "source": [
    "mapping = {\"Mr\":0, \"Miss\": 1, \"Mrs\": 2, \"Master\": 3, \"Lady\": 4, \"Don\": 5, \"Rev\": 6, \"Dr\": 7, \"Major\": 8, \"Sir\": 9, \"Col\": 10, \"Capt\": 11, \"Jonkheer\": 12}\n",
    "df[\"Initial\"] = df[\"Initial\"].map(mapping)\n"
   ]
  },
  {
   "cell_type": "code",
   "execution_count": 181,
   "id": "3d3cce4a-3181-48b5-ac96-6883ffaf46e1",
   "metadata": {},
   "outputs": [
    {
     "data": {
      "text/html": [
       "<div>\n",
       "<style scoped>\n",
       "    .dataframe tbody tr th:only-of-type {\n",
       "        vertical-align: middle;\n",
       "    }\n",
       "\n",
       "    .dataframe tbody tr th {\n",
       "        vertical-align: top;\n",
       "    }\n",
       "\n",
       "    .dataframe thead th {\n",
       "        text-align: right;\n",
       "    }\n",
       "</style>\n",
       "<table border=\"1\" class=\"dataframe\">\n",
       "  <thead>\n",
       "    <tr style=\"text-align: right;\">\n",
       "      <th></th>\n",
       "      <th>PassengerId</th>\n",
       "      <th>Survived</th>\n",
       "      <th>Pclass</th>\n",
       "      <th>Name</th>\n",
       "      <th>Sex</th>\n",
       "      <th>Age</th>\n",
       "      <th>SibSp</th>\n",
       "      <th>Parch</th>\n",
       "      <th>Ticket</th>\n",
       "      <th>Fare</th>\n",
       "      <th>Cabin</th>\n",
       "      <th>Embarked</th>\n",
       "      <th>Initial</th>\n",
       "    </tr>\n",
       "  </thead>\n",
       "  <tbody>\n",
       "    <tr>\n",
       "      <th>0</th>\n",
       "      <td>1</td>\n",
       "      <td>0.0</td>\n",
       "      <td>3</td>\n",
       "      <td>Braund, Mr. Owen Harris</td>\n",
       "      <td>0</td>\n",
       "      <td>22.0</td>\n",
       "      <td>1</td>\n",
       "      <td>0</td>\n",
       "      <td>A/5 21171</td>\n",
       "      <td>7.2500</td>\n",
       "      <td>NaN</td>\n",
       "      <td>0</td>\n",
       "      <td>0.0</td>\n",
       "    </tr>\n",
       "    <tr>\n",
       "      <th>1</th>\n",
       "      <td>2</td>\n",
       "      <td>1.0</td>\n",
       "      <td>1</td>\n",
       "      <td>Cumings, Mrs. John Bradley (Florence Briggs Th...</td>\n",
       "      <td>1</td>\n",
       "      <td>38.0</td>\n",
       "      <td>1</td>\n",
       "      <td>0</td>\n",
       "      <td>PC 17599</td>\n",
       "      <td>71.2833</td>\n",
       "      <td>C85</td>\n",
       "      <td>1</td>\n",
       "      <td>2.0</td>\n",
       "    </tr>\n",
       "    <tr>\n",
       "      <th>2</th>\n",
       "      <td>3</td>\n",
       "      <td>1.0</td>\n",
       "      <td>3</td>\n",
       "      <td>Heikkinen, Miss. Laina</td>\n",
       "      <td>1</td>\n",
       "      <td>26.0</td>\n",
       "      <td>0</td>\n",
       "      <td>0</td>\n",
       "      <td>STON/O2. 3101282</td>\n",
       "      <td>7.9250</td>\n",
       "      <td>NaN</td>\n",
       "      <td>0</td>\n",
       "      <td>1.0</td>\n",
       "    </tr>\n",
       "    <tr>\n",
       "      <th>3</th>\n",
       "      <td>4</td>\n",
       "      <td>1.0</td>\n",
       "      <td>1</td>\n",
       "      <td>Futrelle, Mrs. Jacques Heath (Lily May Peel)</td>\n",
       "      <td>1</td>\n",
       "      <td>35.0</td>\n",
       "      <td>1</td>\n",
       "      <td>0</td>\n",
       "      <td>113803</td>\n",
       "      <td>53.1000</td>\n",
       "      <td>C123</td>\n",
       "      <td>0</td>\n",
       "      <td>2.0</td>\n",
       "    </tr>\n",
       "    <tr>\n",
       "      <th>4</th>\n",
       "      <td>5</td>\n",
       "      <td>0.0</td>\n",
       "      <td>3</td>\n",
       "      <td>Allen, Mr. William Henry</td>\n",
       "      <td>0</td>\n",
       "      <td>35.0</td>\n",
       "      <td>0</td>\n",
       "      <td>0</td>\n",
       "      <td>373450</td>\n",
       "      <td>8.0500</td>\n",
       "      <td>NaN</td>\n",
       "      <td>0</td>\n",
       "      <td>0.0</td>\n",
       "    </tr>\n",
       "    <tr>\n",
       "      <th>...</th>\n",
       "      <td>...</td>\n",
       "      <td>...</td>\n",
       "      <td>...</td>\n",
       "      <td>...</td>\n",
       "      <td>...</td>\n",
       "      <td>...</td>\n",
       "      <td>...</td>\n",
       "      <td>...</td>\n",
       "      <td>...</td>\n",
       "      <td>...</td>\n",
       "      <td>...</td>\n",
       "      <td>...</td>\n",
       "      <td>...</td>\n",
       "    </tr>\n",
       "    <tr>\n",
       "      <th>413</th>\n",
       "      <td>1305</td>\n",
       "      <td>NaN</td>\n",
       "      <td>3</td>\n",
       "      <td>Spector, Mr. Woolf</td>\n",
       "      <td>0</td>\n",
       "      <td>NaN</td>\n",
       "      <td>0</td>\n",
       "      <td>0</td>\n",
       "      <td>A.5. 3236</td>\n",
       "      <td>8.0500</td>\n",
       "      <td>NaN</td>\n",
       "      <td>0</td>\n",
       "      <td>0.0</td>\n",
       "    </tr>\n",
       "    <tr>\n",
       "      <th>414</th>\n",
       "      <td>1306</td>\n",
       "      <td>NaN</td>\n",
       "      <td>1</td>\n",
       "      <td>Oliva y Ocana, Dona. Fermina</td>\n",
       "      <td>1</td>\n",
       "      <td>39.0</td>\n",
       "      <td>0</td>\n",
       "      <td>0</td>\n",
       "      <td>PC 17758</td>\n",
       "      <td>108.9000</td>\n",
       "      <td>C105</td>\n",
       "      <td>1</td>\n",
       "      <td>NaN</td>\n",
       "    </tr>\n",
       "    <tr>\n",
       "      <th>415</th>\n",
       "      <td>1307</td>\n",
       "      <td>NaN</td>\n",
       "      <td>3</td>\n",
       "      <td>Saether, Mr. Simon Sivertsen</td>\n",
       "      <td>0</td>\n",
       "      <td>38.5</td>\n",
       "      <td>0</td>\n",
       "      <td>0</td>\n",
       "      <td>SOTON/O.Q. 3101262</td>\n",
       "      <td>7.2500</td>\n",
       "      <td>NaN</td>\n",
       "      <td>0</td>\n",
       "      <td>0.0</td>\n",
       "    </tr>\n",
       "    <tr>\n",
       "      <th>416</th>\n",
       "      <td>1308</td>\n",
       "      <td>NaN</td>\n",
       "      <td>3</td>\n",
       "      <td>Ware, Mr. Frederick</td>\n",
       "      <td>0</td>\n",
       "      <td>NaN</td>\n",
       "      <td>0</td>\n",
       "      <td>0</td>\n",
       "      <td>359309</td>\n",
       "      <td>8.0500</td>\n",
       "      <td>NaN</td>\n",
       "      <td>0</td>\n",
       "      <td>0.0</td>\n",
       "    </tr>\n",
       "    <tr>\n",
       "      <th>417</th>\n",
       "      <td>1309</td>\n",
       "      <td>NaN</td>\n",
       "      <td>3</td>\n",
       "      <td>Peter, Master. Michael J</td>\n",
       "      <td>0</td>\n",
       "      <td>NaN</td>\n",
       "      <td>1</td>\n",
       "      <td>1</td>\n",
       "      <td>2668</td>\n",
       "      <td>22.3583</td>\n",
       "      <td>NaN</td>\n",
       "      <td>1</td>\n",
       "      <td>3.0</td>\n",
       "    </tr>\n",
       "  </tbody>\n",
       "</table>\n",
       "<p>1309 rows × 13 columns</p>\n",
       "</div>"
      ],
      "text/plain": [
       "     PassengerId  Survived  Pclass  \\\n",
       "0              1       0.0       3   \n",
       "1              2       1.0       1   \n",
       "2              3       1.0       3   \n",
       "3              4       1.0       1   \n",
       "4              5       0.0       3   \n",
       "..           ...       ...     ...   \n",
       "413         1305       NaN       3   \n",
       "414         1306       NaN       1   \n",
       "415         1307       NaN       3   \n",
       "416         1308       NaN       3   \n",
       "417         1309       NaN       3   \n",
       "\n",
       "                                                  Name  Sex   Age  SibSp  \\\n",
       "0                              Braund, Mr. Owen Harris    0  22.0      1   \n",
       "1    Cumings, Mrs. John Bradley (Florence Briggs Th...    1  38.0      1   \n",
       "2                               Heikkinen, Miss. Laina    1  26.0      0   \n",
       "3         Futrelle, Mrs. Jacques Heath (Lily May Peel)    1  35.0      1   \n",
       "4                             Allen, Mr. William Henry    0  35.0      0   \n",
       "..                                                 ...  ...   ...    ...   \n",
       "413                                 Spector, Mr. Woolf    0   NaN      0   \n",
       "414                       Oliva y Ocana, Dona. Fermina    1  39.0      0   \n",
       "415                       Saether, Mr. Simon Sivertsen    0  38.5      0   \n",
       "416                                Ware, Mr. Frederick    0   NaN      0   \n",
       "417                           Peter, Master. Michael J    0   NaN      1   \n",
       "\n",
       "     Parch              Ticket      Fare Cabin  Embarked  Initial  \n",
       "0        0           A/5 21171    7.2500   NaN         0      0.0  \n",
       "1        0            PC 17599   71.2833   C85         1      2.0  \n",
       "2        0    STON/O2. 3101282    7.9250   NaN         0      1.0  \n",
       "3        0              113803   53.1000  C123         0      2.0  \n",
       "4        0              373450    8.0500   NaN         0      0.0  \n",
       "..     ...                 ...       ...   ...       ...      ...  \n",
       "413      0           A.5. 3236    8.0500   NaN         0      0.0  \n",
       "414      0            PC 17758  108.9000  C105         1      NaN  \n",
       "415      0  SOTON/O.Q. 3101262    7.2500   NaN         0      0.0  \n",
       "416      0              359309    8.0500   NaN         0      0.0  \n",
       "417      1                2668   22.3583   NaN         1      3.0  \n",
       "\n",
       "[1309 rows x 13 columns]"
      ]
     },
     "execution_count": 181,
     "metadata": {},
     "output_type": "execute_result"
    }
   ],
   "source": [
    "df"
   ]
  },
  {
   "cell_type": "code",
   "execution_count": 182,
   "id": "ba030e49-f262-4144-befe-24800903a894",
   "metadata": {},
   "outputs": [
    {
     "data": {
      "text/html": [
       "<div>\n",
       "<style scoped>\n",
       "    .dataframe tbody tr th:only-of-type {\n",
       "        vertical-align: middle;\n",
       "    }\n",
       "\n",
       "    .dataframe tbody tr th {\n",
       "        vertical-align: top;\n",
       "    }\n",
       "\n",
       "    .dataframe thead th {\n",
       "        text-align: right;\n",
       "    }\n",
       "</style>\n",
       "<table border=\"1\" class=\"dataframe\">\n",
       "  <thead>\n",
       "    <tr style=\"text-align: right;\">\n",
       "      <th></th>\n",
       "      <th>PassengerId</th>\n",
       "      <th>Survived</th>\n",
       "      <th>Pclass</th>\n",
       "      <th>Sex</th>\n",
       "      <th>Age</th>\n",
       "      <th>SibSp</th>\n",
       "      <th>Parch</th>\n",
       "      <th>Ticket</th>\n",
       "      <th>Fare</th>\n",
       "      <th>Cabin</th>\n",
       "      <th>Embarked</th>\n",
       "      <th>Initial</th>\n",
       "    </tr>\n",
       "  </thead>\n",
       "  <tbody>\n",
       "    <tr>\n",
       "      <th>0</th>\n",
       "      <td>1</td>\n",
       "      <td>0.0</td>\n",
       "      <td>3</td>\n",
       "      <td>0</td>\n",
       "      <td>22.0</td>\n",
       "      <td>1</td>\n",
       "      <td>0</td>\n",
       "      <td>A/5 21171</td>\n",
       "      <td>7.2500</td>\n",
       "      <td>NaN</td>\n",
       "      <td>0</td>\n",
       "      <td>0.0</td>\n",
       "    </tr>\n",
       "    <tr>\n",
       "      <th>1</th>\n",
       "      <td>2</td>\n",
       "      <td>1.0</td>\n",
       "      <td>1</td>\n",
       "      <td>1</td>\n",
       "      <td>38.0</td>\n",
       "      <td>1</td>\n",
       "      <td>0</td>\n",
       "      <td>PC 17599</td>\n",
       "      <td>71.2833</td>\n",
       "      <td>C85</td>\n",
       "      <td>1</td>\n",
       "      <td>2.0</td>\n",
       "    </tr>\n",
       "    <tr>\n",
       "      <th>2</th>\n",
       "      <td>3</td>\n",
       "      <td>1.0</td>\n",
       "      <td>3</td>\n",
       "      <td>1</td>\n",
       "      <td>26.0</td>\n",
       "      <td>0</td>\n",
       "      <td>0</td>\n",
       "      <td>STON/O2. 3101282</td>\n",
       "      <td>7.9250</td>\n",
       "      <td>NaN</td>\n",
       "      <td>0</td>\n",
       "      <td>1.0</td>\n",
       "    </tr>\n",
       "    <tr>\n",
       "      <th>3</th>\n",
       "      <td>4</td>\n",
       "      <td>1.0</td>\n",
       "      <td>1</td>\n",
       "      <td>1</td>\n",
       "      <td>35.0</td>\n",
       "      <td>1</td>\n",
       "      <td>0</td>\n",
       "      <td>113803</td>\n",
       "      <td>53.1000</td>\n",
       "      <td>C123</td>\n",
       "      <td>0</td>\n",
       "      <td>2.0</td>\n",
       "    </tr>\n",
       "    <tr>\n",
       "      <th>4</th>\n",
       "      <td>5</td>\n",
       "      <td>0.0</td>\n",
       "      <td>3</td>\n",
       "      <td>0</td>\n",
       "      <td>35.0</td>\n",
       "      <td>0</td>\n",
       "      <td>0</td>\n",
       "      <td>373450</td>\n",
       "      <td>8.0500</td>\n",
       "      <td>NaN</td>\n",
       "      <td>0</td>\n",
       "      <td>0.0</td>\n",
       "    </tr>\n",
       "  </tbody>\n",
       "</table>\n",
       "</div>"
      ],
      "text/plain": [
       "   PassengerId  Survived  Pclass  Sex   Age  SibSp  Parch            Ticket  \\\n",
       "0            1       0.0       3    0  22.0      1      0         A/5 21171   \n",
       "1            2       1.0       1    1  38.0      1      0          PC 17599   \n",
       "2            3       1.0       3    1  26.0      0      0  STON/O2. 3101282   \n",
       "3            4       1.0       1    1  35.0      1      0            113803   \n",
       "4            5       0.0       3    0  35.0      0      0            373450   \n",
       "\n",
       "      Fare Cabin  Embarked  Initial  \n",
       "0   7.2500   NaN         0      0.0  \n",
       "1  71.2833   C85         1      2.0  \n",
       "2   7.9250   NaN         0      1.0  \n",
       "3  53.1000  C123         0      2.0  \n",
       "4   8.0500   NaN         0      0.0  "
      ]
     },
     "execution_count": 182,
     "metadata": {},
     "output_type": "execute_result"
    }
   ],
   "source": [
    "df.drop([\"Name\"], axis=1, inplace=True)\n",
    "df.head()"
   ]
  },
  {
   "cell_type": "markdown",
   "id": "c03dd7ae-1da3-4cd2-9179-1ca5ad8ce6d4",
   "metadata": {},
   "source": [
    "#### Age"
   ]
  },
  {
   "cell_type": "markdown",
   "id": "319bf4b6-3a2e-4f36-ae4a-77c64fbb8700",
   "metadata": {},
   "source": [
    "#### 결측치가 상당히 많은 것을 확인 가능"
   ]
  },
  {
   "cell_type": "code",
   "execution_count": 183,
   "id": "4e33281e-61fb-4984-959a-ca909ed6ed3f",
   "metadata": {},
   "outputs": [
    {
     "data": {
      "text/plain": [
       "np.int64(263)"
      ]
     },
     "execution_count": 183,
     "metadata": {},
     "output_type": "execute_result"
    }
   ],
   "source": [
    "df[\"Age\"].isnull().sum()"
   ]
  },
  {
   "cell_type": "code",
   "execution_count": 184,
   "id": "d5a5a4b3-82ff-4117-a7b6-28317b0d58c4",
   "metadata": {},
   "outputs": [
    {
     "data": {
      "text/plain": [
       "count    1046.000000\n",
       "mean       29.881138\n",
       "std        14.413493\n",
       "min         0.170000\n",
       "25%        21.000000\n",
       "50%        28.000000\n",
       "75%        39.000000\n",
       "max        80.000000\n",
       "Name: Age, dtype: float64"
      ]
     },
     "execution_count": 184,
     "metadata": {},
     "output_type": "execute_result"
    }
   ],
   "source": [
    "df[\"Age\"].describe()"
   ]
  },
  {
   "cell_type": "markdown",
   "id": "61eaef15-5e7d-414e-bd4f-1aa31604d880",
   "metadata": {},
   "source": [
    "#### initial에 따른 평균 나이대 확인해보기\n",
    "- master의 나이대가 상당히 어린 것을 알 수 있음\n",
    "- initial 별로 나이를 구하여 결측치에 집어넣음"
   ]
  },
  {
   "cell_type": "code",
   "execution_count": 185,
   "id": "cb546a88-98c9-45c0-8935-1e7e21529dd4",
   "metadata": {},
   "outputs": [
    {
     "data": {
      "text/html": [
       "<div>\n",
       "<style scoped>\n",
       "    .dataframe tbody tr th:only-of-type {\n",
       "        vertical-align: middle;\n",
       "    }\n",
       "\n",
       "    .dataframe tbody tr th {\n",
       "        vertical-align: top;\n",
       "    }\n",
       "\n",
       "    .dataframe thead tr th {\n",
       "        text-align: left;\n",
       "    }\n",
       "\n",
       "    .dataframe thead tr:last-of-type th {\n",
       "        text-align: right;\n",
       "    }\n",
       "</style>\n",
       "<table border=\"1\" class=\"dataframe\">\n",
       "  <thead>\n",
       "    <tr>\n",
       "      <th></th>\n",
       "      <th colspan=\"3\" halign=\"left\">Age</th>\n",
       "    </tr>\n",
       "    <tr>\n",
       "      <th></th>\n",
       "      <th>mean</th>\n",
       "      <th>median</th>\n",
       "      <th>count</th>\n",
       "    </tr>\n",
       "    <tr>\n",
       "      <th>Initial</th>\n",
       "      <th></th>\n",
       "      <th></th>\n",
       "      <th></th>\n",
       "    </tr>\n",
       "  </thead>\n",
       "  <tbody>\n",
       "    <tr>\n",
       "      <th>0.0</th>\n",
       "      <td>32.252151</td>\n",
       "      <td>29.0</td>\n",
       "      <td>581</td>\n",
       "    </tr>\n",
       "    <tr>\n",
       "      <th>1.0</th>\n",
       "      <td>21.774238</td>\n",
       "      <td>22.0</td>\n",
       "      <td>210</td>\n",
       "    </tr>\n",
       "    <tr>\n",
       "      <th>2.0</th>\n",
       "      <td>36.994118</td>\n",
       "      <td>35.5</td>\n",
       "      <td>170</td>\n",
       "    </tr>\n",
       "    <tr>\n",
       "      <th>3.0</th>\n",
       "      <td>5.482642</td>\n",
       "      <td>4.0</td>\n",
       "      <td>53</td>\n",
       "    </tr>\n",
       "    <tr>\n",
       "      <th>4.0</th>\n",
       "      <td>30.166667</td>\n",
       "      <td>26.0</td>\n",
       "      <td>6</td>\n",
       "    </tr>\n",
       "    <tr>\n",
       "      <th>5.0</th>\n",
       "      <td>40.000000</td>\n",
       "      <td>40.0</td>\n",
       "      <td>1</td>\n",
       "    </tr>\n",
       "    <tr>\n",
       "      <th>6.0</th>\n",
       "      <td>41.250000</td>\n",
       "      <td>41.5</td>\n",
       "      <td>8</td>\n",
       "    </tr>\n",
       "    <tr>\n",
       "      <th>7.0</th>\n",
       "      <td>43.571429</td>\n",
       "      <td>49.0</td>\n",
       "      <td>7</td>\n",
       "    </tr>\n",
       "    <tr>\n",
       "      <th>8.0</th>\n",
       "      <td>48.500000</td>\n",
       "      <td>48.5</td>\n",
       "      <td>2</td>\n",
       "    </tr>\n",
       "    <tr>\n",
       "      <th>9.0</th>\n",
       "      <td>49.000000</td>\n",
       "      <td>49.0</td>\n",
       "      <td>1</td>\n",
       "    </tr>\n",
       "    <tr>\n",
       "      <th>10.0</th>\n",
       "      <td>54.000000</td>\n",
       "      <td>54.5</td>\n",
       "      <td>4</td>\n",
       "    </tr>\n",
       "    <tr>\n",
       "      <th>11.0</th>\n",
       "      <td>70.000000</td>\n",
       "      <td>70.0</td>\n",
       "      <td>1</td>\n",
       "    </tr>\n",
       "    <tr>\n",
       "      <th>12.0</th>\n",
       "      <td>38.000000</td>\n",
       "      <td>38.0</td>\n",
       "      <td>1</td>\n",
       "    </tr>\n",
       "  </tbody>\n",
       "</table>\n",
       "</div>"
      ],
      "text/plain": [
       "               Age             \n",
       "              mean median count\n",
       "Initial                        \n",
       "0.0      32.252151   29.0   581\n",
       "1.0      21.774238   22.0   210\n",
       "2.0      36.994118   35.5   170\n",
       "3.0       5.482642    4.0    53\n",
       "4.0      30.166667   26.0     6\n",
       "5.0      40.000000   40.0     1\n",
       "6.0      41.250000   41.5     8\n",
       "7.0      43.571429   49.0     7\n",
       "8.0      48.500000   48.5     2\n",
       "9.0      49.000000   49.0     1\n",
       "10.0     54.000000   54.5     4\n",
       "11.0     70.000000   70.0     1\n",
       "12.0     38.000000   38.0     1"
      ]
     },
     "execution_count": 185,
     "metadata": {},
     "output_type": "execute_result"
    }
   ],
   "source": [
    "df.groupby(\"Initial\").agg({'Age': [\"mean\", \"median\", \"count\"]})"
   ]
  },
  {
   "cell_type": "code",
   "execution_count": 186,
   "id": "79872000-9bed-4eea-8621-e744e60b4d34",
   "metadata": {},
   "outputs": [
    {
     "name": "stderr",
     "output_type": "stream",
     "text": [
      "C:\\Users\\rladm\\AppData\\Local\\Temp\\ipykernel_15380\\2495128880.py:1: FutureWarning:\n",
      "\n",
      "A value is trying to be set on a copy of a DataFrame or Series through chained assignment using an inplace method.\n",
      "The behavior will change in pandas 3.0. This inplace method will never work because the intermediate object on which we are setting values always behaves as a copy.\n",
      "\n",
      "For example, when doing 'df[col].method(value, inplace=True)', try using 'df.method({col: value}, inplace=True)' or df[col] = df[col].method(value) instead, to perform the operation inplace on the original object.\n",
      "\n",
      "\n",
      "\n"
     ]
    }
   ],
   "source": [
    "df[\"Age\"].fillna(df.groupby(\"Initial\")[\"Age\"].transform(\"median\"), inplace=True)"
   ]
  },
  {
   "cell_type": "code",
   "execution_count": 187,
   "id": "8b21fab8-7f43-4d5a-914c-f43145800902",
   "metadata": {},
   "outputs": [
    {
     "data": {
      "text/html": [
       "<div>\n",
       "<style scoped>\n",
       "    .dataframe tbody tr th:only-of-type {\n",
       "        vertical-align: middle;\n",
       "    }\n",
       "\n",
       "    .dataframe tbody tr th {\n",
       "        vertical-align: top;\n",
       "    }\n",
       "\n",
       "    .dataframe thead th {\n",
       "        text-align: right;\n",
       "    }\n",
       "</style>\n",
       "<table border=\"1\" class=\"dataframe\">\n",
       "  <thead>\n",
       "    <tr style=\"text-align: right;\">\n",
       "      <th></th>\n",
       "      <th>PassengerId</th>\n",
       "      <th>Survived</th>\n",
       "      <th>Pclass</th>\n",
       "      <th>Sex</th>\n",
       "      <th>Age</th>\n",
       "      <th>SibSp</th>\n",
       "      <th>Parch</th>\n",
       "      <th>Ticket</th>\n",
       "      <th>Fare</th>\n",
       "      <th>Cabin</th>\n",
       "      <th>Embarked</th>\n",
       "      <th>Initial</th>\n",
       "    </tr>\n",
       "  </thead>\n",
       "  <tbody>\n",
       "    <tr>\n",
       "      <th>0</th>\n",
       "      <td>1</td>\n",
       "      <td>0.0</td>\n",
       "      <td>3</td>\n",
       "      <td>0</td>\n",
       "      <td>22.0</td>\n",
       "      <td>1</td>\n",
       "      <td>0</td>\n",
       "      <td>A/5 21171</td>\n",
       "      <td>7.2500</td>\n",
       "      <td>NaN</td>\n",
       "      <td>0</td>\n",
       "      <td>0.0</td>\n",
       "    </tr>\n",
       "    <tr>\n",
       "      <th>1</th>\n",
       "      <td>2</td>\n",
       "      <td>1.0</td>\n",
       "      <td>1</td>\n",
       "      <td>1</td>\n",
       "      <td>38.0</td>\n",
       "      <td>1</td>\n",
       "      <td>0</td>\n",
       "      <td>PC 17599</td>\n",
       "      <td>71.2833</td>\n",
       "      <td>C85</td>\n",
       "      <td>1</td>\n",
       "      <td>2.0</td>\n",
       "    </tr>\n",
       "    <tr>\n",
       "      <th>2</th>\n",
       "      <td>3</td>\n",
       "      <td>1.0</td>\n",
       "      <td>3</td>\n",
       "      <td>1</td>\n",
       "      <td>26.0</td>\n",
       "      <td>0</td>\n",
       "      <td>0</td>\n",
       "      <td>STON/O2. 3101282</td>\n",
       "      <td>7.9250</td>\n",
       "      <td>NaN</td>\n",
       "      <td>0</td>\n",
       "      <td>1.0</td>\n",
       "    </tr>\n",
       "    <tr>\n",
       "      <th>3</th>\n",
       "      <td>4</td>\n",
       "      <td>1.0</td>\n",
       "      <td>1</td>\n",
       "      <td>1</td>\n",
       "      <td>35.0</td>\n",
       "      <td>1</td>\n",
       "      <td>0</td>\n",
       "      <td>113803</td>\n",
       "      <td>53.1000</td>\n",
       "      <td>C123</td>\n",
       "      <td>0</td>\n",
       "      <td>2.0</td>\n",
       "    </tr>\n",
       "    <tr>\n",
       "      <th>4</th>\n",
       "      <td>5</td>\n",
       "      <td>0.0</td>\n",
       "      <td>3</td>\n",
       "      <td>0</td>\n",
       "      <td>35.0</td>\n",
       "      <td>0</td>\n",
       "      <td>0</td>\n",
       "      <td>373450</td>\n",
       "      <td>8.0500</td>\n",
       "      <td>NaN</td>\n",
       "      <td>0</td>\n",
       "      <td>0.0</td>\n",
       "    </tr>\n",
       "  </tbody>\n",
       "</table>\n",
       "</div>"
      ],
      "text/plain": [
       "   PassengerId  Survived  Pclass  Sex   Age  SibSp  Parch            Ticket  \\\n",
       "0            1       0.0       3    0  22.0      1      0         A/5 21171   \n",
       "1            2       1.0       1    1  38.0      1      0          PC 17599   \n",
       "2            3       1.0       3    1  26.0      0      0  STON/O2. 3101282   \n",
       "3            4       1.0       1    1  35.0      1      0            113803   \n",
       "4            5       0.0       3    0  35.0      0      0            373450   \n",
       "\n",
       "      Fare Cabin  Embarked  Initial  \n",
       "0   7.2500   NaN         0      0.0  \n",
       "1  71.2833   C85         1      2.0  \n",
       "2   7.9250   NaN         0      1.0  \n",
       "3  53.1000  C123         0      2.0  \n",
       "4   8.0500   NaN         0      0.0  "
      ]
     },
     "execution_count": 187,
     "metadata": {},
     "output_type": "execute_result"
    }
   ],
   "source": [
    "df.head()"
   ]
  },
  {
   "cell_type": "code",
   "execution_count": 188,
   "id": "e0a23ba3-6572-4d25-99e8-32ae5e17e74b",
   "metadata": {},
   "outputs": [
    {
     "data": {
      "text/plain": [
       "np.int64(0)"
      ]
     },
     "execution_count": 188,
     "metadata": {},
     "output_type": "execute_result"
    }
   ],
   "source": [
    "df[\"Age\"].isnull().sum()"
   ]
  },
  {
   "cell_type": "markdown",
   "id": "2aeccb16-76e0-4a37-ab3c-6cdf24b26768",
   "metadata": {},
   "source": [
    "#### 그래프로 확인\n",
    "- 20세 이하일 경우 생존률이 높음\n",
    "- 중간층의 사망률이 높음"
   ]
  },
  {
   "cell_type": "code",
   "execution_count": 189,
   "id": "980b2212-caf2-4dd7-a1e4-26bd1b553de3",
   "metadata": {},
   "outputs": [
    {
     "data": {
      "application/vnd.plotly.v1+json": {
       "config": {
        "plotlyServerURL": "https://plot.ly"
       },
       "data": [
        {
         "alignmentgroup": "True",
         "box": {
          "visible": false
         },
         "hovertemplate": "Survived=0.0<br>Age=%{y}<extra></extra>",
         "legendgroup": "0.0",
         "marker": {
          "color": "#636efa"
         },
         "name": "0.0",
         "offsetgroup": "0.0",
         "orientation": "v",
         "scalegroup": "True",
         "showlegend": true,
         "type": "violin",
         "x0": " ",
         "xaxis": "x",
         "y": [
          22,
          35,
          29,
          54,
          2,
          20,
          39,
          14,
          2,
          31,
          35,
          8,
          29,
          19,
          29,
          40,
          66,
          28,
          42,
          21,
          18,
          40,
          27,
          29,
          29,
          29,
          29,
          18,
          7,
          21,
          65,
          28.5,
          11,
          22,
          45,
          4,
          29,
          19,
          26,
          32,
          16,
          21,
          26,
          25,
          29,
          29,
          22,
          28,
          16,
          29,
          24,
          29,
          20,
          46,
          26,
          59,
          29,
          71,
          34,
          28,
          29,
          21,
          33,
          37,
          28,
          38,
          47,
          14.5,
          22,
          20,
          17,
          21,
          70.5,
          29,
          24,
          2,
          21,
          29,
          32.5,
          54,
          29,
          45,
          33,
          20,
          47,
          25,
          23,
          37,
          16,
          24,
          35.5,
          19,
          18,
          19,
          9,
          36.5,
          42,
          51,
          55.5,
          40.5,
          29,
          51,
          30,
          29,
          4,
          44,
          26,
          17,
          1,
          45,
          29,
          28,
          61,
          4,
          21,
          56,
          18,
          4,
          50,
          30,
          36,
          22,
          29,
          9,
          29,
          40,
          36,
          19,
          29,
          42,
          24,
          28,
          29,
          34,
          45.5,
          2,
          32,
          24,
          22,
          30,
          29,
          42,
          30,
          27,
          51,
          29,
          22,
          20.5,
          18,
          22,
          29,
          59,
          24,
          22,
          44,
          19,
          33,
          22,
          29,
          22,
          30,
          44,
          25,
          54,
          29,
          29,
          62,
          30,
          41,
          29,
          52,
          40,
          22,
          36,
          16,
          29,
          37,
          45,
          29,
          7,
          65,
          28,
          16,
          29,
          33,
          22,
          36,
          24,
          24,
          29,
          23.5,
          2,
          19,
          29,
          30,
          26,
          28,
          43,
          54,
          22,
          27,
          29,
          61,
          45.5,
          38,
          16,
          29,
          29,
          45,
          28,
          25,
          36,
          42,
          23,
          29,
          15,
          25,
          29,
          28,
          38,
          40,
          29,
          45,
          35,
          29,
          30,
          18,
          19,
          22,
          3,
          27,
          20,
          19,
          32,
          29,
          18,
          1,
          29,
          28,
          22,
          31,
          46,
          23,
          26,
          21,
          28,
          20,
          34,
          51,
          21,
          22,
          29,
          29,
          29,
          35.5,
          30,
          10,
          29,
          21,
          29,
          28,
          18,
          29,
          29,
          17,
          50,
          21,
          64,
          31,
          20,
          25,
          36,
          29,
          30,
          29,
          65,
          29,
          34,
          47,
          48,
          29,
          38,
          29,
          56,
          29,
          29,
          38,
          22,
          29,
          34,
          29,
          22,
          9,
          29,
          50,
          22,
          58,
          30,
          29,
          21,
          55,
          71,
          21,
          29,
          29,
          25,
          24,
          17,
          21,
          22,
          37,
          18,
          28,
          29,
          24,
          47,
          29,
          32,
          22,
          29,
          29,
          40.5,
          29,
          39,
          23,
          29,
          17,
          30,
          45,
          29,
          9,
          11,
          50,
          64,
          33,
          27,
          29,
          62,
          29,
          29,
          40,
          28,
          29,
          22,
          24,
          19,
          29,
          29,
          16,
          19,
          35.5,
          54,
          36,
          29,
          47,
          22,
          29,
          35,
          47,
          22,
          37,
          36,
          49,
          29,
          29,
          29,
          44,
          36,
          30,
          39,
          29,
          29,
          35,
          34,
          26,
          26,
          27,
          21,
          21,
          61,
          57,
          26,
          29,
          51,
          29,
          9,
          32,
          31,
          41,
          29,
          20,
          2,
          19,
          29,
          29,
          21,
          18,
          24,
          29,
          32,
          23,
          58,
          40,
          47,
          36,
          32,
          25,
          29,
          43,
          31,
          70,
          29,
          18,
          24.5,
          43,
          22,
          20,
          14,
          60,
          25,
          14,
          19,
          18,
          25,
          60,
          52,
          44,
          49,
          42,
          18,
          25,
          26,
          39,
          29,
          29,
          52,
          19,
          29,
          33,
          17,
          34,
          50,
          20,
          25,
          25,
          11,
          29,
          23,
          23,
          28.5,
          48,
          29,
          29,
          36,
          24,
          70,
          16,
          19,
          31,
          33,
          23,
          28,
          18,
          34,
          29,
          41,
          16,
          49,
          30.5,
          29,
          32,
          24,
          48,
          57,
          29,
          18,
          29,
          29,
          29,
          29,
          25,
          25,
          8,
          46,
          29,
          16,
          22,
          29,
          25,
          39,
          30,
          30,
          34,
          31,
          39,
          18,
          39,
          26,
          39,
          35,
          6,
          30.5,
          29,
          23,
          31,
          43,
          10,
          38,
          2,
          29,
          29,
          29,
          23,
          18,
          21,
          29,
          20,
          16,
          34.5,
          17,
          42,
          29,
          35,
          28,
          4,
          74,
          9,
          44,
          29,
          41,
          21,
          22,
          24,
          31,
          29,
          26,
          33,
          47,
          20,
          19,
          29,
          33,
          22,
          28,
          25,
          39,
          27,
          22,
          32
         ],
         "y0": " ",
         "yaxis": "y"
        },
        {
         "alignmentgroup": "True",
         "box": {
          "visible": false
         },
         "hovertemplate": "Survived=1.0<br>Age=%{y}<extra></extra>",
         "legendgroup": "1.0",
         "marker": {
          "color": "#EF553B"
         },
         "name": "1.0",
         "offsetgroup": "1.0",
         "orientation": "v",
         "scalegroup": "True",
         "showlegend": true,
         "type": "violin",
         "x0": " ",
         "xaxis": "x",
         "y": [
          38,
          26,
          35,
          27,
          14,
          4,
          58,
          55,
          29,
          35.5,
          34,
          15,
          28,
          38,
          22,
          35.5,
          22,
          29,
          14,
          3,
          19,
          22,
          49,
          29,
          29,
          21,
          5,
          38,
          4,
          29,
          17,
          32,
          0.83,
          30,
          29,
          22,
          17,
          33,
          23,
          23,
          34,
          21,
          29,
          22,
          32.5,
          12,
          24,
          22,
          29,
          19,
          22,
          24,
          27,
          22,
          16,
          40,
          9,
          35.5,
          1,
          1,
          4,
          35.5,
          45,
          32,
          19,
          3,
          44,
          58,
          22,
          18,
          26,
          16,
          40,
          35,
          31,
          27,
          32,
          16,
          38,
          19,
          35,
          5,
          8,
          22,
          24,
          37,
          29,
          35.5,
          30,
          35,
          50,
          3,
          25,
          58,
          35,
          25,
          41,
          22,
          63,
          35,
          19,
          30,
          42,
          22,
          26,
          19,
          29,
          50,
          22,
          29,
          22,
          0.92,
          22,
          17,
          30,
          24,
          18,
          26,
          24,
          31,
          40,
          30,
          22,
          36,
          36,
          31,
          16,
          22,
          35.5,
          41,
          45,
          2,
          24,
          24,
          40,
          35.5,
          3,
          22,
          22,
          22,
          60,
          35.5,
          22,
          24,
          25,
          35.5,
          22,
          42,
          1,
          35,
          36,
          17,
          36,
          21,
          23,
          24,
          28,
          39,
          3,
          33,
          44,
          34,
          18,
          28,
          19,
          32,
          28,
          35.5,
          42,
          14,
          24,
          45,
          28,
          29,
          4,
          13,
          34,
          5,
          52,
          49,
          29,
          35.5,
          50,
          48,
          0.75,
          33,
          23,
          2,
          63,
          25,
          35,
          9,
          54,
          16,
          33,
          29,
          26,
          29,
          36,
          54,
          34,
          36,
          30,
          44,
          50,
          2,
          35.5,
          7,
          30,
          22,
          36,
          32,
          19,
          29,
          8,
          17,
          22,
          22,
          48,
          39,
          36,
          32,
          62,
          53,
          36,
          22,
          34,
          39,
          32,
          25,
          39,
          18,
          60,
          52,
          22,
          49,
          24,
          35,
          27,
          22,
          40,
          22,
          24,
          4,
          42,
          20,
          21,
          80,
          32,
          28,
          24,
          29,
          0.75,
          48,
          56,
          23,
          18,
          22,
          50,
          20,
          35.5,
          40,
          31,
          18,
          36,
          27,
          15,
          31,
          4,
          29,
          22,
          18,
          35,
          45,
          42,
          22,
          4,
          24,
          48,
          38,
          27,
          6,
          27,
          30,
          22,
          29,
          35,
          29,
          21,
          31,
          30,
          4,
          6,
          48,
          0.67,
          33,
          20,
          36,
          51,
          54,
          5,
          43,
          13,
          17,
          18,
          1,
          49,
          31,
          31,
          11,
          0.42,
          27,
          33,
          52,
          27,
          27,
          1,
          29,
          62,
          15,
          0.83,
          39,
          32,
          29,
          30,
          35.5,
          16,
          18,
          45,
          51,
          24,
          48,
          42,
          27,
          4,
          47,
          28,
          15,
          56,
          25,
          19,
          26
         ],
         "y0": " ",
         "yaxis": "y"
        }
       ],
       "layout": {
        "legend": {
         "title": {
          "text": "Survived"
         },
         "tracegroupgap": 0
        },
        "margin": {
         "t": 60
        },
        "template": {
         "data": {
          "bar": [
           {
            "error_x": {
             "color": "#2a3f5f"
            },
            "error_y": {
             "color": "#2a3f5f"
            },
            "marker": {
             "line": {
              "color": "#E5ECF6",
              "width": 0.5
             },
             "pattern": {
              "fillmode": "overlay",
              "size": 10,
              "solidity": 0.2
             }
            },
            "type": "bar"
           }
          ],
          "barpolar": [
           {
            "marker": {
             "line": {
              "color": "#E5ECF6",
              "width": 0.5
             },
             "pattern": {
              "fillmode": "overlay",
              "size": 10,
              "solidity": 0.2
             }
            },
            "type": "barpolar"
           }
          ],
          "carpet": [
           {
            "aaxis": {
             "endlinecolor": "#2a3f5f",
             "gridcolor": "white",
             "linecolor": "white",
             "minorgridcolor": "white",
             "startlinecolor": "#2a3f5f"
            },
            "baxis": {
             "endlinecolor": "#2a3f5f",
             "gridcolor": "white",
             "linecolor": "white",
             "minorgridcolor": "white",
             "startlinecolor": "#2a3f5f"
            },
            "type": "carpet"
           }
          ],
          "choropleth": [
           {
            "colorbar": {
             "outlinewidth": 0,
             "ticks": ""
            },
            "type": "choropleth"
           }
          ],
          "contour": [
           {
            "colorbar": {
             "outlinewidth": 0,
             "ticks": ""
            },
            "colorscale": [
             [
              0,
              "#0d0887"
             ],
             [
              0.1111111111111111,
              "#46039f"
             ],
             [
              0.2222222222222222,
              "#7201a8"
             ],
             [
              0.3333333333333333,
              "#9c179e"
             ],
             [
              0.4444444444444444,
              "#bd3786"
             ],
             [
              0.5555555555555556,
              "#d8576b"
             ],
             [
              0.6666666666666666,
              "#ed7953"
             ],
             [
              0.7777777777777778,
              "#fb9f3a"
             ],
             [
              0.8888888888888888,
              "#fdca26"
             ],
             [
              1,
              "#f0f921"
             ]
            ],
            "type": "contour"
           }
          ],
          "contourcarpet": [
           {
            "colorbar": {
             "outlinewidth": 0,
             "ticks": ""
            },
            "type": "contourcarpet"
           }
          ],
          "heatmap": [
           {
            "colorbar": {
             "outlinewidth": 0,
             "ticks": ""
            },
            "colorscale": [
             [
              0,
              "#0d0887"
             ],
             [
              0.1111111111111111,
              "#46039f"
             ],
             [
              0.2222222222222222,
              "#7201a8"
             ],
             [
              0.3333333333333333,
              "#9c179e"
             ],
             [
              0.4444444444444444,
              "#bd3786"
             ],
             [
              0.5555555555555556,
              "#d8576b"
             ],
             [
              0.6666666666666666,
              "#ed7953"
             ],
             [
              0.7777777777777778,
              "#fb9f3a"
             ],
             [
              0.8888888888888888,
              "#fdca26"
             ],
             [
              1,
              "#f0f921"
             ]
            ],
            "type": "heatmap"
           }
          ],
          "heatmapgl": [
           {
            "colorbar": {
             "outlinewidth": 0,
             "ticks": ""
            },
            "colorscale": [
             [
              0,
              "#0d0887"
             ],
             [
              0.1111111111111111,
              "#46039f"
             ],
             [
              0.2222222222222222,
              "#7201a8"
             ],
             [
              0.3333333333333333,
              "#9c179e"
             ],
             [
              0.4444444444444444,
              "#bd3786"
             ],
             [
              0.5555555555555556,
              "#d8576b"
             ],
             [
              0.6666666666666666,
              "#ed7953"
             ],
             [
              0.7777777777777778,
              "#fb9f3a"
             ],
             [
              0.8888888888888888,
              "#fdca26"
             ],
             [
              1,
              "#f0f921"
             ]
            ],
            "type": "heatmapgl"
           }
          ],
          "histogram": [
           {
            "marker": {
             "pattern": {
              "fillmode": "overlay",
              "size": 10,
              "solidity": 0.2
             }
            },
            "type": "histogram"
           }
          ],
          "histogram2d": [
           {
            "colorbar": {
             "outlinewidth": 0,
             "ticks": ""
            },
            "colorscale": [
             [
              0,
              "#0d0887"
             ],
             [
              0.1111111111111111,
              "#46039f"
             ],
             [
              0.2222222222222222,
              "#7201a8"
             ],
             [
              0.3333333333333333,
              "#9c179e"
             ],
             [
              0.4444444444444444,
              "#bd3786"
             ],
             [
              0.5555555555555556,
              "#d8576b"
             ],
             [
              0.6666666666666666,
              "#ed7953"
             ],
             [
              0.7777777777777778,
              "#fb9f3a"
             ],
             [
              0.8888888888888888,
              "#fdca26"
             ],
             [
              1,
              "#f0f921"
             ]
            ],
            "type": "histogram2d"
           }
          ],
          "histogram2dcontour": [
           {
            "colorbar": {
             "outlinewidth": 0,
             "ticks": ""
            },
            "colorscale": [
             [
              0,
              "#0d0887"
             ],
             [
              0.1111111111111111,
              "#46039f"
             ],
             [
              0.2222222222222222,
              "#7201a8"
             ],
             [
              0.3333333333333333,
              "#9c179e"
             ],
             [
              0.4444444444444444,
              "#bd3786"
             ],
             [
              0.5555555555555556,
              "#d8576b"
             ],
             [
              0.6666666666666666,
              "#ed7953"
             ],
             [
              0.7777777777777778,
              "#fb9f3a"
             ],
             [
              0.8888888888888888,
              "#fdca26"
             ],
             [
              1,
              "#f0f921"
             ]
            ],
            "type": "histogram2dcontour"
           }
          ],
          "mesh3d": [
           {
            "colorbar": {
             "outlinewidth": 0,
             "ticks": ""
            },
            "type": "mesh3d"
           }
          ],
          "parcoords": [
           {
            "line": {
             "colorbar": {
              "outlinewidth": 0,
              "ticks": ""
             }
            },
            "type": "parcoords"
           }
          ],
          "pie": [
           {
            "automargin": true,
            "type": "pie"
           }
          ],
          "scatter": [
           {
            "fillpattern": {
             "fillmode": "overlay",
             "size": 10,
             "solidity": 0.2
            },
            "type": "scatter"
           }
          ],
          "scatter3d": [
           {
            "line": {
             "colorbar": {
              "outlinewidth": 0,
              "ticks": ""
             }
            },
            "marker": {
             "colorbar": {
              "outlinewidth": 0,
              "ticks": ""
             }
            },
            "type": "scatter3d"
           }
          ],
          "scattercarpet": [
           {
            "marker": {
             "colorbar": {
              "outlinewidth": 0,
              "ticks": ""
             }
            },
            "type": "scattercarpet"
           }
          ],
          "scattergeo": [
           {
            "marker": {
             "colorbar": {
              "outlinewidth": 0,
              "ticks": ""
             }
            },
            "type": "scattergeo"
           }
          ],
          "scattergl": [
           {
            "marker": {
             "colorbar": {
              "outlinewidth": 0,
              "ticks": ""
             }
            },
            "type": "scattergl"
           }
          ],
          "scattermapbox": [
           {
            "marker": {
             "colorbar": {
              "outlinewidth": 0,
              "ticks": ""
             }
            },
            "type": "scattermapbox"
           }
          ],
          "scatterpolar": [
           {
            "marker": {
             "colorbar": {
              "outlinewidth": 0,
              "ticks": ""
             }
            },
            "type": "scatterpolar"
           }
          ],
          "scatterpolargl": [
           {
            "marker": {
             "colorbar": {
              "outlinewidth": 0,
              "ticks": ""
             }
            },
            "type": "scatterpolargl"
           }
          ],
          "scatterternary": [
           {
            "marker": {
             "colorbar": {
              "outlinewidth": 0,
              "ticks": ""
             }
            },
            "type": "scatterternary"
           }
          ],
          "surface": [
           {
            "colorbar": {
             "outlinewidth": 0,
             "ticks": ""
            },
            "colorscale": [
             [
              0,
              "#0d0887"
             ],
             [
              0.1111111111111111,
              "#46039f"
             ],
             [
              0.2222222222222222,
              "#7201a8"
             ],
             [
              0.3333333333333333,
              "#9c179e"
             ],
             [
              0.4444444444444444,
              "#bd3786"
             ],
             [
              0.5555555555555556,
              "#d8576b"
             ],
             [
              0.6666666666666666,
              "#ed7953"
             ],
             [
              0.7777777777777778,
              "#fb9f3a"
             ],
             [
              0.8888888888888888,
              "#fdca26"
             ],
             [
              1,
              "#f0f921"
             ]
            ],
            "type": "surface"
           }
          ],
          "table": [
           {
            "cells": {
             "fill": {
              "color": "#EBF0F8"
             },
             "line": {
              "color": "white"
             }
            },
            "header": {
             "fill": {
              "color": "#C8D4E3"
             },
             "line": {
              "color": "white"
             }
            },
            "type": "table"
           }
          ]
         },
         "layout": {
          "annotationdefaults": {
           "arrowcolor": "#2a3f5f",
           "arrowhead": 0,
           "arrowwidth": 1
          },
          "autotypenumbers": "strict",
          "coloraxis": {
           "colorbar": {
            "outlinewidth": 0,
            "ticks": ""
           }
          },
          "colorscale": {
           "diverging": [
            [
             0,
             "#8e0152"
            ],
            [
             0.1,
             "#c51b7d"
            ],
            [
             0.2,
             "#de77ae"
            ],
            [
             0.3,
             "#f1b6da"
            ],
            [
             0.4,
             "#fde0ef"
            ],
            [
             0.5,
             "#f7f7f7"
            ],
            [
             0.6,
             "#e6f5d0"
            ],
            [
             0.7,
             "#b8e186"
            ],
            [
             0.8,
             "#7fbc41"
            ],
            [
             0.9,
             "#4d9221"
            ],
            [
             1,
             "#276419"
            ]
           ],
           "sequential": [
            [
             0,
             "#0d0887"
            ],
            [
             0.1111111111111111,
             "#46039f"
            ],
            [
             0.2222222222222222,
             "#7201a8"
            ],
            [
             0.3333333333333333,
             "#9c179e"
            ],
            [
             0.4444444444444444,
             "#bd3786"
            ],
            [
             0.5555555555555556,
             "#d8576b"
            ],
            [
             0.6666666666666666,
             "#ed7953"
            ],
            [
             0.7777777777777778,
             "#fb9f3a"
            ],
            [
             0.8888888888888888,
             "#fdca26"
            ],
            [
             1,
             "#f0f921"
            ]
           ],
           "sequentialminus": [
            [
             0,
             "#0d0887"
            ],
            [
             0.1111111111111111,
             "#46039f"
            ],
            [
             0.2222222222222222,
             "#7201a8"
            ],
            [
             0.3333333333333333,
             "#9c179e"
            ],
            [
             0.4444444444444444,
             "#bd3786"
            ],
            [
             0.5555555555555556,
             "#d8576b"
            ],
            [
             0.6666666666666666,
             "#ed7953"
            ],
            [
             0.7777777777777778,
             "#fb9f3a"
            ],
            [
             0.8888888888888888,
             "#fdca26"
            ],
            [
             1,
             "#f0f921"
            ]
           ]
          },
          "colorway": [
           "#636efa",
           "#EF553B",
           "#00cc96",
           "#ab63fa",
           "#FFA15A",
           "#19d3f3",
           "#FF6692",
           "#B6E880",
           "#FF97FF",
           "#FECB52"
          ],
          "font": {
           "color": "#2a3f5f"
          },
          "geo": {
           "bgcolor": "white",
           "lakecolor": "white",
           "landcolor": "#E5ECF6",
           "showlakes": true,
           "showland": true,
           "subunitcolor": "white"
          },
          "hoverlabel": {
           "align": "left"
          },
          "hovermode": "closest",
          "mapbox": {
           "style": "light"
          },
          "paper_bgcolor": "white",
          "plot_bgcolor": "#E5ECF6",
          "polar": {
           "angularaxis": {
            "gridcolor": "white",
            "linecolor": "white",
            "ticks": ""
           },
           "bgcolor": "#E5ECF6",
           "radialaxis": {
            "gridcolor": "white",
            "linecolor": "white",
            "ticks": ""
           }
          },
          "scene": {
           "xaxis": {
            "backgroundcolor": "#E5ECF6",
            "gridcolor": "white",
            "gridwidth": 2,
            "linecolor": "white",
            "showbackground": true,
            "ticks": "",
            "zerolinecolor": "white"
           },
           "yaxis": {
            "backgroundcolor": "#E5ECF6",
            "gridcolor": "white",
            "gridwidth": 2,
            "linecolor": "white",
            "showbackground": true,
            "ticks": "",
            "zerolinecolor": "white"
           },
           "zaxis": {
            "backgroundcolor": "#E5ECF6",
            "gridcolor": "white",
            "gridwidth": 2,
            "linecolor": "white",
            "showbackground": true,
            "ticks": "",
            "zerolinecolor": "white"
           }
          },
          "shapedefaults": {
           "line": {
            "color": "#2a3f5f"
           }
          },
          "ternary": {
           "aaxis": {
            "gridcolor": "white",
            "linecolor": "white",
            "ticks": ""
           },
           "baxis": {
            "gridcolor": "white",
            "linecolor": "white",
            "ticks": ""
           },
           "bgcolor": "#E5ECF6",
           "caxis": {
            "gridcolor": "white",
            "linecolor": "white",
            "ticks": ""
           }
          },
          "title": {
           "x": 0.05
          },
          "xaxis": {
           "automargin": true,
           "gridcolor": "white",
           "linecolor": "white",
           "ticks": "",
           "title": {
            "standoff": 15
           },
           "zerolinecolor": "white",
           "zerolinewidth": 2
          },
          "yaxis": {
           "automargin": true,
           "gridcolor": "white",
           "linecolor": "white",
           "ticks": "",
           "title": {
            "standoff": 15
           },
           "zerolinecolor": "white",
           "zerolinewidth": 2
          }
         }
        },
        "violinmode": "overlay",
        "xaxis": {
         "anchor": "y",
         "domain": [
          0,
          1
         ]
        },
        "yaxis": {
         "anchor": "x",
         "domain": [
          0,
          1
         ],
         "title": {
          "text": "Age"
         }
        }
       }
      },
      "text/html": [
       "<div>                            <div id=\"e101c27a-bdf5-472d-adbd-64c6a6dded08\" class=\"plotly-graph-div\" style=\"height:525px; width:100%;\"></div>            <script type=\"text/javascript\">                require([\"plotly\"], function(Plotly) {                    window.PLOTLYENV=window.PLOTLYENV || {};                                    if (document.getElementById(\"e101c27a-bdf5-472d-adbd-64c6a6dded08\")) {                    Plotly.newPlot(                        \"e101c27a-bdf5-472d-adbd-64c6a6dded08\",                        [{\"alignmentgroup\":\"True\",\"box\":{\"visible\":false},\"hovertemplate\":\"Survived=0.0\\u003cbr\\u003eAge=%{y}\\u003cextra\\u003e\\u003c\\u002fextra\\u003e\",\"legendgroup\":\"0.0\",\"marker\":{\"color\":\"#636efa\"},\"name\":\"0.0\",\"offsetgroup\":\"0.0\",\"orientation\":\"v\",\"scalegroup\":\"True\",\"showlegend\":true,\"x0\":\" \",\"xaxis\":\"x\",\"y\":[22.0,35.0,29.0,54.0,2.0,20.0,39.0,14.0,2.0,31.0,35.0,8.0,29.0,19.0,29.0,40.0,66.0,28.0,42.0,21.0,18.0,40.0,27.0,29.0,29.0,29.0,29.0,18.0,7.0,21.0,65.0,28.5,11.0,22.0,45.0,4.0,29.0,19.0,26.0,32.0,16.0,21.0,26.0,25.0,29.0,29.0,22.0,28.0,16.0,29.0,24.0,29.0,20.0,46.0,26.0,59.0,29.0,71.0,34.0,28.0,29.0,21.0,33.0,37.0,28.0,38.0,47.0,14.5,22.0,20.0,17.0,21.0,70.5,29.0,24.0,2.0,21.0,29.0,32.5,54.0,29.0,45.0,33.0,20.0,47.0,25.0,23.0,37.0,16.0,24.0,35.5,19.0,18.0,19.0,9.0,36.5,42.0,51.0,55.5,40.5,29.0,51.0,30.0,29.0,4.0,44.0,26.0,17.0,1.0,45.0,29.0,28.0,61.0,4.0,21.0,56.0,18.0,4.0,50.0,30.0,36.0,22.0,29.0,9.0,29.0,40.0,36.0,19.0,29.0,42.0,24.0,28.0,29.0,34.0,45.5,2.0,32.0,24.0,22.0,30.0,29.0,42.0,30.0,27.0,51.0,29.0,22.0,20.5,18.0,22.0,29.0,59.0,24.0,22.0,44.0,19.0,33.0,22.0,29.0,22.0,30.0,44.0,25.0,54.0,29.0,29.0,62.0,30.0,41.0,29.0,52.0,40.0,22.0,36.0,16.0,29.0,37.0,45.0,29.0,7.0,65.0,28.0,16.0,29.0,33.0,22.0,36.0,24.0,24.0,29.0,23.5,2.0,19.0,29.0,30.0,26.0,28.0,43.0,54.0,22.0,27.0,29.0,61.0,45.5,38.0,16.0,29.0,29.0,45.0,28.0,25.0,36.0,42.0,23.0,29.0,15.0,25.0,29.0,28.0,38.0,40.0,29.0,45.0,35.0,29.0,30.0,18.0,19.0,22.0,3.0,27.0,20.0,19.0,32.0,29.0,18.0,1.0,29.0,28.0,22.0,31.0,46.0,23.0,26.0,21.0,28.0,20.0,34.0,51.0,21.0,22.0,29.0,29.0,29.0,35.5,30.0,10.0,29.0,21.0,29.0,28.0,18.0,29.0,29.0,17.0,50.0,21.0,64.0,31.0,20.0,25.0,36.0,29.0,30.0,29.0,65.0,29.0,34.0,47.0,48.0,29.0,38.0,29.0,56.0,29.0,29.0,38.0,22.0,29.0,34.0,29.0,22.0,9.0,29.0,50.0,22.0,58.0,30.0,29.0,21.0,55.0,71.0,21.0,29.0,29.0,25.0,24.0,17.0,21.0,22.0,37.0,18.0,28.0,29.0,24.0,47.0,29.0,32.0,22.0,29.0,29.0,40.5,29.0,39.0,23.0,29.0,17.0,30.0,45.0,29.0,9.0,11.0,50.0,64.0,33.0,27.0,29.0,62.0,29.0,29.0,40.0,28.0,29.0,22.0,24.0,19.0,29.0,29.0,16.0,19.0,35.5,54.0,36.0,29.0,47.0,22.0,29.0,35.0,47.0,22.0,37.0,36.0,49.0,29.0,29.0,29.0,44.0,36.0,30.0,39.0,29.0,29.0,35.0,34.0,26.0,26.0,27.0,21.0,21.0,61.0,57.0,26.0,29.0,51.0,29.0,9.0,32.0,31.0,41.0,29.0,20.0,2.0,19.0,29.0,29.0,21.0,18.0,24.0,29.0,32.0,23.0,58.0,40.0,47.0,36.0,32.0,25.0,29.0,43.0,31.0,70.0,29.0,18.0,24.5,43.0,22.0,20.0,14.0,60.0,25.0,14.0,19.0,18.0,25.0,60.0,52.0,44.0,49.0,42.0,18.0,25.0,26.0,39.0,29.0,29.0,52.0,19.0,29.0,33.0,17.0,34.0,50.0,20.0,25.0,25.0,11.0,29.0,23.0,23.0,28.5,48.0,29.0,29.0,36.0,24.0,70.0,16.0,19.0,31.0,33.0,23.0,28.0,18.0,34.0,29.0,41.0,16.0,49.0,30.5,29.0,32.0,24.0,48.0,57.0,29.0,18.0,29.0,29.0,29.0,29.0,25.0,25.0,8.0,46.0,29.0,16.0,22.0,29.0,25.0,39.0,30.0,30.0,34.0,31.0,39.0,18.0,39.0,26.0,39.0,35.0,6.0,30.5,29.0,23.0,31.0,43.0,10.0,38.0,2.0,29.0,29.0,29.0,23.0,18.0,21.0,29.0,20.0,16.0,34.5,17.0,42.0,29.0,35.0,28.0,4.0,74.0,9.0,44.0,29.0,41.0,21.0,22.0,24.0,31.0,29.0,26.0,33.0,47.0,20.0,19.0,29.0,33.0,22.0,28.0,25.0,39.0,27.0,22.0,32.0],\"y0\":\" \",\"yaxis\":\"y\",\"type\":\"violin\"},{\"alignmentgroup\":\"True\",\"box\":{\"visible\":false},\"hovertemplate\":\"Survived=1.0\\u003cbr\\u003eAge=%{y}\\u003cextra\\u003e\\u003c\\u002fextra\\u003e\",\"legendgroup\":\"1.0\",\"marker\":{\"color\":\"#EF553B\"},\"name\":\"1.0\",\"offsetgroup\":\"1.0\",\"orientation\":\"v\",\"scalegroup\":\"True\",\"showlegend\":true,\"x0\":\" \",\"xaxis\":\"x\",\"y\":[38.0,26.0,35.0,27.0,14.0,4.0,58.0,55.0,29.0,35.5,34.0,15.0,28.0,38.0,22.0,35.5,22.0,29.0,14.0,3.0,19.0,22.0,49.0,29.0,29.0,21.0,5.0,38.0,4.0,29.0,17.0,32.0,0.83,30.0,29.0,22.0,17.0,33.0,23.0,23.0,34.0,21.0,29.0,22.0,32.5,12.0,24.0,22.0,29.0,19.0,22.0,24.0,27.0,22.0,16.0,40.0,9.0,35.5,1.0,1.0,4.0,35.5,45.0,32.0,19.0,3.0,44.0,58.0,22.0,18.0,26.0,16.0,40.0,35.0,31.0,27.0,32.0,16.0,38.0,19.0,35.0,5.0,8.0,22.0,24.0,37.0,29.0,35.5,30.0,35.0,50.0,3.0,25.0,58.0,35.0,25.0,41.0,22.0,63.0,35.0,19.0,30.0,42.0,22.0,26.0,19.0,29.0,50.0,22.0,29.0,22.0,0.92,22.0,17.0,30.0,24.0,18.0,26.0,24.0,31.0,40.0,30.0,22.0,36.0,36.0,31.0,16.0,22.0,35.5,41.0,45.0,2.0,24.0,24.0,40.0,35.5,3.0,22.0,22.0,22.0,60.0,35.5,22.0,24.0,25.0,35.5,22.0,42.0,1.0,35.0,36.0,17.0,36.0,21.0,23.0,24.0,28.0,39.0,3.0,33.0,44.0,34.0,18.0,28.0,19.0,32.0,28.0,35.5,42.0,14.0,24.0,45.0,28.0,29.0,4.0,13.0,34.0,5.0,52.0,49.0,29.0,35.5,50.0,48.0,0.75,33.0,23.0,2.0,63.0,25.0,35.0,9.0,54.0,16.0,33.0,29.0,26.0,29.0,36.0,54.0,34.0,36.0,30.0,44.0,50.0,2.0,35.5,7.0,30.0,22.0,36.0,32.0,19.0,29.0,8.0,17.0,22.0,22.0,48.0,39.0,36.0,32.0,62.0,53.0,36.0,22.0,34.0,39.0,32.0,25.0,39.0,18.0,60.0,52.0,22.0,49.0,24.0,35.0,27.0,22.0,40.0,22.0,24.0,4.0,42.0,20.0,21.0,80.0,32.0,28.0,24.0,29.0,0.75,48.0,56.0,23.0,18.0,22.0,50.0,20.0,35.5,40.0,31.0,18.0,36.0,27.0,15.0,31.0,4.0,29.0,22.0,18.0,35.0,45.0,42.0,22.0,4.0,24.0,48.0,38.0,27.0,6.0,27.0,30.0,22.0,29.0,35.0,29.0,21.0,31.0,30.0,4.0,6.0,48.0,0.67,33.0,20.0,36.0,51.0,54.0,5.0,43.0,13.0,17.0,18.0,1.0,49.0,31.0,31.0,11.0,0.42,27.0,33.0,52.0,27.0,27.0,1.0,29.0,62.0,15.0,0.83,39.0,32.0,29.0,30.0,35.5,16.0,18.0,45.0,51.0,24.0,48.0,42.0,27.0,4.0,47.0,28.0,15.0,56.0,25.0,19.0,26.0],\"y0\":\" \",\"yaxis\":\"y\",\"type\":\"violin\"}],                        {\"template\":{\"data\":{\"histogram2dcontour\":[{\"type\":\"histogram2dcontour\",\"colorbar\":{\"outlinewidth\":0,\"ticks\":\"\"},\"colorscale\":[[0.0,\"#0d0887\"],[0.1111111111111111,\"#46039f\"],[0.2222222222222222,\"#7201a8\"],[0.3333333333333333,\"#9c179e\"],[0.4444444444444444,\"#bd3786\"],[0.5555555555555556,\"#d8576b\"],[0.6666666666666666,\"#ed7953\"],[0.7777777777777778,\"#fb9f3a\"],[0.8888888888888888,\"#fdca26\"],[1.0,\"#f0f921\"]]}],\"choropleth\":[{\"type\":\"choropleth\",\"colorbar\":{\"outlinewidth\":0,\"ticks\":\"\"}}],\"histogram2d\":[{\"type\":\"histogram2d\",\"colorbar\":{\"outlinewidth\":0,\"ticks\":\"\"},\"colorscale\":[[0.0,\"#0d0887\"],[0.1111111111111111,\"#46039f\"],[0.2222222222222222,\"#7201a8\"],[0.3333333333333333,\"#9c179e\"],[0.4444444444444444,\"#bd3786\"],[0.5555555555555556,\"#d8576b\"],[0.6666666666666666,\"#ed7953\"],[0.7777777777777778,\"#fb9f3a\"],[0.8888888888888888,\"#fdca26\"],[1.0,\"#f0f921\"]]}],\"heatmap\":[{\"type\":\"heatmap\",\"colorbar\":{\"outlinewidth\":0,\"ticks\":\"\"},\"colorscale\":[[0.0,\"#0d0887\"],[0.1111111111111111,\"#46039f\"],[0.2222222222222222,\"#7201a8\"],[0.3333333333333333,\"#9c179e\"],[0.4444444444444444,\"#bd3786\"],[0.5555555555555556,\"#d8576b\"],[0.6666666666666666,\"#ed7953\"],[0.7777777777777778,\"#fb9f3a\"],[0.8888888888888888,\"#fdca26\"],[1.0,\"#f0f921\"]]}],\"heatmapgl\":[{\"type\":\"heatmapgl\",\"colorbar\":{\"outlinewidth\":0,\"ticks\":\"\"},\"colorscale\":[[0.0,\"#0d0887\"],[0.1111111111111111,\"#46039f\"],[0.2222222222222222,\"#7201a8\"],[0.3333333333333333,\"#9c179e\"],[0.4444444444444444,\"#bd3786\"],[0.5555555555555556,\"#d8576b\"],[0.6666666666666666,\"#ed7953\"],[0.7777777777777778,\"#fb9f3a\"],[0.8888888888888888,\"#fdca26\"],[1.0,\"#f0f921\"]]}],\"contourcarpet\":[{\"type\":\"contourcarpet\",\"colorbar\":{\"outlinewidth\":0,\"ticks\":\"\"}}],\"contour\":[{\"type\":\"contour\",\"colorbar\":{\"outlinewidth\":0,\"ticks\":\"\"},\"colorscale\":[[0.0,\"#0d0887\"],[0.1111111111111111,\"#46039f\"],[0.2222222222222222,\"#7201a8\"],[0.3333333333333333,\"#9c179e\"],[0.4444444444444444,\"#bd3786\"],[0.5555555555555556,\"#d8576b\"],[0.6666666666666666,\"#ed7953\"],[0.7777777777777778,\"#fb9f3a\"],[0.8888888888888888,\"#fdca26\"],[1.0,\"#f0f921\"]]}],\"surface\":[{\"type\":\"surface\",\"colorbar\":{\"outlinewidth\":0,\"ticks\":\"\"},\"colorscale\":[[0.0,\"#0d0887\"],[0.1111111111111111,\"#46039f\"],[0.2222222222222222,\"#7201a8\"],[0.3333333333333333,\"#9c179e\"],[0.4444444444444444,\"#bd3786\"],[0.5555555555555556,\"#d8576b\"],[0.6666666666666666,\"#ed7953\"],[0.7777777777777778,\"#fb9f3a\"],[0.8888888888888888,\"#fdca26\"],[1.0,\"#f0f921\"]]}],\"mesh3d\":[{\"type\":\"mesh3d\",\"colorbar\":{\"outlinewidth\":0,\"ticks\":\"\"}}],\"scatter\":[{\"fillpattern\":{\"fillmode\":\"overlay\",\"size\":10,\"solidity\":0.2},\"type\":\"scatter\"}],\"parcoords\":[{\"type\":\"parcoords\",\"line\":{\"colorbar\":{\"outlinewidth\":0,\"ticks\":\"\"}}}],\"scatterpolargl\":[{\"type\":\"scatterpolargl\",\"marker\":{\"colorbar\":{\"outlinewidth\":0,\"ticks\":\"\"}}}],\"bar\":[{\"error_x\":{\"color\":\"#2a3f5f\"},\"error_y\":{\"color\":\"#2a3f5f\"},\"marker\":{\"line\":{\"color\":\"#E5ECF6\",\"width\":0.5},\"pattern\":{\"fillmode\":\"overlay\",\"size\":10,\"solidity\":0.2}},\"type\":\"bar\"}],\"scattergeo\":[{\"type\":\"scattergeo\",\"marker\":{\"colorbar\":{\"outlinewidth\":0,\"ticks\":\"\"}}}],\"scatterpolar\":[{\"type\":\"scatterpolar\",\"marker\":{\"colorbar\":{\"outlinewidth\":0,\"ticks\":\"\"}}}],\"histogram\":[{\"marker\":{\"pattern\":{\"fillmode\":\"overlay\",\"size\":10,\"solidity\":0.2}},\"type\":\"histogram\"}],\"scattergl\":[{\"type\":\"scattergl\",\"marker\":{\"colorbar\":{\"outlinewidth\":0,\"ticks\":\"\"}}}],\"scatter3d\":[{\"type\":\"scatter3d\",\"line\":{\"colorbar\":{\"outlinewidth\":0,\"ticks\":\"\"}},\"marker\":{\"colorbar\":{\"outlinewidth\":0,\"ticks\":\"\"}}}],\"scattermapbox\":[{\"type\":\"scattermapbox\",\"marker\":{\"colorbar\":{\"outlinewidth\":0,\"ticks\":\"\"}}}],\"scatterternary\":[{\"type\":\"scatterternary\",\"marker\":{\"colorbar\":{\"outlinewidth\":0,\"ticks\":\"\"}}}],\"scattercarpet\":[{\"type\":\"scattercarpet\",\"marker\":{\"colorbar\":{\"outlinewidth\":0,\"ticks\":\"\"}}}],\"carpet\":[{\"aaxis\":{\"endlinecolor\":\"#2a3f5f\",\"gridcolor\":\"white\",\"linecolor\":\"white\",\"minorgridcolor\":\"white\",\"startlinecolor\":\"#2a3f5f\"},\"baxis\":{\"endlinecolor\":\"#2a3f5f\",\"gridcolor\":\"white\",\"linecolor\":\"white\",\"minorgridcolor\":\"white\",\"startlinecolor\":\"#2a3f5f\"},\"type\":\"carpet\"}],\"table\":[{\"cells\":{\"fill\":{\"color\":\"#EBF0F8\"},\"line\":{\"color\":\"white\"}},\"header\":{\"fill\":{\"color\":\"#C8D4E3\"},\"line\":{\"color\":\"white\"}},\"type\":\"table\"}],\"barpolar\":[{\"marker\":{\"line\":{\"color\":\"#E5ECF6\",\"width\":0.5},\"pattern\":{\"fillmode\":\"overlay\",\"size\":10,\"solidity\":0.2}},\"type\":\"barpolar\"}],\"pie\":[{\"automargin\":true,\"type\":\"pie\"}]},\"layout\":{\"autotypenumbers\":\"strict\",\"colorway\":[\"#636efa\",\"#EF553B\",\"#00cc96\",\"#ab63fa\",\"#FFA15A\",\"#19d3f3\",\"#FF6692\",\"#B6E880\",\"#FF97FF\",\"#FECB52\"],\"font\":{\"color\":\"#2a3f5f\"},\"hovermode\":\"closest\",\"hoverlabel\":{\"align\":\"left\"},\"paper_bgcolor\":\"white\",\"plot_bgcolor\":\"#E5ECF6\",\"polar\":{\"bgcolor\":\"#E5ECF6\",\"angularaxis\":{\"gridcolor\":\"white\",\"linecolor\":\"white\",\"ticks\":\"\"},\"radialaxis\":{\"gridcolor\":\"white\",\"linecolor\":\"white\",\"ticks\":\"\"}},\"ternary\":{\"bgcolor\":\"#E5ECF6\",\"aaxis\":{\"gridcolor\":\"white\",\"linecolor\":\"white\",\"ticks\":\"\"},\"baxis\":{\"gridcolor\":\"white\",\"linecolor\":\"white\",\"ticks\":\"\"},\"caxis\":{\"gridcolor\":\"white\",\"linecolor\":\"white\",\"ticks\":\"\"}},\"coloraxis\":{\"colorbar\":{\"outlinewidth\":0,\"ticks\":\"\"}},\"colorscale\":{\"sequential\":[[0.0,\"#0d0887\"],[0.1111111111111111,\"#46039f\"],[0.2222222222222222,\"#7201a8\"],[0.3333333333333333,\"#9c179e\"],[0.4444444444444444,\"#bd3786\"],[0.5555555555555556,\"#d8576b\"],[0.6666666666666666,\"#ed7953\"],[0.7777777777777778,\"#fb9f3a\"],[0.8888888888888888,\"#fdca26\"],[1.0,\"#f0f921\"]],\"sequentialminus\":[[0.0,\"#0d0887\"],[0.1111111111111111,\"#46039f\"],[0.2222222222222222,\"#7201a8\"],[0.3333333333333333,\"#9c179e\"],[0.4444444444444444,\"#bd3786\"],[0.5555555555555556,\"#d8576b\"],[0.6666666666666666,\"#ed7953\"],[0.7777777777777778,\"#fb9f3a\"],[0.8888888888888888,\"#fdca26\"],[1.0,\"#f0f921\"]],\"diverging\":[[0,\"#8e0152\"],[0.1,\"#c51b7d\"],[0.2,\"#de77ae\"],[0.3,\"#f1b6da\"],[0.4,\"#fde0ef\"],[0.5,\"#f7f7f7\"],[0.6,\"#e6f5d0\"],[0.7,\"#b8e186\"],[0.8,\"#7fbc41\"],[0.9,\"#4d9221\"],[1,\"#276419\"]]},\"xaxis\":{\"gridcolor\":\"white\",\"linecolor\":\"white\",\"ticks\":\"\",\"title\":{\"standoff\":15},\"zerolinecolor\":\"white\",\"automargin\":true,\"zerolinewidth\":2},\"yaxis\":{\"gridcolor\":\"white\",\"linecolor\":\"white\",\"ticks\":\"\",\"title\":{\"standoff\":15},\"zerolinecolor\":\"white\",\"automargin\":true,\"zerolinewidth\":2},\"scene\":{\"xaxis\":{\"backgroundcolor\":\"#E5ECF6\",\"gridcolor\":\"white\",\"linecolor\":\"white\",\"showbackground\":true,\"ticks\":\"\",\"zerolinecolor\":\"white\",\"gridwidth\":2},\"yaxis\":{\"backgroundcolor\":\"#E5ECF6\",\"gridcolor\":\"white\",\"linecolor\":\"white\",\"showbackground\":true,\"ticks\":\"\",\"zerolinecolor\":\"white\",\"gridwidth\":2},\"zaxis\":{\"backgroundcolor\":\"#E5ECF6\",\"gridcolor\":\"white\",\"linecolor\":\"white\",\"showbackground\":true,\"ticks\":\"\",\"zerolinecolor\":\"white\",\"gridwidth\":2}},\"shapedefaults\":{\"line\":{\"color\":\"#2a3f5f\"}},\"annotationdefaults\":{\"arrowcolor\":\"#2a3f5f\",\"arrowhead\":0,\"arrowwidth\":1},\"geo\":{\"bgcolor\":\"white\",\"landcolor\":\"#E5ECF6\",\"subunitcolor\":\"white\",\"showland\":true,\"showlakes\":true,\"lakecolor\":\"white\"},\"title\":{\"x\":0.05},\"mapbox\":{\"style\":\"light\"}}},\"xaxis\":{\"anchor\":\"y\",\"domain\":[0.0,1.0]},\"yaxis\":{\"anchor\":\"x\",\"domain\":[0.0,1.0],\"title\":{\"text\":\"Age\"}},\"legend\":{\"title\":{\"text\":\"Survived\"},\"tracegroupgap\":0},\"margin\":{\"t\":60},\"violinmode\":\"overlay\"},                        {\"responsive\": true}                    ).then(function(){\n",
       "                            \n",
       "var gd = document.getElementById('e101c27a-bdf5-472d-adbd-64c6a6dded08');\n",
       "var x = new MutationObserver(function (mutations, observer) {{\n",
       "        var display = window.getComputedStyle(gd).display;\n",
       "        if (!display || display === 'none') {{\n",
       "            console.log([gd, 'removed!']);\n",
       "            Plotly.purge(gd);\n",
       "            observer.disconnect();\n",
       "        }}\n",
       "}});\n",
       "\n",
       "// Listen for the removal of the full notebook cells\n",
       "var notebookContainer = gd.closest('#notebook-container');\n",
       "if (notebookContainer) {{\n",
       "    x.observe(notebookContainer, {childList: true});\n",
       "}}\n",
       "\n",
       "// Listen for the clearing of the current output cell\n",
       "var outputEl = gd.closest('.output');\n",
       "if (outputEl) {{\n",
       "    x.observe(outputEl, {childList: true});\n",
       "}}\n",
       "\n",
       "                        })                };                });            </script>        </div>"
      ]
     },
     "metadata": {},
     "output_type": "display_data"
    }
   ],
   "source": [
    "import plotly.express as px\n",
    "\n",
    "train = df[:ntrain]\n",
    "fig = px.violin(train, y=\"Age\", color=\"Survived\", violinmode=\"overlay\")\n",
    "fig.show()"
   ]
  },
  {
   "attachments": {
    "12782682-6d7f-4277-b009-eb9f713c9bb5.png": {
     "image/png": "[encoded data removed]"
    }
   },
   "cell_type": "markdown",
   "id": "4ffb5e71-ad6d-4e0c-90c1-8396dca7b1b5",
   "metadata": {},
   "source": [
    "![newplot (1).png](attachment:12782682-6d7f-4277-b009-eb9f713c9bb5.png)"
   ]
  },
  {
   "cell_type": "markdown",
   "id": "14140af4-bb92-4580-8517-d6f8d1b54564",
   "metadata": {},
   "source": [
    "#### 수치형인 Age 데이터를 범위로 나눠 범주화시킴\n",
    "- 영유아 : 2살 이하  = 0 \n",
    "- 어린이 : 15살 이하  = 1\n",
    "- 청소년 : 20살 이하 = 2\n",
    "- 청년층 : 33살 이하 = 3\n",
    "- 중년층: 43살 이하 = 4\n",
    "- 장년층 : 60살 이하 = 5\n",
    "- 노년층 : 75살 이하 = 6\n",
    "- 고령층 : 75살 이상 = 7"
   ]
  },
  {
   "cell_type": "code",
   "execution_count": 190,
   "id": "b01ab4b2-3d65-4d72-b5e7-65cf0a4d0e28",
   "metadata": {},
   "outputs": [],
   "source": [
    "df.loc[(df[\"Age\"] <=2), \"Age\"] = 0\n",
    "df.loc[(df[\"Age\"] > 2 ) & (df[\"Age\"] <= 15), \"Age\"] = 1\n",
    "df.loc[(df[\"Age\"] > 15 ) & (df[\"Age\"] <= 20), \"Age\"] = 2\n",
    "df.loc[(df[\"Age\"] > 20 ) & (df[\"Age\"] <= 33), \"Age\"] = 3\n",
    "df.loc[(df[\"Age\"] > 33 ) & (df[\"Age\"] <= 43), \"Age\"] = 4\n",
    "df.loc[(df[\"Age\"] > 43 ) & (df[\"Age\"] <= 60), \"Age\"] = 5\n",
    "df.loc[(df[\"Age\"] > 60 ) & (df[\"Age\"] <= 75), \"Age\"] = 6\n",
    "df.loc[(df[\"Age\"] >= 75), \"Age\"] = 7"
   ]
  },
  {
   "cell_type": "markdown",
   "id": "3ad8c675-3797-4440-aad1-6b9fffb6e437",
   "metadata": {},
   "source": [
    "#### Fare \n"
   ]
  },
  {
   "cell_type": "code",
   "execution_count": 191,
   "id": "f9d8d645-bed5-4280-872e-9a5912237f71",
   "metadata": {},
   "outputs": [
    {
     "data": {
      "text/plain": [
       "512.3292"
      ]
     },
     "execution_count": 191,
     "metadata": {},
     "output_type": "execute_result"
    }
   ],
   "source": [
    "train_fare = train.copy()\n",
    "max_fare = train_fare[\"Fare\"].max()\n",
    "max_fare"
   ]
  },
  {
   "cell_type": "markdown",
   "id": "0fa84f98-3659-48f7-b10e-dff16cfa5025",
   "metadata": {},
   "source": [
    "#### 히스토그램 확인 \n",
    "- 적은 운임비에 있는 승객의 사망률이 높음을 확인"
   ]
  },
  {
   "cell_type": "code",
   "execution_count": 192,
   "id": "5a1784c5-705f-41d6-89bf-0455898115e4",
   "metadata": {},
   "outputs": [
    {
     "data": {
      "application/vnd.plotly.v1+json": {
       "config": {
        "plotlyServerURL": "https://plot.ly"
       },
       "data": [
        {
         "alignmentgroup": "True",
         "bingroup": "x",
         "hovertemplate": "Outcome=Dead<br>Fare=%{x}<br>count=%{y}<extra></extra>",
         "legendgroup": "Dead",
         "marker": {
          "color": "#636efa",
          "opacity": 0.5,
          "pattern": {
           "shape": ""
          }
         },
         "name": "Dead",
         "offsetgroup": "Dead",
         "orientation": "v",
         "showlegend": true,
         "type": "histogram",
         "x": [
          7.25,
          8.05,
          8.4583,
          51.8625,
          21.075,
          8.05,
          31.275,
          7.8542,
          29.125,
          18,
          26,
          21.075,
          7.225,
          263,
          7.8958,
          27.7208,
          10.5,
          82.1708,
          52,
          8.05,
          18,
          9.475,
          21,
          7.8958,
          8.05,
          15.5,
          21.6792,
          17.8,
          39.6875,
          7.8,
          61.9792,
          7.2292,
          46.9,
          7.2292,
          83.475,
          27.9,
          27.7208,
          8.1583,
          8.6625,
          10.5,
          46.9,
          73.5,
          14.4542,
          7.65,
          7.8958,
          8.05,
          9,
          47.1,
          34.375,
          8.05,
          8.05,
          8.05,
          7.8542,
          61.175,
          20.575,
          7.25,
          8.05,
          34.6542,
          26,
          7.8958,
          7.8958,
          77.2875,
          8.6542,
          7.925,
          7.8958,
          7.8958,
          52,
          14.4542,
          8.05,
          9.825,
          14.4583,
          7.925,
          7.75,
          21,
          247.5208,
          31.275,
          73.5,
          8.05,
          30.0708,
          77.2875,
          7.75,
          6.975,
          7.8958,
          7.05,
          14.5,
          13,
          15.0458,
          53.1,
          9.2167,
          79.2,
          15.2458,
          6.75,
          11.5,
          36.75,
          34.375,
          26,
          13,
          12.525,
          8.05,
          14.5,
          7.3125,
          61.3792,
          8.05,
          8.6625,
          69.55,
          16.1,
          7.775,
          8.6625,
          39.6875,
          27.9,
          25.925,
          56.4958,
          33.5,
          29.125,
          7.925,
          30.6958,
          7.8542,
          25.4667,
          28.7125,
          13,
          0,
          69.55,
          15.05,
          31.3875,
          50,
          15.5,
          7.8958,
          13,
          7.75,
          8.4042,
          13,
          9.5,
          69.55,
          6.4958,
          7.225,
          10.4625,
          15.85,
          7.05,
          7.25,
          13,
          7.75,
          27,
          10.5,
          13,
          8.05,
          7.8958,
          9.35,
          7.25,
          13,
          25.4667,
          7.775,
          13.5,
          10.5,
          7.55,
          26,
          10.5,
          12.275,
          14.4542,
          10.5,
          7.125,
          7.225,
          90,
          7.775,
          26,
          7.25,
          10.4625,
          26.55,
          16.1,
          20.2125,
          7.75,
          79.65,
          0,
          7.75,
          10.5,
          39.6875,
          31,
          29.7,
          7.75,
          0,
          29.125,
          7.75,
          7.8542,
          9.5,
          26,
          8.6625,
          7.8958,
          12.875,
          8.85,
          7.8958,
          27.7208,
          7.2292,
          151.55,
          0,
          8.05,
          24,
          26,
          7.8958,
          26.25,
          14,
          7.25,
          7.8958,
          69.55,
          6.2375,
          28.5,
          153.4625,
          18,
          7.8958,
          66.6,
          35.5,
          13,
          13,
          13,
          8.6625,
          9.225,
          35,
          7.2292,
          17.8,
          7.225,
          9.5,
          13,
          27.9,
          27.7208,
          14.4542,
          7.05,
          15.5,
          7.25,
          6.4958,
          8.05,
          135.6333,
          21.075,
          211.5,
          4.0125,
          7.775,
          7.925,
          7.8958,
          73.5,
          46.9,
          7.7292,
          7.925,
          7.7958,
          7.8542,
          26,
          10.5,
          8.05,
          9.825,
          15.85,
          8.6625,
          21,
          7.75,
          7.775,
          25.4667,
          7.8958,
          6.8583,
          0,
          8.05,
          13,
          24.15,
          7.8958,
          7.7333,
          7.875,
          14.4,
          20.2125,
          7.25,
          7.75,
          7.125,
          55.9,
          34.375,
          263,
          10.5,
          9.5,
          7.775,
          27.75,
          19.9667,
          27.75,
          8.05,
          26.55,
          7.75,
          8.05,
          38.5,
          13,
          8.05,
          7.05,
          0,
          26.55,
          7.725,
          7.25,
          8.6625,
          9.8375,
          52,
          21,
          7.0458,
          7.5208,
          46.9,
          0,
          8.05,
          25.4667,
          29.7,
          8.05,
          19.9667,
          7.25,
          30.5,
          49.5042,
          8.05,
          14.4583,
          15.1,
          151.55,
          7.7958,
          8.6625,
          7.75,
          7.6292,
          9.5875,
          108.9,
          22.525,
          8.05,
          7.4958,
          34.0208,
          24.15,
          7.8958,
          7.8958,
          7.225,
          7.2292,
          7.75,
          221.7792,
          7.925,
          11.5,
          7.2292,
          7.2292,
          8.6625,
          26.55,
          14.5,
          31.275,
          31.275,
          106.425,
          26,
          20.525,
          26,
          7.8292,
          26.55,
          227.525,
          7.75,
          7.8958,
          13.5,
          8.05,
          8.05,
          24.15,
          7.8958,
          21.075,
          7.2292,
          8.05,
          14.5,
          14.4583,
          26,
          40.125,
          8.7125,
          15,
          8.05,
          8.05,
          7.125,
          7.25,
          7.75,
          26,
          24.15,
          0,
          7.225,
          7.8958,
          42.4,
          8.05,
          15.55,
          7.8958,
          31.275,
          7.05,
          7.75,
          8.05,
          14.4,
          16.1,
          10.5,
          14.4542,
          7.8542,
          16.1,
          32.3208,
          12.35,
          7.8958,
          7.7333,
          7.0542,
          0,
          27.9,
          7.925,
          26.25,
          39.6875,
          16.1,
          7.8542,
          27.9,
          7.8958,
          7.55,
          7.8958,
          8.4333,
          6.75,
          73.5,
          7.8958,
          15.5,
          13,
          113.275,
          7.225,
          25.5875,
          7.4958,
          73.5,
          13,
          7.775,
          8.05,
          52,
          10.5,
          0,
          7.775,
          8.05,
          46.9,
          8.1375,
          9.225,
          46.9,
          39,
          41.5792,
          39.6875,
          10.1708,
          7.7958,
          7.225,
          26.55,
          13.5,
          8.05,
          110.8833,
          7.65,
          14.4542,
          7.7417,
          7.8542,
          26,
          26.55,
          9.4833,
          13,
          7.65,
          15.5,
          7.775,
          7.0542,
          13,
          13,
          8.6625,
          26,
          7.925,
          18.7875,
          0,
          13,
          13,
          16.1,
          34.375,
          7.8958,
          7.8958,
          78.85,
          16.1,
          71,
          20.25,
          53.1,
          7.75,
          9.5,
          7.8958,
          7.7958,
          11.5,
          8.05,
          14.5,
          7.125,
          7.775,
          39.6,
          7.75,
          24.15,
          8.3625,
          9.5,
          7.8542,
          10.5,
          7.225,
          7.75,
          7.75,
          7.7375,
          30,
          23.45,
          7.05,
          7.25,
          29.125,
          79.2,
          7.75,
          26,
          69.55,
          30.6958,
          7.8958,
          13,
          7.2292,
          24.15,
          13,
          7.775,
          0,
          7.775,
          13,
          7.8875,
          24.15,
          10.5,
          31.275,
          8.05,
          0,
          7.925,
          37.0042,
          6.45,
          27.9,
          0,
          39.6875,
          6.95,
          56.4958,
          7.2292,
          7.8542,
          8.3,
          8.6625,
          8.05,
          7.925,
          10.5,
          6.4375,
          8.6625,
          7.55,
          69.55,
          7.8958,
          33,
          31.275,
          7.775,
          15.2458,
          26,
          7.2292,
          14.1083,
          11.5,
          69.55,
          13,
          50.4958,
          9.5,
          7.8958,
          5,
          9,
          9.8458,
          7.8958,
          7.8958,
          7.8958,
          10.5167,
          10.5,
          7.05,
          29.125,
          13,
          23.45,
          7.75
         ],
         "xaxis": "x",
         "xbins": {
          "end": 520,
          "size": 20,
          "start": 0
         },
         "yaxis": "y"
        },
        {
         "alignmentgroup": "True",
         "bingroup": "x",
         "hovertemplate": "Outcome=Survived<br>Fare=%{x}<br>count=%{y}<extra></extra>",
         "legendgroup": "Survived",
         "marker": {
          "color": "#EF553B",
          "opacity": 0.5,
          "pattern": {
           "shape": ""
          }
         },
         "name": "Survived",
         "offsetgroup": "Survived",
         "orientation": "v",
         "showlegend": true,
         "type": "histogram",
         "x": [
          71.2833,
          7.925,
          53.1,
          11.1333,
          30.0708,
          16.7,
          26.55,
          16,
          13,
          7.225,
          13,
          8.0292,
          35.5,
          31.3875,
          7.8792,
          146.5208,
          7.75,
          7.2292,
          11.2417,
          41.5792,
          7.8792,
          7.75,
          76.7292,
          26,
          35.5,
          10.5,
          27.75,
          80,
          15.2458,
          10.5,
          7.925,
          56.4958,
          29,
          12.475,
          9.5,
          7.7875,
          10.5,
          15.85,
          263,
          63.3583,
          23,
          7.65,
          7.775,
          24.15,
          13,
          11.2417,
          7.1417,
          22.3583,
          26,
          26.2833,
          7.75,
          15.85,
          7.7958,
          66.6,
          7.7333,
          15.75,
          20.525,
          55,
          11.1333,
          39,
          22.025,
          15.5,
          26.55,
          13,
          7.8542,
          26,
          27.7208,
          146.5208,
          7.75,
          8.05,
          18.7875,
          7.75,
          31,
          21,
          113.275,
          7.925,
          76.2917,
          8.05,
          90,
          10.5,
          83.475,
          31.3875,
          26.25,
          15.5,
          14.5,
          52.5542,
          15.2458,
          79.2,
          86.5,
          512.3292,
          26,
          31.3875,
          7.775,
          153.4625,
          135.6333,
          0,
          19.5,
          7.75,
          77.9583,
          20.25,
          8.05,
          9.5,
          13,
          7.75,
          78.85,
          91.0792,
          30.5,
          247.5208,
          7.75,
          23.25,
          12.35,
          151.55,
          110.8833,
          108.9,
          56.9292,
          83.1583,
          262.375,
          7.8542,
          26,
          164.8667,
          134.5,
          12.35,
          29,
          135.6333,
          13,
          20.525,
          57.9792,
          23.25,
          133.65,
          134.5,
          8.05,
          26,
          263,
          13,
          13,
          16.1,
          15.9,
          55,
          7.8792,
          7.8792,
          75.25,
          7.2292,
          7.75,
          69.3,
          55.4417,
          82.1708,
          7.25,
          227.525,
          15.7417,
          52,
          13,
          12,
          120,
          7.7958,
          113.275,
          16.7,
          12.65,
          7.925,
          18.75,
          90,
          7.925,
          32.5,
          13,
          26,
          26,
          8.05,
          26.55,
          16.1,
          26,
          120,
          18.75,
          26.25,
          13,
          8.1125,
          81.8583,
          19.5,
          26.55,
          19.2583,
          30.5,
          89.1042,
          7.8958,
          51.8625,
          10.5,
          26.55,
          19.2583,
          27.75,
          13.7917,
          12.2875,
          9.5875,
          91.0792,
          90,
          15.9,
          78.2667,
          86.5,
          26,
          26.55,
          56.4958,
          7.75,
          26.2875,
          59.4,
          10.5,
          26,
          93.5,
          57.9792,
          10.5,
          26,
          22.3583,
          26.25,
          106.425,
          49.5,
          71,
          26,
          26,
          13.8625,
          36.75,
          110.8833,
          7.225,
          7.775,
          39.6,
          79.65,
          17.4,
          7.8542,
          10.5,
          51.4792,
          26.3875,
          7.75,
          13,
          55.9,
          7.925,
          30,
          110.8833,
          79.65,
          79.2,
          78.2667,
          33,
          56.9292,
          27,
          26.55,
          30.5,
          41.5792,
          153.4625,
          15.5,
          65,
          39,
          52.5542,
          15.7417,
          77.9583,
          30,
          30.5,
          13,
          69.3,
          56.4958,
          19.2583,
          76.7292,
          35.5,
          7.55,
          23,
          7.8292,
          133.65,
          7.925,
          52,
          39,
          13,
          9.8417,
          512.3292,
          76.7292,
          211.3375,
          57,
          13.4167,
          56.4958,
          7.7333,
          227.525,
          26.2875,
          13.5,
          26.2875,
          151.55,
          15.2458,
          49.5042,
          52,
          227.525,
          10.5,
          33,
          53.1,
          21,
          7.7375,
          211.3375,
          512.3292,
          30,
          262.375,
          7.925,
          13,
          23,
          12.475,
          65,
          14.5,
          86.5,
          7.2292,
          120,
          77.9583,
          23,
          12.475,
          211.3375,
          7.2292,
          57,
          7.4958,
          20.575,
          25.9292,
          8.6833,
          26.25,
          120,
          8.5167,
          6.975,
          53.1,
          93.5,
          8.6625,
          12.475,
          37.0042,
          7.75,
          80,
          14.4542,
          18.75,
          83.1583,
          56.4958,
          29.7,
          31,
          89.1042,
          39.4,
          9.35,
          164.8667,
          26.55,
          19.2583,
          25.9292,
          13,
          13.8583,
          11.1333,
          52.5542,
          24,
          7.225,
          83.1583,
          26,
          30,
          30
         ],
         "xaxis": "x",
         "xbins": {
          "end": 520,
          "size": 20,
          "start": 0
         },
         "yaxis": "y"
        }
       ],
       "layout": {
        "barmode": "overlay",
        "legend": {
         "title": {
          "text": "Outcome"
         },
         "tracegroupgap": 0
        },
        "template": {
         "data": {
          "bar": [
           {
            "error_x": {
             "color": "#2a3f5f"
            },
            "error_y": {
             "color": "#2a3f5f"
            },
            "marker": {
             "line": {
              "color": "#E5ECF6",
              "width": 0.5
             },
             "pattern": {
              "fillmode": "overlay",
              "size": 10,
              "solidity": 0.2
             }
            },
            "type": "bar"
           }
          ],
          "barpolar": [
           {
            "marker": {
             "line": {
              "color": "#E5ECF6",
              "width": 0.5
             },
             "pattern": {
              "fillmode": "overlay",
              "size": 10,
              "solidity": 0.2
             }
            },
            "type": "barpolar"
           }
          ],
          "carpet": [
           {
            "aaxis": {
             "endlinecolor": "#2a3f5f",
             "gridcolor": "white",
             "linecolor": "white",
             "minorgridcolor": "white",
             "startlinecolor": "#2a3f5f"
            },
            "baxis": {
             "endlinecolor": "#2a3f5f",
             "gridcolor": "white",
             "linecolor": "white",
             "minorgridcolor": "white",
             "startlinecolor": "#2a3f5f"
            },
            "type": "carpet"
           }
          ],
          "choropleth": [
           {
            "colorbar": {
             "outlinewidth": 0,
             "ticks": ""
            },
            "type": "choropleth"
           }
          ],
          "contour": [
           {
            "colorbar": {
             "outlinewidth": 0,
             "ticks": ""
            },
            "colorscale": [
             [
              0,
              "#0d0887"
             ],
             [
              0.1111111111111111,
              "#46039f"
             ],
             [
              0.2222222222222222,
              "#7201a8"
             ],
             [
              0.3333333333333333,
              "#9c179e"
             ],
             [
              0.4444444444444444,
              "#bd3786"
             ],
             [
              0.5555555555555556,
              "#d8576b"
             ],
             [
              0.6666666666666666,
              "#ed7953"
             ],
             [
              0.7777777777777778,
              "#fb9f3a"
             ],
             [
              0.8888888888888888,
              "#fdca26"
             ],
             [
              1,
              "#f0f921"
             ]
            ],
            "type": "contour"
           }
          ],
          "contourcarpet": [
           {
            "colorbar": {
             "outlinewidth": 0,
             "ticks": ""
            },
            "type": "contourcarpet"
           }
          ],
          "heatmap": [
           {
            "colorbar": {
             "outlinewidth": 0,
             "ticks": ""
            },
            "colorscale": [
             [
              0,
              "#0d0887"
             ],
             [
              0.1111111111111111,
              "#46039f"
             ],
             [
              0.2222222222222222,
              "#7201a8"
             ],
             [
              0.3333333333333333,
              "#9c179e"
             ],
             [
              0.4444444444444444,
              "#bd3786"
             ],
             [
              0.5555555555555556,
              "#d8576b"
             ],
             [
              0.6666666666666666,
              "#ed7953"
             ],
             [
              0.7777777777777778,
              "#fb9f3a"
             ],
             [
              0.8888888888888888,
              "#fdca26"
             ],
             [
              1,
              "#f0f921"
             ]
            ],
            "type": "heatmap"
           }
          ],
          "heatmapgl": [
           {
            "colorbar": {
             "outlinewidth": 0,
             "ticks": ""
            },
            "colorscale": [
             [
              0,
              "#0d0887"
             ],
             [
              0.1111111111111111,
              "#46039f"
             ],
             [
              0.2222222222222222,
              "#7201a8"
             ],
             [
              0.3333333333333333,
              "#9c179e"
             ],
             [
              0.4444444444444444,
              "#bd3786"
             ],
             [
              0.5555555555555556,
              "#d8576b"
             ],
             [
              0.6666666666666666,
              "#ed7953"
             ],
             [
              0.7777777777777778,
              "#fb9f3a"
             ],
             [
              0.8888888888888888,
              "#fdca26"
             ],
             [
              1,
              "#f0f921"
             ]
            ],
            "type": "heatmapgl"
           }
          ],
          "histogram": [
           {
            "marker": {
             "pattern": {
              "fillmode": "overlay",
              "size": 10,
              "solidity": 0.2
             }
            },
            "type": "histogram"
           }
          ],
          "histogram2d": [
           {
            "colorbar": {
             "outlinewidth": 0,
             "ticks": ""
            },
            "colorscale": [
             [
              0,
              "#0d0887"
             ],
             [
              0.1111111111111111,
              "#46039f"
             ],
             [
              0.2222222222222222,
              "#7201a8"
             ],
             [
              0.3333333333333333,
              "#9c179e"
             ],
             [
              0.4444444444444444,
              "#bd3786"
             ],
             [
              0.5555555555555556,
              "#d8576b"
             ],
             [
              0.6666666666666666,
              "#ed7953"
             ],
             [
              0.7777777777777778,
              "#fb9f3a"
             ],
             [
              0.8888888888888888,
              "#fdca26"
             ],
             [
              1,
              "#f0f921"
             ]
            ],
            "type": "histogram2d"
           }
          ],
          "histogram2dcontour": [
           {
            "colorbar": {
             "outlinewidth": 0,
             "ticks": ""
            },
            "colorscale": [
             [
              0,
              "#0d0887"
             ],
             [
              0.1111111111111111,
              "#46039f"
             ],
             [
              0.2222222222222222,
              "#7201a8"
             ],
             [
              0.3333333333333333,
              "#9c179e"
             ],
             [
              0.4444444444444444,
              "#bd3786"
             ],
             [
              0.5555555555555556,
              "#d8576b"
             ],
             [
              0.6666666666666666,
              "#ed7953"
             ],
             [
              0.7777777777777778,
              "#fb9f3a"
             ],
             [
              0.8888888888888888,
              "#fdca26"
             ],
             [
              1,
              "#f0f921"
             ]
            ],
            "type": "histogram2dcontour"
           }
          ],
          "mesh3d": [
           {
            "colorbar": {
             "outlinewidth": 0,
             "ticks": ""
            },
            "type": "mesh3d"
           }
          ],
          "parcoords": [
           {
            "line": {
             "colorbar": {
              "outlinewidth": 0,
              "ticks": ""
             }
            },
            "type": "parcoords"
           }
          ],
          "pie": [
           {
            "automargin": true,
            "type": "pie"
           }
          ],
          "scatter": [
           {
            "fillpattern": {
             "fillmode": "overlay",
             "size": 10,
             "solidity": 0.2
            },
            "type": "scatter"
           }
          ],
          "scatter3d": [
           {
            "line": {
             "colorbar": {
              "outlinewidth": 0,
              "ticks": ""
             }
            },
            "marker": {
             "colorbar": {
              "outlinewidth": 0,
              "ticks": ""
             }
            },
            "type": "scatter3d"
           }
          ],
          "scattercarpet": [
           {
            "marker": {
             "colorbar": {
              "outlinewidth": 0,
              "ticks": ""
             }
            },
            "type": "scattercarpet"
           }
          ],
          "scattergeo": [
           {
            "marker": {
             "colorbar": {
              "outlinewidth": 0,
              "ticks": ""
             }
            },
            "type": "scattergeo"
           }
          ],
          "scattergl": [
           {
            "marker": {
             "colorbar": {
              "outlinewidth": 0,
              "ticks": ""
             }
            },
            "type": "scattergl"
           }
          ],
          "scattermapbox": [
           {
            "marker": {
             "colorbar": {
              "outlinewidth": 0,
              "ticks": ""
             }
            },
            "type": "scattermapbox"
           }
          ],
          "scatterpolar": [
           {
            "marker": {
             "colorbar": {
              "outlinewidth": 0,
              "ticks": ""
             }
            },
            "type": "scatterpolar"
           }
          ],
          "scatterpolargl": [
           {
            "marker": {
             "colorbar": {
              "outlinewidth": 0,
              "ticks": ""
             }
            },
            "type": "scatterpolargl"
           }
          ],
          "scatterternary": [
           {
            "marker": {
             "colorbar": {
              "outlinewidth": 0,
              "ticks": ""
             }
            },
            "type": "scatterternary"
           }
          ],
          "surface": [
           {
            "colorbar": {
             "outlinewidth": 0,
             "ticks": ""
            },
            "colorscale": [
             [
              0,
              "#0d0887"
             ],
             [
              0.1111111111111111,
              "#46039f"
             ],
             [
              0.2222222222222222,
              "#7201a8"
             ],
             [
              0.3333333333333333,
              "#9c179e"
             ],
             [
              0.4444444444444444,
              "#bd3786"
             ],
             [
              0.5555555555555556,
              "#d8576b"
             ],
             [
              0.6666666666666666,
              "#ed7953"
             ],
             [
              0.7777777777777778,
              "#fb9f3a"
             ],
             [
              0.8888888888888888,
              "#fdca26"
             ],
             [
              1,
              "#f0f921"
             ]
            ],
            "type": "surface"
           }
          ],
          "table": [
           {
            "cells": {
             "fill": {
              "color": "#EBF0F8"
             },
             "line": {
              "color": "white"
             }
            },
            "header": {
             "fill": {
              "color": "#C8D4E3"
             },
             "line": {
              "color": "white"
             }
            },
            "type": "table"
           }
          ]
         },
         "layout": {
          "annotationdefaults": {
           "arrowcolor": "#2a3f5f",
           "arrowhead": 0,
           "arrowwidth": 1
          },
          "autotypenumbers": "strict",
          "coloraxis": {
           "colorbar": {
            "outlinewidth": 0,
            "ticks": ""
           }
          },
          "colorscale": {
           "diverging": [
            [
             0,
             "#8e0152"
            ],
            [
             0.1,
             "#c51b7d"
            ],
            [
             0.2,
             "#de77ae"
            ],
            [
             0.3,
             "#f1b6da"
            ],
            [
             0.4,
             "#fde0ef"
            ],
            [
             0.5,
             "#f7f7f7"
            ],
            [
             0.6,
             "#e6f5d0"
            ],
            [
             0.7,
             "#b8e186"
            ],
            [
             0.8,
             "#7fbc41"
            ],
            [
             0.9,
             "#4d9221"
            ],
            [
             1,
             "#276419"
            ]
           ],
           "sequential": [
            [
             0,
             "#0d0887"
            ],
            [
             0.1111111111111111,
             "#46039f"
            ],
            [
             0.2222222222222222,
             "#7201a8"
            ],
            [
             0.3333333333333333,
             "#9c179e"
            ],
            [
             0.4444444444444444,
             "#bd3786"
            ],
            [
             0.5555555555555556,
             "#d8576b"
            ],
            [
             0.6666666666666666,
             "#ed7953"
            ],
            [
             0.7777777777777778,
             "#fb9f3a"
            ],
            [
             0.8888888888888888,
             "#fdca26"
            ],
            [
             1,
             "#f0f921"
            ]
           ],
           "sequentialminus": [
            [
             0,
             "#0d0887"
            ],
            [
             0.1111111111111111,
             "#46039f"
            ],
            [
             0.2222222222222222,
             "#7201a8"
            ],
            [
             0.3333333333333333,
             "#9c179e"
            ],
            [
             0.4444444444444444,
             "#bd3786"
            ],
            [
             0.5555555555555556,
             "#d8576b"
            ],
            [
             0.6666666666666666,
             "#ed7953"
            ],
            [
             0.7777777777777778,
             "#fb9f3a"
            ],
            [
             0.8888888888888888,
             "#fdca26"
            ],
            [
             1,
             "#f0f921"
            ]
           ]
          },
          "colorway": [
           "#636efa",
           "#EF553B",
           "#00cc96",
           "#ab63fa",
           "#FFA15A",
           "#19d3f3",
           "#FF6692",
           "#B6E880",
           "#FF97FF",
           "#FECB52"
          ],
          "font": {
           "color": "#2a3f5f"
          },
          "geo": {
           "bgcolor": "white",
           "lakecolor": "white",
           "landcolor": "#E5ECF6",
           "showlakes": true,
           "showland": true,
           "subunitcolor": "white"
          },
          "hoverlabel": {
           "align": "left"
          },
          "hovermode": "closest",
          "mapbox": {
           "style": "light"
          },
          "paper_bgcolor": "white",
          "plot_bgcolor": "#E5ECF6",
          "polar": {
           "angularaxis": {
            "gridcolor": "white",
            "linecolor": "white",
            "ticks": ""
           },
           "bgcolor": "#E5ECF6",
           "radialaxis": {
            "gridcolor": "white",
            "linecolor": "white",
            "ticks": ""
           }
          },
          "scene": {
           "xaxis": {
            "backgroundcolor": "#E5ECF6",
            "gridcolor": "white",
            "gridwidth": 2,
            "linecolor": "white",
            "showbackground": true,
            "ticks": "",
            "zerolinecolor": "white"
           },
           "yaxis": {
            "backgroundcolor": "#E5ECF6",
            "gridcolor": "white",
            "gridwidth": 2,
            "linecolor": "white",
            "showbackground": true,
            "ticks": "",
            "zerolinecolor": "white"
           },
           "zaxis": {
            "backgroundcolor": "#E5ECF6",
            "gridcolor": "white",
            "gridwidth": 2,
            "linecolor": "white",
            "showbackground": true,
            "ticks": "",
            "zerolinecolor": "white"
           }
          },
          "shapedefaults": {
           "line": {
            "color": "#2a3f5f"
           }
          },
          "ternary": {
           "aaxis": {
            "gridcolor": "white",
            "linecolor": "white",
            "ticks": ""
           },
           "baxis": {
            "gridcolor": "white",
            "linecolor": "white",
            "ticks": ""
           },
           "bgcolor": "#E5ECF6",
           "caxis": {
            "gridcolor": "white",
            "linecolor": "white",
            "ticks": ""
           }
          },
          "title": {
           "x": 0.05
          },
          "xaxis": {
           "automargin": true,
           "gridcolor": "white",
           "linecolor": "white",
           "ticks": "",
           "title": {
            "standoff": 15
           },
           "zerolinecolor": "white",
           "zerolinewidth": 2
          },
          "yaxis": {
           "automargin": true,
           "gridcolor": "white",
           "linecolor": "white",
           "ticks": "",
           "title": {
            "standoff": 15
           },
           "zerolinecolor": "white",
           "zerolinewidth": 2
          }
         }
        },
        "title": {
         "text": "Fare Distribution by Survival Status (Overlay, 20-unit-bins)"
        },
        "xaxis": {
         "anchor": "y",
         "domain": [
          0,
          1
         ],
         "range": [
          0,
          520
         ],
         "tickmode": "array",
         "tickvals": [
          0,
          20,
          40,
          60,
          80,
          100,
          120,
          140,
          160,
          180,
          200,
          220,
          240,
          260,
          280,
          300,
          320,
          340,
          360,
          380,
          400,
          420,
          440,
          460,
          480,
          500,
          520
         ],
         "title": {
          "text": "Fare"
         }
        },
        "yaxis": {
         "anchor": "x",
         "domain": [
          0,
          1
         ],
         "title": {
          "text": "count"
         }
        }
       }
      },
      "text/html": [
       "<div>                            <div id=\"5b898878-3959-403d-97cc-02d136f2a913\" class=\"plotly-graph-div\" style=\"height:525px; width:100%;\"></div>            <script type=\"text/javascript\">                require([\"plotly\"], function(Plotly) {                    window.PLOTLYENV=window.PLOTLYENV || {};                                    if (document.getElementById(\"5b898878-3959-403d-97cc-02d136f2a913\")) {                    Plotly.newPlot(                        \"5b898878-3959-403d-97cc-02d136f2a913\",                        [{\"alignmentgroup\":\"True\",\"bingroup\":\"x\",\"hovertemplate\":\"Outcome=Dead\\u003cbr\\u003eFare=%{x}\\u003cbr\\u003ecount=%{y}\\u003cextra\\u003e\\u003c\\u002fextra\\u003e\",\"legendgroup\":\"Dead\",\"marker\":{\"color\":\"#636efa\",\"opacity\":0.5,\"pattern\":{\"shape\":\"\"}},\"name\":\"Dead\",\"offsetgroup\":\"Dead\",\"orientation\":\"v\",\"showlegend\":true,\"x\":[7.25,8.05,8.4583,51.8625,21.075,8.05,31.275,7.8542,29.125,18.0,26.0,21.075,7.225,263.0,7.8958,27.7208,10.5,82.1708,52.0,8.05,18.0,9.475,21.0,7.8958,8.05,15.5,21.6792,17.8,39.6875,7.8,61.9792,7.2292,46.9,7.2292,83.475,27.9,27.7208,8.1583,8.6625,10.5,46.9,73.5,14.4542,7.65,7.8958,8.05,9.0,47.1,34.375,8.05,8.05,8.05,7.8542,61.175,20.575,7.25,8.05,34.6542,26.0,7.8958,7.8958,77.2875,8.6542,7.925,7.8958,7.8958,52.0,14.4542,8.05,9.825,14.4583,7.925,7.75,21.0,247.5208,31.275,73.5,8.05,30.0708,77.2875,7.75,6.975,7.8958,7.05,14.5,13.0,15.0458,53.1,9.2167,79.2,15.2458,6.75,11.5,36.75,34.375,26.0,13.0,12.525,8.05,14.5,7.3125,61.3792,8.05,8.6625,69.55,16.1,7.775,8.6625,39.6875,27.9,25.925,56.4958,33.5,29.125,7.925,30.6958,7.8542,25.4667,28.7125,13.0,0.0,69.55,15.05,31.3875,50.0,15.5,7.8958,13.0,7.75,8.4042,13.0,9.5,69.55,6.4958,7.225,10.4625,15.85,7.05,7.25,13.0,7.75,27.0,10.5,13.0,8.05,7.8958,9.35,7.25,13.0,25.4667,7.775,13.5,10.5,7.55,26.0,10.5,12.275,14.4542,10.5,7.125,7.225,90.0,7.775,26.0,7.25,10.4625,26.55,16.1,20.2125,7.75,79.65,0.0,7.75,10.5,39.6875,31.0,29.7,7.75,0.0,29.125,7.75,7.8542,9.5,26.0,8.6625,7.8958,12.875,8.85,7.8958,27.7208,7.2292,151.55,0.0,8.05,24.0,26.0,7.8958,26.25,14.0,7.25,7.8958,69.55,6.2375,28.5,153.4625,18.0,7.8958,66.6,35.5,13.0,13.0,13.0,8.6625,9.225,35.0,7.2292,17.8,7.225,9.5,13.0,27.9,27.7208,14.4542,7.05,15.5,7.25,6.4958,8.05,135.6333,21.075,211.5,4.0125,7.775,7.925,7.8958,73.5,46.9,7.7292,7.925,7.7958,7.8542,26.0,10.5,8.05,9.825,15.85,8.6625,21.0,7.75,7.775,25.4667,7.8958,6.8583,0.0,8.05,13.0,24.15,7.8958,7.7333,7.875,14.4,20.2125,7.25,7.75,7.125,55.9,34.375,263.0,10.5,9.5,7.775,27.75,19.9667,27.75,8.05,26.55,7.75,8.05,38.5,13.0,8.05,7.05,0.0,26.55,7.725,7.25,8.6625,9.8375,52.0,21.0,7.0458,7.5208,46.9,0.0,8.05,25.4667,29.7,8.05,19.9667,7.25,30.5,49.5042,8.05,14.4583,15.1,151.55,7.7958,8.6625,7.75,7.6292,9.5875,108.9,22.525,8.05,7.4958,34.0208,24.15,7.8958,7.8958,7.225,7.2292,7.75,221.7792,7.925,11.5,7.2292,7.2292,8.6625,26.55,14.5,31.275,31.275,106.425,26.0,20.525,26.0,7.8292,26.55,227.525,7.75,7.8958,13.5,8.05,8.05,24.15,7.8958,21.075,7.2292,8.05,14.5,14.4583,26.0,40.125,8.7125,15.0,8.05,8.05,7.125,7.25,7.75,26.0,24.15,0.0,7.225,7.8958,42.4,8.05,15.55,7.8958,31.275,7.05,7.75,8.05,14.4,16.1,10.5,14.4542,7.8542,16.1,32.3208,12.35,7.8958,7.7333,7.0542,0.0,27.9,7.925,26.25,39.6875,16.1,7.8542,27.9,7.8958,7.55,7.8958,8.4333,6.75,73.5,7.8958,15.5,13.0,113.275,7.225,25.5875,7.4958,73.5,13.0,7.775,8.05,52.0,10.5,0.0,7.775,8.05,46.9,8.1375,9.225,46.9,39.0,41.5792,39.6875,10.1708,7.7958,7.225,26.55,13.5,8.05,110.8833,7.65,14.4542,7.7417,7.8542,26.0,26.55,9.4833,13.0,7.65,15.5,7.775,7.0542,13.0,13.0,8.6625,26.0,7.925,18.7875,0.0,13.0,13.0,16.1,34.375,7.8958,7.8958,78.85,16.1,71.0,20.25,53.1,7.75,9.5,7.8958,7.7958,11.5,8.05,14.5,7.125,7.775,39.6,7.75,24.15,8.3625,9.5,7.8542,10.5,7.225,7.75,7.75,7.7375,30.0,23.45,7.05,7.25,29.125,79.2,7.75,26.0,69.55,30.6958,7.8958,13.0,7.2292,24.15,13.0,7.775,0.0,7.775,13.0,7.8875,24.15,10.5,31.275,8.05,0.0,7.925,37.0042,6.45,27.9,0.0,39.6875,6.95,56.4958,7.2292,7.8542,8.3,8.6625,8.05,7.925,10.5,6.4375,8.6625,7.55,69.55,7.8958,33.0,31.275,7.775,15.2458,26.0,7.2292,14.1083,11.5,69.55,13.0,50.4958,9.5,7.8958,5.0,9.0,9.8458,7.8958,7.8958,7.8958,10.5167,10.5,7.05,29.125,13.0,23.45,7.75],\"xaxis\":\"x\",\"yaxis\":\"y\",\"type\":\"histogram\",\"xbins\":{\"end\":520,\"size\":20,\"start\":0}},{\"alignmentgroup\":\"True\",\"bingroup\":\"x\",\"hovertemplate\":\"Outcome=Survived\\u003cbr\\u003eFare=%{x}\\u003cbr\\u003ecount=%{y}\\u003cextra\\u003e\\u003c\\u002fextra\\u003e\",\"legendgroup\":\"Survived\",\"marker\":{\"color\":\"#EF553B\",\"opacity\":0.5,\"pattern\":{\"shape\":\"\"}},\"name\":\"Survived\",\"offsetgroup\":\"Survived\",\"orientation\":\"v\",\"showlegend\":true,\"x\":[71.2833,7.925,53.1,11.1333,30.0708,16.7,26.55,16.0,13.0,7.225,13.0,8.0292,35.5,31.3875,7.8792,146.5208,7.75,7.2292,11.2417,41.5792,7.8792,7.75,76.7292,26.0,35.5,10.5,27.75,80.0,15.2458,10.5,7.925,56.4958,29.0,12.475,9.5,7.7875,10.5,15.85,263.0,63.3583,23.0,7.65,7.775,24.15,13.0,11.2417,7.1417,22.3583,26.0,26.2833,7.75,15.85,7.7958,66.6,7.7333,15.75,20.525,55.0,11.1333,39.0,22.025,15.5,26.55,13.0,7.8542,26.0,27.7208,146.5208,7.75,8.05,18.7875,7.75,31.0,21.0,113.275,7.925,76.2917,8.05,90.0,10.5,83.475,31.3875,26.25,15.5,14.5,52.5542,15.2458,79.2,86.5,512.3292,26.0,31.3875,7.775,153.4625,135.6333,0.0,19.5,7.75,77.9583,20.25,8.05,9.5,13.0,7.75,78.85,91.0792,30.5,247.5208,7.75,23.25,12.35,151.55,110.8833,108.9,56.9292,83.1583,262.375,7.8542,26.0,164.8667,134.5,12.35,29.0,135.6333,13.0,20.525,57.9792,23.25,133.65,134.5,8.05,26.0,263.0,13.0,13.0,16.1,15.9,55.0,7.8792,7.8792,75.25,7.2292,7.75,69.3,55.4417,82.1708,7.25,227.525,15.7417,52.0,13.0,12.0,120.0,7.7958,113.275,16.7,12.65,7.925,18.75,90.0,7.925,32.5,13.0,26.0,26.0,8.05,26.55,16.1,26.0,120.0,18.75,26.25,13.0,8.1125,81.8583,19.5,26.55,19.2583,30.5,89.1042,7.8958,51.8625,10.5,26.55,19.2583,27.75,13.7917,12.2875,9.5875,91.0792,90.0,15.9,78.2667,86.5,26.0,26.55,56.4958,7.75,26.2875,59.4,10.5,26.0,93.5,57.9792,10.5,26.0,22.3583,26.25,106.425,49.5,71.0,26.0,26.0,13.8625,36.75,110.8833,7.225,7.775,39.6,79.65,17.4,7.8542,10.5,51.4792,26.3875,7.75,13.0,55.9,7.925,30.0,110.8833,79.65,79.2,78.2667,33.0,56.9292,27.0,26.55,30.5,41.5792,153.4625,15.5,65.0,39.0,52.5542,15.7417,77.9583,30.0,30.5,13.0,69.3,56.4958,19.2583,76.7292,35.5,7.55,23.0,7.8292,133.65,7.925,52.0,39.0,13.0,9.8417,512.3292,76.7292,211.3375,57.0,13.4167,56.4958,7.7333,227.525,26.2875,13.5,26.2875,151.55,15.2458,49.5042,52.0,227.525,10.5,33.0,53.1,21.0,7.7375,211.3375,512.3292,30.0,262.375,7.925,13.0,23.0,12.475,65.0,14.5,86.5,7.2292,120.0,77.9583,23.0,12.475,211.3375,7.2292,57.0,7.4958,20.575,25.9292,8.6833,26.25,120.0,8.5167,6.975,53.1,93.5,8.6625,12.475,37.0042,7.75,80.0,14.4542,18.75,83.1583,56.4958,29.7,31.0,89.1042,39.4,9.35,164.8667,26.55,19.2583,25.9292,13.0,13.8583,11.1333,52.5542,24.0,7.225,83.1583,26.0,30.0,30.0],\"xaxis\":\"x\",\"yaxis\":\"y\",\"type\":\"histogram\",\"xbins\":{\"end\":520,\"size\":20,\"start\":0}}],                        {\"template\":{\"data\":{\"histogram2dcontour\":[{\"type\":\"histogram2dcontour\",\"colorbar\":{\"outlinewidth\":0,\"ticks\":\"\"},\"colorscale\":[[0.0,\"#0d0887\"],[0.1111111111111111,\"#46039f\"],[0.2222222222222222,\"#7201a8\"],[0.3333333333333333,\"#9c179e\"],[0.4444444444444444,\"#bd3786\"],[0.5555555555555556,\"#d8576b\"],[0.6666666666666666,\"#ed7953\"],[0.7777777777777778,\"#fb9f3a\"],[0.8888888888888888,\"#fdca26\"],[1.0,\"#f0f921\"]]}],\"choropleth\":[{\"type\":\"choropleth\",\"colorbar\":{\"outlinewidth\":0,\"ticks\":\"\"}}],\"histogram2d\":[{\"type\":\"histogram2d\",\"colorbar\":{\"outlinewidth\":0,\"ticks\":\"\"},\"colorscale\":[[0.0,\"#0d0887\"],[0.1111111111111111,\"#46039f\"],[0.2222222222222222,\"#7201a8\"],[0.3333333333333333,\"#9c179e\"],[0.4444444444444444,\"#bd3786\"],[0.5555555555555556,\"#d8576b\"],[0.6666666666666666,\"#ed7953\"],[0.7777777777777778,\"#fb9f3a\"],[0.8888888888888888,\"#fdca26\"],[1.0,\"#f0f921\"]]}],\"heatmap\":[{\"type\":\"heatmap\",\"colorbar\":{\"outlinewidth\":0,\"ticks\":\"\"},\"colorscale\":[[0.0,\"#0d0887\"],[0.1111111111111111,\"#46039f\"],[0.2222222222222222,\"#7201a8\"],[0.3333333333333333,\"#9c179e\"],[0.4444444444444444,\"#bd3786\"],[0.5555555555555556,\"#d8576b\"],[0.6666666666666666,\"#ed7953\"],[0.7777777777777778,\"#fb9f3a\"],[0.8888888888888888,\"#fdca26\"],[1.0,\"#f0f921\"]]}],\"heatmapgl\":[{\"type\":\"heatmapgl\",\"colorbar\":{\"outlinewidth\":0,\"ticks\":\"\"},\"colorscale\":[[0.0,\"#0d0887\"],[0.1111111111111111,\"#46039f\"],[0.2222222222222222,\"#7201a8\"],[0.3333333333333333,\"#9c179e\"],[0.4444444444444444,\"#bd3786\"],[0.5555555555555556,\"#d8576b\"],[0.6666666666666666,\"#ed7953\"],[0.7777777777777778,\"#fb9f3a\"],[0.8888888888888888,\"#fdca26\"],[1.0,\"#f0f921\"]]}],\"contourcarpet\":[{\"type\":\"contourcarpet\",\"colorbar\":{\"outlinewidth\":0,\"ticks\":\"\"}}],\"contour\":[{\"type\":\"contour\",\"colorbar\":{\"outlinewidth\":0,\"ticks\":\"\"},\"colorscale\":[[0.0,\"#0d0887\"],[0.1111111111111111,\"#46039f\"],[0.2222222222222222,\"#7201a8\"],[0.3333333333333333,\"#9c179e\"],[0.4444444444444444,\"#bd3786\"],[0.5555555555555556,\"#d8576b\"],[0.6666666666666666,\"#ed7953\"],[0.7777777777777778,\"#fb9f3a\"],[0.8888888888888888,\"#fdca26\"],[1.0,\"#f0f921\"]]}],\"surface\":[{\"type\":\"surface\",\"colorbar\":{\"outlinewidth\":0,\"ticks\":\"\"},\"colorscale\":[[0.0,\"#0d0887\"],[0.1111111111111111,\"#46039f\"],[0.2222222222222222,\"#7201a8\"],[0.3333333333333333,\"#9c179e\"],[0.4444444444444444,\"#bd3786\"],[0.5555555555555556,\"#d8576b\"],[0.6666666666666666,\"#ed7953\"],[0.7777777777777778,\"#fb9f3a\"],[0.8888888888888888,\"#fdca26\"],[1.0,\"#f0f921\"]]}],\"mesh3d\":[{\"type\":\"mesh3d\",\"colorbar\":{\"outlinewidth\":0,\"ticks\":\"\"}}],\"scatter\":[{\"fillpattern\":{\"fillmode\":\"overlay\",\"size\":10,\"solidity\":0.2},\"type\":\"scatter\"}],\"parcoords\":[{\"type\":\"parcoords\",\"line\":{\"colorbar\":{\"outlinewidth\":0,\"ticks\":\"\"}}}],\"scatterpolargl\":[{\"type\":\"scatterpolargl\",\"marker\":{\"colorbar\":{\"outlinewidth\":0,\"ticks\":\"\"}}}],\"bar\":[{\"error_x\":{\"color\":\"#2a3f5f\"},\"error_y\":{\"color\":\"#2a3f5f\"},\"marker\":{\"line\":{\"color\":\"#E5ECF6\",\"width\":0.5},\"pattern\":{\"fillmode\":\"overlay\",\"size\":10,\"solidity\":0.2}},\"type\":\"bar\"}],\"scattergeo\":[{\"type\":\"scattergeo\",\"marker\":{\"colorbar\":{\"outlinewidth\":0,\"ticks\":\"\"}}}],\"scatterpolar\":[{\"type\":\"scatterpolar\",\"marker\":{\"colorbar\":{\"outlinewidth\":0,\"ticks\":\"\"}}}],\"histogram\":[{\"marker\":{\"pattern\":{\"fillmode\":\"overlay\",\"size\":10,\"solidity\":0.2}},\"type\":\"histogram\"}],\"scattergl\":[{\"type\":\"scattergl\",\"marker\":{\"colorbar\":{\"outlinewidth\":0,\"ticks\":\"\"}}}],\"scatter3d\":[{\"type\":\"scatter3d\",\"line\":{\"colorbar\":{\"outlinewidth\":0,\"ticks\":\"\"}},\"marker\":{\"colorbar\":{\"outlinewidth\":0,\"ticks\":\"\"}}}],\"scattermapbox\":[{\"type\":\"scattermapbox\",\"marker\":{\"colorbar\":{\"outlinewidth\":0,\"ticks\":\"\"}}}],\"scatterternary\":[{\"type\":\"scatterternary\",\"marker\":{\"colorbar\":{\"outlinewidth\":0,\"ticks\":\"\"}}}],\"scattercarpet\":[{\"type\":\"scattercarpet\",\"marker\":{\"colorbar\":{\"outlinewidth\":0,\"ticks\":\"\"}}}],\"carpet\":[{\"aaxis\":{\"endlinecolor\":\"#2a3f5f\",\"gridcolor\":\"white\",\"linecolor\":\"white\",\"minorgridcolor\":\"white\",\"startlinecolor\":\"#2a3f5f\"},\"baxis\":{\"endlinecolor\":\"#2a3f5f\",\"gridcolor\":\"white\",\"linecolor\":\"white\",\"minorgridcolor\":\"white\",\"startlinecolor\":\"#2a3f5f\"},\"type\":\"carpet\"}],\"table\":[{\"cells\":{\"fill\":{\"color\":\"#EBF0F8\"},\"line\":{\"color\":\"white\"}},\"header\":{\"fill\":{\"color\":\"#C8D4E3\"},\"line\":{\"color\":\"white\"}},\"type\":\"table\"}],\"barpolar\":[{\"marker\":{\"line\":{\"color\":\"#E5ECF6\",\"width\":0.5},\"pattern\":{\"fillmode\":\"overlay\",\"size\":10,\"solidity\":0.2}},\"type\":\"barpolar\"}],\"pie\":[{\"automargin\":true,\"type\":\"pie\"}]},\"layout\":{\"autotypenumbers\":\"strict\",\"colorway\":[\"#636efa\",\"#EF553B\",\"#00cc96\",\"#ab63fa\",\"#FFA15A\",\"#19d3f3\",\"#FF6692\",\"#B6E880\",\"#FF97FF\",\"#FECB52\"],\"font\":{\"color\":\"#2a3f5f\"},\"hovermode\":\"closest\",\"hoverlabel\":{\"align\":\"left\"},\"paper_bgcolor\":\"white\",\"plot_bgcolor\":\"#E5ECF6\",\"polar\":{\"bgcolor\":\"#E5ECF6\",\"angularaxis\":{\"gridcolor\":\"white\",\"linecolor\":\"white\",\"ticks\":\"\"},\"radialaxis\":{\"gridcolor\":\"white\",\"linecolor\":\"white\",\"ticks\":\"\"}},\"ternary\":{\"bgcolor\":\"#E5ECF6\",\"aaxis\":{\"gridcolor\":\"white\",\"linecolor\":\"white\",\"ticks\":\"\"},\"baxis\":{\"gridcolor\":\"white\",\"linecolor\":\"white\",\"ticks\":\"\"},\"caxis\":{\"gridcolor\":\"white\",\"linecolor\":\"white\",\"ticks\":\"\"}},\"coloraxis\":{\"colorbar\":{\"outlinewidth\":0,\"ticks\":\"\"}},\"colorscale\":{\"sequential\":[[0.0,\"#0d0887\"],[0.1111111111111111,\"#46039f\"],[0.2222222222222222,\"#7201a8\"],[0.3333333333333333,\"#9c179e\"],[0.4444444444444444,\"#bd3786\"],[0.5555555555555556,\"#d8576b\"],[0.6666666666666666,\"#ed7953\"],[0.7777777777777778,\"#fb9f3a\"],[0.8888888888888888,\"#fdca26\"],[1.0,\"#f0f921\"]],\"sequentialminus\":[[0.0,\"#0d0887\"],[0.1111111111111111,\"#46039f\"],[0.2222222222222222,\"#7201a8\"],[0.3333333333333333,\"#9c179e\"],[0.4444444444444444,\"#bd3786\"],[0.5555555555555556,\"#d8576b\"],[0.6666666666666666,\"#ed7953\"],[0.7777777777777778,\"#fb9f3a\"],[0.8888888888888888,\"#fdca26\"],[1.0,\"#f0f921\"]],\"diverging\":[[0,\"#8e0152\"],[0.1,\"#c51b7d\"],[0.2,\"#de77ae\"],[0.3,\"#f1b6da\"],[0.4,\"#fde0ef\"],[0.5,\"#f7f7f7\"],[0.6,\"#e6f5d0\"],[0.7,\"#b8e186\"],[0.8,\"#7fbc41\"],[0.9,\"#4d9221\"],[1,\"#276419\"]]},\"xaxis\":{\"gridcolor\":\"white\",\"linecolor\":\"white\",\"ticks\":\"\",\"title\":{\"standoff\":15},\"zerolinecolor\":\"white\",\"automargin\":true,\"zerolinewidth\":2},\"yaxis\":{\"gridcolor\":\"white\",\"linecolor\":\"white\",\"ticks\":\"\",\"title\":{\"standoff\":15},\"zerolinecolor\":\"white\",\"automargin\":true,\"zerolinewidth\":2},\"scene\":{\"xaxis\":{\"backgroundcolor\":\"#E5ECF6\",\"gridcolor\":\"white\",\"linecolor\":\"white\",\"showbackground\":true,\"ticks\":\"\",\"zerolinecolor\":\"white\",\"gridwidth\":2},\"yaxis\":{\"backgroundcolor\":\"#E5ECF6\",\"gridcolor\":\"white\",\"linecolor\":\"white\",\"showbackground\":true,\"ticks\":\"\",\"zerolinecolor\":\"white\",\"gridwidth\":2},\"zaxis\":{\"backgroundcolor\":\"#E5ECF6\",\"gridcolor\":\"white\",\"linecolor\":\"white\",\"showbackground\":true,\"ticks\":\"\",\"zerolinecolor\":\"white\",\"gridwidth\":2}},\"shapedefaults\":{\"line\":{\"color\":\"#2a3f5f\"}},\"annotationdefaults\":{\"arrowcolor\":\"#2a3f5f\",\"arrowhead\":0,\"arrowwidth\":1},\"geo\":{\"bgcolor\":\"white\",\"landcolor\":\"#E5ECF6\",\"subunitcolor\":\"white\",\"showland\":true,\"showlakes\":true,\"lakecolor\":\"white\"},\"title\":{\"x\":0.05},\"mapbox\":{\"style\":\"light\"}}},\"xaxis\":{\"anchor\":\"y\",\"domain\":[0.0,1.0],\"title\":{\"text\":\"Fare\"},\"range\":[0,520],\"tickmode\":\"array\",\"tickvals\":[0,20,40,60,80,100,120,140,160,180,200,220,240,260,280,300,320,340,360,380,400,420,440,460,480,500,520]},\"yaxis\":{\"anchor\":\"x\",\"domain\":[0.0,1.0],\"title\":{\"text\":\"count\"}},\"legend\":{\"title\":{\"text\":\"Outcome\"},\"tracegroupgap\":0},\"title\":{\"text\":\"Fare Distribution by Survival Status (Overlay, 20-unit-bins)\"},\"barmode\":\"overlay\"},                        {\"responsive\": true}                    ).then(function(){\n",
       "                            \n",
       "var gd = document.getElementById('5b898878-3959-403d-97cc-02d136f2a913');\n",
       "var x = new MutationObserver(function (mutations, observer) {{\n",
       "        var display = window.getComputedStyle(gd).display;\n",
       "        if (!display || display === 'none') {{\n",
       "            console.log([gd, 'removed!']);\n",
       "            Plotly.purge(gd);\n",
       "            observer.disconnect();\n",
       "        }}\n",
       "}});\n",
       "\n",
       "// Listen for the removal of the full notebook cells\n",
       "var notebookContainer = gd.closest('#notebook-container');\n",
       "if (notebookContainer) {{\n",
       "    x.observe(notebookContainer, {childList: true});\n",
       "}}\n",
       "\n",
       "// Listen for the clearing of the current output cell\n",
       "var outputEl = gd.closest('.output');\n",
       "if (outputEl) {{\n",
       "    x.observe(outputEl, {childList: true});\n",
       "}}\n",
       "\n",
       "                        })                };                });            </script>        </div>"
      ]
     },
     "metadata": {},
     "output_type": "display_data"
    }
   ],
   "source": [
    "import plotly.express as px\n",
    "\n",
    "train_fare[\"Outcome\"] = train_fare[\"Survived\"].map({0: \"Dead\", 1: \"Survived\"})\n",
    "\n",
    "fig = px.histogram(\n",
    "    train_fare,\n",
    "    x=\"Fare\",\n",
    "    color=\"Outcome\",\n",
    "    range_x=[0, 520],\n",
    "    barmode=\"overlay\",\n",
    "    title=\"Fare Distribution by Survival Status (Overlay, 20-unit-bins)\"\n",
    ")\n",
    "\n",
    "fig.update_traces(\n",
    "    xbins=dict(start=0, end=520, size=20)\n",
    ")\n",
    "\n",
    "fig.update_layout(\n",
    "    xaxis=dict(\n",
    "        tickmode=\"array\",\n",
    "        tickvals = [i for i in range(0, 521, 20)]\n",
    "    )\n",
    ")\n",
    "\n",
    "fig.show()\n"
   ]
  },
  {
   "cell_type": "markdown",
   "id": "7ed8abd2-8526-4839-8586-2509f5338deb",
   "metadata": {},
   "source": [
    "#### Fare 결측치 확인"
   ]
  },
  {
   "cell_type": "code",
   "execution_count": 193,
   "id": "f4b7b531-113c-4555-ad2b-f8a8151433e1",
   "metadata": {},
   "outputs": [
    {
     "data": {
      "text/plain": [
       "np.int64(1)"
      ]
     },
     "execution_count": 193,
     "metadata": {},
     "output_type": "execute_result"
    }
   ],
   "source": [
    "df[\"Fare\"].isnull().sum()"
   ]
  },
  {
   "cell_type": "code",
   "execution_count": 194,
   "id": "11c11720-506a-4222-8595-3797ffc5e0df",
   "metadata": {},
   "outputs": [
    {
     "data": {
      "text/html": [
       "<div>\n",
       "<style scoped>\n",
       "    .dataframe tbody tr th:only-of-type {\n",
       "        vertical-align: middle;\n",
       "    }\n",
       "\n",
       "    .dataframe tbody tr th {\n",
       "        vertical-align: top;\n",
       "    }\n",
       "\n",
       "    .dataframe thead th {\n",
       "        text-align: right;\n",
       "    }\n",
       "</style>\n",
       "<table border=\"1\" class=\"dataframe\">\n",
       "  <thead>\n",
       "    <tr style=\"text-align: right;\">\n",
       "      <th></th>\n",
       "      <th>PassengerId</th>\n",
       "      <th>Survived</th>\n",
       "      <th>Pclass</th>\n",
       "      <th>Sex</th>\n",
       "      <th>Age</th>\n",
       "      <th>SibSp</th>\n",
       "      <th>Parch</th>\n",
       "      <th>Ticket</th>\n",
       "      <th>Fare</th>\n",
       "      <th>Cabin</th>\n",
       "      <th>Embarked</th>\n",
       "      <th>Initial</th>\n",
       "    </tr>\n",
       "  </thead>\n",
       "  <tbody>\n",
       "    <tr>\n",
       "      <th>152</th>\n",
       "      <td>1044</td>\n",
       "      <td>NaN</td>\n",
       "      <td>3</td>\n",
       "      <td>0</td>\n",
       "      <td>6.0</td>\n",
       "      <td>0</td>\n",
       "      <td>0</td>\n",
       "      <td>3701</td>\n",
       "      <td>NaN</td>\n",
       "      <td>NaN</td>\n",
       "      <td>0</td>\n",
       "      <td>0.0</td>\n",
       "    </tr>\n",
       "  </tbody>\n",
       "</table>\n",
       "</div>"
      ],
      "text/plain": [
       "     PassengerId  Survived  Pclass  Sex  Age  SibSp  Parch Ticket  Fare Cabin  \\\n",
       "152         1044       NaN       3    0  6.0      0      0   3701   NaN   NaN   \n",
       "\n",
       "     Embarked  Initial  \n",
       "152         0      0.0  "
      ]
     },
     "execution_count": 194,
     "metadata": {},
     "output_type": "execute_result"
    }
   ],
   "source": [
    "df.loc[df[\"Fare\"].isnull()]"
   ]
  },
  {
   "cell_type": "markdown",
   "id": "50b09a01-7868-4b02-8fc2-e97dc5e4d9a3",
   "metadata": {},
   "source": [
    "#### Fare은 객석의 등급에 따라 달라질 가능성이 크므로 결측치를 해당 등급의 중앙값으로 치환"
   ]
  },
  {
   "cell_type": "code",
   "execution_count": 195,
   "id": "87fbdf58-ae45-433e-b0ae-3ab72efdb193",
   "metadata": {},
   "outputs": [],
   "source": [
    "df[\"Fare\"] = df[\"Fare\"].fillna(df.groupby([\"Pclass\"])[\"Fare\"].transform(\"median\"))"
   ]
  },
  {
   "cell_type": "markdown",
   "id": "5ed5c0cb-70e7-41c0-83f1-45ec7ccf0a3a",
   "metadata": {},
   "source": [
    "#### "
   ]
  },
  {
   "cell_type": "markdown",
   "id": "13a001ab-c36f-4082-88aa-d12f5af6f6bd",
   "metadata": {},
   "source": [
    "#### Fare 수치 데이터 범주화"
   ]
  },
  {
   "cell_type": "code",
   "execution_count": 196,
   "id": "e3c86928-7085-412c-bd70-2320593a2061",
   "metadata": {},
   "outputs": [],
   "source": [
    "df.loc[(df[\"Fare\"] <= 20), \"Fare\"] = 0\n",
    "df.loc[(df[\"Fare\"] > 20) & (df[\"Fare\"] <= 40), \"Fare\"] = 1\n",
    "df.loc[(df[\"Fare\"] > 40) & (df[\"Fare\"] <= 60), \"Fare\"] = 2\n",
    "df.loc[(df[\"Fare\"] > 60) & (df[\"Fare\"] <= 80), \"Fare\"] = 3\n",
    "df.loc[(df[\"Fare\"] > 80) & (df[\"Fare\"] <= 100), \"Fare\"] = 4\n",
    "df.loc[(df[\"Fare\"] > 100), \"Fare\"] = 5"
   ]
  },
  {
   "cell_type": "code",
   "execution_count": 197,
   "id": "bd6e757d-b779-4c96-b195-fd9c83b2e1e2",
   "metadata": {},
   "outputs": [
    {
     "data": {
      "text/html": [
       "<div>\n",
       "<style scoped>\n",
       "    .dataframe tbody tr th:only-of-type {\n",
       "        vertical-align: middle;\n",
       "    }\n",
       "\n",
       "    .dataframe tbody tr th {\n",
       "        vertical-align: top;\n",
       "    }\n",
       "\n",
       "    .dataframe thead th {\n",
       "        text-align: right;\n",
       "    }\n",
       "</style>\n",
       "<table border=\"1\" class=\"dataframe\">\n",
       "  <thead>\n",
       "    <tr style=\"text-align: right;\">\n",
       "      <th></th>\n",
       "      <th>PassengerId</th>\n",
       "      <th>Survived</th>\n",
       "      <th>Pclass</th>\n",
       "      <th>Sex</th>\n",
       "      <th>Age</th>\n",
       "      <th>SibSp</th>\n",
       "      <th>Parch</th>\n",
       "      <th>Ticket</th>\n",
       "      <th>Fare</th>\n",
       "      <th>Cabin</th>\n",
       "      <th>Embarked</th>\n",
       "      <th>Initial</th>\n",
       "    </tr>\n",
       "  </thead>\n",
       "  <tbody>\n",
       "    <tr>\n",
       "      <th>0</th>\n",
       "      <td>1</td>\n",
       "      <td>0.0</td>\n",
       "      <td>3</td>\n",
       "      <td>0</td>\n",
       "      <td>3.0</td>\n",
       "      <td>1</td>\n",
       "      <td>0</td>\n",
       "      <td>A/5 21171</td>\n",
       "      <td>0.0</td>\n",
       "      <td>NaN</td>\n",
       "      <td>0</td>\n",
       "      <td>0.0</td>\n",
       "    </tr>\n",
       "    <tr>\n",
       "      <th>1</th>\n",
       "      <td>2</td>\n",
       "      <td>1.0</td>\n",
       "      <td>1</td>\n",
       "      <td>1</td>\n",
       "      <td>4.0</td>\n",
       "      <td>1</td>\n",
       "      <td>0</td>\n",
       "      <td>PC 17599</td>\n",
       "      <td>3.0</td>\n",
       "      <td>C85</td>\n",
       "      <td>1</td>\n",
       "      <td>2.0</td>\n",
       "    </tr>\n",
       "    <tr>\n",
       "      <th>2</th>\n",
       "      <td>3</td>\n",
       "      <td>1.0</td>\n",
       "      <td>3</td>\n",
       "      <td>1</td>\n",
       "      <td>3.0</td>\n",
       "      <td>0</td>\n",
       "      <td>0</td>\n",
       "      <td>STON/O2. 3101282</td>\n",
       "      <td>0.0</td>\n",
       "      <td>NaN</td>\n",
       "      <td>0</td>\n",
       "      <td>1.0</td>\n",
       "    </tr>\n",
       "    <tr>\n",
       "      <th>3</th>\n",
       "      <td>4</td>\n",
       "      <td>1.0</td>\n",
       "      <td>1</td>\n",
       "      <td>1</td>\n",
       "      <td>4.0</td>\n",
       "      <td>1</td>\n",
       "      <td>0</td>\n",
       "      <td>113803</td>\n",
       "      <td>2.0</td>\n",
       "      <td>C123</td>\n",
       "      <td>0</td>\n",
       "      <td>2.0</td>\n",
       "    </tr>\n",
       "    <tr>\n",
       "      <th>4</th>\n",
       "      <td>5</td>\n",
       "      <td>0.0</td>\n",
       "      <td>3</td>\n",
       "      <td>0</td>\n",
       "      <td>4.0</td>\n",
       "      <td>0</td>\n",
       "      <td>0</td>\n",
       "      <td>373450</td>\n",
       "      <td>0.0</td>\n",
       "      <td>NaN</td>\n",
       "      <td>0</td>\n",
       "      <td>0.0</td>\n",
       "    </tr>\n",
       "  </tbody>\n",
       "</table>\n",
       "</div>"
      ],
      "text/plain": [
       "   PassengerId  Survived  Pclass  Sex  Age  SibSp  Parch            Ticket  \\\n",
       "0            1       0.0       3    0  3.0      1      0         A/5 21171   \n",
       "1            2       1.0       1    1  4.0      1      0          PC 17599   \n",
       "2            3       1.0       3    1  3.0      0      0  STON/O2. 3101282   \n",
       "3            4       1.0       1    1  4.0      1      0            113803   \n",
       "4            5       0.0       3    0  4.0      0      0            373450   \n",
       "\n",
       "   Fare Cabin  Embarked  Initial  \n",
       "0   0.0   NaN         0      0.0  \n",
       "1   3.0   C85         1      2.0  \n",
       "2   0.0   NaN         0      1.0  \n",
       "3   2.0  C123         0      2.0  \n",
       "4   0.0   NaN         0      0.0  "
      ]
     },
     "execution_count": 197,
     "metadata": {},
     "output_type": "execute_result"
    }
   ],
   "source": [
    "df.head()"
   ]
  },
  {
   "cell_type": "markdown",
   "id": "138797eb-3fc0-46f1-becb-03961f2f97de",
   "metadata": {},
   "source": [
    "#### SibSp + Parch\n",
    "- 가족과 관련있는 두 Feature를 하나로 합쳐서 데이터의 크기 및 다양성을 보충 "
   ]
  },
  {
   "cell_type": "code",
   "execution_count": 198,
   "id": "25e28b7b-6473-416f-9ffb-52623f41356d",
   "metadata": {},
   "outputs": [],
   "source": [
    "df[\"Family\"] = df[\"SibSp\"] + df[\"Parch\"] + 1 # 본인을 포함해야 하므로 1을 더함 \n"
   ]
  },
  {
   "cell_type": "code",
   "execution_count": 199,
   "id": "591a01d5-0041-4cc7-ae02-8b8ae3141b4a",
   "metadata": {},
   "outputs": [
    {
     "data": {
      "text/html": [
       "<div>\n",
       "<style scoped>\n",
       "    .dataframe tbody tr th:only-of-type {\n",
       "        vertical-align: middle;\n",
       "    }\n",
       "\n",
       "    .dataframe tbody tr th {\n",
       "        vertical-align: top;\n",
       "    }\n",
       "\n",
       "    .dataframe thead th {\n",
       "        text-align: right;\n",
       "    }\n",
       "</style>\n",
       "<table border=\"1\" class=\"dataframe\">\n",
       "  <thead>\n",
       "    <tr style=\"text-align: right;\">\n",
       "      <th></th>\n",
       "      <th>PassengerId</th>\n",
       "      <th>Survived</th>\n",
       "      <th>Pclass</th>\n",
       "      <th>Sex</th>\n",
       "      <th>Age</th>\n",
       "      <th>SibSp</th>\n",
       "      <th>Parch</th>\n",
       "      <th>Ticket</th>\n",
       "      <th>Fare</th>\n",
       "      <th>Cabin</th>\n",
       "      <th>Embarked</th>\n",
       "      <th>Initial</th>\n",
       "      <th>Family</th>\n",
       "    </tr>\n",
       "  </thead>\n",
       "  <tbody>\n",
       "    <tr>\n",
       "      <th>0</th>\n",
       "      <td>1</td>\n",
       "      <td>0.0</td>\n",
       "      <td>3</td>\n",
       "      <td>0</td>\n",
       "      <td>3.0</td>\n",
       "      <td>1</td>\n",
       "      <td>0</td>\n",
       "      <td>A/5 21171</td>\n",
       "      <td>0.0</td>\n",
       "      <td>NaN</td>\n",
       "      <td>0</td>\n",
       "      <td>0.0</td>\n",
       "      <td>2</td>\n",
       "    </tr>\n",
       "    <tr>\n",
       "      <th>1</th>\n",
       "      <td>2</td>\n",
       "      <td>1.0</td>\n",
       "      <td>1</td>\n",
       "      <td>1</td>\n",
       "      <td>4.0</td>\n",
       "      <td>1</td>\n",
       "      <td>0</td>\n",
       "      <td>PC 17599</td>\n",
       "      <td>3.0</td>\n",
       "      <td>C85</td>\n",
       "      <td>1</td>\n",
       "      <td>2.0</td>\n",
       "      <td>2</td>\n",
       "    </tr>\n",
       "    <tr>\n",
       "      <th>2</th>\n",
       "      <td>3</td>\n",
       "      <td>1.0</td>\n",
       "      <td>3</td>\n",
       "      <td>1</td>\n",
       "      <td>3.0</td>\n",
       "      <td>0</td>\n",
       "      <td>0</td>\n",
       "      <td>STON/O2. 3101282</td>\n",
       "      <td>0.0</td>\n",
       "      <td>NaN</td>\n",
       "      <td>0</td>\n",
       "      <td>1.0</td>\n",
       "      <td>1</td>\n",
       "    </tr>\n",
       "    <tr>\n",
       "      <th>3</th>\n",
       "      <td>4</td>\n",
       "      <td>1.0</td>\n",
       "      <td>1</td>\n",
       "      <td>1</td>\n",
       "      <td>4.0</td>\n",
       "      <td>1</td>\n",
       "      <td>0</td>\n",
       "      <td>113803</td>\n",
       "      <td>2.0</td>\n",
       "      <td>C123</td>\n",
       "      <td>0</td>\n",
       "      <td>2.0</td>\n",
       "      <td>2</td>\n",
       "    </tr>\n",
       "    <tr>\n",
       "      <th>4</th>\n",
       "      <td>5</td>\n",
       "      <td>0.0</td>\n",
       "      <td>3</td>\n",
       "      <td>0</td>\n",
       "      <td>4.0</td>\n",
       "      <td>0</td>\n",
       "      <td>0</td>\n",
       "      <td>373450</td>\n",
       "      <td>0.0</td>\n",
       "      <td>NaN</td>\n",
       "      <td>0</td>\n",
       "      <td>0.0</td>\n",
       "      <td>1</td>\n",
       "    </tr>\n",
       "  </tbody>\n",
       "</table>\n",
       "</div>"
      ],
      "text/plain": [
       "   PassengerId  Survived  Pclass  Sex  Age  SibSp  Parch            Ticket  \\\n",
       "0            1       0.0       3    0  3.0      1      0         A/5 21171   \n",
       "1            2       1.0       1    1  4.0      1      0          PC 17599   \n",
       "2            3       1.0       3    1  3.0      0      0  STON/O2. 3101282   \n",
       "3            4       1.0       1    1  4.0      1      0            113803   \n",
       "4            5       0.0       3    0  4.0      0      0            373450   \n",
       "\n",
       "   Fare Cabin  Embarked  Initial  Family  \n",
       "0   0.0   NaN         0      0.0       2  \n",
       "1   3.0   C85         1      2.0       2  \n",
       "2   0.0   NaN         0      1.0       1  \n",
       "3   2.0  C123         0      2.0       2  \n",
       "4   0.0   NaN         0      0.0       1  "
      ]
     },
     "execution_count": 199,
     "metadata": {},
     "output_type": "execute_result"
    }
   ],
   "source": [
    "df.head()"
   ]
  },
  {
   "cell_type": "markdown",
   "id": "fd61e621-571f-4493-94a5-5212653942fb",
   "metadata": {},
   "source": [
    "#### 기존 SibSp, Parch columns 삭제"
   ]
  },
  {
   "cell_type": "code",
   "execution_count": 200,
   "id": "43e3277d-b722-4fe5-bf1e-1452acc7b278",
   "metadata": {},
   "outputs": [
    {
     "data": {
      "text/html": [
       "<div>\n",
       "<style scoped>\n",
       "    .dataframe tbody tr th:only-of-type {\n",
       "        vertical-align: middle;\n",
       "    }\n",
       "\n",
       "    .dataframe tbody tr th {\n",
       "        vertical-align: top;\n",
       "    }\n",
       "\n",
       "    .dataframe thead th {\n",
       "        text-align: right;\n",
       "    }\n",
       "</style>\n",
       "<table border=\"1\" class=\"dataframe\">\n",
       "  <thead>\n",
       "    <tr style=\"text-align: right;\">\n",
       "      <th></th>\n",
       "      <th>PassengerId</th>\n",
       "      <th>Survived</th>\n",
       "      <th>Pclass</th>\n",
       "      <th>Sex</th>\n",
       "      <th>Age</th>\n",
       "      <th>Ticket</th>\n",
       "      <th>Fare</th>\n",
       "      <th>Cabin</th>\n",
       "      <th>Embarked</th>\n",
       "      <th>Initial</th>\n",
       "      <th>Family</th>\n",
       "    </tr>\n",
       "  </thead>\n",
       "  <tbody>\n",
       "    <tr>\n",
       "      <th>0</th>\n",
       "      <td>1</td>\n",
       "      <td>0.0</td>\n",
       "      <td>3</td>\n",
       "      <td>0</td>\n",
       "      <td>3.0</td>\n",
       "      <td>A/5 21171</td>\n",
       "      <td>0.0</td>\n",
       "      <td>NaN</td>\n",
       "      <td>0</td>\n",
       "      <td>0.0</td>\n",
       "      <td>2</td>\n",
       "    </tr>\n",
       "    <tr>\n",
       "      <th>1</th>\n",
       "      <td>2</td>\n",
       "      <td>1.0</td>\n",
       "      <td>1</td>\n",
       "      <td>1</td>\n",
       "      <td>4.0</td>\n",
       "      <td>PC 17599</td>\n",
       "      <td>3.0</td>\n",
       "      <td>C85</td>\n",
       "      <td>1</td>\n",
       "      <td>2.0</td>\n",
       "      <td>2</td>\n",
       "    </tr>\n",
       "    <tr>\n",
       "      <th>2</th>\n",
       "      <td>3</td>\n",
       "      <td>1.0</td>\n",
       "      <td>3</td>\n",
       "      <td>1</td>\n",
       "      <td>3.0</td>\n",
       "      <td>STON/O2. 3101282</td>\n",
       "      <td>0.0</td>\n",
       "      <td>NaN</td>\n",
       "      <td>0</td>\n",
       "      <td>1.0</td>\n",
       "      <td>1</td>\n",
       "    </tr>\n",
       "    <tr>\n",
       "      <th>3</th>\n",
       "      <td>4</td>\n",
       "      <td>1.0</td>\n",
       "      <td>1</td>\n",
       "      <td>1</td>\n",
       "      <td>4.0</td>\n",
       "      <td>113803</td>\n",
       "      <td>2.0</td>\n",
       "      <td>C123</td>\n",
       "      <td>0</td>\n",
       "      <td>2.0</td>\n",
       "      <td>2</td>\n",
       "    </tr>\n",
       "    <tr>\n",
       "      <th>4</th>\n",
       "      <td>5</td>\n",
       "      <td>0.0</td>\n",
       "      <td>3</td>\n",
       "      <td>0</td>\n",
       "      <td>4.0</td>\n",
       "      <td>373450</td>\n",
       "      <td>0.0</td>\n",
       "      <td>NaN</td>\n",
       "      <td>0</td>\n",
       "      <td>0.0</td>\n",
       "      <td>1</td>\n",
       "    </tr>\n",
       "  </tbody>\n",
       "</table>\n",
       "</div>"
      ],
      "text/plain": [
       "   PassengerId  Survived  Pclass  Sex  Age            Ticket  Fare Cabin  \\\n",
       "0            1       0.0       3    0  3.0         A/5 21171   0.0   NaN   \n",
       "1            2       1.0       1    1  4.0          PC 17599   3.0   C85   \n",
       "2            3       1.0       3    1  3.0  STON/O2. 3101282   0.0   NaN   \n",
       "3            4       1.0       1    1  4.0            113803   2.0  C123   \n",
       "4            5       0.0       3    0  4.0            373450   0.0   NaN   \n",
       "\n",
       "   Embarked  Initial  Family  \n",
       "0         0      0.0       2  \n",
       "1         1      2.0       2  \n",
       "2         0      1.0       1  \n",
       "3         0      2.0       2  \n",
       "4         0      0.0       1  "
      ]
     },
     "execution_count": 200,
     "metadata": {},
     "output_type": "execute_result"
    }
   ],
   "source": [
    "df.drop([\"SibSp\", \"Parch\"], axis =1, inplace=True)\n",
    "df.head()"
   ]
  },
  {
   "cell_type": "markdown",
   "id": "73169941-e29b-4141-ab07-892b7637222e",
   "metadata": {},
   "source": [
    "#### 결측치 확인을 위한 missingno library 사용\n"
   ]
  },
  {
   "cell_type": "code",
   "execution_count": 201,
   "id": "908647d5-d7e5-42f1-9358-f6eb9f0aa6a9",
   "metadata": {},
   "outputs": [
    {
     "name": "stdout",
     "output_type": "stream",
     "text": [
      "Requirement already satisfied: missingno in c:\\users\\rladm\\anaconda3\\lib\\site-packages (0.5.2)\n",
      "Requirement already satisfied: numpy in c:\\users\\rladm\\anaconda3\\lib\\site-packages (from missingno) (2.1.3)\n",
      "Requirement already satisfied: matplotlib in c:\\users\\rladm\\anaconda3\\lib\\site-packages (from missingno) (3.10.0)\n",
      "Requirement already satisfied: scipy in c:\\users\\rladm\\anaconda3\\lib\\site-packages (from missingno) (1.15.3)\n",
      "Requirement already satisfied: seaborn in c:\\users\\rladm\\anaconda3\\lib\\site-packages (from missingno) (0.13.2)\n",
      "Requirement already satisfied: contourpy>=1.0.1 in c:\\users\\rladm\\anaconda3\\lib\\site-packages (from matplotlib->missingno) (1.3.1)\n",
      "Requirement already satisfied: cycler>=0.10 in c:\\users\\rladm\\anaconda3\\lib\\site-packages (from matplotlib->missingno) (0.11.0)\n",
      "Requirement already satisfied: fonttools>=4.22.0 in c:\\users\\rladm\\anaconda3\\lib\\site-packages (from matplotlib->missingno) (4.55.3)\n",
      "Requirement already satisfied: kiwisolver>=1.3.1 in c:\\users\\rladm\\anaconda3\\lib\\site-packages (from matplotlib->missingno) (1.4.8)\n",
      "Requirement already satisfied: packaging>=20.0 in c:\\users\\rladm\\anaconda3\\lib\\site-packages (from matplotlib->missingno) (24.2)\n",
      "Requirement already satisfied: pillow>=8 in c:\\users\\rladm\\anaconda3\\lib\\site-packages (from matplotlib->missingno) (11.1.0)\n",
      "Requirement already satisfied: pyparsing>=2.3.1 in c:\\users\\rladm\\anaconda3\\lib\\site-packages (from matplotlib->missingno) (3.2.0)\n",
      "Requirement already satisfied: python-dateutil>=2.7 in c:\\users\\rladm\\anaconda3\\lib\\site-packages (from matplotlib->missingno) (2.9.0.post0)\n",
      "Requirement already satisfied: six>=1.5 in c:\\users\\rladm\\anaconda3\\lib\\site-packages (from python-dateutil>=2.7->matplotlib->missingno) (1.17.0)\n",
      "Requirement already satisfied: pandas>=1.2 in c:\\users\\rladm\\anaconda3\\lib\\site-packages (from seaborn->missingno) (2.2.3)\n",
      "Requirement already satisfied: pytz>=2020.1 in c:\\users\\rladm\\anaconda3\\lib\\site-packages (from pandas>=1.2->seaborn->missingno) (2024.1)\n",
      "Requirement already satisfied: tzdata>=2022.7 in c:\\users\\rladm\\anaconda3\\lib\\site-packages (from pandas>=1.2->seaborn->missingno) (2025.2)\n"
     ]
    }
   ],
   "source": [
    "!pip install missingno"
   ]
  },
  {
   "cell_type": "markdown",
   "id": "a5ebdc64-03b0-4819-9556-c5120b6f7074",
   "metadata": {},
   "source": [
    "#### df 데이터 프레임의 특징\n",
    "- train, test dataset을 합쳤기 때문에 Survived(Target)값이 없는 경우는 test dataset이라 볼 수 있음\n",
    "- Cabin의 경우 상당히 많은 수의 결측치를 확인, 나머지 feature 들은 위의 engineering 과정을 통해 결측치 치환"
   ]
  },
  {
   "cell_type": "code",
   "execution_count": 202,
   "id": "6785a59a-e62c-4157-a454-8ae36b93dc8d",
   "metadata": {},
   "outputs": [
    {
     "data": {
      "text/plain": [
       "<Axes: >"
      ]
     },
     "execution_count": 202,
     "metadata": {},
     "output_type": "execute_result"
    },
    {
     "data": {
      "image/png": "[encoded data removed]",
      "text/plain": [
       "<Figure size 1200x600 with 2 Axes>"
      ]
     },
     "metadata": {},
     "output_type": "display_data"
    }
   ],
   "source": [
    "import missingno\n",
    "missingno.matrix(df, figsize=(12, 6))\n"
   ]
  },
  {
   "cell_type": "markdown",
   "id": "57e2d25d-cc92-471a-8e34-64d94f636be3",
   "metadata": {},
   "source": [
    "#### Cabin의 고유값 확인"
   ]
  },
  {
   "cell_type": "code",
   "execution_count": 203,
   "id": "d3af7332-5d43-4d11-b592-3aac034188db",
   "metadata": {},
   "outputs": [
    {
     "data": {
      "text/plain": [
       "array([nan, 'C85', 'C123', 'E46', 'G6', 'C103', 'D56', 'A6',\n",
       "       'C23 C25 C27', 'B78', 'D33', 'B30', 'C52', 'B28', 'C83', 'F33',\n",
       "       'F G73', 'E31', 'A5', 'D10 D12', 'D26', 'C110', 'B58 B60', 'E101',\n",
       "       'F E69', 'D47', 'B86', 'F2', 'C2', 'E33', 'B19', 'A7', 'C49', 'F4',\n",
       "       'A32', 'B4', 'B80', 'A31', 'D36', 'D15', 'C93', 'C78', 'D35',\n",
       "       'C87', 'B77', 'E67', 'B94', 'C125', 'C99', 'C118', 'D7', 'A19',\n",
       "       'B49', 'D', 'C22 C26', 'C106', 'C65', 'E36', 'C54',\n",
       "       'B57 B59 B63 B66', 'C7', 'E34', 'C32', 'B18', 'C124', 'C91', 'E40',\n",
       "       'T', 'C128', 'D37', 'B35', 'E50', 'C82', 'B96 B98', 'E10', 'E44',\n",
       "       'A34', 'C104', 'C111', 'C92', 'E38', 'D21', 'E12', 'E63', 'A14',\n",
       "       'B37', 'C30', 'D20', 'B79', 'E25', 'D46', 'B73', 'C95', 'B38',\n",
       "       'B39', 'B22', 'C86', 'C70', 'A16', 'C101', 'C68', 'A10', 'E68',\n",
       "       'B41', 'A20', 'D19', 'D50', 'D9', 'A23', 'B50', 'A26', 'D48',\n",
       "       'E58', 'C126', 'B71', 'B51 B53 B55', 'D49', 'B5', 'B20', 'F G63',\n",
       "       'C62 C64', 'E24', 'C90', 'C45', 'E8', 'B101', 'D45', 'C46', 'D30',\n",
       "       'E121', 'D11', 'E77', 'F38', 'B3', 'D6', 'B82 B84', 'D17', 'A36',\n",
       "       'B102', 'B69', 'E49', 'C47', 'D28', 'E17', 'A24', 'C50', 'B42',\n",
       "       'C148', 'B45', 'B36', 'A21', 'D34', 'A9', 'C31', 'B61', 'C53',\n",
       "       'D43', 'C130', 'C132', 'C55 C57', 'C116', 'F', 'A29', 'C6', 'C28',\n",
       "       'C51', 'C97', 'D22', 'B10', 'E45', 'E52', 'A11', 'B11', 'C80',\n",
       "       'C89', 'F E46', 'B26', 'F E57', 'A18', 'E60', 'E39 E41',\n",
       "       'B52 B54 B56', 'C39', 'B24', 'D40', 'D38', 'C105'], dtype=object)"
      ]
     },
     "execution_count": 203,
     "metadata": {},
     "output_type": "execute_result"
    }
   ],
   "source": [
    "df[\"Cabin\"].unique()"
   ]
  },
  {
   "cell_type": "markdown",
   "id": "0c969e6b-5d93-4a86-90e1-08df45652ec1",
   "metadata": {},
   "source": [
    "#### Cabin의 결측치의 경우 U로 채워넣고, 첫번째 문자열만 가져옴\n"
   ]
  },
  {
   "cell_type": "code",
   "execution_count": 204,
   "id": "cb2aed89-6d27-4b43-963d-e11790af45da",
   "metadata": {},
   "outputs": [
    {
     "data": {
      "text/html": [
       "<div>\n",
       "<style scoped>\n",
       "    .dataframe tbody tr th:only-of-type {\n",
       "        vertical-align: middle;\n",
       "    }\n",
       "\n",
       "    .dataframe tbody tr th {\n",
       "        vertical-align: top;\n",
       "    }\n",
       "\n",
       "    .dataframe thead th {\n",
       "        text-align: right;\n",
       "    }\n",
       "</style>\n",
       "<table border=\"1\" class=\"dataframe\">\n",
       "  <thead>\n",
       "    <tr style=\"text-align: right;\">\n",
       "      <th></th>\n",
       "      <th>PassengerId</th>\n",
       "      <th>Survived</th>\n",
       "      <th>Pclass</th>\n",
       "      <th>Sex</th>\n",
       "      <th>Age</th>\n",
       "      <th>Ticket</th>\n",
       "      <th>Fare</th>\n",
       "      <th>Cabin</th>\n",
       "      <th>Embarked</th>\n",
       "      <th>Initial</th>\n",
       "      <th>Family</th>\n",
       "    </tr>\n",
       "  </thead>\n",
       "  <tbody>\n",
       "    <tr>\n",
       "      <th>0</th>\n",
       "      <td>1</td>\n",
       "      <td>0.0</td>\n",
       "      <td>3</td>\n",
       "      <td>0</td>\n",
       "      <td>3.0</td>\n",
       "      <td>A/5 21171</td>\n",
       "      <td>0.0</td>\n",
       "      <td>U</td>\n",
       "      <td>0</td>\n",
       "      <td>0.0</td>\n",
       "      <td>2</td>\n",
       "    </tr>\n",
       "    <tr>\n",
       "      <th>1</th>\n",
       "      <td>2</td>\n",
       "      <td>1.0</td>\n",
       "      <td>1</td>\n",
       "      <td>1</td>\n",
       "      <td>4.0</td>\n",
       "      <td>PC 17599</td>\n",
       "      <td>3.0</td>\n",
       "      <td>C</td>\n",
       "      <td>1</td>\n",
       "      <td>2.0</td>\n",
       "      <td>2</td>\n",
       "    </tr>\n",
       "    <tr>\n",
       "      <th>2</th>\n",
       "      <td>3</td>\n",
       "      <td>1.0</td>\n",
       "      <td>3</td>\n",
       "      <td>1</td>\n",
       "      <td>3.0</td>\n",
       "      <td>STON/O2. 3101282</td>\n",
       "      <td>0.0</td>\n",
       "      <td>U</td>\n",
       "      <td>0</td>\n",
       "      <td>1.0</td>\n",
       "      <td>1</td>\n",
       "    </tr>\n",
       "    <tr>\n",
       "      <th>3</th>\n",
       "      <td>4</td>\n",
       "      <td>1.0</td>\n",
       "      <td>1</td>\n",
       "      <td>1</td>\n",
       "      <td>4.0</td>\n",
       "      <td>113803</td>\n",
       "      <td>2.0</td>\n",
       "      <td>C</td>\n",
       "      <td>0</td>\n",
       "      <td>2.0</td>\n",
       "      <td>2</td>\n",
       "    </tr>\n",
       "    <tr>\n",
       "      <th>4</th>\n",
       "      <td>5</td>\n",
       "      <td>0.0</td>\n",
       "      <td>3</td>\n",
       "      <td>0</td>\n",
       "      <td>4.0</td>\n",
       "      <td>373450</td>\n",
       "      <td>0.0</td>\n",
       "      <td>U</td>\n",
       "      <td>0</td>\n",
       "      <td>0.0</td>\n",
       "      <td>1</td>\n",
       "    </tr>\n",
       "  </tbody>\n",
       "</table>\n",
       "</div>"
      ],
      "text/plain": [
       "   PassengerId  Survived  Pclass  Sex  Age            Ticket  Fare Cabin  \\\n",
       "0            1       0.0       3    0  3.0         A/5 21171   0.0     U   \n",
       "1            2       1.0       1    1  4.0          PC 17599   3.0     C   \n",
       "2            3       1.0       3    1  3.0  STON/O2. 3101282   0.0     U   \n",
       "3            4       1.0       1    1  4.0            113803   2.0     C   \n",
       "4            5       0.0       3    0  4.0            373450   0.0     U   \n",
       "\n",
       "   Embarked  Initial  Family  \n",
       "0         0      0.0       2  \n",
       "1         1      2.0       2  \n",
       "2         0      1.0       1  \n",
       "3         0      2.0       2  \n",
       "4         0      0.0       1  "
      ]
     },
     "execution_count": 204,
     "metadata": {},
     "output_type": "execute_result"
    }
   ],
   "source": [
    "df[\"Cabin\"] = df[\"Cabin\"].fillna(\"U\")\n",
    "df[\"Cabin\"] = df[\"Cabin\"].str[0]\n",
    "df.head()"
   ]
  },
  {
   "cell_type": "code",
   "execution_count": 205,
   "id": "c3197240-751b-4cc6-a2a8-fdd772bc0d8b",
   "metadata": {},
   "outputs": [
    {
     "data": {
      "text/plain": [
       "array(['U', 'C', 'E', 'G', 'D', 'A', 'B', 'F', 'T'], dtype=object)"
      ]
     },
     "execution_count": 205,
     "metadata": {},
     "output_type": "execute_result"
    }
   ],
   "source": [
    "df[\"Cabin\"].unique()"
   ]
  },
  {
   "cell_type": "markdown",
   "id": "44b463a7-8d56-4b92-8c86-0487fd10a04e",
   "metadata": {},
   "source": [
    "#### Cabin 값에 따른 생존률 확인\n",
    "- 대체로 Cabin 값이 없는 경우(\"U\")에 사망률이 높음"
   ]
  },
  {
   "cell_type": "code",
   "execution_count": 206,
   "id": "ddcc455c-4cdd-42e1-a14f-9b993e006c6b",
   "metadata": {},
   "outputs": [
    {
     "data": {
      "text/plain": [
       "(891, 11)"
      ]
     },
     "execution_count": 206,
     "metadata": {},
     "output_type": "execute_result"
    }
   ],
   "source": [
    "train = df[:ntrain]\n",
    "train.shape"
   ]
  },
  {
   "cell_type": "code",
   "execution_count": 207,
   "id": "838c1b51-6629-4a93-b7e8-66936a46654e",
   "metadata": {},
   "outputs": [
    {
     "data": {
      "application/vnd.plotly.v1+json": {
       "config": {
        "plotlyServerURL": "https://plot.ly"
       },
       "data": [
        {
         "alignmentgroup": "True",
         "bingroup": "x",
         "hovertemplate": "Result=Dead<br>Cabin=%{x}<br>count=%{y}<extra></extra>",
         "legendgroup": "Dead",
         "marker": {
          "color": "#636efa",
          "opacity": 0.5,
          "pattern": {
           "shape": ""
          }
         },
         "name": "Dead",
         "offsetgroup": "Dead",
         "orientation": "v",
         "showlegend": true,
         "type": "histogram",
         "x": [
          "U",
          "U",
          "U",
          "E",
          "U",
          "U",
          "U",
          "U",
          "U",
          "U",
          "U",
          "U",
          "U",
          "C",
          "U",
          "U",
          "U",
          "U",
          "U",
          "U",
          "U",
          "U",
          "U",
          "U",
          "U",
          "U",
          "U",
          "U",
          "U",
          "U",
          "B",
          "U",
          "U",
          "U",
          "C",
          "U",
          "U",
          "U",
          "U",
          "U",
          "U",
          "U",
          "U",
          "F",
          "U",
          "U",
          "U",
          "U",
          "U",
          "U",
          "U",
          "U",
          "U",
          "E",
          "U",
          "U",
          "U",
          "A",
          "U",
          "U",
          "U",
          "D",
          "U",
          "U",
          "U",
          "U",
          "C",
          "U",
          "U",
          "U",
          "U",
          "U",
          "U",
          "U",
          "B",
          "U",
          "U",
          "U",
          "U",
          "D",
          "U",
          "U",
          "U",
          "U",
          "U",
          "U",
          "U",
          "C",
          "U",
          "B",
          "U",
          "U",
          "U",
          "U",
          "U",
          "F",
          "U",
          "U",
          "U",
          "U",
          "U",
          "U",
          "U",
          "U",
          "U",
          "U",
          "U",
          "U",
          "U",
          "U",
          "U",
          "U",
          "B",
          "U",
          "U",
          "A",
          "U",
          "U",
          "C",
          "U",
          "U",
          "U",
          "U",
          "U",
          "A",
          "U",
          "U",
          "U",
          "U",
          "U",
          "U",
          "U",
          "U",
          "U",
          "U",
          "G",
          "U",
          "U",
          "U",
          "U",
          "U",
          "U",
          "U",
          "U",
          "U",
          "U",
          "U",
          "U",
          "U",
          "U",
          "U",
          "U",
          "U",
          "U",
          "U",
          "U",
          "U",
          "U",
          "U",
          "U",
          "U",
          "C",
          "U",
          "U",
          "U",
          "G",
          "C",
          "U",
          "U",
          "U",
          "E",
          "B",
          "U",
          "U",
          "U",
          "U",
          "C",
          "U",
          "U",
          "U",
          "U",
          "U",
          "U",
          "A",
          "U",
          "U",
          "D",
          "U",
          "U",
          "U",
          "U",
          "C",
          "U",
          "U",
          "U",
          "U",
          "U",
          "U",
          "U",
          "U",
          "U",
          "U",
          "U",
          "C",
          "C",
          "U",
          "U",
          "C",
          "T",
          "U",
          "U",
          "U",
          "U",
          "U",
          "C",
          "U",
          "U",
          "U",
          "U",
          "U",
          "U",
          "U",
          "U",
          "U",
          "U",
          "U",
          "U",
          "U",
          "U",
          "U",
          "C",
          "U",
          "U",
          "U",
          "U",
          "U",
          "U",
          "U",
          "U",
          "U",
          "U",
          "U",
          "U",
          "U",
          "U",
          "U",
          "U",
          "U",
          "U",
          "U",
          "U",
          "U",
          "U",
          "U",
          "U",
          "U",
          "U",
          "U",
          "U",
          "U",
          "U",
          "U",
          "U",
          "U",
          "U",
          "E",
          "U",
          "C",
          "U",
          "U",
          "U",
          "U",
          "U",
          "C",
          "U",
          "E",
          "U",
          "U",
          "E",
          "U",
          "U",
          "U",
          "U",
          "U",
          "U",
          "U",
          "U",
          "U",
          "A",
          "U",
          "U",
          "U",
          "U",
          "U",
          "U",
          "U",
          "B",
          "U",
          "U",
          "U",
          "C",
          "U",
          "U",
          "U",
          "U",
          "C",
          "U",
          "U",
          "U",
          "U",
          "U",
          "C",
          "U",
          "U",
          "U",
          "D",
          "U",
          "U",
          "U",
          "U",
          "U",
          "U",
          "C",
          "U",
          "U",
          "U",
          "U",
          "U",
          "B",
          "U",
          "U",
          "U",
          "C",
          "U",
          "U",
          "U",
          "U",
          "U",
          "U",
          "U",
          "U",
          "U",
          "U",
          "U",
          "U",
          "U",
          "U",
          "U",
          "U",
          "U",
          "U",
          "U",
          "A",
          "U",
          "U",
          "U",
          "U",
          "U",
          "U",
          "U",
          "U",
          "U",
          "U",
          "U",
          "U",
          "U",
          "U",
          "U",
          "U",
          "U",
          "U",
          "U",
          "U",
          "U",
          "U",
          "U",
          "U",
          "U",
          "U",
          "D",
          "U",
          "U",
          "U",
          "U",
          "U",
          "U",
          "U",
          "U",
          "U",
          "U",
          "U",
          "U",
          "U",
          "U",
          "U",
          "U",
          "U",
          "U",
          "U",
          "U",
          "U",
          "D",
          "U",
          "E",
          "U",
          "U",
          "U",
          "U",
          "U",
          "B",
          "U",
          "U",
          "U",
          "U",
          "U",
          "U",
          "U",
          "U",
          "U",
          "U",
          "U",
          "U",
          "U",
          "U",
          "U",
          "U",
          "U",
          "C",
          "F",
          "U",
          "U",
          "U",
          "U",
          "C",
          "U",
          "U",
          "F",
          "U",
          "U",
          "U",
          "U",
          "U",
          "U",
          "U",
          "U",
          "U",
          "U",
          "U",
          "U",
          "U",
          "U",
          "U",
          "U",
          "C",
          "U",
          "B",
          "U",
          "D",
          "U",
          "U",
          "U",
          "U",
          "U",
          "U",
          "U",
          "U",
          "U",
          "U",
          "U",
          "U",
          "U",
          "U",
          "U",
          "E",
          "U",
          "U",
          "F",
          "U",
          "D",
          "U",
          "U",
          "U",
          "U",
          "B",
          "U",
          "U",
          "U",
          "U",
          "U",
          "U",
          "U",
          "U",
          "U",
          "U",
          "A",
          "U",
          "U",
          "U",
          "U",
          "U",
          "U",
          "U",
          "B",
          "U",
          "U",
          "U",
          "U",
          "U",
          "U",
          "U",
          "U",
          "U",
          "U",
          "U",
          "U",
          "U",
          "U",
          "U",
          "U",
          "U",
          "U",
          "U",
          "U",
          "U",
          "U",
          "U",
          "U",
          "U",
          "U",
          "U",
          "U",
          "U",
          "U",
          "A",
          "U",
          "U",
          "B",
          "U",
          "U",
          "U",
          "U",
          "U",
          "U",
          "U",
          "U",
          "U",
          "U",
          "U",
          "U"
         ],
         "xaxis": "x",
         "yaxis": "y"
        },
        {
         "alignmentgroup": "True",
         "bingroup": "x",
         "hovertemplate": "Result=Survived<br>Cabin=%{x}<br>count=%{y}<extra></extra>",
         "legendgroup": "Survived",
         "marker": {
          "color": "#EF553B",
          "opacity": 0.5,
          "pattern": {
           "shape": ""
          }
         },
         "name": "Survived",
         "offsetgroup": "Survived",
         "orientation": "v",
         "showlegend": true,
         "type": "histogram",
         "x": [
          "C",
          "U",
          "C",
          "U",
          "U",
          "G",
          "C",
          "U",
          "U",
          "U",
          "D",
          "U",
          "A",
          "U",
          "U",
          "B",
          "U",
          "U",
          "U",
          "U",
          "U",
          "U",
          "D",
          "U",
          "C",
          "U",
          "U",
          "B",
          "U",
          "F",
          "U",
          "U",
          "U",
          "U",
          "U",
          "U",
          "U",
          "U",
          "C",
          "D",
          "U",
          "U",
          "U",
          "U",
          "E",
          "U",
          "U",
          "F",
          "U",
          "D",
          "U",
          "U",
          "U",
          "C",
          "U",
          "U",
          "U",
          "E",
          "U",
          "F",
          "U",
          "U",
          "U",
          "U",
          "U",
          "F",
          "B",
          "B",
          "U",
          "U",
          "U",
          "U",
          "A",
          "U",
          "D",
          "U",
          "D",
          "U",
          "C",
          "U",
          "C",
          "U",
          "U",
          "U",
          "U",
          "D",
          "U",
          "U",
          "B",
          "U",
          "U",
          "U",
          "U",
          "C",
          "C",
          "U",
          "U",
          "U",
          "D",
          "U",
          "U",
          "U",
          "U",
          "U",
          "U",
          "B",
          "C",
          "B",
          "U",
          "U",
          "E",
          "C",
          "U",
          "C",
          "E",
          "C",
          "B",
          "U",
          "U",
          "C",
          "E",
          "U",
          "U",
          "C",
          "D",
          "U",
          "B",
          "U",
          "U",
          "E",
          "U",
          "F",
          "C",
          "F",
          "U",
          "U",
          "U",
          "E",
          "U",
          "U",
          "D",
          "U",
          "U",
          "B",
          "E",
          "U",
          "U",
          "U",
          "U",
          "U",
          "U",
          "U",
          "B",
          "U",
          "D",
          "G",
          "U",
          "U",
          "U",
          "C",
          "U",
          "U",
          "U",
          "U",
          "U",
          "E",
          "C",
          "U",
          "U",
          "B",
          "U",
          "U",
          "U",
          "U",
          "A",
          "U",
          "U",
          "U",
          "C",
          "C",
          "U",
          "D",
          "U",
          "E",
          "U",
          "U",
          "D",
          "U",
          "U",
          "B",
          "C",
          "U",
          "D",
          "B",
          "U",
          "U",
          "U",
          "U",
          "E",
          "U",
          "F",
          "U",
          "B",
          "B",
          "U",
          "U",
          "U",
          "U",
          "U",
          "B",
          "B",
          "U",
          "U",
          "U",
          "U",
          "C",
          "U",
          "U",
          "A",
          "E",
          "U",
          "U",
          "U",
          "C",
          "E",
          "U",
          "U",
          "E",
          "U",
          "U",
          "C",
          "E",
          "B",
          "D",
          "U",
          "A",
          "U",
          "U",
          "U",
          "U",
          "C",
          "U",
          "U",
          "F",
          "D",
          "U",
          "D",
          "A",
          "B",
          "U",
          "B",
          "U",
          "U",
          "D",
          "A",
          "U",
          "U",
          "U",
          "U",
          "U",
          "C",
          "U",
          "U",
          "U",
          "B",
          "D",
          "B",
          "B",
          "U",
          "U",
          "U",
          "C",
          "E",
          "U",
          "E",
          "U",
          "U",
          "C",
          "C",
          "C",
          "E",
          "U",
          "E",
          "U",
          "U",
          "B",
          "B",
          "D",
          "B",
          "U",
          "U",
          "U",
          "E",
          "U",
          "U",
          "B",
          "U",
          "B",
          "D",
          "U",
          "U",
          "B",
          "U",
          "B",
          "U",
          "U",
          "D",
          "U",
          "U",
          "B",
          "U",
          "U",
          "E",
          "B",
          "U",
          "E",
          "U",
          "U",
          "B",
          "U",
          "U",
          "E",
          "U",
          "C",
          "U",
          "C",
          "D",
          "U",
          "U",
          "E",
          "U",
          "D",
          "U",
          "U",
          "U",
          "D",
          "U",
          "U",
          "C",
          "U",
          "B",
          "C"
         ],
         "xaxis": "x",
         "yaxis": "y"
        }
       ],
       "layout": {
        "barmode": "overlay",
        "legend": {
         "title": {
          "text": "Result"
         },
         "tracegroupgap": 0
        },
        "template": {
         "data": {
          "bar": [
           {
            "error_x": {
             "color": "#2a3f5f"
            },
            "error_y": {
             "color": "#2a3f5f"
            },
            "marker": {
             "line": {
              "color": "#E5ECF6",
              "width": 0.5
             },
             "pattern": {
              "fillmode": "overlay",
              "size": 10,
              "solidity": 0.2
             }
            },
            "type": "bar"
           }
          ],
          "barpolar": [
           {
            "marker": {
             "line": {
              "color": "#E5ECF6",
              "width": 0.5
             },
             "pattern": {
              "fillmode": "overlay",
              "size": 10,
              "solidity": 0.2
             }
            },
            "type": "barpolar"
           }
          ],
          "carpet": [
           {
            "aaxis": {
             "endlinecolor": "#2a3f5f",
             "gridcolor": "white",
             "linecolor": "white",
             "minorgridcolor": "white",
             "startlinecolor": "#2a3f5f"
            },
            "baxis": {
             "endlinecolor": "#2a3f5f",
             "gridcolor": "white",
             "linecolor": "white",
             "minorgridcolor": "white",
             "startlinecolor": "#2a3f5f"
            },
            "type": "carpet"
           }
          ],
          "choropleth": [
           {
            "colorbar": {
             "outlinewidth": 0,
             "ticks": ""
            },
            "type": "choropleth"
           }
          ],
          "contour": [
           {
            "colorbar": {
             "outlinewidth": 0,
             "ticks": ""
            },
            "colorscale": [
             [
              0,
              "#0d0887"
             ],
             [
              0.1111111111111111,
              "#46039f"
             ],
             [
              0.2222222222222222,
              "#7201a8"
             ],
             [
              0.3333333333333333,
              "#9c179e"
             ],
             [
              0.4444444444444444,
              "#bd3786"
             ],
             [
              0.5555555555555556,
              "#d8576b"
             ],
             [
              0.6666666666666666,
              "#ed7953"
             ],
             [
              0.7777777777777778,
              "#fb9f3a"
             ],
             [
              0.8888888888888888,
              "#fdca26"
             ],
             [
              1,
              "#f0f921"
             ]
            ],
            "type": "contour"
           }
          ],
          "contourcarpet": [
           {
            "colorbar": {
             "outlinewidth": 0,
             "ticks": ""
            },
            "type": "contourcarpet"
           }
          ],
          "heatmap": [
           {
            "colorbar": {
             "outlinewidth": 0,
             "ticks": ""
            },
            "colorscale": [
             [
              0,
              "#0d0887"
             ],
             [
              0.1111111111111111,
              "#46039f"
             ],
             [
              0.2222222222222222,
              "#7201a8"
             ],
             [
              0.3333333333333333,
              "#9c179e"
             ],
             [
              0.4444444444444444,
              "#bd3786"
             ],
             [
              0.5555555555555556,
              "#d8576b"
             ],
             [
              0.6666666666666666,
              "#ed7953"
             ],
             [
              0.7777777777777778,
              "#fb9f3a"
             ],
             [
              0.8888888888888888,
              "#fdca26"
             ],
             [
              1,
              "#f0f921"
             ]
            ],
            "type": "heatmap"
           }
          ],
          "heatmapgl": [
           {
            "colorbar": {
             "outlinewidth": 0,
             "ticks": ""
            },
            "colorscale": [
             [
              0,
              "#0d0887"
             ],
             [
              0.1111111111111111,
              "#46039f"
             ],
             [
              0.2222222222222222,
              "#7201a8"
             ],
             [
              0.3333333333333333,
              "#9c179e"
             ],
             [
              0.4444444444444444,
              "#bd3786"
             ],
             [
              0.5555555555555556,
              "#d8576b"
             ],
             [
              0.6666666666666666,
              "#ed7953"
             ],
             [
              0.7777777777777778,
              "#fb9f3a"
             ],
             [
              0.8888888888888888,
              "#fdca26"
             ],
             [
              1,
              "#f0f921"
             ]
            ],
            "type": "heatmapgl"
           }
          ],
          "histogram": [
           {
            "marker": {
             "pattern": {
              "fillmode": "overlay",
              "size": 10,
              "solidity": 0.2
             }
            },
            "type": "histogram"
           }
          ],
          "histogram2d": [
           {
            "colorbar": {
             "outlinewidth": 0,
             "ticks": ""
            },
            "colorscale": [
             [
              0,
              "#0d0887"
             ],
             [
              0.1111111111111111,
              "#46039f"
             ],
             [
              0.2222222222222222,
              "#7201a8"
             ],
             [
              0.3333333333333333,
              "#9c179e"
             ],
             [
              0.4444444444444444,
              "#bd3786"
             ],
             [
              0.5555555555555556,
              "#d8576b"
             ],
             [
              0.6666666666666666,
              "#ed7953"
             ],
             [
              0.7777777777777778,
              "#fb9f3a"
             ],
             [
              0.8888888888888888,
              "#fdca26"
             ],
             [
              1,
              "#f0f921"
             ]
            ],
            "type": "histogram2d"
           }
          ],
          "histogram2dcontour": [
           {
            "colorbar": {
             "outlinewidth": 0,
             "ticks": ""
            },
            "colorscale": [
             [
              0,
              "#0d0887"
             ],
             [
              0.1111111111111111,
              "#46039f"
             ],
             [
              0.2222222222222222,
              "#7201a8"
             ],
             [
              0.3333333333333333,
              "#9c179e"
             ],
             [
              0.4444444444444444,
              "#bd3786"
             ],
             [
              0.5555555555555556,
              "#d8576b"
             ],
             [
              0.6666666666666666,
              "#ed7953"
             ],
             [
              0.7777777777777778,
              "#fb9f3a"
             ],
             [
              0.8888888888888888,
              "#fdca26"
             ],
             [
              1,
              "#f0f921"
             ]
            ],
            "type": "histogram2dcontour"
           }
          ],
          "mesh3d": [
           {
            "colorbar": {
             "outlinewidth": 0,
             "ticks": ""
            },
            "type": "mesh3d"
           }
          ],
          "parcoords": [
           {
            "line": {
             "colorbar": {
              "outlinewidth": 0,
              "ticks": ""
             }
            },
            "type": "parcoords"
           }
          ],
          "pie": [
           {
            "automargin": true,
            "type": "pie"
           }
          ],
          "scatter": [
           {
            "fillpattern": {
             "fillmode": "overlay",
             "size": 10,
             "solidity": 0.2
            },
            "type": "scatter"
           }
          ],
          "scatter3d": [
           {
            "line": {
             "colorbar": {
              "outlinewidth": 0,
              "ticks": ""
             }
            },
            "marker": {
             "colorbar": {
              "outlinewidth": 0,
              "ticks": ""
             }
            },
            "type": "scatter3d"
           }
          ],
          "scattercarpet": [
           {
            "marker": {
             "colorbar": {
              "outlinewidth": 0,
              "ticks": ""
             }
            },
            "type": "scattercarpet"
           }
          ],
          "scattergeo": [
           {
            "marker": {
             "colorbar": {
              "outlinewidth": 0,
              "ticks": ""
             }
            },
            "type": "scattergeo"
           }
          ],
          "scattergl": [
           {
            "marker": {
             "colorbar": {
              "outlinewidth": 0,
              "ticks": ""
             }
            },
            "type": "scattergl"
           }
          ],
          "scattermapbox": [
           {
            "marker": {
             "colorbar": {
              "outlinewidth": 0,
              "ticks": ""
             }
            },
            "type": "scattermapbox"
           }
          ],
          "scatterpolar": [
           {
            "marker": {
             "colorbar": {
              "outlinewidth": 0,
              "ticks": ""
             }
            },
            "type": "scatterpolar"
           }
          ],
          "scatterpolargl": [
           {
            "marker": {
             "colorbar": {
              "outlinewidth": 0,
              "ticks": ""
             }
            },
            "type": "scatterpolargl"
           }
          ],
          "scatterternary": [
           {
            "marker": {
             "colorbar": {
              "outlinewidth": 0,
              "ticks": ""
             }
            },
            "type": "scatterternary"
           }
          ],
          "surface": [
           {
            "colorbar": {
             "outlinewidth": 0,
             "ticks": ""
            },
            "colorscale": [
             [
              0,
              "#0d0887"
             ],
             [
              0.1111111111111111,
              "#46039f"
             ],
             [
              0.2222222222222222,
              "#7201a8"
             ],
             [
              0.3333333333333333,
              "#9c179e"
             ],
             [
              0.4444444444444444,
              "#bd3786"
             ],
             [
              0.5555555555555556,
              "#d8576b"
             ],
             [
              0.6666666666666666,
              "#ed7953"
             ],
             [
              0.7777777777777778,
              "#fb9f3a"
             ],
             [
              0.8888888888888888,
              "#fdca26"
             ],
             [
              1,
              "#f0f921"
             ]
            ],
            "type": "surface"
           }
          ],
          "table": [
           {
            "cells": {
             "fill": {
              "color": "#EBF0F8"
             },
             "line": {
              "color": "white"
             }
            },
            "header": {
             "fill": {
              "color": "#C8D4E3"
             },
             "line": {
              "color": "white"
             }
            },
            "type": "table"
           }
          ]
         },
         "layout": {
          "annotationdefaults": {
           "arrowcolor": "#2a3f5f",
           "arrowhead": 0,
           "arrowwidth": 1
          },
          "autotypenumbers": "strict",
          "coloraxis": {
           "colorbar": {
            "outlinewidth": 0,
            "ticks": ""
           }
          },
          "colorscale": {
           "diverging": [
            [
             0,
             "#8e0152"
            ],
            [
             0.1,
             "#c51b7d"
            ],
            [
             0.2,
             "#de77ae"
            ],
            [
             0.3,
             "#f1b6da"
            ],
            [
             0.4,
             "#fde0ef"
            ],
            [
             0.5,
             "#f7f7f7"
            ],
            [
             0.6,
             "#e6f5d0"
            ],
            [
             0.7,
             "#b8e186"
            ],
            [
             0.8,
             "#7fbc41"
            ],
            [
             0.9,
             "#4d9221"
            ],
            [
             1,
             "#276419"
            ]
           ],
           "sequential": [
            [
             0,
             "#0d0887"
            ],
            [
             0.1111111111111111,
             "#46039f"
            ],
            [
             0.2222222222222222,
             "#7201a8"
            ],
            [
             0.3333333333333333,
             "#9c179e"
            ],
            [
             0.4444444444444444,
             "#bd3786"
            ],
            [
             0.5555555555555556,
             "#d8576b"
            ],
            [
             0.6666666666666666,
             "#ed7953"
            ],
            [
             0.7777777777777778,
             "#fb9f3a"
            ],
            [
             0.8888888888888888,
             "#fdca26"
            ],
            [
             1,
             "#f0f921"
            ]
           ],
           "sequentialminus": [
            [
             0,
             "#0d0887"
            ],
            [
             0.1111111111111111,
             "#46039f"
            ],
            [
             0.2222222222222222,
             "#7201a8"
            ],
            [
             0.3333333333333333,
             "#9c179e"
            ],
            [
             0.4444444444444444,
             "#bd3786"
            ],
            [
             0.5555555555555556,
             "#d8576b"
            ],
            [
             0.6666666666666666,
             "#ed7953"
            ],
            [
             0.7777777777777778,
             "#fb9f3a"
            ],
            [
             0.8888888888888888,
             "#fdca26"
            ],
            [
             1,
             "#f0f921"
            ]
           ]
          },
          "colorway": [
           "#636efa",
           "#EF553B",
           "#00cc96",
           "#ab63fa",
           "#FFA15A",
           "#19d3f3",
           "#FF6692",
           "#B6E880",
           "#FF97FF",
           "#FECB52"
          ],
          "font": {
           "color": "#2a3f5f"
          },
          "geo": {
           "bgcolor": "white",
           "lakecolor": "white",
           "landcolor": "#E5ECF6",
           "showlakes": true,
           "showland": true,
           "subunitcolor": "white"
          },
          "hoverlabel": {
           "align": "left"
          },
          "hovermode": "closest",
          "mapbox": {
           "style": "light"
          },
          "paper_bgcolor": "white",
          "plot_bgcolor": "#E5ECF6",
          "polar": {
           "angularaxis": {
            "gridcolor": "white",
            "linecolor": "white",
            "ticks": ""
           },
           "bgcolor": "#E5ECF6",
           "radialaxis": {
            "gridcolor": "white",
            "linecolor": "white",
            "ticks": ""
           }
          },
          "scene": {
           "xaxis": {
            "backgroundcolor": "#E5ECF6",
            "gridcolor": "white",
            "gridwidth": 2,
            "linecolor": "white",
            "showbackground": true,
            "ticks": "",
            "zerolinecolor": "white"
           },
           "yaxis": {
            "backgroundcolor": "#E5ECF6",
            "gridcolor": "white",
            "gridwidth": 2,
            "linecolor": "white",
            "showbackground": true,
            "ticks": "",
            "zerolinecolor": "white"
           },
           "zaxis": {
            "backgroundcolor": "#E5ECF6",
            "gridcolor": "white",
            "gridwidth": 2,
            "linecolor": "white",
            "showbackground": true,
            "ticks": "",
            "zerolinecolor": "white"
           }
          },
          "shapedefaults": {
           "line": {
            "color": "#2a3f5f"
           }
          },
          "ternary": {
           "aaxis": {
            "gridcolor": "white",
            "linecolor": "white",
            "ticks": ""
           },
           "baxis": {
            "gridcolor": "white",
            "linecolor": "white",
            "ticks": ""
           },
           "bgcolor": "#E5ECF6",
           "caxis": {
            "gridcolor": "white",
            "linecolor": "white",
            "ticks": ""
           }
          },
          "title": {
           "x": 0.05
          },
          "xaxis": {
           "automargin": true,
           "gridcolor": "white",
           "linecolor": "white",
           "ticks": "",
           "title": {
            "standoff": 15
           },
           "zerolinecolor": "white",
           "zerolinewidth": 2
          },
          "yaxis": {
           "automargin": true,
           "gridcolor": "white",
           "linecolor": "white",
           "ticks": "",
           "title": {
            "standoff": 15
           },
           "zerolinecolor": "white",
           "zerolinewidth": 2
          }
         }
        },
        "title": {
         "text": "Cabin Distribution by Survival Status"
        },
        "xaxis": {
         "anchor": "y",
         "domain": [
          0,
          1
         ],
         "title": {
          "text": "Cabin"
         }
        },
        "yaxis": {
         "anchor": "x",
         "domain": [
          0,
          1
         ],
         "title": {
          "text": "count"
         }
        }
       }
      },
      "text/html": [
       "<div>                            <div id=\"7977c5c2-f27a-4600-8a78-e7f62b704cbe\" class=\"plotly-graph-div\" style=\"height:525px; width:100%;\"></div>            <script type=\"text/javascript\">                require([\"plotly\"], function(Plotly) {                    window.PLOTLYENV=window.PLOTLYENV || {};                                    if (document.getElementById(\"7977c5c2-f27a-4600-8a78-e7f62b704cbe\")) {                    Plotly.newPlot(                        \"7977c5c2-f27a-4600-8a78-e7f62b704cbe\",                        [{\"alignmentgroup\":\"True\",\"bingroup\":\"x\",\"hovertemplate\":\"Result=Dead\\u003cbr\\u003eCabin=%{x}\\u003cbr\\u003ecount=%{y}\\u003cextra\\u003e\\u003c\\u002fextra\\u003e\",\"legendgroup\":\"Dead\",\"marker\":{\"color\":\"#636efa\",\"opacity\":0.5,\"pattern\":{\"shape\":\"\"}},\"name\":\"Dead\",\"offsetgroup\":\"Dead\",\"orientation\":\"v\",\"showlegend\":true,\"x\":[\"U\",\"U\",\"U\",\"E\",\"U\",\"U\",\"U\",\"U\",\"U\",\"U\",\"U\",\"U\",\"U\",\"C\",\"U\",\"U\",\"U\",\"U\",\"U\",\"U\",\"U\",\"U\",\"U\",\"U\",\"U\",\"U\",\"U\",\"U\",\"U\",\"U\",\"B\",\"U\",\"U\",\"U\",\"C\",\"U\",\"U\",\"U\",\"U\",\"U\",\"U\",\"U\",\"U\",\"F\",\"U\",\"U\",\"U\",\"U\",\"U\",\"U\",\"U\",\"U\",\"U\",\"E\",\"U\",\"U\",\"U\",\"A\",\"U\",\"U\",\"U\",\"D\",\"U\",\"U\",\"U\",\"U\",\"C\",\"U\",\"U\",\"U\",\"U\",\"U\",\"U\",\"U\",\"B\",\"U\",\"U\",\"U\",\"U\",\"D\",\"U\",\"U\",\"U\",\"U\",\"U\",\"U\",\"U\",\"C\",\"U\",\"B\",\"U\",\"U\",\"U\",\"U\",\"U\",\"F\",\"U\",\"U\",\"U\",\"U\",\"U\",\"U\",\"U\",\"U\",\"U\",\"U\",\"U\",\"U\",\"U\",\"U\",\"U\",\"U\",\"B\",\"U\",\"U\",\"A\",\"U\",\"U\",\"C\",\"U\",\"U\",\"U\",\"U\",\"U\",\"A\",\"U\",\"U\",\"U\",\"U\",\"U\",\"U\",\"U\",\"U\",\"U\",\"U\",\"G\",\"U\",\"U\",\"U\",\"U\",\"U\",\"U\",\"U\",\"U\",\"U\",\"U\",\"U\",\"U\",\"U\",\"U\",\"U\",\"U\",\"U\",\"U\",\"U\",\"U\",\"U\",\"U\",\"U\",\"U\",\"U\",\"C\",\"U\",\"U\",\"U\",\"G\",\"C\",\"U\",\"U\",\"U\",\"E\",\"B\",\"U\",\"U\",\"U\",\"U\",\"C\",\"U\",\"U\",\"U\",\"U\",\"U\",\"U\",\"A\",\"U\",\"U\",\"D\",\"U\",\"U\",\"U\",\"U\",\"C\",\"U\",\"U\",\"U\",\"U\",\"U\",\"U\",\"U\",\"U\",\"U\",\"U\",\"U\",\"C\",\"C\",\"U\",\"U\",\"C\",\"T\",\"U\",\"U\",\"U\",\"U\",\"U\",\"C\",\"U\",\"U\",\"U\",\"U\",\"U\",\"U\",\"U\",\"U\",\"U\",\"U\",\"U\",\"U\",\"U\",\"U\",\"U\",\"C\",\"U\",\"U\",\"U\",\"U\",\"U\",\"U\",\"U\",\"U\",\"U\",\"U\",\"U\",\"U\",\"U\",\"U\",\"U\",\"U\",\"U\",\"U\",\"U\",\"U\",\"U\",\"U\",\"U\",\"U\",\"U\",\"U\",\"U\",\"U\",\"U\",\"U\",\"U\",\"U\",\"U\",\"U\",\"E\",\"U\",\"C\",\"U\",\"U\",\"U\",\"U\",\"U\",\"C\",\"U\",\"E\",\"U\",\"U\",\"E\",\"U\",\"U\",\"U\",\"U\",\"U\",\"U\",\"U\",\"U\",\"U\",\"A\",\"U\",\"U\",\"U\",\"U\",\"U\",\"U\",\"U\",\"B\",\"U\",\"U\",\"U\",\"C\",\"U\",\"U\",\"U\",\"U\",\"C\",\"U\",\"U\",\"U\",\"U\",\"U\",\"C\",\"U\",\"U\",\"U\",\"D\",\"U\",\"U\",\"U\",\"U\",\"U\",\"U\",\"C\",\"U\",\"U\",\"U\",\"U\",\"U\",\"B\",\"U\",\"U\",\"U\",\"C\",\"U\",\"U\",\"U\",\"U\",\"U\",\"U\",\"U\",\"U\",\"U\",\"U\",\"U\",\"U\",\"U\",\"U\",\"U\",\"U\",\"U\",\"U\",\"U\",\"A\",\"U\",\"U\",\"U\",\"U\",\"U\",\"U\",\"U\",\"U\",\"U\",\"U\",\"U\",\"U\",\"U\",\"U\",\"U\",\"U\",\"U\",\"U\",\"U\",\"U\",\"U\",\"U\",\"U\",\"U\",\"U\",\"U\",\"D\",\"U\",\"U\",\"U\",\"U\",\"U\",\"U\",\"U\",\"U\",\"U\",\"U\",\"U\",\"U\",\"U\",\"U\",\"U\",\"U\",\"U\",\"U\",\"U\",\"U\",\"U\",\"D\",\"U\",\"E\",\"U\",\"U\",\"U\",\"U\",\"U\",\"B\",\"U\",\"U\",\"U\",\"U\",\"U\",\"U\",\"U\",\"U\",\"U\",\"U\",\"U\",\"U\",\"U\",\"U\",\"U\",\"U\",\"U\",\"C\",\"F\",\"U\",\"U\",\"U\",\"U\",\"C\",\"U\",\"U\",\"F\",\"U\",\"U\",\"U\",\"U\",\"U\",\"U\",\"U\",\"U\",\"U\",\"U\",\"U\",\"U\",\"U\",\"U\",\"U\",\"U\",\"C\",\"U\",\"B\",\"U\",\"D\",\"U\",\"U\",\"U\",\"U\",\"U\",\"U\",\"U\",\"U\",\"U\",\"U\",\"U\",\"U\",\"U\",\"U\",\"U\",\"E\",\"U\",\"U\",\"F\",\"U\",\"D\",\"U\",\"U\",\"U\",\"U\",\"B\",\"U\",\"U\",\"U\",\"U\",\"U\",\"U\",\"U\",\"U\",\"U\",\"U\",\"A\",\"U\",\"U\",\"U\",\"U\",\"U\",\"U\",\"U\",\"B\",\"U\",\"U\",\"U\",\"U\",\"U\",\"U\",\"U\",\"U\",\"U\",\"U\",\"U\",\"U\",\"U\",\"U\",\"U\",\"U\",\"U\",\"U\",\"U\",\"U\",\"U\",\"U\",\"U\",\"U\",\"U\",\"U\",\"U\",\"U\",\"U\",\"U\",\"A\",\"U\",\"U\",\"B\",\"U\",\"U\",\"U\",\"U\",\"U\",\"U\",\"U\",\"U\",\"U\",\"U\",\"U\",\"U\"],\"xaxis\":\"x\",\"yaxis\":\"y\",\"type\":\"histogram\"},{\"alignmentgroup\":\"True\",\"bingroup\":\"x\",\"hovertemplate\":\"Result=Survived\\u003cbr\\u003eCabin=%{x}\\u003cbr\\u003ecount=%{y}\\u003cextra\\u003e\\u003c\\u002fextra\\u003e\",\"legendgroup\":\"Survived\",\"marker\":{\"color\":\"#EF553B\",\"opacity\":0.5,\"pattern\":{\"shape\":\"\"}},\"name\":\"Survived\",\"offsetgroup\":\"Survived\",\"orientation\":\"v\",\"showlegend\":true,\"x\":[\"C\",\"U\",\"C\",\"U\",\"U\",\"G\",\"C\",\"U\",\"U\",\"U\",\"D\",\"U\",\"A\",\"U\",\"U\",\"B\",\"U\",\"U\",\"U\",\"U\",\"U\",\"U\",\"D\",\"U\",\"C\",\"U\",\"U\",\"B\",\"U\",\"F\",\"U\",\"U\",\"U\",\"U\",\"U\",\"U\",\"U\",\"U\",\"C\",\"D\",\"U\",\"U\",\"U\",\"U\",\"E\",\"U\",\"U\",\"F\",\"U\",\"D\",\"U\",\"U\",\"U\",\"C\",\"U\",\"U\",\"U\",\"E\",\"U\",\"F\",\"U\",\"U\",\"U\",\"U\",\"U\",\"F\",\"B\",\"B\",\"U\",\"U\",\"U\",\"U\",\"A\",\"U\",\"D\",\"U\",\"D\",\"U\",\"C\",\"U\",\"C\",\"U\",\"U\",\"U\",\"U\",\"D\",\"U\",\"U\",\"B\",\"U\",\"U\",\"U\",\"U\",\"C\",\"C\",\"U\",\"U\",\"U\",\"D\",\"U\",\"U\",\"U\",\"U\",\"U\",\"U\",\"B\",\"C\",\"B\",\"U\",\"U\",\"E\",\"C\",\"U\",\"C\",\"E\",\"C\",\"B\",\"U\",\"U\",\"C\",\"E\",\"U\",\"U\",\"C\",\"D\",\"U\",\"B\",\"U\",\"U\",\"E\",\"U\",\"F\",\"C\",\"F\",\"U\",\"U\",\"U\",\"E\",\"U\",\"U\",\"D\",\"U\",\"U\",\"B\",\"E\",\"U\",\"U\",\"U\",\"U\",\"U\",\"U\",\"U\",\"B\",\"U\",\"D\",\"G\",\"U\",\"U\",\"U\",\"C\",\"U\",\"U\",\"U\",\"U\",\"U\",\"E\",\"C\",\"U\",\"U\",\"B\",\"U\",\"U\",\"U\",\"U\",\"A\",\"U\",\"U\",\"U\",\"C\",\"C\",\"U\",\"D\",\"U\",\"E\",\"U\",\"U\",\"D\",\"U\",\"U\",\"B\",\"C\",\"U\",\"D\",\"B\",\"U\",\"U\",\"U\",\"U\",\"E\",\"U\",\"F\",\"U\",\"B\",\"B\",\"U\",\"U\",\"U\",\"U\",\"U\",\"B\",\"B\",\"U\",\"U\",\"U\",\"U\",\"C\",\"U\",\"U\",\"A\",\"E\",\"U\",\"U\",\"U\",\"C\",\"E\",\"U\",\"U\",\"E\",\"U\",\"U\",\"C\",\"E\",\"B\",\"D\",\"U\",\"A\",\"U\",\"U\",\"U\",\"U\",\"C\",\"U\",\"U\",\"F\",\"D\",\"U\",\"D\",\"A\",\"B\",\"U\",\"B\",\"U\",\"U\",\"D\",\"A\",\"U\",\"U\",\"U\",\"U\",\"U\",\"C\",\"U\",\"U\",\"U\",\"B\",\"D\",\"B\",\"B\",\"U\",\"U\",\"U\",\"C\",\"E\",\"U\",\"E\",\"U\",\"U\",\"C\",\"C\",\"C\",\"E\",\"U\",\"E\",\"U\",\"U\",\"B\",\"B\",\"D\",\"B\",\"U\",\"U\",\"U\",\"E\",\"U\",\"U\",\"B\",\"U\",\"B\",\"D\",\"U\",\"U\",\"B\",\"U\",\"B\",\"U\",\"U\",\"D\",\"U\",\"U\",\"B\",\"U\",\"U\",\"E\",\"B\",\"U\",\"E\",\"U\",\"U\",\"B\",\"U\",\"U\",\"E\",\"U\",\"C\",\"U\",\"C\",\"D\",\"U\",\"U\",\"E\",\"U\",\"D\",\"U\",\"U\",\"U\",\"D\",\"U\",\"U\",\"C\",\"U\",\"B\",\"C\"],\"xaxis\":\"x\",\"yaxis\":\"y\",\"type\":\"histogram\"}],                        {\"template\":{\"data\":{\"histogram2dcontour\":[{\"type\":\"histogram2dcontour\",\"colorbar\":{\"outlinewidth\":0,\"ticks\":\"\"},\"colorscale\":[[0.0,\"#0d0887\"],[0.1111111111111111,\"#46039f\"],[0.2222222222222222,\"#7201a8\"],[0.3333333333333333,\"#9c179e\"],[0.4444444444444444,\"#bd3786\"],[0.5555555555555556,\"#d8576b\"],[0.6666666666666666,\"#ed7953\"],[0.7777777777777778,\"#fb9f3a\"],[0.8888888888888888,\"#fdca26\"],[1.0,\"#f0f921\"]]}],\"choropleth\":[{\"type\":\"choropleth\",\"colorbar\":{\"outlinewidth\":0,\"ticks\":\"\"}}],\"histogram2d\":[{\"type\":\"histogram2d\",\"colorbar\":{\"outlinewidth\":0,\"ticks\":\"\"},\"colorscale\":[[0.0,\"#0d0887\"],[0.1111111111111111,\"#46039f\"],[0.2222222222222222,\"#7201a8\"],[0.3333333333333333,\"#9c179e\"],[0.4444444444444444,\"#bd3786\"],[0.5555555555555556,\"#d8576b\"],[0.6666666666666666,\"#ed7953\"],[0.7777777777777778,\"#fb9f3a\"],[0.8888888888888888,\"#fdca26\"],[1.0,\"#f0f921\"]]}],\"heatmap\":[{\"type\":\"heatmap\",\"colorbar\":{\"outlinewidth\":0,\"ticks\":\"\"},\"colorscale\":[[0.0,\"#0d0887\"],[0.1111111111111111,\"#46039f\"],[0.2222222222222222,\"#7201a8\"],[0.3333333333333333,\"#9c179e\"],[0.4444444444444444,\"#bd3786\"],[0.5555555555555556,\"#d8576b\"],[0.6666666666666666,\"#ed7953\"],[0.7777777777777778,\"#fb9f3a\"],[0.8888888888888888,\"#fdca26\"],[1.0,\"#f0f921\"]]}],\"heatmapgl\":[{\"type\":\"heatmapgl\",\"colorbar\":{\"outlinewidth\":0,\"ticks\":\"\"},\"colorscale\":[[0.0,\"#0d0887\"],[0.1111111111111111,\"#46039f\"],[0.2222222222222222,\"#7201a8\"],[0.3333333333333333,\"#9c179e\"],[0.4444444444444444,\"#bd3786\"],[0.5555555555555556,\"#d8576b\"],[0.6666666666666666,\"#ed7953\"],[0.7777777777777778,\"#fb9f3a\"],[0.8888888888888888,\"#fdca26\"],[1.0,\"#f0f921\"]]}],\"contourcarpet\":[{\"type\":\"contourcarpet\",\"colorbar\":{\"outlinewidth\":0,\"ticks\":\"\"}}],\"contour\":[{\"type\":\"contour\",\"colorbar\":{\"outlinewidth\":0,\"ticks\":\"\"},\"colorscale\":[[0.0,\"#0d0887\"],[0.1111111111111111,\"#46039f\"],[0.2222222222222222,\"#7201a8\"],[0.3333333333333333,\"#9c179e\"],[0.4444444444444444,\"#bd3786\"],[0.5555555555555556,\"#d8576b\"],[0.6666666666666666,\"#ed7953\"],[0.7777777777777778,\"#fb9f3a\"],[0.8888888888888888,\"#fdca26\"],[1.0,\"#f0f921\"]]}],\"surface\":[{\"type\":\"surface\",\"colorbar\":{\"outlinewidth\":0,\"ticks\":\"\"},\"colorscale\":[[0.0,\"#0d0887\"],[0.1111111111111111,\"#46039f\"],[0.2222222222222222,\"#7201a8\"],[0.3333333333333333,\"#9c179e\"],[0.4444444444444444,\"#bd3786\"],[0.5555555555555556,\"#d8576b\"],[0.6666666666666666,\"#ed7953\"],[0.7777777777777778,\"#fb9f3a\"],[0.8888888888888888,\"#fdca26\"],[1.0,\"#f0f921\"]]}],\"mesh3d\":[{\"type\":\"mesh3d\",\"colorbar\":{\"outlinewidth\":0,\"ticks\":\"\"}}],\"scatter\":[{\"fillpattern\":{\"fillmode\":\"overlay\",\"size\":10,\"solidity\":0.2},\"type\":\"scatter\"}],\"parcoords\":[{\"type\":\"parcoords\",\"line\":{\"colorbar\":{\"outlinewidth\":0,\"ticks\":\"\"}}}],\"scatterpolargl\":[{\"type\":\"scatterpolargl\",\"marker\":{\"colorbar\":{\"outlinewidth\":0,\"ticks\":\"\"}}}],\"bar\":[{\"error_x\":{\"color\":\"#2a3f5f\"},\"error_y\":{\"color\":\"#2a3f5f\"},\"marker\":{\"line\":{\"color\":\"#E5ECF6\",\"width\":0.5},\"pattern\":{\"fillmode\":\"overlay\",\"size\":10,\"solidity\":0.2}},\"type\":\"bar\"}],\"scattergeo\":[{\"type\":\"scattergeo\",\"marker\":{\"colorbar\":{\"outlinewidth\":0,\"ticks\":\"\"}}}],\"scatterpolar\":[{\"type\":\"scatterpolar\",\"marker\":{\"colorbar\":{\"outlinewidth\":0,\"ticks\":\"\"}}}],\"histogram\":[{\"marker\":{\"pattern\":{\"fillmode\":\"overlay\",\"size\":10,\"solidity\":0.2}},\"type\":\"histogram\"}],\"scattergl\":[{\"type\":\"scattergl\",\"marker\":{\"colorbar\":{\"outlinewidth\":0,\"ticks\":\"\"}}}],\"scatter3d\":[{\"type\":\"scatter3d\",\"line\":{\"colorbar\":{\"outlinewidth\":0,\"ticks\":\"\"}},\"marker\":{\"colorbar\":{\"outlinewidth\":0,\"ticks\":\"\"}}}],\"scattermapbox\":[{\"type\":\"scattermapbox\",\"marker\":{\"colorbar\":{\"outlinewidth\":0,\"ticks\":\"\"}}}],\"scatterternary\":[{\"type\":\"scatterternary\",\"marker\":{\"colorbar\":{\"outlinewidth\":0,\"ticks\":\"\"}}}],\"scattercarpet\":[{\"type\":\"scattercarpet\",\"marker\":{\"colorbar\":{\"outlinewidth\":0,\"ticks\":\"\"}}}],\"carpet\":[{\"aaxis\":{\"endlinecolor\":\"#2a3f5f\",\"gridcolor\":\"white\",\"linecolor\":\"white\",\"minorgridcolor\":\"white\",\"startlinecolor\":\"#2a3f5f\"},\"baxis\":{\"endlinecolor\":\"#2a3f5f\",\"gridcolor\":\"white\",\"linecolor\":\"white\",\"minorgridcolor\":\"white\",\"startlinecolor\":\"#2a3f5f\"},\"type\":\"carpet\"}],\"table\":[{\"cells\":{\"fill\":{\"color\":\"#EBF0F8\"},\"line\":{\"color\":\"white\"}},\"header\":{\"fill\":{\"color\":\"#C8D4E3\"},\"line\":{\"color\":\"white\"}},\"type\":\"table\"}],\"barpolar\":[{\"marker\":{\"line\":{\"color\":\"#E5ECF6\",\"width\":0.5},\"pattern\":{\"fillmode\":\"overlay\",\"size\":10,\"solidity\":0.2}},\"type\":\"barpolar\"}],\"pie\":[{\"automargin\":true,\"type\":\"pie\"}]},\"layout\":{\"autotypenumbers\":\"strict\",\"colorway\":[\"#636efa\",\"#EF553B\",\"#00cc96\",\"#ab63fa\",\"#FFA15A\",\"#19d3f3\",\"#FF6692\",\"#B6E880\",\"#FF97FF\",\"#FECB52\"],\"font\":{\"color\":\"#2a3f5f\"},\"hovermode\":\"closest\",\"hoverlabel\":{\"align\":\"left\"},\"paper_bgcolor\":\"white\",\"plot_bgcolor\":\"#E5ECF6\",\"polar\":{\"bgcolor\":\"#E5ECF6\",\"angularaxis\":{\"gridcolor\":\"white\",\"linecolor\":\"white\",\"ticks\":\"\"},\"radialaxis\":{\"gridcolor\":\"white\",\"linecolor\":\"white\",\"ticks\":\"\"}},\"ternary\":{\"bgcolor\":\"#E5ECF6\",\"aaxis\":{\"gridcolor\":\"white\",\"linecolor\":\"white\",\"ticks\":\"\"},\"baxis\":{\"gridcolor\":\"white\",\"linecolor\":\"white\",\"ticks\":\"\"},\"caxis\":{\"gridcolor\":\"white\",\"linecolor\":\"white\",\"ticks\":\"\"}},\"coloraxis\":{\"colorbar\":{\"outlinewidth\":0,\"ticks\":\"\"}},\"colorscale\":{\"sequential\":[[0.0,\"#0d0887\"],[0.1111111111111111,\"#46039f\"],[0.2222222222222222,\"#7201a8\"],[0.3333333333333333,\"#9c179e\"],[0.4444444444444444,\"#bd3786\"],[0.5555555555555556,\"#d8576b\"],[0.6666666666666666,\"#ed7953\"],[0.7777777777777778,\"#fb9f3a\"],[0.8888888888888888,\"#fdca26\"],[1.0,\"#f0f921\"]],\"sequentialminus\":[[0.0,\"#0d0887\"],[0.1111111111111111,\"#46039f\"],[0.2222222222222222,\"#7201a8\"],[0.3333333333333333,\"#9c179e\"],[0.4444444444444444,\"#bd3786\"],[0.5555555555555556,\"#d8576b\"],[0.6666666666666666,\"#ed7953\"],[0.7777777777777778,\"#fb9f3a\"],[0.8888888888888888,\"#fdca26\"],[1.0,\"#f0f921\"]],\"diverging\":[[0,\"#8e0152\"],[0.1,\"#c51b7d\"],[0.2,\"#de77ae\"],[0.3,\"#f1b6da\"],[0.4,\"#fde0ef\"],[0.5,\"#f7f7f7\"],[0.6,\"#e6f5d0\"],[0.7,\"#b8e186\"],[0.8,\"#7fbc41\"],[0.9,\"#4d9221\"],[1,\"#276419\"]]},\"xaxis\":{\"gridcolor\":\"white\",\"linecolor\":\"white\",\"ticks\":\"\",\"title\":{\"standoff\":15},\"zerolinecolor\":\"white\",\"automargin\":true,\"zerolinewidth\":2},\"yaxis\":{\"gridcolor\":\"white\",\"linecolor\":\"white\",\"ticks\":\"\",\"title\":{\"standoff\":15},\"zerolinecolor\":\"white\",\"automargin\":true,\"zerolinewidth\":2},\"scene\":{\"xaxis\":{\"backgroundcolor\":\"#E5ECF6\",\"gridcolor\":\"white\",\"linecolor\":\"white\",\"showbackground\":true,\"ticks\":\"\",\"zerolinecolor\":\"white\",\"gridwidth\":2},\"yaxis\":{\"backgroundcolor\":\"#E5ECF6\",\"gridcolor\":\"white\",\"linecolor\":\"white\",\"showbackground\":true,\"ticks\":\"\",\"zerolinecolor\":\"white\",\"gridwidth\":2},\"zaxis\":{\"backgroundcolor\":\"#E5ECF6\",\"gridcolor\":\"white\",\"linecolor\":\"white\",\"showbackground\":true,\"ticks\":\"\",\"zerolinecolor\":\"white\",\"gridwidth\":2}},\"shapedefaults\":{\"line\":{\"color\":\"#2a3f5f\"}},\"annotationdefaults\":{\"arrowcolor\":\"#2a3f5f\",\"arrowhead\":0,\"arrowwidth\":1},\"geo\":{\"bgcolor\":\"white\",\"landcolor\":\"#E5ECF6\",\"subunitcolor\":\"white\",\"showland\":true,\"showlakes\":true,\"lakecolor\":\"white\"},\"title\":{\"x\":0.05},\"mapbox\":{\"style\":\"light\"}}},\"xaxis\":{\"anchor\":\"y\",\"domain\":[0.0,1.0],\"title\":{\"text\":\"Cabin\"}},\"yaxis\":{\"anchor\":\"x\",\"domain\":[0.0,1.0],\"title\":{\"text\":\"count\"}},\"legend\":{\"title\":{\"text\":\"Result\"},\"tracegroupgap\":0},\"title\":{\"text\":\"Cabin Distribution by Survival Status\"},\"barmode\":\"overlay\"},                        {\"responsive\": true}                    ).then(function(){\n",
       "                            \n",
       "var gd = document.getElementById('7977c5c2-f27a-4600-8a78-e7f62b704cbe');\n",
       "var x = new MutationObserver(function (mutations, observer) {{\n",
       "        var display = window.getComputedStyle(gd).display;\n",
       "        if (!display || display === 'none') {{\n",
       "            console.log([gd, 'removed!']);\n",
       "            Plotly.purge(gd);\n",
       "            observer.disconnect();\n",
       "        }}\n",
       "}});\n",
       "\n",
       "// Listen for the removal of the full notebook cells\n",
       "var notebookContainer = gd.closest('#notebook-container');\n",
       "if (notebookContainer) {{\n",
       "    x.observe(notebookContainer, {childList: true});\n",
       "}}\n",
       "\n",
       "// Listen for the clearing of the current output cell\n",
       "var outputEl = gd.closest('.output');\n",
       "if (outputEl) {{\n",
       "    x.observe(outputEl, {childList: true});\n",
       "}}\n",
       "\n",
       "                        })                };                });            </script>        </div>"
      ]
     },
     "metadata": {},
     "output_type": "display_data"
    }
   ],
   "source": [
    "import plotly.express as px\n",
    "\n",
    "train_cabin = train.copy()\n",
    "train_cabin[\"Result\"] = train_cabin[\"Survived\"].map({0: \"Dead\", 1: \"Survived\" })\n",
    "\n",
    "\n",
    "fig = px.histogram(\n",
    "    train_cabin, \n",
    "    x=\"Cabin\",\n",
    "    color=\"Result\",\n",
    "    barmode=\"overlay\",\n",
    "    title=\"Cabin Distribution by Survival Status\"\n",
    ")\n",
    "fig.show()"
   ]
  },
  {
   "attachments": {
    "c0be2ab3-2f6e-4562-a506-60ce8b3934ee.png": {
     "image/png": "[encoded data removed]"
    }
   },
   "cell_type": "markdown",
   "id": "bf81d357-8ef1-4d46-8443-4f01489cabc0",
   "metadata": {},
   "source": [
    "![newplot (1).png](attachment:c0be2ab3-2f6e-4562-a506-60ce8b3934ee.png)"
   ]
  },
  {
   "cell_type": "markdown",
   "id": "9fe10ec6-d1f9-48de-84dd-6663e32ed1f4",
   "metadata": {},
   "source": [
    "#### Cabin 값 범주화 (factorize())"
   ]
  },
  {
   "cell_type": "code",
   "execution_count": 208,
   "id": "2f2e7056-cb46-446f-a5fb-8a47e9096b16",
   "metadata": {},
   "outputs": [],
   "source": [
    "df[\"Cabin\"] = df[\"Cabin\"].factorize()[0]"
   ]
  },
  {
   "cell_type": "code",
   "execution_count": 209,
   "id": "4d8e9588-f7ed-4c8e-99a1-0417cebfc6d8",
   "metadata": {},
   "outputs": [
    {
     "data": {
      "text/html": [
       "<div>\n",
       "<style scoped>\n",
       "    .dataframe tbody tr th:only-of-type {\n",
       "        vertical-align: middle;\n",
       "    }\n",
       "\n",
       "    .dataframe tbody tr th {\n",
       "        vertical-align: top;\n",
       "    }\n",
       "\n",
       "    .dataframe thead th {\n",
       "        text-align: right;\n",
       "    }\n",
       "</style>\n",
       "<table border=\"1\" class=\"dataframe\">\n",
       "  <thead>\n",
       "    <tr style=\"text-align: right;\">\n",
       "      <th></th>\n",
       "      <th>PassengerId</th>\n",
       "      <th>Survived</th>\n",
       "      <th>Pclass</th>\n",
       "      <th>Sex</th>\n",
       "      <th>Age</th>\n",
       "      <th>Ticket</th>\n",
       "      <th>Fare</th>\n",
       "      <th>Cabin</th>\n",
       "      <th>Embarked</th>\n",
       "      <th>Initial</th>\n",
       "      <th>Family</th>\n",
       "    </tr>\n",
       "  </thead>\n",
       "  <tbody>\n",
       "    <tr>\n",
       "      <th>0</th>\n",
       "      <td>1</td>\n",
       "      <td>0.0</td>\n",
       "      <td>3</td>\n",
       "      <td>0</td>\n",
       "      <td>3.0</td>\n",
       "      <td>A/5 21171</td>\n",
       "      <td>0.0</td>\n",
       "      <td>0</td>\n",
       "      <td>0</td>\n",
       "      <td>0.0</td>\n",
       "      <td>2</td>\n",
       "    </tr>\n",
       "    <tr>\n",
       "      <th>1</th>\n",
       "      <td>2</td>\n",
       "      <td>1.0</td>\n",
       "      <td>1</td>\n",
       "      <td>1</td>\n",
       "      <td>4.0</td>\n",
       "      <td>PC 17599</td>\n",
       "      <td>3.0</td>\n",
       "      <td>1</td>\n",
       "      <td>1</td>\n",
       "      <td>2.0</td>\n",
       "      <td>2</td>\n",
       "    </tr>\n",
       "    <tr>\n",
       "      <th>2</th>\n",
       "      <td>3</td>\n",
       "      <td>1.0</td>\n",
       "      <td>3</td>\n",
       "      <td>1</td>\n",
       "      <td>3.0</td>\n",
       "      <td>STON/O2. 3101282</td>\n",
       "      <td>0.0</td>\n",
       "      <td>0</td>\n",
       "      <td>0</td>\n",
       "      <td>1.0</td>\n",
       "      <td>1</td>\n",
       "    </tr>\n",
       "    <tr>\n",
       "      <th>3</th>\n",
       "      <td>4</td>\n",
       "      <td>1.0</td>\n",
       "      <td>1</td>\n",
       "      <td>1</td>\n",
       "      <td>4.0</td>\n",
       "      <td>113803</td>\n",
       "      <td>2.0</td>\n",
       "      <td>1</td>\n",
       "      <td>0</td>\n",
       "      <td>2.0</td>\n",
       "      <td>2</td>\n",
       "    </tr>\n",
       "    <tr>\n",
       "      <th>4</th>\n",
       "      <td>5</td>\n",
       "      <td>0.0</td>\n",
       "      <td>3</td>\n",
       "      <td>0</td>\n",
       "      <td>4.0</td>\n",
       "      <td>373450</td>\n",
       "      <td>0.0</td>\n",
       "      <td>0</td>\n",
       "      <td>0</td>\n",
       "      <td>0.0</td>\n",
       "      <td>1</td>\n",
       "    </tr>\n",
       "  </tbody>\n",
       "</table>\n",
       "</div>"
      ],
      "text/plain": [
       "   PassengerId  Survived  Pclass  Sex  Age            Ticket  Fare  Cabin  \\\n",
       "0            1       0.0       3    0  3.0         A/5 21171   0.0      0   \n",
       "1            2       1.0       1    1  4.0          PC 17599   3.0      1   \n",
       "2            3       1.0       3    1  3.0  STON/O2. 3101282   0.0      0   \n",
       "3            4       1.0       1    1  4.0            113803   2.0      1   \n",
       "4            5       0.0       3    0  4.0            373450   0.0      0   \n",
       "\n",
       "   Embarked  Initial  Family  \n",
       "0         0      0.0       2  \n",
       "1         1      2.0       2  \n",
       "2         0      1.0       1  \n",
       "3         0      2.0       2  \n",
       "4         0      0.0       1  "
      ]
     },
     "execution_count": 209,
     "metadata": {},
     "output_type": "execute_result"
    }
   ],
   "source": [
    "df.head()"
   ]
  },
  {
   "cell_type": "markdown",
   "id": "f879c0a6-f78f-4e22-94ce-51a0dda69f13",
   "metadata": {},
   "source": [
    "#### Ticket\n",
    "- 해당 feature의 경우 패턴이 다양함\n",
    "- 따라서 정규식을 통해 추출하는 방향성을 가짐"
   ]
  },
  {
   "cell_type": "code",
   "execution_count": 210,
   "id": "c93ecf8d-362f-40d1-9cb9-5af777cfb08d",
   "metadata": {},
   "outputs": [
    {
     "data": {
      "text/plain": [
       "array(['A/5 21171', 'PC 17599', 'STON/O2. 3101282', '113803', '373450',\n",
       "       '330877', '17463', '349909', '347742', '237736', 'PP 9549',\n",
       "       '113783', 'A/5. 2151', '347082', '350406', '248706', '382652',\n",
       "       '244373', '345763', '2649', '239865', '248698', '330923', '113788',\n",
       "       '347077', '2631', '19950', '330959', '349216', 'PC 17601',\n",
       "       'PC 17569', '335677', 'C.A. 24579', 'PC 17604', '113789', '2677',\n",
       "       'A./5. 2152', '345764', '2651', '7546', '11668', '349253',\n",
       "       'SC/Paris 2123', '330958', 'S.C./A.4. 23567', '370371', '14311',\n",
       "       '2662', '349237', '3101295', 'A/4. 39886', 'PC 17572', '2926',\n",
       "       '113509', '19947', 'C.A. 31026', '2697', 'C.A. 34651', 'CA 2144',\n",
       "       '2669', '113572', '36973', '347088', 'PC 17605', '2661',\n",
       "       'C.A. 29395', 'S.P. 3464', '3101281', '315151', 'C.A. 33111',\n",
       "       'S.O.C. 14879', '2680', '1601', '348123', '349208', '374746',\n",
       "       '248738', '364516', '345767', '345779', '330932', '113059',\n",
       "       'SO/C 14885', '3101278', 'W./C. 6608', 'SOTON/OQ 392086', '343275',\n",
       "       '343276', '347466', 'W.E.P. 5734', 'C.A. 2315', '364500', '374910',\n",
       "       'PC 17754', 'PC 17759', '231919', '244367', '349245', '349215',\n",
       "       '35281', '7540', '3101276', '349207', '343120', '312991', '349249',\n",
       "       '371110', '110465', '2665', '324669', '4136', '2627',\n",
       "       'STON/O 2. 3101294', '370369', 'PC 17558', 'A4. 54510', '27267',\n",
       "       '370372', 'C 17369', '2668', '347061', '349241',\n",
       "       'SOTON/O.Q. 3101307', 'A/5. 3337', '228414', 'C.A. 29178',\n",
       "       'SC/PARIS 2133', '11752', '7534', 'PC 17593', '2678', '347081',\n",
       "       'STON/O2. 3101279', '365222', '231945', 'C.A. 33112', '350043',\n",
       "       '230080', '244310', 'S.O.P. 1166', '113776', 'A.5. 11206',\n",
       "       'A/5. 851', 'Fa 265302', 'PC 17597', '35851', 'SOTON/OQ 392090',\n",
       "       '315037', 'CA. 2343', '371362', 'C.A. 33595', '347068', '315093',\n",
       "       '363291', '113505', 'PC 17318', '111240', 'STON/O 2. 3101280',\n",
       "       '17764', '350404', '4133', 'PC 17595', '250653', 'LINE',\n",
       "       'SC/PARIS 2131', '230136', '315153', '113767', '370365', '111428',\n",
       "       '364849', '349247', '234604', '28424', '350046', 'PC 17610',\n",
       "       '368703', '4579', '370370', '248747', '345770', '3101264', '2628',\n",
       "       'A/5 3540', '347054', '2699', '367231', '112277',\n",
       "       'SOTON/O.Q. 3101311', 'F.C.C. 13528', 'A/5 21174', '250646',\n",
       "       '367229', '35273', 'STON/O2. 3101283', '243847', '11813',\n",
       "       'W/C 14208', 'SOTON/OQ 392089', '220367', '21440', '349234',\n",
       "       '19943', 'PP 4348', 'SW/PP 751', 'A/5 21173', '236171', '347067',\n",
       "       '237442', 'C.A. 29566', 'W./C. 6609', '26707', 'C.A. 31921',\n",
       "       '28665', 'SCO/W 1585', '367230', 'W./C. 14263',\n",
       "       'STON/O 2. 3101275', '2694', '19928', '347071', '250649', '11751',\n",
       "       '244252', '362316', '113514', 'A/5. 3336', '370129', '2650',\n",
       "       'PC 17585', '110152', 'PC 17755', '230433', '384461', '110413',\n",
       "       '112059', '382649', 'C.A. 17248', '347083', 'PC 17582', 'PC 17760',\n",
       "       '113798', '250644', 'PC 17596', '370375', '13502', '347073',\n",
       "       '239853', 'C.A. 2673', '336439', '347464', '345778', 'A/5. 10482',\n",
       "       '113056', '349239', '345774', '349206', '237798', '370373',\n",
       "       '19877', '11967', 'SC/Paris 2163', '349236', '349233', 'PC 17612',\n",
       "       '2693', '113781', '19988', '9234', '367226', '226593', 'A/5 2466',\n",
       "       '17421', 'PC 17758', 'P/PP 3381', 'PC 17485', '11767', 'PC 17608',\n",
       "       '250651', '349243', 'F.C.C. 13529', '347470', '29011', '36928',\n",
       "       '16966', 'A/5 21172', '349219', '234818', '345364', '28551',\n",
       "       '111361', '113043', 'PC 17611', '349225', '7598', '113784',\n",
       "       '248740', '244361', '229236', '248733', '31418', '386525',\n",
       "       'C.A. 37671', '315088', '7267', '113510', '2695', '2647', '345783',\n",
       "       '237671', '330931', '330980', 'SC/PARIS 2167', '2691',\n",
       "       'SOTON/O.Q. 3101310', 'C 7076', '110813', '2626', '14313',\n",
       "       'PC 17477', '11765', '3101267', '323951', 'C 7077', '113503',\n",
       "       '2648', '347069', 'PC 17757', '2653', 'STON/O 2. 3101293',\n",
       "       '349227', '27849', '367655', 'SC 1748', '113760', '350034',\n",
       "       '3101277', '350052', '350407', '28403', '244278', '240929',\n",
       "       'STON/O 2. 3101289', '341826', '4137', '315096', '28664', '347064',\n",
       "       '29106', '312992', '349222', '394140', 'STON/O 2. 3101269',\n",
       "       '343095', '28220', '250652', '28228', '345773', '349254',\n",
       "       'A/5. 13032', '315082', '347080', 'A/4. 34244', '2003', '250655',\n",
       "       '364851', 'SOTON/O.Q. 392078', '110564', '376564', 'SC/AH 3085',\n",
       "       'STON/O 2. 3101274', '13507', 'C.A. 18723', '345769', '347076',\n",
       "       '230434', '65306', '33638', '113794', '2666', '113786', '65303',\n",
       "       '113051', '17453', 'A/5 2817', '349240', '13509', '17464',\n",
       "       'F.C.C. 13531', '371060', '19952', '364506', '111320', '234360',\n",
       "       'A/S 2816', 'SOTON/O.Q. 3101306', '113792', '36209', '323592',\n",
       "       '315089', 'SC/AH Basle 541', '7553', '31027', '3460', '350060',\n",
       "       '3101298', '239854', 'A/5 3594', '4134', '11771', 'A.5. 18509',\n",
       "       '65304', 'SOTON/OQ 3101317', '113787', 'PC 17609', 'A/4 45380',\n",
       "       '36947', 'C.A. 6212', '350035', '315086', '364846', '330909',\n",
       "       '4135', '26360', '111427', 'C 4001', '382651', 'SOTON/OQ 3101316',\n",
       "       'PC 17473', 'PC 17603', '349209', '36967', 'C.A. 34260', '226875',\n",
       "       '349242', '12749', '349252', '2624', '2700', '367232',\n",
       "       'W./C. 14258', 'PC 17483', '3101296', '29104', '2641', '2690',\n",
       "       '315084', '113050', 'PC 17761', '364498', '13568', 'WE/P 5735',\n",
       "       '2908', '693', 'SC/PARIS 2146', '244358', '330979', '2620',\n",
       "       '347085', '113807', '11755', '345572', '372622', '349251',\n",
       "       '218629', 'SOTON/OQ 392082', 'SOTON/O.Q. 392087', 'A/4 48871',\n",
       "       '349205', '2686', '350417', 'S.W./PP 752', '11769', 'PC 17474',\n",
       "       '14312', 'A/4. 20589', '358585', '243880', '2689',\n",
       "       'STON/O 2. 3101286', '237789', '13049', '3411', '237565', '13567',\n",
       "       '14973', 'A./5. 3235', 'STON/O 2. 3101273', 'A/5 3902', '364848',\n",
       "       'SC/AH 29037', '248727', '2664', '349214', '113796', '364511',\n",
       "       '111426', '349910', '349246', '113804', 'SOTON/O.Q. 3101305',\n",
       "       '370377', '364512', '220845', '31028', '2659', '11753', '350029',\n",
       "       '54636', '36963', '219533', '349224', '334912', '27042', '347743',\n",
       "       '13214', '112052', '237668', 'STON/O 2. 3101292', '350050',\n",
       "       '349231', '13213', 'S.O./P.P. 751', 'CA. 2314', '349221', '8475',\n",
       "       '330919', '365226', '349223', '29751', '2623', '5727', '349210',\n",
       "       'STON/O 2. 3101285', '234686', '312993', 'A/5 3536', '19996',\n",
       "       '29750', 'F.C. 12750', 'C.A. 24580', '244270', '239856', '349912',\n",
       "       '342826', '4138', '330935', '6563', '349228', '350036', '24160',\n",
       "       '17474', '349256', '2672', '113800', '248731', '363592', '35852',\n",
       "       '348121', 'PC 17475', '36864', '350025', '223596', 'PC 17476',\n",
       "       'PC 17482', '113028', '7545', '250647', '348124', '34218', '36568',\n",
       "       '347062', '350048', '12233', '250643', '113806', '315094', '36866',\n",
       "       '236853', 'STON/O2. 3101271', '239855', '28425', '233639',\n",
       "       '349201', '349218', '16988', '376566', 'STON/O 2. 3101288',\n",
       "       '250648', '113773', '335097', '29103', '392096', '345780',\n",
       "       '349204', '350042', '29108', '363294', 'SOTON/O2 3101272', '2663',\n",
       "       '347074', '112379', '364850', '8471', '345781', '350047',\n",
       "       'S.O./P.P. 3', '2674', '29105', '347078', '383121', '36865',\n",
       "       '2687', '113501', 'W./C. 6607', 'SOTON/O.Q. 3101312', '374887',\n",
       "       '3101265', '12460', 'PC 17600', '349203', '28213', '17465',\n",
       "       '349244', '2685', '2625', '347089', '347063', '112050', '347087',\n",
       "       '248723', '3474', '28206', '364499', '112058', 'STON/O2. 3101290',\n",
       "       'S.C./PARIS 2079', 'C 7075', '315098', '19972', '368323', '367228',\n",
       "       '2671', '347468', '2223', 'PC 17756', '315097', '392092', '11774',\n",
       "       'SOTON/O2 3101287', '2683', '315090', 'C.A. 5547', '349213',\n",
       "       '347060', 'PC 17592', '392091', '113055', '2629', '350026',\n",
       "       '28134', '17466', '233866', '236852', 'SC/PARIS 2149', 'PC 17590',\n",
       "       '345777', '349248', '695', '345765', '2667', '349212', '349217',\n",
       "       '349257', '7552', 'C.A./SOTON 34068', 'SOTON/OQ 392076', '211536',\n",
       "       '112053', '111369', '370376', '330911', '363272', '240276',\n",
       "       '315154', '7538', '330972', '2657', '349220', '694', '21228',\n",
       "       '24065', '233734', '2692', 'STON/O2. 3101270', '2696', 'C 17368',\n",
       "       'PC 17598', '2698', '113054', 'C.A. 31029', '13236', '2682',\n",
       "       '342712', '315087', '345768', '113778', 'SOTON/O.Q. 3101263',\n",
       "       '237249', 'STON/O 2. 3101291', 'PC 17594', '370374', '13695',\n",
       "       'SC/PARIS 2168', 'SC/A.3 2861', '349230', '348122', '349232',\n",
       "       '237216', '347090', '334914', 'F.C.C. 13534', '330963', '2543',\n",
       "       '382653', '349211', '3101297', 'PC 17562', '359306', '11770',\n",
       "       '248744', '368702', '19924', '349238', '240261', '2660', '330844',\n",
       "       'A/4 31416', '364856', '347072', '345498', '376563', '13905',\n",
       "       '350033', 'STON/O 2. 3101268', '347471', 'A./5. 3338', '11778',\n",
       "       '365235', '347070', '330920', '383162', '3410', '248734', '237734',\n",
       "       '330968', 'PC 17531', '329944', '2681', '13050', '367227',\n",
       "       '392095', '368783', '350045', '211535', '342441',\n",
       "       'STON/OQ. 369943', '113780', '2621', '349226', '350409', '2656',\n",
       "       '248659', 'SOTON/OQ 392083', '17475', 'SC/A4 23568', '113791',\n",
       "       '349255', '3701', '350405', 'S.O./P.P. 752', '347469', '110489',\n",
       "       'SOTON/O.Q. 3101315', '335432', '220844', '343271', '237393',\n",
       "       'PC 17591', '17770', '7548', 'S.O./P.P. 251', '2670', '2673',\n",
       "       '233478', '7935', '239059', 'S.O./P.P. 2', 'A/4 48873', '28221',\n",
       "       '111163', '235509', '347465', '347066', 'C.A. 31030', '65305',\n",
       "       'C.A. 34050', 'F.C. 12998', '9232', '28034', 'PC 17613', '349250',\n",
       "       'SOTON/O.Q. 3101308', '347091', '113038', '330924', '32302',\n",
       "       'SC/PARIS 2148', '342684', 'W./C. 14266', '350053', 'PC 17606',\n",
       "       '350054', '370368', '242963', '113795', '3101266', '330971',\n",
       "       '350416', '2679', '250650', '112377', '3470', 'SOTON/O2 3101284',\n",
       "       '13508', '7266', '345775', 'C.A. 42795', 'AQ/4 3130', '363611',\n",
       "       '28404', '345501', '350410', 'C.A. 34644', '349235', '112051',\n",
       "       'C.A. 49867', 'A. 2. 39186', '315095', '368573', '2676',\n",
       "       'SC 14888', 'CA 31352', 'W./C. 14260', '315085', '364859',\n",
       "       'A/5 21175', 'SOTON/O.Q. 3101314', '2655', 'A/5 1478', 'PC 17607',\n",
       "       '382650', '2652', '345771', '349202', '113801', '347467', '347079',\n",
       "       '237735', '315092', '383123', '112901', '315091', '2658',\n",
       "       'LP 1588', '368364', 'AQ/3. 30631', '28004', '350408', '347075',\n",
       "       '2654', '244368', '113790', 'SOTON/O.Q. 3101309', '236854',\n",
       "       'PC 17580', '2684', '349229', '110469', '244360', '2675', '2622',\n",
       "       'C.A. 15185', '350403', '348125', '237670', '2688', '248726',\n",
       "       'F.C.C. 13540', '113044', '1222', '368402', '315083', '112378',\n",
       "       'SC/PARIS 2147', '28133', '248746', '315152', '29107', '680',\n",
       "       '366713', '330910', 'SC/PARIS 2159', '349911', '244346', '364858',\n",
       "       'C.A. 30769', '371109', '347065', '21332', '17765',\n",
       "       'SC/PARIS 2166', '28666', '334915', '365237', '347086',\n",
       "       'A.5. 3236', 'SOTON/O.Q. 3101262', '359309'], dtype=object)"
      ]
     },
     "execution_count": 210,
     "metadata": {},
     "output_type": "execute_result"
    }
   ],
   "source": [
    "df[\"Ticket\"].unique()"
   ]
  },
  {
   "cell_type": "markdown",
   "id": "2ee21978-73fd-484e-b549-3cbf12a3a8d6",
   "metadata": {},
   "source": [
    "#### Ticket에서 Initial을 추출하는 과정"
   ]
  },
  {
   "cell_type": "code",
   "execution_count": 211,
   "id": "157981a8-1514-4a35-ab4f-bb08ac60c3eb",
   "metadata": {},
   "outputs": [
    {
     "data": {
      "text/html": [
       "<div>\n",
       "<style scoped>\n",
       "    .dataframe tbody tr th:only-of-type {\n",
       "        vertical-align: middle;\n",
       "    }\n",
       "\n",
       "    .dataframe tbody tr th {\n",
       "        vertical-align: top;\n",
       "    }\n",
       "\n",
       "    .dataframe thead th {\n",
       "        text-align: right;\n",
       "    }\n",
       "</style>\n",
       "<table border=\"1\" class=\"dataframe\">\n",
       "  <thead>\n",
       "    <tr style=\"text-align: right;\">\n",
       "      <th></th>\n",
       "      <th>PassengerId</th>\n",
       "      <th>Survived</th>\n",
       "      <th>Pclass</th>\n",
       "      <th>Sex</th>\n",
       "      <th>Age</th>\n",
       "      <th>Ticket</th>\n",
       "      <th>Fare</th>\n",
       "      <th>Cabin</th>\n",
       "      <th>Embarked</th>\n",
       "      <th>Initial</th>\n",
       "      <th>Family</th>\n",
       "      <th>Ticket_Initial</th>\n",
       "    </tr>\n",
       "  </thead>\n",
       "  <tbody>\n",
       "    <tr>\n",
       "      <th>0</th>\n",
       "      <td>1</td>\n",
       "      <td>0.0</td>\n",
       "      <td>3</td>\n",
       "      <td>0</td>\n",
       "      <td>3.0</td>\n",
       "      <td>A/5 21171</td>\n",
       "      <td>0.0</td>\n",
       "      <td>0</td>\n",
       "      <td>0</td>\n",
       "      <td>0.0</td>\n",
       "      <td>2</td>\n",
       "      <td>A/5</td>\n",
       "    </tr>\n",
       "    <tr>\n",
       "      <th>1</th>\n",
       "      <td>2</td>\n",
       "      <td>1.0</td>\n",
       "      <td>1</td>\n",
       "      <td>1</td>\n",
       "      <td>4.0</td>\n",
       "      <td>PC 17599</td>\n",
       "      <td>3.0</td>\n",
       "      <td>1</td>\n",
       "      <td>1</td>\n",
       "      <td>2.0</td>\n",
       "      <td>2</td>\n",
       "      <td>PC</td>\n",
       "    </tr>\n",
       "    <tr>\n",
       "      <th>2</th>\n",
       "      <td>3</td>\n",
       "      <td>1.0</td>\n",
       "      <td>3</td>\n",
       "      <td>1</td>\n",
       "      <td>3.0</td>\n",
       "      <td>STON/O2. 3101282</td>\n",
       "      <td>0.0</td>\n",
       "      <td>0</td>\n",
       "      <td>0</td>\n",
       "      <td>1.0</td>\n",
       "      <td>1</td>\n",
       "      <td>STON/O2.</td>\n",
       "    </tr>\n",
       "    <tr>\n",
       "      <th>3</th>\n",
       "      <td>4</td>\n",
       "      <td>1.0</td>\n",
       "      <td>1</td>\n",
       "      <td>1</td>\n",
       "      <td>4.0</td>\n",
       "      <td>113803</td>\n",
       "      <td>2.0</td>\n",
       "      <td>1</td>\n",
       "      <td>0</td>\n",
       "      <td>2.0</td>\n",
       "      <td>2</td>\n",
       "      <td>113803</td>\n",
       "    </tr>\n",
       "    <tr>\n",
       "      <th>4</th>\n",
       "      <td>5</td>\n",
       "      <td>0.0</td>\n",
       "      <td>3</td>\n",
       "      <td>0</td>\n",
       "      <td>4.0</td>\n",
       "      <td>373450</td>\n",
       "      <td>0.0</td>\n",
       "      <td>0</td>\n",
       "      <td>0</td>\n",
       "      <td>0.0</td>\n",
       "      <td>1</td>\n",
       "      <td>373450</td>\n",
       "    </tr>\n",
       "  </tbody>\n",
       "</table>\n",
       "</div>"
      ],
      "text/plain": [
       "   PassengerId  Survived  Pclass  Sex  Age            Ticket  Fare  Cabin  \\\n",
       "0            1       0.0       3    0  3.0         A/5 21171   0.0      0   \n",
       "1            2       1.0       1    1  4.0          PC 17599   3.0      1   \n",
       "2            3       1.0       3    1  3.0  STON/O2. 3101282   0.0      0   \n",
       "3            4       1.0       1    1  4.0            113803   2.0      1   \n",
       "4            5       0.0       3    0  4.0            373450   0.0      0   \n",
       "\n",
       "   Embarked  Initial  Family Ticket_Initial  \n",
       "0         0      0.0       2            A/5  \n",
       "1         1      2.0       2             PC  \n",
       "2         0      1.0       1       STON/O2.  \n",
       "3         0      2.0       2         113803  \n",
       "4         0      0.0       1         373450  "
      ]
     },
     "execution_count": 211,
     "metadata": {},
     "output_type": "execute_result"
    }
   ],
   "source": [
    "df[\"Ticket_Initial\"] = df[\"Ticket\"].str.extract('([^ \\t\\n\\r\\f\\v]+)' )\n",
    "df.head()"
   ]
  },
  {
   "cell_type": "code",
   "execution_count": 212,
   "id": "800a5953-b06a-4622-962a-7df26acb6a63",
   "metadata": {},
   "outputs": [],
   "source": [
    "df.loc[df[\"Ticket_Initial\"] == \"LINE\", \"Ticket_Initial\"] = 0\n",
    "df[\"Ticket_Initial2\"] = df[\"Ticket_Initial\"].str.replace(pat=\"[^A-Za-z]\", repl=\"\", regex=True).str[0:2]"
   ]
  },
  {
   "cell_type": "code",
   "execution_count": 213,
   "id": "309548f5-2aaa-45e2-a6b3-ed11bd0b8c08",
   "metadata": {},
   "outputs": [
    {
     "data": {
      "text/html": [
       "<div>\n",
       "<style scoped>\n",
       "    .dataframe tbody tr th:only-of-type {\n",
       "        vertical-align: middle;\n",
       "    }\n",
       "\n",
       "    .dataframe tbody tr th {\n",
       "        vertical-align: top;\n",
       "    }\n",
       "\n",
       "    .dataframe thead th {\n",
       "        text-align: right;\n",
       "    }\n",
       "</style>\n",
       "<table border=\"1\" class=\"dataframe\">\n",
       "  <thead>\n",
       "    <tr style=\"text-align: right;\">\n",
       "      <th></th>\n",
       "      <th>PassengerId</th>\n",
       "      <th>Survived</th>\n",
       "      <th>Pclass</th>\n",
       "      <th>Sex</th>\n",
       "      <th>Age</th>\n",
       "      <th>Ticket</th>\n",
       "      <th>Fare</th>\n",
       "      <th>Cabin</th>\n",
       "      <th>Embarked</th>\n",
       "      <th>Initial</th>\n",
       "      <th>Family</th>\n",
       "      <th>Ticket_Initial</th>\n",
       "      <th>Ticket_Initial2</th>\n",
       "    </tr>\n",
       "  </thead>\n",
       "  <tbody>\n",
       "    <tr>\n",
       "      <th>0</th>\n",
       "      <td>1</td>\n",
       "      <td>0.0</td>\n",
       "      <td>3</td>\n",
       "      <td>0</td>\n",
       "      <td>3.0</td>\n",
       "      <td>A/5 21171</td>\n",
       "      <td>0.0</td>\n",
       "      <td>0</td>\n",
       "      <td>0</td>\n",
       "      <td>0.0</td>\n",
       "      <td>2</td>\n",
       "      <td>A/5</td>\n",
       "      <td>A</td>\n",
       "    </tr>\n",
       "    <tr>\n",
       "      <th>1</th>\n",
       "      <td>2</td>\n",
       "      <td>1.0</td>\n",
       "      <td>1</td>\n",
       "      <td>1</td>\n",
       "      <td>4.0</td>\n",
       "      <td>PC 17599</td>\n",
       "      <td>3.0</td>\n",
       "      <td>1</td>\n",
       "      <td>1</td>\n",
       "      <td>2.0</td>\n",
       "      <td>2</td>\n",
       "      <td>PC</td>\n",
       "      <td>PC</td>\n",
       "    </tr>\n",
       "    <tr>\n",
       "      <th>2</th>\n",
       "      <td>3</td>\n",
       "      <td>1.0</td>\n",
       "      <td>3</td>\n",
       "      <td>1</td>\n",
       "      <td>3.0</td>\n",
       "      <td>STON/O2. 3101282</td>\n",
       "      <td>0.0</td>\n",
       "      <td>0</td>\n",
       "      <td>0</td>\n",
       "      <td>1.0</td>\n",
       "      <td>1</td>\n",
       "      <td>STON/O2.</td>\n",
       "      <td>ST</td>\n",
       "    </tr>\n",
       "    <tr>\n",
       "      <th>3</th>\n",
       "      <td>4</td>\n",
       "      <td>1.0</td>\n",
       "      <td>1</td>\n",
       "      <td>1</td>\n",
       "      <td>4.0</td>\n",
       "      <td>113803</td>\n",
       "      <td>2.0</td>\n",
       "      <td>1</td>\n",
       "      <td>0</td>\n",
       "      <td>2.0</td>\n",
       "      <td>2</td>\n",
       "      <td>113803</td>\n",
       "      <td></td>\n",
       "    </tr>\n",
       "    <tr>\n",
       "      <th>4</th>\n",
       "      <td>5</td>\n",
       "      <td>0.0</td>\n",
       "      <td>3</td>\n",
       "      <td>0</td>\n",
       "      <td>4.0</td>\n",
       "      <td>373450</td>\n",
       "      <td>0.0</td>\n",
       "      <td>0</td>\n",
       "      <td>0</td>\n",
       "      <td>0.0</td>\n",
       "      <td>1</td>\n",
       "      <td>373450</td>\n",
       "      <td></td>\n",
       "    </tr>\n",
       "  </tbody>\n",
       "</table>\n",
       "</div>"
      ],
      "text/plain": [
       "   PassengerId  Survived  Pclass  Sex  Age            Ticket  Fare  Cabin  \\\n",
       "0            1       0.0       3    0  3.0         A/5 21171   0.0      0   \n",
       "1            2       1.0       1    1  4.0          PC 17599   3.0      1   \n",
       "2            3       1.0       3    1  3.0  STON/O2. 3101282   0.0      0   \n",
       "3            4       1.0       1    1  4.0            113803   2.0      1   \n",
       "4            5       0.0       3    0  4.0            373450   0.0      0   \n",
       "\n",
       "   Embarked  Initial  Family Ticket_Initial Ticket_Initial2  \n",
       "0         0      0.0       2            A/5               A  \n",
       "1         1      2.0       2             PC              PC  \n",
       "2         0      1.0       1       STON/O2.              ST  \n",
       "3         0      2.0       2         113803                  \n",
       "4         0      0.0       1         373450                  "
      ]
     },
     "execution_count": 213,
     "metadata": {},
     "output_type": "execute_result"
    }
   ],
   "source": [
    "df.head()"
   ]
  },
  {
   "cell_type": "code",
   "execution_count": 214,
   "id": "cb796503-a61e-4536-ae08-4112908e6b1a",
   "metadata": {},
   "outputs": [],
   "source": [
    "df[\"Ticket_Initial2\"] = df[\"Ticket_Initial2\"].replace(\"\", \"UN\")\n",
    "train = df[:ntrain]\n"
   ]
  },
  {
   "cell_type": "code",
   "execution_count": 215,
   "id": "9050286d-bb48-419e-9805-89983a7aa546",
   "metadata": {},
   "outputs": [
    {
     "data": {
      "text/html": [
       "<div>\n",
       "<style scoped>\n",
       "    .dataframe tbody tr th:only-of-type {\n",
       "        vertical-align: middle;\n",
       "    }\n",
       "\n",
       "    .dataframe tbody tr th {\n",
       "        vertical-align: top;\n",
       "    }\n",
       "\n",
       "    .dataframe thead th {\n",
       "        text-align: right;\n",
       "    }\n",
       "</style>\n",
       "<table border=\"1\" class=\"dataframe\">\n",
       "  <thead>\n",
       "    <tr style=\"text-align: right;\">\n",
       "      <th></th>\n",
       "      <th>PassengerId</th>\n",
       "      <th>Survived</th>\n",
       "      <th>Pclass</th>\n",
       "      <th>Sex</th>\n",
       "      <th>Age</th>\n",
       "      <th>Ticket</th>\n",
       "      <th>Fare</th>\n",
       "      <th>Cabin</th>\n",
       "      <th>Embarked</th>\n",
       "      <th>Initial</th>\n",
       "      <th>Family</th>\n",
       "      <th>Ticket_Initial</th>\n",
       "      <th>Ticket_Initial2</th>\n",
       "    </tr>\n",
       "  </thead>\n",
       "  <tbody>\n",
       "    <tr>\n",
       "      <th>0</th>\n",
       "      <td>1</td>\n",
       "      <td>0.0</td>\n",
       "      <td>3</td>\n",
       "      <td>0</td>\n",
       "      <td>3.0</td>\n",
       "      <td>A/5 21171</td>\n",
       "      <td>0.0</td>\n",
       "      <td>0</td>\n",
       "      <td>0</td>\n",
       "      <td>0.0</td>\n",
       "      <td>2</td>\n",
       "      <td>A/5</td>\n",
       "      <td>A</td>\n",
       "    </tr>\n",
       "    <tr>\n",
       "      <th>1</th>\n",
       "      <td>2</td>\n",
       "      <td>1.0</td>\n",
       "      <td>1</td>\n",
       "      <td>1</td>\n",
       "      <td>4.0</td>\n",
       "      <td>PC 17599</td>\n",
       "      <td>3.0</td>\n",
       "      <td>1</td>\n",
       "      <td>1</td>\n",
       "      <td>2.0</td>\n",
       "      <td>2</td>\n",
       "      <td>PC</td>\n",
       "      <td>PC</td>\n",
       "    </tr>\n",
       "    <tr>\n",
       "      <th>2</th>\n",
       "      <td>3</td>\n",
       "      <td>1.0</td>\n",
       "      <td>3</td>\n",
       "      <td>1</td>\n",
       "      <td>3.0</td>\n",
       "      <td>STON/O2. 3101282</td>\n",
       "      <td>0.0</td>\n",
       "      <td>0</td>\n",
       "      <td>0</td>\n",
       "      <td>1.0</td>\n",
       "      <td>1</td>\n",
       "      <td>STON/O2.</td>\n",
       "      <td>ST</td>\n",
       "    </tr>\n",
       "    <tr>\n",
       "      <th>3</th>\n",
       "      <td>4</td>\n",
       "      <td>1.0</td>\n",
       "      <td>1</td>\n",
       "      <td>1</td>\n",
       "      <td>4.0</td>\n",
       "      <td>113803</td>\n",
       "      <td>2.0</td>\n",
       "      <td>1</td>\n",
       "      <td>0</td>\n",
       "      <td>2.0</td>\n",
       "      <td>2</td>\n",
       "      <td>113803</td>\n",
       "      <td>UN</td>\n",
       "    </tr>\n",
       "    <tr>\n",
       "      <th>4</th>\n",
       "      <td>5</td>\n",
       "      <td>0.0</td>\n",
       "      <td>3</td>\n",
       "      <td>0</td>\n",
       "      <td>4.0</td>\n",
       "      <td>373450</td>\n",
       "      <td>0.0</td>\n",
       "      <td>0</td>\n",
       "      <td>0</td>\n",
       "      <td>0.0</td>\n",
       "      <td>1</td>\n",
       "      <td>373450</td>\n",
       "      <td>UN</td>\n",
       "    </tr>\n",
       "    <tr>\n",
       "      <th>...</th>\n",
       "      <td>...</td>\n",
       "      <td>...</td>\n",
       "      <td>...</td>\n",
       "      <td>...</td>\n",
       "      <td>...</td>\n",
       "      <td>...</td>\n",
       "      <td>...</td>\n",
       "      <td>...</td>\n",
       "      <td>...</td>\n",
       "      <td>...</td>\n",
       "      <td>...</td>\n",
       "      <td>...</td>\n",
       "      <td>...</td>\n",
       "    </tr>\n",
       "    <tr>\n",
       "      <th>886</th>\n",
       "      <td>887</td>\n",
       "      <td>0.0</td>\n",
       "      <td>2</td>\n",
       "      <td>0</td>\n",
       "      <td>3.0</td>\n",
       "      <td>211536</td>\n",
       "      <td>0.0</td>\n",
       "      <td>0</td>\n",
       "      <td>0</td>\n",
       "      <td>6.0</td>\n",
       "      <td>1</td>\n",
       "      <td>211536</td>\n",
       "      <td>UN</td>\n",
       "    </tr>\n",
       "    <tr>\n",
       "      <th>887</th>\n",
       "      <td>888</td>\n",
       "      <td>1.0</td>\n",
       "      <td>1</td>\n",
       "      <td>1</td>\n",
       "      <td>2.0</td>\n",
       "      <td>112053</td>\n",
       "      <td>1.0</td>\n",
       "      <td>6</td>\n",
       "      <td>0</td>\n",
       "      <td>1.0</td>\n",
       "      <td>1</td>\n",
       "      <td>112053</td>\n",
       "      <td>UN</td>\n",
       "    </tr>\n",
       "    <tr>\n",
       "      <th>888</th>\n",
       "      <td>889</td>\n",
       "      <td>0.0</td>\n",
       "      <td>3</td>\n",
       "      <td>1</td>\n",
       "      <td>3.0</td>\n",
       "      <td>W./C. 6607</td>\n",
       "      <td>1.0</td>\n",
       "      <td>0</td>\n",
       "      <td>0</td>\n",
       "      <td>1.0</td>\n",
       "      <td>4</td>\n",
       "      <td>W./C.</td>\n",
       "      <td>WC</td>\n",
       "    </tr>\n",
       "    <tr>\n",
       "      <th>889</th>\n",
       "      <td>890</td>\n",
       "      <td>1.0</td>\n",
       "      <td>1</td>\n",
       "      <td>0</td>\n",
       "      <td>3.0</td>\n",
       "      <td>111369</td>\n",
       "      <td>1.0</td>\n",
       "      <td>1</td>\n",
       "      <td>1</td>\n",
       "      <td>0.0</td>\n",
       "      <td>1</td>\n",
       "      <td>111369</td>\n",
       "      <td>UN</td>\n",
       "    </tr>\n",
       "    <tr>\n",
       "      <th>890</th>\n",
       "      <td>891</td>\n",
       "      <td>0.0</td>\n",
       "      <td>3</td>\n",
       "      <td>0</td>\n",
       "      <td>3.0</td>\n",
       "      <td>370376</td>\n",
       "      <td>0.0</td>\n",
       "      <td>0</td>\n",
       "      <td>2</td>\n",
       "      <td>0.0</td>\n",
       "      <td>1</td>\n",
       "      <td>370376</td>\n",
       "      <td>UN</td>\n",
       "    </tr>\n",
       "  </tbody>\n",
       "</table>\n",
       "<p>891 rows × 13 columns</p>\n",
       "</div>"
      ],
      "text/plain": [
       "     PassengerId  Survived  Pclass  Sex  Age            Ticket  Fare  Cabin  \\\n",
       "0              1       0.0       3    0  3.0         A/5 21171   0.0      0   \n",
       "1              2       1.0       1    1  4.0          PC 17599   3.0      1   \n",
       "2              3       1.0       3    1  3.0  STON/O2. 3101282   0.0      0   \n",
       "3              4       1.0       1    1  4.0            113803   2.0      1   \n",
       "4              5       0.0       3    0  4.0            373450   0.0      0   \n",
       "..           ...       ...     ...  ...  ...               ...   ...    ...   \n",
       "886          887       0.0       2    0  3.0            211536   0.0      0   \n",
       "887          888       1.0       1    1  2.0            112053   1.0      6   \n",
       "888          889       0.0       3    1  3.0        W./C. 6607   1.0      0   \n",
       "889          890       1.0       1    0  3.0            111369   1.0      1   \n",
       "890          891       0.0       3    0  3.0            370376   0.0      0   \n",
       "\n",
       "     Embarked  Initial  Family Ticket_Initial Ticket_Initial2  \n",
       "0           0      0.0       2            A/5               A  \n",
       "1           1      2.0       2             PC              PC  \n",
       "2           0      1.0       1       STON/O2.              ST  \n",
       "3           0      2.0       2         113803              UN  \n",
       "4           0      0.0       1         373450              UN  \n",
       "..        ...      ...     ...            ...             ...  \n",
       "886         0      6.0       1         211536              UN  \n",
       "887         0      1.0       1         112053              UN  \n",
       "888         0      1.0       4          W./C.              WC  \n",
       "889         1      0.0       1         111369              UN  \n",
       "890         2      0.0       1         370376              UN  \n",
       "\n",
       "[891 rows x 13 columns]"
      ]
     },
     "execution_count": 215,
     "metadata": {},
     "output_type": "execute_result"
    }
   ],
   "source": [
    "train"
   ]
  },
  {
   "cell_type": "markdown",
   "id": "3c088ac9-4658-40f1-9568-54746a8fae5e",
   "metadata": {},
   "source": [
    "#### Ticket Initial 추출값을 기준으로 Survived 시각화\n",
    "- Initial이 없는 경우가 사망률이 높음\n",
    "- PC의 경우 생존률이 높음"
   ]
  },
  {
   "cell_type": "code",
   "execution_count": 216,
   "id": "b99ce440-1481-4729-988f-6babb1d5a687",
   "metadata": {},
   "outputs": [
    {
     "data": {
      "application/vnd.plotly.v1+json": {
       "config": {
        "plotlyServerURL": "https://plot.ly"
       },
       "data": [
        {
         "alignmentgroup": "True",
         "bingroup": "x",
         "hovertemplate": "Result=Dead<br>Ticket_Initial2=%{x}<br>count=%{y}<extra></extra>",
         "legendgroup": "Dead",
         "marker": {
          "color": "#636efa",
          "opacity": 0.5,
          "pattern": {
           "shape": ""
          }
         },
         "name": "Dead",
         "offsetgroup": "Dead",
         "orientation": "v",
         "showlegend": true,
         "type": "histogram",
         "x": [
          "A",
          "UN",
          "UN",
          "UN",
          "UN",
          "A",
          "UN",
          "UN",
          "UN",
          "UN",
          "UN",
          "UN",
          "UN",
          "UN",
          "UN",
          "PC",
          "CA",
          "PC",
          "UN",
          "A",
          "UN",
          "UN",
          "UN",
          "UN",
          "SC",
          "UN",
          "UN",
          "UN",
          "UN",
          "A",
          "UN",
          "UN",
          "CA",
          "UN",
          "UN",
          "UN",
          "PC",
          "SP",
          "UN",
          "CA",
          "CA",
          "SO",
          "UN",
          "UN",
          "UN",
          "UN",
          "UN",
          "UN",
          "WC",
          "SO",
          "UN",
          "UN",
          "UN",
          "WE",
          "CA",
          "UN",
          "UN",
          "PC",
          "UN",
          "UN",
          "UN",
          "UN",
          "UN",
          "UN",
          "UN",
          "UN",
          "UN",
          "UN",
          "UN",
          "UN",
          "UN",
          "ST",
          "UN",
          "UN",
          "PC",
          "UN",
          "SO",
          "A",
          "UN",
          "UN",
          "UN",
          "UN",
          "UN",
          "SO",
          "A",
          "CA",
          "SC",
          "UN",
          "UN",
          "PC",
          "UN",
          "UN",
          "UN",
          "CA",
          "WC",
          "UN",
          "UN",
          "SO",
          "A",
          "A",
          "Fa",
          "PC",
          "SO",
          "UN",
          "CA",
          "UN",
          "UN",
          "UN",
          "UN",
          "UN",
          "PC",
          "UN",
          "UN",
          "UN",
          "ST",
          "UN",
          "UN",
          "UN",
          "PC",
          "UN",
          null,
          "CA",
          "SC",
          "UN",
          "UN",
          "UN",
          "UN",
          "UN",
          "UN",
          "UN",
          "UN",
          "UN",
          "CA",
          "UN",
          "UN",
          "UN",
          "UN",
          "SO",
          "A",
          "UN",
          "UN",
          "UN",
          "WC",
          "UN",
          "UN",
          "UN",
          "PP",
          "A",
          "UN",
          "UN",
          "UN",
          "UN",
          "CA",
          "WC",
          "UN",
          "UN",
          "SC",
          "UN",
          "WC",
          "ST",
          "UN",
          "UN",
          "UN",
          "UN",
          "UN",
          "UN",
          "UN",
          "A",
          "UN",
          "UN",
          "UN",
          "UN",
          "UN",
          "CA",
          "UN",
          "UN",
          "PC",
          "UN",
          "UN",
          "UN",
          "UN",
          "UN",
          "UN",
          "UN",
          "UN",
          "UN",
          "SC",
          "UN",
          "UN",
          "PC",
          "UN",
          "UN",
          null,
          "A",
          "PP",
          "UN",
          "UN",
          "FC",
          "UN",
          "A",
          "UN",
          "CA",
          "UN",
          "UN",
          "PC",
          "UN",
          "UN",
          "UN",
          "UN",
          "UN",
          "UN",
          "UN",
          "UN",
          "UN",
          "UN",
          "UN",
          "UN",
          "UN",
          "UN",
          "UN",
          "UN",
          "SC",
          "UN",
          "SO",
          "UN",
          "C",
          "UN",
          "UN",
          "PC",
          "UN",
          "UN",
          "UN",
          "UN",
          "ST",
          "UN",
          "SO",
          "CA",
          "UN",
          "UN",
          "UN",
          "UN",
          "UN",
          "UN",
          "UN",
          "UN",
          "ST",
          "UN",
          "UN",
          "UN",
          "UN",
          "UN",
          "UN",
          "UN",
          "UN",
          "UN",
          "UN",
          "UN",
          "UN",
          "A",
          "UN",
          "UN",
          "UN",
          "A",
          "UN",
          "ST",
          "UN",
          "WC",
          "UN",
          "CA",
          "UN",
          "UN",
          "CA",
          "UN",
          "UN",
          "A",
          "UN",
          "UN",
          "UN",
          "UN",
          "UN",
          "AS",
          "SO",
          "UN",
          "UN",
          "UN",
          "UN",
          "UN",
          "UN",
          "UN",
          "UN",
          "UN",
          "UN",
          "CA",
          "UN",
          "A",
          "UN",
          "UN",
          "A",
          "UN",
          "SO",
          "UN",
          "PC",
          "A",
          "UN",
          "CA",
          "UN",
          "UN",
          "UN",
          "UN",
          "UN",
          "UN",
          "PC",
          "C",
          "SO",
          "UN",
          "UN",
          "UN",
          "UN",
          "UN",
          "UN",
          "UN",
          "UN",
          "PC",
          "UN",
          "UN",
          "UN",
          "UN",
          "UN",
          "UN",
          "UN",
          "UN",
          "UN",
          "PC",
          "UN",
          "UN",
          "UN",
          "UN",
          "UN",
          "PC",
          "UN",
          "UN",
          "UN",
          "SO",
          "SO",
          "A",
          "UN",
          "UN",
          "UN",
          "A",
          "UN",
          "UN",
          "UN",
          "UN",
          "UN",
          "UN",
          "UN",
          "A",
          "ST",
          "A",
          "UN",
          "SC",
          "UN",
          null,
          "UN",
          "UN",
          "UN",
          "UN",
          "UN",
          "UN",
          "UN",
          "SO",
          "UN",
          "UN",
          "UN",
          "A",
          "UN",
          "UN",
          "UN",
          "UN",
          "UN",
          "UN",
          "UN",
          "UN",
          "UN",
          "UN",
          "UN",
          "ST",
          "CA",
          "UN",
          "UN",
          "UN",
          "UN",
          "UN",
          "SO",
          "UN",
          "UN",
          "UN",
          "SO",
          "UN",
          "UN",
          "UN",
          "UN",
          "UN",
          "UN",
          "UN",
          "SO",
          "UN",
          "UN",
          "A",
          "FC",
          "CA",
          "UN",
          "UN",
          "UN",
          "CA",
          "UN",
          "UN",
          "CA",
          "UN",
          "SC",
          "UN",
          "UN",
          "UN",
          "UN",
          "UN",
          "UN",
          "UN",
          "UN",
          "UN",
          "UN",
          "UN",
          "UN",
          "UN",
          "UN",
          "UN",
          "UN",
          "UN",
          "UN",
          "UN",
          "UN",
          "UN",
          "UN",
          "UN",
          "UN",
          "ST",
          "UN",
          "UN",
          "UN",
          "UN",
          "UN",
          "WC",
          "UN",
          "UN",
          "UN",
          "UN",
          "WE",
          "CA",
          "UN",
          "UN",
          "UN",
          "UN",
          "UN",
          "UN",
          "UN",
          "UN",
          "SO",
          "UN",
          "UN",
          "UN",
          "UN",
          "UN",
          "UN",
          "UN",
          "SO",
          "UN",
          "UN",
          "UN",
          "UN",
          "UN",
          "WC",
          "SO",
          "UN",
          "UN",
          "PC",
          "UN",
          "UN",
          "CA",
          "PC",
          "UN",
          "UN",
          "UN",
          "UN",
          "UN",
          "UN",
          "UN",
          "UN",
          "UN",
          "UN",
          "A",
          "UN",
          "UN",
          "UN",
          "UN",
          "ST",
          "SC",
          "C",
          "UN",
          "UN",
          "UN",
          "UN",
          "UN",
          "UN",
          "UN",
          "UN",
          "UN",
          "UN",
          "SO",
          "SO",
          "UN",
          "UN",
          "CA",
          "CA",
          "UN",
          "UN",
          "UN",
          "UN",
          "UN",
          "UN",
          "UN",
          "UN",
          "UN",
          "CA",
          "UN",
          "PC",
          "UN",
          "UN",
          "UN",
          "UN",
          "UN",
          "UN",
          "UN",
          "UN",
          "UN",
          "CA",
          "SO",
          "UN",
          "UN",
          "WC",
          "UN"
         ],
         "xaxis": "x",
         "yaxis": "y"
        },
        {
         "alignmentgroup": "True",
         "bingroup": "x",
         "hovertemplate": "Result=Survived<br>Ticket_Initial2=%{x}<br>count=%{y}<extra></extra>",
         "legendgroup": "Survived",
         "marker": {
          "color": "#EF553B",
          "opacity": 0.5,
          "pattern": {
           "shape": ""
          }
         },
         "name": "Survived",
         "offsetgroup": "Survived",
         "orientation": "v",
         "showlegend": true,
         "type": "histogram",
         "x": [
          "PC",
          "ST",
          "UN",
          "UN",
          "UN",
          "PP",
          "UN",
          "UN",
          "UN",
          "UN",
          "UN",
          "UN",
          "UN",
          "UN",
          "UN",
          "PC",
          "UN",
          "UN",
          "UN",
          "SC",
          "UN",
          "UN",
          "PC",
          "UN",
          "UN",
          "CA",
          "CA",
          "UN",
          "UN",
          "CA",
          "UN",
          "UN",
          "UN",
          "UN",
          "UN",
          "UN",
          "SO",
          "UN",
          "UN",
          "PC",
          "UN",
          "UN",
          "UN",
          "UN",
          "UN",
          "UN",
          "C",
          "UN",
          "UN",
          "UN",
          "UN",
          "ST",
          "UN",
          "UN",
          "UN",
          "CA",
          "UN",
          "UN",
          "UN",
          "UN",
          "UN",
          "UN",
          "UN",
          "UN",
          "UN",
          "UN",
          "PC",
          "PC",
          "UN",
          "A",
          "UN",
          "UN",
          "UN",
          "FC",
          "UN",
          "ST",
          "UN",
          "SO",
          "UN",
          "SW",
          "UN",
          "UN",
          "CA",
          "UN",
          "UN",
          "UN",
          "UN",
          "PC",
          "UN",
          "PC",
          "UN",
          "UN",
          "UN",
          "PC",
          "PC",
          null,
          "UN",
          "UN",
          "UN",
          "CA",
          "A",
          "UN",
          "UN",
          "UN",
          "UN",
          "UN",
          "UN",
          "PC",
          "UN",
          "UN",
          "UN",
          "UN",
          "UN",
          "PC",
          "PC",
          "UN",
          "PC",
          "UN",
          "UN",
          "UN",
          "UN",
          "UN",
          "UN",
          "PC",
          "UN",
          "UN",
          "UN",
          "UN",
          "PC",
          "UN",
          "UN",
          "UN",
          "UN",
          "UN",
          "UN",
          "UN",
          "CA",
          "UN",
          "UN",
          "UN",
          "UN",
          "UN",
          "UN",
          "PC",
          "UN",
          "PC",
          "C",
          "PC",
          "UN",
          "UN",
          "UN",
          "SC",
          "UN",
          "UN",
          "UN",
          "PP",
          "UN",
          "ST",
          "UN",
          "UN",
          "ST",
          "UN",
          "UN",
          "UN",
          "UN",
          "SO",
          "UN",
          "UN",
          "SC",
          "UN",
          "UN",
          "FC",
          "UN",
          "UN",
          "UN",
          "UN",
          "UN",
          "UN",
          "UN",
          "UN",
          "UN",
          "UN",
          "FC",
          "UN",
          "UN",
          "CA",
          "SC",
          "UN",
          "UN",
          "UN",
          "UN",
          "CA",
          "UN",
          "UN",
          "UN",
          "UN",
          "UN",
          "UN",
          "PC",
          "PC",
          "CA",
          "UN",
          "UN",
          "UN",
          "WC",
          "UN",
          "UN",
          "FC",
          "PC",
          "UN",
          "WE",
          "UN",
          "UN",
          "SC",
          "CA",
          "UN",
          "UN",
          "UN",
          "UN",
          "UN",
          "UN",
          "UN",
          "SW",
          "UN",
          "PC",
          "UN",
          "UN",
          "UN",
          "ST",
          "UN",
          "UN",
          "UN",
          "UN",
          "UN",
          "UN",
          "PC",
          "UN",
          "UN",
          "UN",
          "SC",
          "PC",
          "UN",
          "UN",
          "UN",
          "UN",
          "UN",
          "UN",
          "UN",
          "UN",
          "UN",
          "PC",
          "UN",
          "UN",
          "PC",
          "UN",
          "CA",
          "UN",
          "UN",
          "PC",
          "ST",
          "UN",
          "UN",
          "UN",
          "UN",
          "PC",
          "PC",
          "UN",
          "UN",
          "UN",
          "UN",
          "UN",
          "PC",
          "PC",
          "UN",
          "PC",
          "UN",
          "UN",
          "PC",
          "UN",
          "PC",
          "UN",
          "UN",
          "UN",
          "UN",
          "UN",
          "UN",
          "PC",
          "UN",
          "PC",
          "ST",
          "UN",
          "UN",
          "UN",
          "UN",
          "UN",
          "UN",
          "UN",
          "UN",
          "UN",
          "UN",
          "UN",
          "UN",
          "UN",
          "UN",
          "UN",
          "CA",
          "UN",
          "UN",
          "CA",
          "UN",
          "UN",
          "UN",
          "UN",
          "UN",
          "UN",
          "UN",
          "SC",
          "UN",
          "UN",
          "UN",
          "UN",
          "PC",
          "UN",
          "UN",
          "UN",
          "UN",
          "PC",
          "UN",
          "UN",
          "UN",
          "UN",
          "UN",
          "UN",
          "SC",
          "UN",
          "UN",
          "PP",
          "UN",
          "UN",
          "UN",
          "UN",
          "UN"
         ],
         "xaxis": "x",
         "yaxis": "y"
        }
       ],
       "layout": {
        "barmode": "overlay",
        "legend": {
         "title": {
          "text": "Result"
         },
         "tracegroupgap": 0
        },
        "template": {
         "data": {
          "bar": [
           {
            "error_x": {
             "color": "#2a3f5f"
            },
            "error_y": {
             "color": "#2a3f5f"
            },
            "marker": {
             "line": {
              "color": "#E5ECF6",
              "width": 0.5
             },
             "pattern": {
              "fillmode": "overlay",
              "size": 10,
              "solidity": 0.2
             }
            },
            "type": "bar"
           }
          ],
          "barpolar": [
           {
            "marker": {
             "line": {
              "color": "#E5ECF6",
              "width": 0.5
             },
             "pattern": {
              "fillmode": "overlay",
              "size": 10,
              "solidity": 0.2
             }
            },
            "type": "barpolar"
           }
          ],
          "carpet": [
           {
            "aaxis": {
             "endlinecolor": "#2a3f5f",
             "gridcolor": "white",
             "linecolor": "white",
             "minorgridcolor": "white",
             "startlinecolor": "#2a3f5f"
            },
            "baxis": {
             "endlinecolor": "#2a3f5f",
             "gridcolor": "white",
             "linecolor": "white",
             "minorgridcolor": "white",
             "startlinecolor": "#2a3f5f"
            },
            "type": "carpet"
           }
          ],
          "choropleth": [
           {
            "colorbar": {
             "outlinewidth": 0,
             "ticks": ""
            },
            "type": "choropleth"
           }
          ],
          "contour": [
           {
            "colorbar": {
             "outlinewidth": 0,
             "ticks": ""
            },
            "colorscale": [
             [
              0,
              "#0d0887"
             ],
             [
              0.1111111111111111,
              "#46039f"
             ],
             [
              0.2222222222222222,
              "#7201a8"
             ],
             [
              0.3333333333333333,
              "#9c179e"
             ],
             [
              0.4444444444444444,
              "#bd3786"
             ],
             [
              0.5555555555555556,
              "#d8576b"
             ],
             [
              0.6666666666666666,
              "#ed7953"
             ],
             [
              0.7777777777777778,
              "#fb9f3a"
             ],
             [
              0.8888888888888888,
              "#fdca26"
             ],
             [
              1,
              "#f0f921"
             ]
            ],
            "type": "contour"
           }
          ],
          "contourcarpet": [
           {
            "colorbar": {
             "outlinewidth": 0,
             "ticks": ""
            },
            "type": "contourcarpet"
           }
          ],
          "heatmap": [
           {
            "colorbar": {
             "outlinewidth": 0,
             "ticks": ""
            },
            "colorscale": [
             [
              0,
              "#0d0887"
             ],
             [
              0.1111111111111111,
              "#46039f"
             ],
             [
              0.2222222222222222,
              "#7201a8"
             ],
             [
              0.3333333333333333,
              "#9c179e"
             ],
             [
              0.4444444444444444,
              "#bd3786"
             ],
             [
              0.5555555555555556,
              "#d8576b"
             ],
             [
              0.6666666666666666,
              "#ed7953"
             ],
             [
              0.7777777777777778,
              "#fb9f3a"
             ],
             [
              0.8888888888888888,
              "#fdca26"
             ],
             [
              1,
              "#f0f921"
             ]
            ],
            "type": "heatmap"
           }
          ],
          "heatmapgl": [
           {
            "colorbar": {
             "outlinewidth": 0,
             "ticks": ""
            },
            "colorscale": [
             [
              0,
              "#0d0887"
             ],
             [
              0.1111111111111111,
              "#46039f"
             ],
             [
              0.2222222222222222,
              "#7201a8"
             ],
             [
              0.3333333333333333,
              "#9c179e"
             ],
             [
              0.4444444444444444,
              "#bd3786"
             ],
             [
              0.5555555555555556,
              "#d8576b"
             ],
             [
              0.6666666666666666,
              "#ed7953"
             ],
             [
              0.7777777777777778,
              "#fb9f3a"
             ],
             [
              0.8888888888888888,
              "#fdca26"
             ],
             [
              1,
              "#f0f921"
             ]
            ],
            "type": "heatmapgl"
           }
          ],
          "histogram": [
           {
            "marker": {
             "pattern": {
              "fillmode": "overlay",
              "size": 10,
              "solidity": 0.2
             }
            },
            "type": "histogram"
           }
          ],
          "histogram2d": [
           {
            "colorbar": {
             "outlinewidth": 0,
             "ticks": ""
            },
            "colorscale": [
             [
              0,
              "#0d0887"
             ],
             [
              0.1111111111111111,
              "#46039f"
             ],
             [
              0.2222222222222222,
              "#7201a8"
             ],
             [
              0.3333333333333333,
              "#9c179e"
             ],
             [
              0.4444444444444444,
              "#bd3786"
             ],
             [
              0.5555555555555556,
              "#d8576b"
             ],
             [
              0.6666666666666666,
              "#ed7953"
             ],
             [
              0.7777777777777778,
              "#fb9f3a"
             ],
             [
              0.8888888888888888,
              "#fdca26"
             ],
             [
              1,
              "#f0f921"
             ]
            ],
            "type": "histogram2d"
           }
          ],
          "histogram2dcontour": [
           {
            "colorbar": {
             "outlinewidth": 0,
             "ticks": ""
            },
            "colorscale": [
             [
              0,
              "#0d0887"
             ],
             [
              0.1111111111111111,
              "#46039f"
             ],
             [
              0.2222222222222222,
              "#7201a8"
             ],
             [
              0.3333333333333333,
              "#9c179e"
             ],
             [
              0.4444444444444444,
              "#bd3786"
             ],
             [
              0.5555555555555556,
              "#d8576b"
             ],
             [
              0.6666666666666666,
              "#ed7953"
             ],
             [
              0.7777777777777778,
              "#fb9f3a"
             ],
             [
              0.8888888888888888,
              "#fdca26"
             ],
             [
              1,
              "#f0f921"
             ]
            ],
            "type": "histogram2dcontour"
           }
          ],
          "mesh3d": [
           {
            "colorbar": {
             "outlinewidth": 0,
             "ticks": ""
            },
            "type": "mesh3d"
           }
          ],
          "parcoords": [
           {
            "line": {
             "colorbar": {
              "outlinewidth": 0,
              "ticks": ""
             }
            },
            "type": "parcoords"
           }
          ],
          "pie": [
           {
            "automargin": true,
            "type": "pie"
           }
          ],
          "scatter": [
           {
            "fillpattern": {
             "fillmode": "overlay",
             "size": 10,
             "solidity": 0.2
            },
            "type": "scatter"
           }
          ],
          "scatter3d": [
           {
            "line": {
             "colorbar": {
              "outlinewidth": 0,
              "ticks": ""
             }
            },
            "marker": {
             "colorbar": {
              "outlinewidth": 0,
              "ticks": ""
             }
            },
            "type": "scatter3d"
           }
          ],
          "scattercarpet": [
           {
            "marker": {
             "colorbar": {
              "outlinewidth": 0,
              "ticks": ""
             }
            },
            "type": "scattercarpet"
           }
          ],
          "scattergeo": [
           {
            "marker": {
             "colorbar": {
              "outlinewidth": 0,
              "ticks": ""
             }
            },
            "type": "scattergeo"
           }
          ],
          "scattergl": [
           {
            "marker": {
             "colorbar": {
              "outlinewidth": 0,
              "ticks": ""
             }
            },
            "type": "scattergl"
           }
          ],
          "scattermapbox": [
           {
            "marker": {
             "colorbar": {
              "outlinewidth": 0,
              "ticks": ""
             }
            },
            "type": "scattermapbox"
           }
          ],
          "scatterpolar": [
           {
            "marker": {
             "colorbar": {
              "outlinewidth": 0,
              "ticks": ""
             }
            },
            "type": "scatterpolar"
           }
          ],
          "scatterpolargl": [
           {
            "marker": {
             "colorbar": {
              "outlinewidth": 0,
              "ticks": ""
             }
            },
            "type": "scatterpolargl"
           }
          ],
          "scatterternary": [
           {
            "marker": {
             "colorbar": {
              "outlinewidth": 0,
              "ticks": ""
             }
            },
            "type": "scatterternary"
           }
          ],
          "surface": [
           {
            "colorbar": {
             "outlinewidth": 0,
             "ticks": ""
            },
            "colorscale": [
             [
              0,
              "#0d0887"
             ],
             [
              0.1111111111111111,
              "#46039f"
             ],
             [
              0.2222222222222222,
              "#7201a8"
             ],
             [
              0.3333333333333333,
              "#9c179e"
             ],
             [
              0.4444444444444444,
              "#bd3786"
             ],
             [
              0.5555555555555556,
              "#d8576b"
             ],
             [
              0.6666666666666666,
              "#ed7953"
             ],
             [
              0.7777777777777778,
              "#fb9f3a"
             ],
             [
              0.8888888888888888,
              "#fdca26"
             ],
             [
              1,
              "#f0f921"
             ]
            ],
            "type": "surface"
           }
          ],
          "table": [
           {
            "cells": {
             "fill": {
              "color": "#EBF0F8"
             },
             "line": {
              "color": "white"
             }
            },
            "header": {
             "fill": {
              "color": "#C8D4E3"
             },
             "line": {
              "color": "white"
             }
            },
            "type": "table"
           }
          ]
         },
         "layout": {
          "annotationdefaults": {
           "arrowcolor": "#2a3f5f",
           "arrowhead": 0,
           "arrowwidth": 1
          },
          "autotypenumbers": "strict",
          "coloraxis": {
           "colorbar": {
            "outlinewidth": 0,
            "ticks": ""
           }
          },
          "colorscale": {
           "diverging": [
            [
             0,
             "#8e0152"
            ],
            [
             0.1,
             "#c51b7d"
            ],
            [
             0.2,
             "#de77ae"
            ],
            [
             0.3,
             "#f1b6da"
            ],
            [
             0.4,
             "#fde0ef"
            ],
            [
             0.5,
             "#f7f7f7"
            ],
            [
             0.6,
             "#e6f5d0"
            ],
            [
             0.7,
             "#b8e186"
            ],
            [
             0.8,
             "#7fbc41"
            ],
            [
             0.9,
             "#4d9221"
            ],
            [
             1,
             "#276419"
            ]
           ],
           "sequential": [
            [
             0,
             "#0d0887"
            ],
            [
             0.1111111111111111,
             "#46039f"
            ],
            [
             0.2222222222222222,
             "#7201a8"
            ],
            [
             0.3333333333333333,
             "#9c179e"
            ],
            [
             0.4444444444444444,
             "#bd3786"
            ],
            [
             0.5555555555555556,
             "#d8576b"
            ],
            [
             0.6666666666666666,
             "#ed7953"
            ],
            [
             0.7777777777777778,
             "#fb9f3a"
            ],
            [
             0.8888888888888888,
             "#fdca26"
            ],
            [
             1,
             "#f0f921"
            ]
           ],
           "sequentialminus": [
            [
             0,
             "#0d0887"
            ],
            [
             0.1111111111111111,
             "#46039f"
            ],
            [
             0.2222222222222222,
             "#7201a8"
            ],
            [
             0.3333333333333333,
             "#9c179e"
            ],
            [
             0.4444444444444444,
             "#bd3786"
            ],
            [
             0.5555555555555556,
             "#d8576b"
            ],
            [
             0.6666666666666666,
             "#ed7953"
            ],
            [
             0.7777777777777778,
             "#fb9f3a"
            ],
            [
             0.8888888888888888,
             "#fdca26"
            ],
            [
             1,
             "#f0f921"
            ]
           ]
          },
          "colorway": [
           "#636efa",
           "#EF553B",
           "#00cc96",
           "#ab63fa",
           "#FFA15A",
           "#19d3f3",
           "#FF6692",
           "#B6E880",
           "#FF97FF",
           "#FECB52"
          ],
          "font": {
           "color": "#2a3f5f"
          },
          "geo": {
           "bgcolor": "white",
           "lakecolor": "white",
           "landcolor": "#E5ECF6",
           "showlakes": true,
           "showland": true,
           "subunitcolor": "white"
          },
          "hoverlabel": {
           "align": "left"
          },
          "hovermode": "closest",
          "mapbox": {
           "style": "light"
          },
          "paper_bgcolor": "white",
          "plot_bgcolor": "#E5ECF6",
          "polar": {
           "angularaxis": {
            "gridcolor": "white",
            "linecolor": "white",
            "ticks": ""
           },
           "bgcolor": "#E5ECF6",
           "radialaxis": {
            "gridcolor": "white",
            "linecolor": "white",
            "ticks": ""
           }
          },
          "scene": {
           "xaxis": {
            "backgroundcolor": "#E5ECF6",
            "gridcolor": "white",
            "gridwidth": 2,
            "linecolor": "white",
            "showbackground": true,
            "ticks": "",
            "zerolinecolor": "white"
           },
           "yaxis": {
            "backgroundcolor": "#E5ECF6",
            "gridcolor": "white",
            "gridwidth": 2,
            "linecolor": "white",
            "showbackground": true,
            "ticks": "",
            "zerolinecolor": "white"
           },
           "zaxis": {
            "backgroundcolor": "#E5ECF6",
            "gridcolor": "white",
            "gridwidth": 2,
            "linecolor": "white",
            "showbackground": true,
            "ticks": "",
            "zerolinecolor": "white"
           }
          },
          "shapedefaults": {
           "line": {
            "color": "#2a3f5f"
           }
          },
          "ternary": {
           "aaxis": {
            "gridcolor": "white",
            "linecolor": "white",
            "ticks": ""
           },
           "baxis": {
            "gridcolor": "white",
            "linecolor": "white",
            "ticks": ""
           },
           "bgcolor": "#E5ECF6",
           "caxis": {
            "gridcolor": "white",
            "linecolor": "white",
            "ticks": ""
           }
          },
          "title": {
           "x": 0.05
          },
          "xaxis": {
           "automargin": true,
           "gridcolor": "white",
           "linecolor": "white",
           "ticks": "",
           "title": {
            "standoff": 15
           },
           "zerolinecolor": "white",
           "zerolinewidth": 2
          },
          "yaxis": {
           "automargin": true,
           "gridcolor": "white",
           "linecolor": "white",
           "ticks": "",
           "title": {
            "standoff": 15
           },
           "zerolinecolor": "white",
           "zerolinewidth": 2
          }
         }
        },
        "title": {
         "text": "Ticket_Initial2 Distribution by Survival Status"
        },
        "xaxis": {
         "anchor": "y",
         "domain": [
          0,
          1
         ],
         "title": {
          "text": "Ticket_Initial2"
         }
        },
        "yaxis": {
         "anchor": "x",
         "domain": [
          0,
          1
         ],
         "title": {
          "text": "count"
         }
        }
       }
      },
      "image/png": "[encoded data removed]",
      "text/html": [
       "<div>                            <div id=\"265a9df6-ba54-417c-bc72-9d5979d65777\" class=\"plotly-graph-div\" style=\"height:525px; width:100%;\"></div>            <script type=\"text/javascript\">                require([\"plotly\"], function(Plotly) {                    window.PLOTLYENV=window.PLOTLYENV || {};                                    if (document.getElementById(\"265a9df6-ba54-417c-bc72-9d5979d65777\")) {                    Plotly.newPlot(                        \"265a9df6-ba54-417c-bc72-9d5979d65777\",                        [{\"alignmentgroup\":\"True\",\"bingroup\":\"x\",\"hovertemplate\":\"Result=Dead\\u003cbr\\u003eTicket_Initial2=%{x}\\u003cbr\\u003ecount=%{y}\\u003cextra\\u003e\\u003c\\u002fextra\\u003e\",\"legendgroup\":\"Dead\",\"marker\":{\"color\":\"#636efa\",\"opacity\":0.5,\"pattern\":{\"shape\":\"\"}},\"name\":\"Dead\",\"offsetgroup\":\"Dead\",\"orientation\":\"v\",\"showlegend\":true,\"x\":[\"A\",\"UN\",\"UN\",\"UN\",\"UN\",\"A\",\"UN\",\"UN\",\"UN\",\"UN\",\"UN\",\"UN\",\"UN\",\"UN\",\"UN\",\"PC\",\"CA\",\"PC\",\"UN\",\"A\",\"UN\",\"UN\",\"UN\",\"UN\",\"SC\",\"UN\",\"UN\",\"UN\",\"UN\",\"A\",\"UN\",\"UN\",\"CA\",\"UN\",\"UN\",\"UN\",\"PC\",\"SP\",\"UN\",\"CA\",\"CA\",\"SO\",\"UN\",\"UN\",\"UN\",\"UN\",\"UN\",\"UN\",\"WC\",\"SO\",\"UN\",\"UN\",\"UN\",\"WE\",\"CA\",\"UN\",\"UN\",\"PC\",\"UN\",\"UN\",\"UN\",\"UN\",\"UN\",\"UN\",\"UN\",\"UN\",\"UN\",\"UN\",\"UN\",\"UN\",\"UN\",\"ST\",\"UN\",\"UN\",\"PC\",\"UN\",\"SO\",\"A\",\"UN\",\"UN\",\"UN\",\"UN\",\"UN\",\"SO\",\"A\",\"CA\",\"SC\",\"UN\",\"UN\",\"PC\",\"UN\",\"UN\",\"UN\",\"CA\",\"WC\",\"UN\",\"UN\",\"SO\",\"A\",\"A\",\"Fa\",\"PC\",\"SO\",\"UN\",\"CA\",\"UN\",\"UN\",\"UN\",\"UN\",\"UN\",\"PC\",\"UN\",\"UN\",\"UN\",\"ST\",\"UN\",\"UN\",\"UN\",\"PC\",\"UN\",null,\"CA\",\"SC\",\"UN\",\"UN\",\"UN\",\"UN\",\"UN\",\"UN\",\"UN\",\"UN\",\"UN\",\"CA\",\"UN\",\"UN\",\"UN\",\"UN\",\"SO\",\"A\",\"UN\",\"UN\",\"UN\",\"WC\",\"UN\",\"UN\",\"UN\",\"PP\",\"A\",\"UN\",\"UN\",\"UN\",\"UN\",\"CA\",\"WC\",\"UN\",\"UN\",\"SC\",\"UN\",\"WC\",\"ST\",\"UN\",\"UN\",\"UN\",\"UN\",\"UN\",\"UN\",\"UN\",\"A\",\"UN\",\"UN\",\"UN\",\"UN\",\"UN\",\"CA\",\"UN\",\"UN\",\"PC\",\"UN\",\"UN\",\"UN\",\"UN\",\"UN\",\"UN\",\"UN\",\"UN\",\"UN\",\"SC\",\"UN\",\"UN\",\"PC\",\"UN\",\"UN\",null,\"A\",\"PP\",\"UN\",\"UN\",\"FC\",\"UN\",\"A\",\"UN\",\"CA\",\"UN\",\"UN\",\"PC\",\"UN\",\"UN\",\"UN\",\"UN\",\"UN\",\"UN\",\"UN\",\"UN\",\"UN\",\"UN\",\"UN\",\"UN\",\"UN\",\"UN\",\"UN\",\"UN\",\"SC\",\"UN\",\"SO\",\"UN\",\"C\",\"UN\",\"UN\",\"PC\",\"UN\",\"UN\",\"UN\",\"UN\",\"ST\",\"UN\",\"SO\",\"CA\",\"UN\",\"UN\",\"UN\",\"UN\",\"UN\",\"UN\",\"UN\",\"UN\",\"ST\",\"UN\",\"UN\",\"UN\",\"UN\",\"UN\",\"UN\",\"UN\",\"UN\",\"UN\",\"UN\",\"UN\",\"UN\",\"A\",\"UN\",\"UN\",\"UN\",\"A\",\"UN\",\"ST\",\"UN\",\"WC\",\"UN\",\"CA\",\"UN\",\"UN\",\"CA\",\"UN\",\"UN\",\"A\",\"UN\",\"UN\",\"UN\",\"UN\",\"UN\",\"AS\",\"SO\",\"UN\",\"UN\",\"UN\",\"UN\",\"UN\",\"UN\",\"UN\",\"UN\",\"UN\",\"UN\",\"CA\",\"UN\",\"A\",\"UN\",\"UN\",\"A\",\"UN\",\"SO\",\"UN\",\"PC\",\"A\",\"UN\",\"CA\",\"UN\",\"UN\",\"UN\",\"UN\",\"UN\",\"UN\",\"PC\",\"C\",\"SO\",\"UN\",\"UN\",\"UN\",\"UN\",\"UN\",\"UN\",\"UN\",\"UN\",\"PC\",\"UN\",\"UN\",\"UN\",\"UN\",\"UN\",\"UN\",\"UN\",\"UN\",\"UN\",\"PC\",\"UN\",\"UN\",\"UN\",\"UN\",\"UN\",\"PC\",\"UN\",\"UN\",\"UN\",\"SO\",\"SO\",\"A\",\"UN\",\"UN\",\"UN\",\"A\",\"UN\",\"UN\",\"UN\",\"UN\",\"UN\",\"UN\",\"UN\",\"A\",\"ST\",\"A\",\"UN\",\"SC\",\"UN\",null,\"UN\",\"UN\",\"UN\",\"UN\",\"UN\",\"UN\",\"UN\",\"SO\",\"UN\",\"UN\",\"UN\",\"A\",\"UN\",\"UN\",\"UN\",\"UN\",\"UN\",\"UN\",\"UN\",\"UN\",\"UN\",\"UN\",\"UN\",\"ST\",\"CA\",\"UN\",\"UN\",\"UN\",\"UN\",\"UN\",\"SO\",\"UN\",\"UN\",\"UN\",\"SO\",\"UN\",\"UN\",\"UN\",\"UN\",\"UN\",\"UN\",\"UN\",\"SO\",\"UN\",\"UN\",\"A\",\"FC\",\"CA\",\"UN\",\"UN\",\"UN\",\"CA\",\"UN\",\"UN\",\"CA\",\"UN\",\"SC\",\"UN\",\"UN\",\"UN\",\"UN\",\"UN\",\"UN\",\"UN\",\"UN\",\"UN\",\"UN\",\"UN\",\"UN\",\"UN\",\"UN\",\"UN\",\"UN\",\"UN\",\"UN\",\"UN\",\"UN\",\"UN\",\"UN\",\"UN\",\"UN\",\"ST\",\"UN\",\"UN\",\"UN\",\"UN\",\"UN\",\"WC\",\"UN\",\"UN\",\"UN\",\"UN\",\"WE\",\"CA\",\"UN\",\"UN\",\"UN\",\"UN\",\"UN\",\"UN\",\"UN\",\"UN\",\"SO\",\"UN\",\"UN\",\"UN\",\"UN\",\"UN\",\"UN\",\"UN\",\"SO\",\"UN\",\"UN\",\"UN\",\"UN\",\"UN\",\"WC\",\"SO\",\"UN\",\"UN\",\"PC\",\"UN\",\"UN\",\"CA\",\"PC\",\"UN\",\"UN\",\"UN\",\"UN\",\"UN\",\"UN\",\"UN\",\"UN\",\"UN\",\"UN\",\"A\",\"UN\",\"UN\",\"UN\",\"UN\",\"ST\",\"SC\",\"C\",\"UN\",\"UN\",\"UN\",\"UN\",\"UN\",\"UN\",\"UN\",\"UN\",\"UN\",\"UN\",\"SO\",\"SO\",\"UN\",\"UN\",\"CA\",\"CA\",\"UN\",\"UN\",\"UN\",\"UN\",\"UN\",\"UN\",\"UN\",\"UN\",\"UN\",\"CA\",\"UN\",\"PC\",\"UN\",\"UN\",\"UN\",\"UN\",\"UN\",\"UN\",\"UN\",\"UN\",\"UN\",\"CA\",\"SO\",\"UN\",\"UN\",\"WC\",\"UN\"],\"xaxis\":\"x\",\"yaxis\":\"y\",\"type\":\"histogram\"},{\"alignmentgroup\":\"True\",\"bingroup\":\"x\",\"hovertemplate\":\"Result=Survived\\u003cbr\\u003eTicket_Initial2=%{x}\\u003cbr\\u003ecount=%{y}\\u003cextra\\u003e\\u003c\\u002fextra\\u003e\",\"legendgroup\":\"Survived\",\"marker\":{\"color\":\"#EF553B\",\"opacity\":0.5,\"pattern\":{\"shape\":\"\"}},\"name\":\"Survived\",\"offsetgroup\":\"Survived\",\"orientation\":\"v\",\"showlegend\":true,\"x\":[\"PC\",\"ST\",\"UN\",\"UN\",\"UN\",\"PP\",\"UN\",\"UN\",\"UN\",\"UN\",\"UN\",\"UN\",\"UN\",\"UN\",\"UN\",\"PC\",\"UN\",\"UN\",\"UN\",\"SC\",\"UN\",\"UN\",\"PC\",\"UN\",\"UN\",\"CA\",\"CA\",\"UN\",\"UN\",\"CA\",\"UN\",\"UN\",\"UN\",\"UN\",\"UN\",\"UN\",\"SO\",\"UN\",\"UN\",\"PC\",\"UN\",\"UN\",\"UN\",\"UN\",\"UN\",\"UN\",\"C\",\"UN\",\"UN\",\"UN\",\"UN\",\"ST\",\"UN\",\"UN\",\"UN\",\"CA\",\"UN\",\"UN\",\"UN\",\"UN\",\"UN\",\"UN\",\"UN\",\"UN\",\"UN\",\"UN\",\"PC\",\"PC\",\"UN\",\"A\",\"UN\",\"UN\",\"UN\",\"FC\",\"UN\",\"ST\",\"UN\",\"SO\",\"UN\",\"SW\",\"UN\",\"UN\",\"CA\",\"UN\",\"UN\",\"UN\",\"UN\",\"PC\",\"UN\",\"PC\",\"UN\",\"UN\",\"UN\",\"PC\",\"PC\",null,\"UN\",\"UN\",\"UN\",\"CA\",\"A\",\"UN\",\"UN\",\"UN\",\"UN\",\"UN\",\"UN\",\"PC\",\"UN\",\"UN\",\"UN\",\"UN\",\"UN\",\"PC\",\"PC\",\"UN\",\"PC\",\"UN\",\"UN\",\"UN\",\"UN\",\"UN\",\"UN\",\"PC\",\"UN\",\"UN\",\"UN\",\"UN\",\"PC\",\"UN\",\"UN\",\"UN\",\"UN\",\"UN\",\"UN\",\"UN\",\"CA\",\"UN\",\"UN\",\"UN\",\"UN\",\"UN\",\"UN\",\"PC\",\"UN\",\"PC\",\"C\",\"PC\",\"UN\",\"UN\",\"UN\",\"SC\",\"UN\",\"UN\",\"UN\",\"PP\",\"UN\",\"ST\",\"UN\",\"UN\",\"ST\",\"UN\",\"UN\",\"UN\",\"UN\",\"SO\",\"UN\",\"UN\",\"SC\",\"UN\",\"UN\",\"FC\",\"UN\",\"UN\",\"UN\",\"UN\",\"UN\",\"UN\",\"UN\",\"UN\",\"UN\",\"UN\",\"FC\",\"UN\",\"UN\",\"CA\",\"SC\",\"UN\",\"UN\",\"UN\",\"UN\",\"CA\",\"UN\",\"UN\",\"UN\",\"UN\",\"UN\",\"UN\",\"PC\",\"PC\",\"CA\",\"UN\",\"UN\",\"UN\",\"WC\",\"UN\",\"UN\",\"FC\",\"PC\",\"UN\",\"WE\",\"UN\",\"UN\",\"SC\",\"CA\",\"UN\",\"UN\",\"UN\",\"UN\",\"UN\",\"UN\",\"UN\",\"SW\",\"UN\",\"PC\",\"UN\",\"UN\",\"UN\",\"ST\",\"UN\",\"UN\",\"UN\",\"UN\",\"UN\",\"UN\",\"PC\",\"UN\",\"UN\",\"UN\",\"SC\",\"PC\",\"UN\",\"UN\",\"UN\",\"UN\",\"UN\",\"UN\",\"UN\",\"UN\",\"UN\",\"PC\",\"UN\",\"UN\",\"PC\",\"UN\",\"CA\",\"UN\",\"UN\",\"PC\",\"ST\",\"UN\",\"UN\",\"UN\",\"UN\",\"PC\",\"PC\",\"UN\",\"UN\",\"UN\",\"UN\",\"UN\",\"PC\",\"PC\",\"UN\",\"PC\",\"UN\",\"UN\",\"PC\",\"UN\",\"PC\",\"UN\",\"UN\",\"UN\",\"UN\",\"UN\",\"UN\",\"PC\",\"UN\",\"PC\",\"ST\",\"UN\",\"UN\",\"UN\",\"UN\",\"UN\",\"UN\",\"UN\",\"UN\",\"UN\",\"UN\",\"UN\",\"UN\",\"UN\",\"UN\",\"UN\",\"CA\",\"UN\",\"UN\",\"CA\",\"UN\",\"UN\",\"UN\",\"UN\",\"UN\",\"UN\",\"UN\",\"SC\",\"UN\",\"UN\",\"UN\",\"UN\",\"PC\",\"UN\",\"UN\",\"UN\",\"UN\",\"PC\",\"UN\",\"UN\",\"UN\",\"UN\",\"UN\",\"UN\",\"SC\",\"UN\",\"UN\",\"PP\",\"UN\",\"UN\",\"UN\",\"UN\",\"UN\"],\"xaxis\":\"x\",\"yaxis\":\"y\",\"type\":\"histogram\"}],                        {\"template\":{\"data\":{\"histogram2dcontour\":[{\"type\":\"histogram2dcontour\",\"colorbar\":{\"outlinewidth\":0,\"ticks\":\"\"},\"colorscale\":[[0.0,\"#0d0887\"],[0.1111111111111111,\"#46039f\"],[0.2222222222222222,\"#7201a8\"],[0.3333333333333333,\"#9c179e\"],[0.4444444444444444,\"#bd3786\"],[0.5555555555555556,\"#d8576b\"],[0.6666666666666666,\"#ed7953\"],[0.7777777777777778,\"#fb9f3a\"],[0.8888888888888888,\"#fdca26\"],[1.0,\"#f0f921\"]]}],\"choropleth\":[{\"type\":\"choropleth\",\"colorbar\":{\"outlinewidth\":0,\"ticks\":\"\"}}],\"histogram2d\":[{\"type\":\"histogram2d\",\"colorbar\":{\"outlinewidth\":0,\"ticks\":\"\"},\"colorscale\":[[0.0,\"#0d0887\"],[0.1111111111111111,\"#46039f\"],[0.2222222222222222,\"#7201a8\"],[0.3333333333333333,\"#9c179e\"],[0.4444444444444444,\"#bd3786\"],[0.5555555555555556,\"#d8576b\"],[0.6666666666666666,\"#ed7953\"],[0.7777777777777778,\"#fb9f3a\"],[0.8888888888888888,\"#fdca26\"],[1.0,\"#f0f921\"]]}],\"heatmap\":[{\"type\":\"heatmap\",\"colorbar\":{\"outlinewidth\":0,\"ticks\":\"\"},\"colorscale\":[[0.0,\"#0d0887\"],[0.1111111111111111,\"#46039f\"],[0.2222222222222222,\"#7201a8\"],[0.3333333333333333,\"#9c179e\"],[0.4444444444444444,\"#bd3786\"],[0.5555555555555556,\"#d8576b\"],[0.6666666666666666,\"#ed7953\"],[0.7777777777777778,\"#fb9f3a\"],[0.8888888888888888,\"#fdca26\"],[1.0,\"#f0f921\"]]}],\"heatmapgl\":[{\"type\":\"heatmapgl\",\"colorbar\":{\"outlinewidth\":0,\"ticks\":\"\"},\"colorscale\":[[0.0,\"#0d0887\"],[0.1111111111111111,\"#46039f\"],[0.2222222222222222,\"#7201a8\"],[0.3333333333333333,\"#9c179e\"],[0.4444444444444444,\"#bd3786\"],[0.5555555555555556,\"#d8576b\"],[0.6666666666666666,\"#ed7953\"],[0.7777777777777778,\"#fb9f3a\"],[0.8888888888888888,\"#fdca26\"],[1.0,\"#f0f921\"]]}],\"contourcarpet\":[{\"type\":\"contourcarpet\",\"colorbar\":{\"outlinewidth\":0,\"ticks\":\"\"}}],\"contour\":[{\"type\":\"contour\",\"colorbar\":{\"outlinewidth\":0,\"ticks\":\"\"},\"colorscale\":[[0.0,\"#0d0887\"],[0.1111111111111111,\"#46039f\"],[0.2222222222222222,\"#7201a8\"],[0.3333333333333333,\"#9c179e\"],[0.4444444444444444,\"#bd3786\"],[0.5555555555555556,\"#d8576b\"],[0.6666666666666666,\"#ed7953\"],[0.7777777777777778,\"#fb9f3a\"],[0.8888888888888888,\"#fdca26\"],[1.0,\"#f0f921\"]]}],\"surface\":[{\"type\":\"surface\",\"colorbar\":{\"outlinewidth\":0,\"ticks\":\"\"},\"colorscale\":[[0.0,\"#0d0887\"],[0.1111111111111111,\"#46039f\"],[0.2222222222222222,\"#7201a8\"],[0.3333333333333333,\"#9c179e\"],[0.4444444444444444,\"#bd3786\"],[0.5555555555555556,\"#d8576b\"],[0.6666666666666666,\"#ed7953\"],[0.7777777777777778,\"#fb9f3a\"],[0.8888888888888888,\"#fdca26\"],[1.0,\"#f0f921\"]]}],\"mesh3d\":[{\"type\":\"mesh3d\",\"colorbar\":{\"outlinewidth\":0,\"ticks\":\"\"}}],\"scatter\":[{\"fillpattern\":{\"fillmode\":\"overlay\",\"size\":10,\"solidity\":0.2},\"type\":\"scatter\"}],\"parcoords\":[{\"type\":\"parcoords\",\"line\":{\"colorbar\":{\"outlinewidth\":0,\"ticks\":\"\"}}}],\"scatterpolargl\":[{\"type\":\"scatterpolargl\",\"marker\":{\"colorbar\":{\"outlinewidth\":0,\"ticks\":\"\"}}}],\"bar\":[{\"error_x\":{\"color\":\"#2a3f5f\"},\"error_y\":{\"color\":\"#2a3f5f\"},\"marker\":{\"line\":{\"color\":\"#E5ECF6\",\"width\":0.5},\"pattern\":{\"fillmode\":\"overlay\",\"size\":10,\"solidity\":0.2}},\"type\":\"bar\"}],\"scattergeo\":[{\"type\":\"scattergeo\",\"marker\":{\"colorbar\":{\"outlinewidth\":0,\"ticks\":\"\"}}}],\"scatterpolar\":[{\"type\":\"scatterpolar\",\"marker\":{\"colorbar\":{\"outlinewidth\":0,\"ticks\":\"\"}}}],\"histogram\":[{\"marker\":{\"pattern\":{\"fillmode\":\"overlay\",\"size\":10,\"solidity\":0.2}},\"type\":\"histogram\"}],\"scattergl\":[{\"type\":\"scattergl\",\"marker\":{\"colorbar\":{\"outlinewidth\":0,\"ticks\":\"\"}}}],\"scatter3d\":[{\"type\":\"scatter3d\",\"line\":{\"colorbar\":{\"outlinewidth\":0,\"ticks\":\"\"}},\"marker\":{\"colorbar\":{\"outlinewidth\":0,\"ticks\":\"\"}}}],\"scattermapbox\":[{\"type\":\"scattermapbox\",\"marker\":{\"colorbar\":{\"outlinewidth\":0,\"ticks\":\"\"}}}],\"scatterternary\":[{\"type\":\"scatterternary\",\"marker\":{\"colorbar\":{\"outlinewidth\":0,\"ticks\":\"\"}}}],\"scattercarpet\":[{\"type\":\"scattercarpet\",\"marker\":{\"colorbar\":{\"outlinewidth\":0,\"ticks\":\"\"}}}],\"carpet\":[{\"aaxis\":{\"endlinecolor\":\"#2a3f5f\",\"gridcolor\":\"white\",\"linecolor\":\"white\",\"minorgridcolor\":\"white\",\"startlinecolor\":\"#2a3f5f\"},\"baxis\":{\"endlinecolor\":\"#2a3f5f\",\"gridcolor\":\"white\",\"linecolor\":\"white\",\"minorgridcolor\":\"white\",\"startlinecolor\":\"#2a3f5f\"},\"type\":\"carpet\"}],\"table\":[{\"cells\":{\"fill\":{\"color\":\"#EBF0F8\"},\"line\":{\"color\":\"white\"}},\"header\":{\"fill\":{\"color\":\"#C8D4E3\"},\"line\":{\"color\":\"white\"}},\"type\":\"table\"}],\"barpolar\":[{\"marker\":{\"line\":{\"color\":\"#E5ECF6\",\"width\":0.5},\"pattern\":{\"fillmode\":\"overlay\",\"size\":10,\"solidity\":0.2}},\"type\":\"barpolar\"}],\"pie\":[{\"automargin\":true,\"type\":\"pie\"}]},\"layout\":{\"autotypenumbers\":\"strict\",\"colorway\":[\"#636efa\",\"#EF553B\",\"#00cc96\",\"#ab63fa\",\"#FFA15A\",\"#19d3f3\",\"#FF6692\",\"#B6E880\",\"#FF97FF\",\"#FECB52\"],\"font\":{\"color\":\"#2a3f5f\"},\"hovermode\":\"closest\",\"hoverlabel\":{\"align\":\"left\"},\"paper_bgcolor\":\"white\",\"plot_bgcolor\":\"#E5ECF6\",\"polar\":{\"bgcolor\":\"#E5ECF6\",\"angularaxis\":{\"gridcolor\":\"white\",\"linecolor\":\"white\",\"ticks\":\"\"},\"radialaxis\":{\"gridcolor\":\"white\",\"linecolor\":\"white\",\"ticks\":\"\"}},\"ternary\":{\"bgcolor\":\"#E5ECF6\",\"aaxis\":{\"gridcolor\":\"white\",\"linecolor\":\"white\",\"ticks\":\"\"},\"baxis\":{\"gridcolor\":\"white\",\"linecolor\":\"white\",\"ticks\":\"\"},\"caxis\":{\"gridcolor\":\"white\",\"linecolor\":\"white\",\"ticks\":\"\"}},\"coloraxis\":{\"colorbar\":{\"outlinewidth\":0,\"ticks\":\"\"}},\"colorscale\":{\"sequential\":[[0.0,\"#0d0887\"],[0.1111111111111111,\"#46039f\"],[0.2222222222222222,\"#7201a8\"],[0.3333333333333333,\"#9c179e\"],[0.4444444444444444,\"#bd3786\"],[0.5555555555555556,\"#d8576b\"],[0.6666666666666666,\"#ed7953\"],[0.7777777777777778,\"#fb9f3a\"],[0.8888888888888888,\"#fdca26\"],[1.0,\"#f0f921\"]],\"sequentialminus\":[[0.0,\"#0d0887\"],[0.1111111111111111,\"#46039f\"],[0.2222222222222222,\"#7201a8\"],[0.3333333333333333,\"#9c179e\"],[0.4444444444444444,\"#bd3786\"],[0.5555555555555556,\"#d8576b\"],[0.6666666666666666,\"#ed7953\"],[0.7777777777777778,\"#fb9f3a\"],[0.8888888888888888,\"#fdca26\"],[1.0,\"#f0f921\"]],\"diverging\":[[0,\"#8e0152\"],[0.1,\"#c51b7d\"],[0.2,\"#de77ae\"],[0.3,\"#f1b6da\"],[0.4,\"#fde0ef\"],[0.5,\"#f7f7f7\"],[0.6,\"#e6f5d0\"],[0.7,\"#b8e186\"],[0.8,\"#7fbc41\"],[0.9,\"#4d9221\"],[1,\"#276419\"]]},\"xaxis\":{\"gridcolor\":\"white\",\"linecolor\":\"white\",\"ticks\":\"\",\"title\":{\"standoff\":15},\"zerolinecolor\":\"white\",\"automargin\":true,\"zerolinewidth\":2},\"yaxis\":{\"gridcolor\":\"white\",\"linecolor\":\"white\",\"ticks\":\"\",\"title\":{\"standoff\":15},\"zerolinecolor\":\"white\",\"automargin\":true,\"zerolinewidth\":2},\"scene\":{\"xaxis\":{\"backgroundcolor\":\"#E5ECF6\",\"gridcolor\":\"white\",\"linecolor\":\"white\",\"showbackground\":true,\"ticks\":\"\",\"zerolinecolor\":\"white\",\"gridwidth\":2},\"yaxis\":{\"backgroundcolor\":\"#E5ECF6\",\"gridcolor\":\"white\",\"linecolor\":\"white\",\"showbackground\":true,\"ticks\":\"\",\"zerolinecolor\":\"white\",\"gridwidth\":2},\"zaxis\":{\"backgroundcolor\":\"#E5ECF6\",\"gridcolor\":\"white\",\"linecolor\":\"white\",\"showbackground\":true,\"ticks\":\"\",\"zerolinecolor\":\"white\",\"gridwidth\":2}},\"shapedefaults\":{\"line\":{\"color\":\"#2a3f5f\"}},\"annotationdefaults\":{\"arrowcolor\":\"#2a3f5f\",\"arrowhead\":0,\"arrowwidth\":1},\"geo\":{\"bgcolor\":\"white\",\"landcolor\":\"#E5ECF6\",\"subunitcolor\":\"white\",\"showland\":true,\"showlakes\":true,\"lakecolor\":\"white\"},\"title\":{\"x\":0.05},\"mapbox\":{\"style\":\"light\"}}},\"xaxis\":{\"anchor\":\"y\",\"domain\":[0.0,1.0],\"title\":{\"text\":\"Ticket_Initial2\"}},\"yaxis\":{\"anchor\":\"x\",\"domain\":[0.0,1.0],\"title\":{\"text\":\"count\"}},\"legend\":{\"title\":{\"text\":\"Result\"},\"tracegroupgap\":0},\"title\":{\"text\":\"Ticket_Initial2 Distribution by Survival Status\"},\"barmode\":\"overlay\"},                        {\"responsive\": true}                    ).then(function(){\n",
       "                            \n",
       "var gd = document.getElementById('265a9df6-ba54-417c-bc72-9d5979d65777');\n",
       "var x = new MutationObserver(function (mutations, observer) {{\n",
       "        var display = window.getComputedStyle(gd).display;\n",
       "        if (!display || display === 'none') {{\n",
       "            console.log([gd, 'removed!']);\n",
       "            Plotly.purge(gd);\n",
       "            observer.disconnect();\n",
       "        }}\n",
       "}});\n",
       "\n",
       "// Listen for the removal of the full notebook cells\n",
       "var notebookContainer = gd.closest('#notebook-container');\n",
       "if (notebookContainer) {{\n",
       "    x.observe(notebookContainer, {childList: true});\n",
       "}}\n",
       "\n",
       "// Listen for the clearing of the current output cell\n",
       "var outputEl = gd.closest('.output');\n",
       "if (outputEl) {{\n",
       "    x.observe(outputEl, {childList: true});\n",
       "}}\n",
       "\n",
       "                        })                };                });            </script>        </div>"
      ]
     },
     "metadata": {},
     "output_type": "display_data"
    }
   ],
   "source": [
    "import plotly.express as px\n",
    "\n",
    "train_ticket = train.copy()\n",
    "train_ticket[\"Result\"] = train_ticket[\"Survived\"].map({0: \"Dead\", 1: \"Survived\" })\n",
    "\n",
    "\n",
    "fig = px.histogram(\n",
    "    train_ticket, \n",
    "    x=\"Ticket_Initial2\",\n",
    "    color=\"Result\",\n",
    "    barmode=\"overlay\",\n",
    "    title=\"Ticket_Initial2 Distribution by Survival Status\"\n",
    ")\n",
    "fig.show()"
   ]
  },
  {
   "attachments": {
    "c9605924-848a-4989-a359-5b87c11295b9.png": {
     "image/png": "[encoded data removed]"
    }
   },
   "cell_type": "markdown",
   "id": "9eb4201f-bda0-4072-b844-c1bd26bab22e",
   "metadata": {},
   "source": [
    "![newplot (1).png](attachment:c9605924-848a-4989-a359-5b87c11295b9.png)"
   ]
  },
  {
   "cell_type": "code",
   "execution_count": 221,
   "id": "69691cb3-8c2d-4d1a-883c-ca86318f5a01",
   "metadata": {},
   "outputs": [],
   "source": [
    "df[\"Ticket_Initial2\"] = df[\"Ticket_Initial2\"].factorize()[0]"
   ]
  },
  {
   "cell_type": "code",
   "execution_count": 222,
   "id": "6f9c010a-fe07-4cb6-a933-8c69a8c1ff38",
   "metadata": {},
   "outputs": [
    {
     "data": {
      "text/html": [
       "<div>\n",
       "<style scoped>\n",
       "    .dataframe tbody tr th:only-of-type {\n",
       "        vertical-align: middle;\n",
       "    }\n",
       "\n",
       "    .dataframe tbody tr th {\n",
       "        vertical-align: top;\n",
       "    }\n",
       "\n",
       "    .dataframe thead th {\n",
       "        text-align: right;\n",
       "    }\n",
       "</style>\n",
       "<table border=\"1\" class=\"dataframe\">\n",
       "  <thead>\n",
       "    <tr style=\"text-align: right;\">\n",
       "      <th></th>\n",
       "      <th>PassengerId</th>\n",
       "      <th>Survived</th>\n",
       "      <th>Pclass</th>\n",
       "      <th>Sex</th>\n",
       "      <th>Age</th>\n",
       "      <th>Ticket</th>\n",
       "      <th>Fare</th>\n",
       "      <th>Cabin</th>\n",
       "      <th>Embarked</th>\n",
       "      <th>Initial</th>\n",
       "      <th>Family</th>\n",
       "      <th>Ticket_Initial</th>\n",
       "      <th>Ticket_Initial2</th>\n",
       "      <th>Ticket_Num</th>\n",
       "      <th>Ticket_Num_Cut</th>\n",
       "    </tr>\n",
       "  </thead>\n",
       "  <tbody>\n",
       "    <tr>\n",
       "      <th>0</th>\n",
       "      <td>1</td>\n",
       "      <td>0.0</td>\n",
       "      <td>3</td>\n",
       "      <td>0</td>\n",
       "      <td>3.0</td>\n",
       "      <td>A/5 21171</td>\n",
       "      <td>0.0</td>\n",
       "      <td>0</td>\n",
       "      <td>0</td>\n",
       "      <td>0.0</td>\n",
       "      <td>2</td>\n",
       "      <td>A/5</td>\n",
       "      <td>0</td>\n",
       "      <td>21171</td>\n",
       "      <td>3.0</td>\n",
       "    </tr>\n",
       "    <tr>\n",
       "      <th>1</th>\n",
       "      <td>2</td>\n",
       "      <td>1.0</td>\n",
       "      <td>1</td>\n",
       "      <td>1</td>\n",
       "      <td>4.0</td>\n",
       "      <td>PC 17599</td>\n",
       "      <td>3.0</td>\n",
       "      <td>1</td>\n",
       "      <td>1</td>\n",
       "      <td>2.0</td>\n",
       "      <td>2</td>\n",
       "      <td>PC</td>\n",
       "      <td>1</td>\n",
       "      <td>17599</td>\n",
       "      <td>3.0</td>\n",
       "    </tr>\n",
       "    <tr>\n",
       "      <th>2</th>\n",
       "      <td>3</td>\n",
       "      <td>1.0</td>\n",
       "      <td>3</td>\n",
       "      <td>1</td>\n",
       "      <td>3.0</td>\n",
       "      <td>STON/O2. 3101282</td>\n",
       "      <td>0.0</td>\n",
       "      <td>0</td>\n",
       "      <td>0</td>\n",
       "      <td>1.0</td>\n",
       "      <td>1</td>\n",
       "      <td>STON/O2.</td>\n",
       "      <td>2</td>\n",
       "      <td>3101282</td>\n",
       "      <td>9.0</td>\n",
       "    </tr>\n",
       "    <tr>\n",
       "      <th>3</th>\n",
       "      <td>4</td>\n",
       "      <td>1.0</td>\n",
       "      <td>1</td>\n",
       "      <td>1</td>\n",
       "      <td>4.0</td>\n",
       "      <td>113803</td>\n",
       "      <td>2.0</td>\n",
       "      <td>1</td>\n",
       "      <td>0</td>\n",
       "      <td>2.0</td>\n",
       "      <td>2</td>\n",
       "      <td>113803</td>\n",
       "      <td>3</td>\n",
       "      <td>113803</td>\n",
       "      <td>5.0</td>\n",
       "    </tr>\n",
       "    <tr>\n",
       "      <th>4</th>\n",
       "      <td>5</td>\n",
       "      <td>0.0</td>\n",
       "      <td>3</td>\n",
       "      <td>0</td>\n",
       "      <td>4.0</td>\n",
       "      <td>373450</td>\n",
       "      <td>0.0</td>\n",
       "      <td>0</td>\n",
       "      <td>0</td>\n",
       "      <td>0.0</td>\n",
       "      <td>1</td>\n",
       "      <td>373450</td>\n",
       "      <td>3</td>\n",
       "      <td>373450</td>\n",
       "      <td>9.0</td>\n",
       "    </tr>\n",
       "  </tbody>\n",
       "</table>\n",
       "</div>"
      ],
      "text/plain": [
       "   PassengerId  Survived  Pclass  Sex  Age            Ticket  Fare  Cabin  \\\n",
       "0            1       0.0       3    0  3.0         A/5 21171   0.0      0   \n",
       "1            2       1.0       1    1  4.0          PC 17599   3.0      1   \n",
       "2            3       1.0       3    1  3.0  STON/O2. 3101282   0.0      0   \n",
       "3            4       1.0       1    1  4.0            113803   2.0      1   \n",
       "4            5       0.0       3    0  4.0            373450   0.0      0   \n",
       "\n",
       "   Embarked  Initial  Family Ticket_Initial  Ticket_Initial2 Ticket_Num  \\\n",
       "0         0      0.0       2            A/5                0      21171   \n",
       "1         1      2.0       2             PC                1      17599   \n",
       "2         0      1.0       1       STON/O2.                2    3101282   \n",
       "3         0      2.0       2         113803                3     113803   \n",
       "4         0      0.0       1         373450                3     373450   \n",
       "\n",
       "   Ticket_Num_Cut  \n",
       "0             3.0  \n",
       "1             3.0  \n",
       "2             9.0  \n",
       "3             5.0  \n",
       "4             9.0  "
      ]
     },
     "execution_count": 222,
     "metadata": {},
     "output_type": "execute_result"
    }
   ],
   "source": [
    "df[\"Ticket_Num\"]  =  df[\"Ticket\"].str.extract('(\\d+)$')\n",
    "df.head()"
   ]
  },
  {
   "cell_type": "code",
   "execution_count": 223,
   "id": "1c1ebdca-8d1b-4138-9ad6-afac88907810",
   "metadata": {},
   "outputs": [
    {
     "data": {
      "text/plain": [
       "count     1305\n",
       "unique     923\n",
       "top       2343\n",
       "freq        11\n",
       "Name: Ticket_Num, dtype: object"
      ]
     },
     "execution_count": 223,
     "metadata": {},
     "output_type": "execute_result"
    }
   ],
   "source": [
    "df.Ticket_Num.describe()"
   ]
  },
  {
   "cell_type": "code",
   "execution_count": 224,
   "id": "26ab1d79-2a43-495d-b097-9c1576cab026",
   "metadata": {},
   "outputs": [],
   "source": [
    "df[\"Ticket_Num_Cut\"] = df[\"Ticket_Num\"].astype('float')\n",
    "df[\"Ticket_Num_Cut\"] = pd.qcut(df[\"Ticket_Num_Cut\"], q=10, labels=False)"
   ]
  },
  {
   "cell_type": "code",
   "execution_count": 225,
   "id": "4bf65b9e-4bcc-4d71-8e23-20e861c6c9bc",
   "metadata": {},
   "outputs": [
    {
     "data": {
      "text/html": [
       "<div>\n",
       "<style scoped>\n",
       "    .dataframe tbody tr th:only-of-type {\n",
       "        vertical-align: middle;\n",
       "    }\n",
       "\n",
       "    .dataframe tbody tr th {\n",
       "        vertical-align: top;\n",
       "    }\n",
       "\n",
       "    .dataframe thead th {\n",
       "        text-align: right;\n",
       "    }\n",
       "</style>\n",
       "<table border=\"1\" class=\"dataframe\">\n",
       "  <thead>\n",
       "    <tr style=\"text-align: right;\">\n",
       "      <th></th>\n",
       "      <th>PassengerId</th>\n",
       "      <th>Survived</th>\n",
       "      <th>Pclass</th>\n",
       "      <th>Sex</th>\n",
       "      <th>Age</th>\n",
       "      <th>Ticket</th>\n",
       "      <th>Fare</th>\n",
       "      <th>Cabin</th>\n",
       "      <th>Embarked</th>\n",
       "      <th>Initial</th>\n",
       "      <th>Family</th>\n",
       "      <th>Ticket_Initial</th>\n",
       "      <th>Ticket_Initial2</th>\n",
       "      <th>Ticket_Num</th>\n",
       "      <th>Ticket_Num_Cut</th>\n",
       "    </tr>\n",
       "  </thead>\n",
       "  <tbody>\n",
       "    <tr>\n",
       "      <th>0</th>\n",
       "      <td>1</td>\n",
       "      <td>0.0</td>\n",
       "      <td>3</td>\n",
       "      <td>0</td>\n",
       "      <td>3.0</td>\n",
       "      <td>A/5 21171</td>\n",
       "      <td>0.0</td>\n",
       "      <td>0</td>\n",
       "      <td>0</td>\n",
       "      <td>0.0</td>\n",
       "      <td>2</td>\n",
       "      <td>A/5</td>\n",
       "      <td>0</td>\n",
       "      <td>21171</td>\n",
       "      <td>3.0</td>\n",
       "    </tr>\n",
       "    <tr>\n",
       "      <th>1</th>\n",
       "      <td>2</td>\n",
       "      <td>1.0</td>\n",
       "      <td>1</td>\n",
       "      <td>1</td>\n",
       "      <td>4.0</td>\n",
       "      <td>PC 17599</td>\n",
       "      <td>3.0</td>\n",
       "      <td>1</td>\n",
       "      <td>1</td>\n",
       "      <td>2.0</td>\n",
       "      <td>2</td>\n",
       "      <td>PC</td>\n",
       "      <td>1</td>\n",
       "      <td>17599</td>\n",
       "      <td>3.0</td>\n",
       "    </tr>\n",
       "    <tr>\n",
       "      <th>2</th>\n",
       "      <td>3</td>\n",
       "      <td>1.0</td>\n",
       "      <td>3</td>\n",
       "      <td>1</td>\n",
       "      <td>3.0</td>\n",
       "      <td>STON/O2. 3101282</td>\n",
       "      <td>0.0</td>\n",
       "      <td>0</td>\n",
       "      <td>0</td>\n",
       "      <td>1.0</td>\n",
       "      <td>1</td>\n",
       "      <td>STON/O2.</td>\n",
       "      <td>2</td>\n",
       "      <td>3101282</td>\n",
       "      <td>9.0</td>\n",
       "    </tr>\n",
       "    <tr>\n",
       "      <th>3</th>\n",
       "      <td>4</td>\n",
       "      <td>1.0</td>\n",
       "      <td>1</td>\n",
       "      <td>1</td>\n",
       "      <td>4.0</td>\n",
       "      <td>113803</td>\n",
       "      <td>2.0</td>\n",
       "      <td>1</td>\n",
       "      <td>0</td>\n",
       "      <td>2.0</td>\n",
       "      <td>2</td>\n",
       "      <td>113803</td>\n",
       "      <td>3</td>\n",
       "      <td>113803</td>\n",
       "      <td>5.0</td>\n",
       "    </tr>\n",
       "    <tr>\n",
       "      <th>4</th>\n",
       "      <td>5</td>\n",
       "      <td>0.0</td>\n",
       "      <td>3</td>\n",
       "      <td>0</td>\n",
       "      <td>4.0</td>\n",
       "      <td>373450</td>\n",
       "      <td>0.0</td>\n",
       "      <td>0</td>\n",
       "      <td>0</td>\n",
       "      <td>0.0</td>\n",
       "      <td>1</td>\n",
       "      <td>373450</td>\n",
       "      <td>3</td>\n",
       "      <td>373450</td>\n",
       "      <td>9.0</td>\n",
       "    </tr>\n",
       "  </tbody>\n",
       "</table>\n",
       "</div>"
      ],
      "text/plain": [
       "   PassengerId  Survived  Pclass  Sex  Age            Ticket  Fare  Cabin  \\\n",
       "0            1       0.0       3    0  3.0         A/5 21171   0.0      0   \n",
       "1            2       1.0       1    1  4.0          PC 17599   3.0      1   \n",
       "2            3       1.0       3    1  3.0  STON/O2. 3101282   0.0      0   \n",
       "3            4       1.0       1    1  4.0            113803   2.0      1   \n",
       "4            5       0.0       3    0  4.0            373450   0.0      0   \n",
       "\n",
       "   Embarked  Initial  Family Ticket_Initial  Ticket_Initial2 Ticket_Num  \\\n",
       "0         0      0.0       2            A/5                0      21171   \n",
       "1         1      2.0       2             PC                1      17599   \n",
       "2         0      1.0       1       STON/O2.                2    3101282   \n",
       "3         0      2.0       2         113803                3     113803   \n",
       "4         0      0.0       1         373450                3     373450   \n",
       "\n",
       "   Ticket_Num_Cut  \n",
       "0             3.0  \n",
       "1             3.0  \n",
       "2             9.0  \n",
       "3             5.0  \n",
       "4             9.0  "
      ]
     },
     "execution_count": 225,
     "metadata": {},
     "output_type": "execute_result"
    }
   ],
   "source": [
    "df.head()"
   ]
  },
  {
   "cell_type": "code",
   "execution_count": 226,
   "id": "cfa8e5bb-d2ad-4a80-8109-389c36a8881c",
   "metadata": {},
   "outputs": [
    {
     "data": {
      "text/html": [
       "<div>\n",
       "<style scoped>\n",
       "    .dataframe tbody tr th:only-of-type {\n",
       "        vertical-align: middle;\n",
       "    }\n",
       "\n",
       "    .dataframe tbody tr th {\n",
       "        vertical-align: top;\n",
       "    }\n",
       "\n",
       "    .dataframe thead th {\n",
       "        text-align: right;\n",
       "    }\n",
       "</style>\n",
       "<table border=\"1\" class=\"dataframe\">\n",
       "  <thead>\n",
       "    <tr style=\"text-align: right;\">\n",
       "      <th></th>\n",
       "      <th>PassengerId</th>\n",
       "      <th>Survived</th>\n",
       "      <th>Pclass</th>\n",
       "      <th>Sex</th>\n",
       "      <th>Age</th>\n",
       "      <th>Ticket</th>\n",
       "      <th>Fare</th>\n",
       "      <th>Cabin</th>\n",
       "      <th>Embarked</th>\n",
       "      <th>Initial</th>\n",
       "      <th>Family</th>\n",
       "      <th>Ticket_Initial</th>\n",
       "      <th>Ticket_Initial2</th>\n",
       "      <th>Ticket_Num</th>\n",
       "      <th>Ticket_Num_Cut</th>\n",
       "    </tr>\n",
       "  </thead>\n",
       "  <tbody>\n",
       "    <tr>\n",
       "      <th>0</th>\n",
       "      <td>1</td>\n",
       "      <td>0.0</td>\n",
       "      <td>3</td>\n",
       "      <td>0</td>\n",
       "      <td>3.0</td>\n",
       "      <td>A/5 21171</td>\n",
       "      <td>0.0</td>\n",
       "      <td>0</td>\n",
       "      <td>0</td>\n",
       "      <td>0.0</td>\n",
       "      <td>2</td>\n",
       "      <td>A/5</td>\n",
       "      <td>0</td>\n",
       "      <td>21171</td>\n",
       "      <td>3.0</td>\n",
       "    </tr>\n",
       "    <tr>\n",
       "      <th>1</th>\n",
       "      <td>2</td>\n",
       "      <td>1.0</td>\n",
       "      <td>1</td>\n",
       "      <td>1</td>\n",
       "      <td>4.0</td>\n",
       "      <td>PC 17599</td>\n",
       "      <td>3.0</td>\n",
       "      <td>1</td>\n",
       "      <td>1</td>\n",
       "      <td>2.0</td>\n",
       "      <td>2</td>\n",
       "      <td>PC</td>\n",
       "      <td>1</td>\n",
       "      <td>17599</td>\n",
       "      <td>3.0</td>\n",
       "    </tr>\n",
       "    <tr>\n",
       "      <th>2</th>\n",
       "      <td>3</td>\n",
       "      <td>1.0</td>\n",
       "      <td>3</td>\n",
       "      <td>1</td>\n",
       "      <td>3.0</td>\n",
       "      <td>STON/O2. 3101282</td>\n",
       "      <td>0.0</td>\n",
       "      <td>0</td>\n",
       "      <td>0</td>\n",
       "      <td>1.0</td>\n",
       "      <td>1</td>\n",
       "      <td>STON/O2.</td>\n",
       "      <td>2</td>\n",
       "      <td>3101282</td>\n",
       "      <td>9.0</td>\n",
       "    </tr>\n",
       "    <tr>\n",
       "      <th>3</th>\n",
       "      <td>4</td>\n",
       "      <td>1.0</td>\n",
       "      <td>1</td>\n",
       "      <td>1</td>\n",
       "      <td>4.0</td>\n",
       "      <td>113803</td>\n",
       "      <td>2.0</td>\n",
       "      <td>1</td>\n",
       "      <td>0</td>\n",
       "      <td>2.0</td>\n",
       "      <td>2</td>\n",
       "      <td>113803</td>\n",
       "      <td>3</td>\n",
       "      <td>113803</td>\n",
       "      <td>5.0</td>\n",
       "    </tr>\n",
       "    <tr>\n",
       "      <th>4</th>\n",
       "      <td>5</td>\n",
       "      <td>0.0</td>\n",
       "      <td>3</td>\n",
       "      <td>0</td>\n",
       "      <td>4.0</td>\n",
       "      <td>373450</td>\n",
       "      <td>0.0</td>\n",
       "      <td>0</td>\n",
       "      <td>0</td>\n",
       "      <td>0.0</td>\n",
       "      <td>1</td>\n",
       "      <td>373450</td>\n",
       "      <td>3</td>\n",
       "      <td>373450</td>\n",
       "      <td>9.0</td>\n",
       "    </tr>\n",
       "  </tbody>\n",
       "</table>\n",
       "</div>"
      ],
      "text/plain": [
       "   PassengerId  Survived  Pclass  Sex  Age            Ticket  Fare  Cabin  \\\n",
       "0            1       0.0       3    0  3.0         A/5 21171   0.0      0   \n",
       "1            2       1.0       1    1  4.0          PC 17599   3.0      1   \n",
       "2            3       1.0       3    1  3.0  STON/O2. 3101282   0.0      0   \n",
       "3            4       1.0       1    1  4.0            113803   2.0      1   \n",
       "4            5       0.0       3    0  4.0            373450   0.0      0   \n",
       "\n",
       "   Embarked  Initial  Family Ticket_Initial  Ticket_Initial2 Ticket_Num  \\\n",
       "0         0      0.0       2            A/5                0      21171   \n",
       "1         1      2.0       2             PC                1      17599   \n",
       "2         0      1.0       1       STON/O2.                2    3101282   \n",
       "3         0      2.0       2         113803                3     113803   \n",
       "4         0      0.0       1         373450                3     373450   \n",
       "\n",
       "   Ticket_Num_Cut  \n",
       "0             3.0  \n",
       "1             3.0  \n",
       "2             9.0  \n",
       "3             5.0  \n",
       "4             9.0  "
      ]
     },
     "execution_count": 226,
     "metadata": {},
     "output_type": "execute_result"
    }
   ],
   "source": [
    "train = df[:ntrain]\n",
    "train.head()"
   ]
  },
  {
   "cell_type": "markdown",
   "id": "4083dc6a-9c5e-438c-bab9-83d9d13c8a72",
   "metadata": {},
   "source": [
    "#### Ticket Num Cut 시각화\n",
    "- 티켓 숫자 범위 2 ~ 3 사이에서 생존률이 높음 "
   ]
  },
  {
   "cell_type": "code",
   "execution_count": 227,
   "id": "e94756db-c82f-4e16-b3f2-3b64ff7ce227",
   "metadata": {},
   "outputs": [
    {
     "data": {
      "application/vnd.plotly.v1+json": {
       "config": {
        "plotlyServerURL": "https://plot.ly"
       },
       "data": [
        {
         "alignmentgroup": "True",
         "bingroup": "x",
         "hovertemplate": "Result=Dead<br>Ticket_Num_Cut=%{x}<br>count=%{y}<extra></extra>",
         "legendgroup": "Dead",
         "marker": {
          "color": "#636efa",
          "opacity": 0.5,
          "pattern": {
           "shape": ""
          }
         },
         "name": "Dead",
         "offsetgroup": "Dead",
         "orientation": "v",
         "showlegend": true,
         "type": "histogram",
         "x": [
          3,
          9,
          6,
          2,
          8,
          0,
          7,
          8,
          9,
          7,
          6,
          8,
          0,
          3,
          8,
          3,
          3,
          3,
          5,
          0,
          7,
          1,
          2,
          8,
          3,
          9,
          0,
          8,
          9,
          4,
          5,
          1,
          0,
          1,
          4,
          7,
          3,
          1,
          6,
          4,
          0,
          2,
          1,
          7,
          7,
          9,
          7,
          5,
          1,
          9,
          7,
          7,
          7,
          1,
          0,
          8,
          9,
          3,
          6,
          8,
          7,
          4,
          1,
          9,
          7,
          8,
          4,
          0,
          6,
          1,
          0,
          9,
          9,
          2,
          2,
          7,
          2,
          4,
          6,
          4,
          9,
          7,
          8,
          9,
          1,
          4,
          0,
          5,
          1,
          3,
          1,
          8,
          5,
          4,
          1,
          5,
          6,
          0,
          2,
          0,
          6,
          3,
          9,
          6,
          0,
          9,
          7,
          6,
          9,
          7,
          2,
          0,
          5,
          9,
          9,
          3,
          8,
          1,
          3,
          6,
          null,
          0,
          0,
          7,
          5,
          8,
          8,
          4,
          9,
          1,
          6,
          7,
          0,
          9,
          0,
          7,
          9,
          9,
          3,
          6,
          8,
          6,
          2,
          5,
          3,
          8,
          1,
          3,
          5,
          1,
          7,
          6,
          4,
          1,
          3,
          4,
          0,
          0,
          2,
          9,
          1,
          3,
          7,
          6,
          8,
          7,
          5,
          1,
          9,
          9,
          4,
          5,
          9,
          2,
          9,
          5,
          3,
          7,
          6,
          9,
          7,
          7,
          7,
          5,
          8,
          7,
          0,
          8,
          8,
          3,
          1,
          5,
          null,
          0,
          1,
          6,
          8,
          2,
          4,
          3,
          8,
          0,
          7,
          5,
          3,
          7,
          8,
          5,
          5,
          6,
          6,
          5,
          6,
          1,
          5,
          1,
          8,
          0,
          7,
          6,
          7,
          0,
          1,
          9,
          9,
          1,
          9,
          6,
          3,
          8,
          5,
          0,
          7,
          9,
          8,
          2,
          0,
          8,
          9,
          8,
          8,
          4,
          6,
          7,
          1,
          9,
          6,
          4,
          7,
          6,
          1,
          8,
          9,
          6,
          7,
          4,
          7,
          8,
          2,
          6,
          7,
          9,
          4,
          8,
          9,
          2,
          1,
          3,
          3,
          7,
          7,
          4,
          4,
          5,
          1,
          2,
          9,
          8,
          5,
          5,
          1,
          9,
          6,
          5,
          4,
          6,
          6,
          1,
          4,
          4,
          1,
          8,
          0,
          6,
          1,
          1,
          2,
          3,
          4,
          9,
          5,
          3,
          4,
          0,
          1,
          5,
          8,
          6,
          8,
          6,
          1,
          3,
          1,
          9,
          7,
          4,
          9,
          8,
          8,
          0,
          1,
          8,
          2,
          9,
          4,
          0,
          1,
          6,
          5,
          8,
          7,
          7,
          3,
          0,
          8,
          6,
          7,
          5,
          3,
          9,
          8,
          5,
          9,
          9,
          4,
          7,
          8,
          1,
          3,
          8,
          1,
          4,
          2,
          1,
          6,
          2,
          1,
          9,
          1,
          8,
          4,
          7,
          null,
          0,
          7,
          5,
          8,
          8,
          8,
          7,
          9,
          9,
          8,
          7,
          1,
          4,
          0,
          8,
          4,
          4,
          5,
          8,
          7,
          7,
          5,
          7,
          9,
          4,
          9,
          9,
          8,
          7,
          8,
          0,
          8,
          1,
          8,
          2,
          8,
          8,
          4,
          4,
          0,
          1,
          7,
          2,
          5,
          6,
          1,
          2,
          3,
          6,
          8,
          7,
          0,
          6,
          1,
          0,
          4,
          0,
          9,
          8,
          8,
          1,
          5,
          6,
          8,
          2,
          7,
          1,
          4,
          8,
          6,
          5,
          1,
          6,
          7,
          4,
          7,
          8,
          2,
          6,
          6,
          5,
          9,
          1,
          6,
          4,
          5,
          4,
          1,
          7,
          8,
          3,
          9,
          1,
          1,
          5,
          7,
          7,
          7,
          8,
          4,
          8,
          8,
          9,
          7,
          5,
          8,
          9,
          1,
          7,
          8,
          0,
          1,
          7,
          9,
          4,
          5,
          1,
          9,
          9,
          9,
          3,
          2,
          6,
          0,
          3,
          7,
          4,
          1,
          7,
          6,
          7,
          5,
          7,
          6,
          1,
          4,
          3,
          7,
          8,
          5,
          9,
          0,
          1,
          7,
          3,
          9,
          8,
          0,
          1,
          7,
          0,
          6,
          9,
          9,
          0,
          1,
          6,
          1,
          0,
          7,
          6,
          7,
          7,
          1,
          6,
          0,
          8,
          3,
          0,
          5,
          3,
          7,
          8,
          0,
          7,
          1,
          7,
          8,
          8,
          1,
          4,
          9,
          9,
          5,
          1,
          9
         ],
         "xaxis": "x",
         "yaxis": "y"
        },
        {
         "alignmentgroup": "True",
         "bingroup": "x",
         "hovertemplate": "Result=Survived<br>Ticket_Num_Cut=%{x}<br>count=%{y}<extra></extra>",
         "legendgroup": "Survived",
         "marker": {
          "color": "#EF553B",
          "opacity": 0.5,
          "pattern": {
           "shape": ""
          }
         },
         "name": "Survived",
         "offsetgroup": "Survived",
         "orientation": "v",
         "showlegend": true,
         "type": "histogram",
         "x": [
          3,
          9,
          5,
          7,
          6,
          1,
          5,
          6,
          6,
          0,
          6,
          6,
          5,
          7,
          6,
          2,
          7,
          1,
          0,
          0,
          6,
          2,
          3,
          1,
          3,
          4,
          4,
          5,
          0,
          4,
          9,
          0,
          6,
          8,
          7,
          6,
          2,
          9,
          3,
          3,
          5,
          7,
          6,
          9,
          3,
          0,
          2,
          1,
          5,
          2,
          7,
          9,
          8,
          5,
          4,
          4,
          8,
          5,
          7,
          5,
          6,
          9,
          5,
          5,
          8,
          5,
          3,
          2,
          9,
          1,
          1,
          8,
          5,
          2,
          4,
          9,
          2,
          9,
          3,
          0,
          4,
          7,
          4,
          8,
          6,
          2,
          0,
          3,
          4,
          3,
          5,
          7,
          7,
          3,
          3,
          null,
          6,
          9,
          2,
          1,
          2,
          7,
          6,
          9,
          3,
          2,
          3,
          2,
          1,
          8,
          5,
          5,
          2,
          3,
          2,
          2,
          3,
          7,
          6,
          4,
          2,
          5,
          6,
          3,
          4,
          8,
          5,
          8,
          3,
          2,
          1,
          5,
          3,
          6,
          4,
          9,
          4,
          5,
          6,
          7,
          4,
          0,
          2,
          2,
          2,
          3,
          1,
          3,
          0,
          5,
          3,
          0,
          5,
          8,
          4,
          1,
          6,
          9,
          4,
          3,
          9,
          4,
          6,
          0,
          6,
          9,
          4,
          9,
          1,
          5,
          4,
          2,
          5,
          4,
          4,
          6,
          5,
          0,
          5,
          2,
          8,
          2,
          2,
          3,
          0,
          4,
          0,
          9,
          1,
          2,
          3,
          4,
          4,
          4,
          3,
          5,
          0,
          9,
          2,
          3,
          4,
          5,
          2,
          5,
          2,
          3,
          1,
          2,
          3,
          2,
          1,
          1,
          1,
          0,
          4,
          2,
          0,
          7,
          2,
          4,
          7,
          8,
          0,
          2,
          2,
          2,
          6,
          2,
          9,
          6,
          2,
          4,
          2,
          4,
          6,
          2,
          6,
          5,
          5,
          0,
          3,
          8,
          5,
          5,
          2,
          0,
          2,
          3,
          2,
          6,
          2,
          0,
          0,
          3,
          2,
          0,
          5,
          6,
          3,
          9,
          3,
          4,
          6,
          1,
          3,
          3,
          3,
          2,
          8,
          0,
          4,
          3,
          2,
          5,
          2,
          5,
          0,
          2,
          3,
          3,
          4,
          6,
          5,
          4,
          4,
          3,
          3,
          2,
          3,
          9,
          6,
          4,
          9,
          5,
          6,
          4,
          0,
          5,
          2,
          4,
          8,
          3,
          1,
          2,
          9,
          0,
          2,
          8,
          4,
          5,
          0,
          7,
          5,
          2,
          6,
          9,
          0,
          8,
          5,
          0,
          4,
          3,
          0,
          2,
          5,
          2,
          3,
          9,
          4,
          5,
          0,
          2,
          5,
          0,
          7,
          2,
          1,
          0,
          2,
          5,
          5,
          5
         ],
         "xaxis": "x",
         "yaxis": "y"
        }
       ],
       "layout": {
        "barmode": "overlay",
        "legend": {
         "title": {
          "text": "Result"
         },
         "tracegroupgap": 0
        },
        "template": {
         "data": {
          "bar": [
           {
            "error_x": {
             "color": "#2a3f5f"
            },
            "error_y": {
             "color": "#2a3f5f"
            },
            "marker": {
             "line": {
              "color": "#E5ECF6",
              "width": 0.5
             },
             "pattern": {
              "fillmode": "overlay",
              "size": 10,
              "solidity": 0.2
             }
            },
            "type": "bar"
           }
          ],
          "barpolar": [
           {
            "marker": {
             "line": {
              "color": "#E5ECF6",
              "width": 0.5
             },
             "pattern": {
              "fillmode": "overlay",
              "size": 10,
              "solidity": 0.2
             }
            },
            "type": "barpolar"
           }
          ],
          "carpet": [
           {
            "aaxis": {
             "endlinecolor": "#2a3f5f",
             "gridcolor": "white",
             "linecolor": "white",
             "minorgridcolor": "white",
             "startlinecolor": "#2a3f5f"
            },
            "baxis": {
             "endlinecolor": "#2a3f5f",
             "gridcolor": "white",
             "linecolor": "white",
             "minorgridcolor": "white",
             "startlinecolor": "#2a3f5f"
            },
            "type": "carpet"
           }
          ],
          "choropleth": [
           {
            "colorbar": {
             "outlinewidth": 0,
             "ticks": ""
            },
            "type": "choropleth"
           }
          ],
          "contour": [
           {
            "colorbar": {
             "outlinewidth": 0,
             "ticks": ""
            },
            "colorscale": [
             [
              0,
              "#0d0887"
             ],
             [
              0.1111111111111111,
              "#46039f"
             ],
             [
              0.2222222222222222,
              "#7201a8"
             ],
             [
              0.3333333333333333,
              "#9c179e"
             ],
             [
              0.4444444444444444,
              "#bd3786"
             ],
             [
              0.5555555555555556,
              "#d8576b"
             ],
             [
              0.6666666666666666,
              "#ed7953"
             ],
             [
              0.7777777777777778,
              "#fb9f3a"
             ],
             [
              0.8888888888888888,
              "#fdca26"
             ],
             [
              1,
              "#f0f921"
             ]
            ],
            "type": "contour"
           }
          ],
          "contourcarpet": [
           {
            "colorbar": {
             "outlinewidth": 0,
             "ticks": ""
            },
            "type": "contourcarpet"
           }
          ],
          "heatmap": [
           {
            "colorbar": {
             "outlinewidth": 0,
             "ticks": ""
            },
            "colorscale": [
             [
              0,
              "#0d0887"
             ],
             [
              0.1111111111111111,
              "#46039f"
             ],
             [
              0.2222222222222222,
              "#7201a8"
             ],
             [
              0.3333333333333333,
              "#9c179e"
             ],
             [
              0.4444444444444444,
              "#bd3786"
             ],
             [
              0.5555555555555556,
              "#d8576b"
             ],
             [
              0.6666666666666666,
              "#ed7953"
             ],
             [
              0.7777777777777778,
              "#fb9f3a"
             ],
             [
              0.8888888888888888,
              "#fdca26"
             ],
             [
              1,
              "#f0f921"
             ]
            ],
            "type": "heatmap"
           }
          ],
          "heatmapgl": [
           {
            "colorbar": {
             "outlinewidth": 0,
             "ticks": ""
            },
            "colorscale": [
             [
              0,
              "#0d0887"
             ],
             [
              0.1111111111111111,
              "#46039f"
             ],
             [
              0.2222222222222222,
              "#7201a8"
             ],
             [
              0.3333333333333333,
              "#9c179e"
             ],
             [
              0.4444444444444444,
              "#bd3786"
             ],
             [
              0.5555555555555556,
              "#d8576b"
             ],
             [
              0.6666666666666666,
              "#ed7953"
             ],
             [
              0.7777777777777778,
              "#fb9f3a"
             ],
             [
              0.8888888888888888,
              "#fdca26"
             ],
             [
              1,
              "#f0f921"
             ]
            ],
            "type": "heatmapgl"
           }
          ],
          "histogram": [
           {
            "marker": {
             "pattern": {
              "fillmode": "overlay",
              "size": 10,
              "solidity": 0.2
             }
            },
            "type": "histogram"
           }
          ],
          "histogram2d": [
           {
            "colorbar": {
             "outlinewidth": 0,
             "ticks": ""
            },
            "colorscale": [
             [
              0,
              "#0d0887"
             ],
             [
              0.1111111111111111,
              "#46039f"
             ],
             [
              0.2222222222222222,
              "#7201a8"
             ],
             [
              0.3333333333333333,
              "#9c179e"
             ],
             [
              0.4444444444444444,
              "#bd3786"
             ],
             [
              0.5555555555555556,
              "#d8576b"
             ],
             [
              0.6666666666666666,
              "#ed7953"
             ],
             [
              0.7777777777777778,
              "#fb9f3a"
             ],
             [
              0.8888888888888888,
              "#fdca26"
             ],
             [
              1,
              "#f0f921"
             ]
            ],
            "type": "histogram2d"
           }
          ],
          "histogram2dcontour": [
           {
            "colorbar": {
             "outlinewidth": 0,
             "ticks": ""
            },
            "colorscale": [
             [
              0,
              "#0d0887"
             ],
             [
              0.1111111111111111,
              "#46039f"
             ],
             [
              0.2222222222222222,
              "#7201a8"
             ],
             [
              0.3333333333333333,
              "#9c179e"
             ],
             [
              0.4444444444444444,
              "#bd3786"
             ],
             [
              0.5555555555555556,
              "#d8576b"
             ],
             [
              0.6666666666666666,
              "#ed7953"
             ],
             [
              0.7777777777777778,
              "#fb9f3a"
             ],
             [
              0.8888888888888888,
              "#fdca26"
             ],
             [
              1,
              "#f0f921"
             ]
            ],
            "type": "histogram2dcontour"
           }
          ],
          "mesh3d": [
           {
            "colorbar": {
             "outlinewidth": 0,
             "ticks": ""
            },
            "type": "mesh3d"
           }
          ],
          "parcoords": [
           {
            "line": {
             "colorbar": {
              "outlinewidth": 0,
              "ticks": ""
             }
            },
            "type": "parcoords"
           }
          ],
          "pie": [
           {
            "automargin": true,
            "type": "pie"
           }
          ],
          "scatter": [
           {
            "fillpattern": {
             "fillmode": "overlay",
             "size": 10,
             "solidity": 0.2
            },
            "type": "scatter"
           }
          ],
          "scatter3d": [
           {
            "line": {
             "colorbar": {
              "outlinewidth": 0,
              "ticks": ""
             }
            },
            "marker": {
             "colorbar": {
              "outlinewidth": 0,
              "ticks": ""
             }
            },
            "type": "scatter3d"
           }
          ],
          "scattercarpet": [
           {
            "marker": {
             "colorbar": {
              "outlinewidth": 0,
              "ticks": ""
             }
            },
            "type": "scattercarpet"
           }
          ],
          "scattergeo": [
           {
            "marker": {
             "colorbar": {
              "outlinewidth": 0,
              "ticks": ""
             }
            },
            "type": "scattergeo"
           }
          ],
          "scattergl": [
           {
            "marker": {
             "colorbar": {
              "outlinewidth": 0,
              "ticks": ""
             }
            },
            "type": "scattergl"
           }
          ],
          "scattermapbox": [
           {
            "marker": {
             "colorbar": {
              "outlinewidth": 0,
              "ticks": ""
             }
            },
            "type": "scattermapbox"
           }
          ],
          "scatterpolar": [
           {
            "marker": {
             "colorbar": {
              "outlinewidth": 0,
              "ticks": ""
             }
            },
            "type": "scatterpolar"
           }
          ],
          "scatterpolargl": [
           {
            "marker": {
             "colorbar": {
              "outlinewidth": 0,
              "ticks": ""
             }
            },
            "type": "scatterpolargl"
           }
          ],
          "scatterternary": [
           {
            "marker": {
             "colorbar": {
              "outlinewidth": 0,
              "ticks": ""
             }
            },
            "type": "scatterternary"
           }
          ],
          "surface": [
           {
            "colorbar": {
             "outlinewidth": 0,
             "ticks": ""
            },
            "colorscale": [
             [
              0,
              "#0d0887"
             ],
             [
              0.1111111111111111,
              "#46039f"
             ],
             [
              0.2222222222222222,
              "#7201a8"
             ],
             [
              0.3333333333333333,
              "#9c179e"
             ],
             [
              0.4444444444444444,
              "#bd3786"
             ],
             [
              0.5555555555555556,
              "#d8576b"
             ],
             [
              0.6666666666666666,
              "#ed7953"
             ],
             [
              0.7777777777777778,
              "#fb9f3a"
             ],
             [
              0.8888888888888888,
              "#fdca26"
             ],
             [
              1,
              "#f0f921"
             ]
            ],
            "type": "surface"
           }
          ],
          "table": [
           {
            "cells": {
             "fill": {
              "color": "#EBF0F8"
             },
             "line": {
              "color": "white"
             }
            },
            "header": {
             "fill": {
              "color": "#C8D4E3"
             },
             "line": {
              "color": "white"
             }
            },
            "type": "table"
           }
          ]
         },
         "layout": {
          "annotationdefaults": {
           "arrowcolor": "#2a3f5f",
           "arrowhead": 0,
           "arrowwidth": 1
          },
          "autotypenumbers": "strict",
          "coloraxis": {
           "colorbar": {
            "outlinewidth": 0,
            "ticks": ""
           }
          },
          "colorscale": {
           "diverging": [
            [
             0,
             "#8e0152"
            ],
            [
             0.1,
             "#c51b7d"
            ],
            [
             0.2,
             "#de77ae"
            ],
            [
             0.3,
             "#f1b6da"
            ],
            [
             0.4,
             "#fde0ef"
            ],
            [
             0.5,
             "#f7f7f7"
            ],
            [
             0.6,
             "#e6f5d0"
            ],
            [
             0.7,
             "#b8e186"
            ],
            [
             0.8,
             "#7fbc41"
            ],
            [
             0.9,
             "#4d9221"
            ],
            [
             1,
             "#276419"
            ]
           ],
           "sequential": [
            [
             0,
             "#0d0887"
            ],
            [
             0.1111111111111111,
             "#46039f"
            ],
            [
             0.2222222222222222,
             "#7201a8"
            ],
            [
             0.3333333333333333,
             "#9c179e"
            ],
            [
             0.4444444444444444,
             "#bd3786"
            ],
            [
             0.5555555555555556,
             "#d8576b"
            ],
            [
             0.6666666666666666,
             "#ed7953"
            ],
            [
             0.7777777777777778,
             "#fb9f3a"
            ],
            [
             0.8888888888888888,
             "#fdca26"
            ],
            [
             1,
             "#f0f921"
            ]
           ],
           "sequentialminus": [
            [
             0,
             "#0d0887"
            ],
            [
             0.1111111111111111,
             "#46039f"
            ],
            [
             0.2222222222222222,
             "#7201a8"
            ],
            [
             0.3333333333333333,
             "#9c179e"
            ],
            [
             0.4444444444444444,
             "#bd3786"
            ],
            [
             0.5555555555555556,
             "#d8576b"
            ],
            [
             0.6666666666666666,
             "#ed7953"
            ],
            [
             0.7777777777777778,
             "#fb9f3a"
            ],
            [
             0.8888888888888888,
             "#fdca26"
            ],
            [
             1,
             "#f0f921"
            ]
           ]
          },
          "colorway": [
           "#636efa",
           "#EF553B",
           "#00cc96",
           "#ab63fa",
           "#FFA15A",
           "#19d3f3",
           "#FF6692",
           "#B6E880",
           "#FF97FF",
           "#FECB52"
          ],
          "font": {
           "color": "#2a3f5f"
          },
          "geo": {
           "bgcolor": "white",
           "lakecolor": "white",
           "landcolor": "#E5ECF6",
           "showlakes": true,
           "showland": true,
           "subunitcolor": "white"
          },
          "hoverlabel": {
           "align": "left"
          },
          "hovermode": "closest",
          "mapbox": {
           "style": "light"
          },
          "paper_bgcolor": "white",
          "plot_bgcolor": "#E5ECF6",
          "polar": {
           "angularaxis": {
            "gridcolor": "white",
            "linecolor": "white",
            "ticks": ""
           },
           "bgcolor": "#E5ECF6",
           "radialaxis": {
            "gridcolor": "white",
            "linecolor": "white",
            "ticks": ""
           }
          },
          "scene": {
           "xaxis": {
            "backgroundcolor": "#E5ECF6",
            "gridcolor": "white",
            "gridwidth": 2,
            "linecolor": "white",
            "showbackground": true,
            "ticks": "",
            "zerolinecolor": "white"
           },
           "yaxis": {
            "backgroundcolor": "#E5ECF6",
            "gridcolor": "white",
            "gridwidth": 2,
            "linecolor": "white",
            "showbackground": true,
            "ticks": "",
            "zerolinecolor": "white"
           },
           "zaxis": {
            "backgroundcolor": "#E5ECF6",
            "gridcolor": "white",
            "gridwidth": 2,
            "linecolor": "white",
            "showbackground": true,
            "ticks": "",
            "zerolinecolor": "white"
           }
          },
          "shapedefaults": {
           "line": {
            "color": "#2a3f5f"
           }
          },
          "ternary": {
           "aaxis": {
            "gridcolor": "white",
            "linecolor": "white",
            "ticks": ""
           },
           "baxis": {
            "gridcolor": "white",
            "linecolor": "white",
            "ticks": ""
           },
           "bgcolor": "#E5ECF6",
           "caxis": {
            "gridcolor": "white",
            "linecolor": "white",
            "ticks": ""
           }
          },
          "title": {
           "x": 0.05
          },
          "xaxis": {
           "automargin": true,
           "gridcolor": "white",
           "linecolor": "white",
           "ticks": "",
           "title": {
            "standoff": 15
           },
           "zerolinecolor": "white",
           "zerolinewidth": 2
          },
          "yaxis": {
           "automargin": true,
           "gridcolor": "white",
           "linecolor": "white",
           "ticks": "",
           "title": {
            "standoff": 15
           },
           "zerolinecolor": "white",
           "zerolinewidth": 2
          }
         }
        },
        "title": {
         "text": "Ticket_Num_Cut Distribution by Survival Status"
        },
        "xaxis": {
         "anchor": "y",
         "domain": [
          0,
          1
         ],
         "title": {
          "text": "Ticket_Num_Cut"
         }
        },
        "yaxis": {
         "anchor": "x",
         "domain": [
          0,
          1
         ],
         "title": {
          "text": "count"
         }
        }
       }
      },
      "image/png": "[encoded data removed]",
      "text/html": [
       "<div>                            <div id=\"8bebd95d-c1be-4a4d-b29d-7f7ffbb7273e\" class=\"plotly-graph-div\" style=\"height:525px; width:100%;\"></div>            <script type=\"text/javascript\">                require([\"plotly\"], function(Plotly) {                    window.PLOTLYENV=window.PLOTLYENV || {};                                    if (document.getElementById(\"8bebd95d-c1be-4a4d-b29d-7f7ffbb7273e\")) {                    Plotly.newPlot(                        \"8bebd95d-c1be-4a4d-b29d-7f7ffbb7273e\",                        [{\"alignmentgroup\":\"True\",\"bingroup\":\"x\",\"hovertemplate\":\"Result=Dead\\u003cbr\\u003eTicket_Num_Cut=%{x}\\u003cbr\\u003ecount=%{y}\\u003cextra\\u003e\\u003c\\u002fextra\\u003e\",\"legendgroup\":\"Dead\",\"marker\":{\"color\":\"#636efa\",\"opacity\":0.5,\"pattern\":{\"shape\":\"\"}},\"name\":\"Dead\",\"offsetgroup\":\"Dead\",\"orientation\":\"v\",\"showlegend\":true,\"x\":[3.0,9.0,6.0,2.0,8.0,0.0,7.0,8.0,9.0,7.0,6.0,8.0,0.0,3.0,8.0,3.0,3.0,3.0,5.0,0.0,7.0,1.0,2.0,8.0,3.0,9.0,0.0,8.0,9.0,4.0,5.0,1.0,0.0,1.0,4.0,7.0,3.0,1.0,6.0,4.0,0.0,2.0,1.0,7.0,7.0,9.0,7.0,5.0,1.0,9.0,7.0,7.0,7.0,1.0,0.0,8.0,9.0,3.0,6.0,8.0,7.0,4.0,1.0,9.0,7.0,8.0,4.0,0.0,6.0,1.0,0.0,9.0,9.0,2.0,2.0,7.0,2.0,4.0,6.0,4.0,9.0,7.0,8.0,9.0,1.0,4.0,0.0,5.0,1.0,3.0,1.0,8.0,5.0,4.0,1.0,5.0,6.0,0.0,2.0,0.0,6.0,3.0,9.0,6.0,0.0,9.0,7.0,6.0,9.0,7.0,2.0,0.0,5.0,9.0,9.0,3.0,8.0,1.0,3.0,6.0,null,0.0,0.0,7.0,5.0,8.0,8.0,4.0,9.0,1.0,6.0,7.0,0.0,9.0,0.0,7.0,9.0,9.0,3.0,6.0,8.0,6.0,2.0,5.0,3.0,8.0,1.0,3.0,5.0,1.0,7.0,6.0,4.0,1.0,3.0,4.0,0.0,0.0,2.0,9.0,1.0,3.0,7.0,6.0,8.0,7.0,5.0,1.0,9.0,9.0,4.0,5.0,9.0,2.0,9.0,5.0,3.0,7.0,6.0,9.0,7.0,7.0,7.0,5.0,8.0,7.0,0.0,8.0,8.0,3.0,1.0,5.0,null,0.0,1.0,6.0,8.0,2.0,4.0,3.0,8.0,0.0,7.0,5.0,3.0,7.0,8.0,5.0,5.0,6.0,6.0,5.0,6.0,1.0,5.0,1.0,8.0,0.0,7.0,6.0,7.0,0.0,1.0,9.0,9.0,1.0,9.0,6.0,3.0,8.0,5.0,0.0,7.0,9.0,8.0,2.0,0.0,8.0,9.0,8.0,8.0,4.0,6.0,7.0,1.0,9.0,6.0,4.0,7.0,6.0,1.0,8.0,9.0,6.0,7.0,4.0,7.0,8.0,2.0,6.0,7.0,9.0,4.0,8.0,9.0,2.0,1.0,3.0,3.0,7.0,7.0,4.0,4.0,5.0,1.0,2.0,9.0,8.0,5.0,5.0,1.0,9.0,6.0,5.0,4.0,6.0,6.0,1.0,4.0,4.0,1.0,8.0,0.0,6.0,1.0,1.0,2.0,3.0,4.0,9.0,5.0,3.0,4.0,0.0,1.0,5.0,8.0,6.0,8.0,6.0,1.0,3.0,1.0,9.0,7.0,4.0,9.0,8.0,8.0,0.0,1.0,8.0,2.0,9.0,4.0,0.0,1.0,6.0,5.0,8.0,7.0,7.0,3.0,0.0,8.0,6.0,7.0,5.0,3.0,9.0,8.0,5.0,9.0,9.0,4.0,7.0,8.0,1.0,3.0,8.0,1.0,4.0,2.0,1.0,6.0,2.0,1.0,9.0,1.0,8.0,4.0,7.0,null,0.0,7.0,5.0,8.0,8.0,8.0,7.0,9.0,9.0,8.0,7.0,1.0,4.0,0.0,8.0,4.0,4.0,5.0,8.0,7.0,7.0,5.0,7.0,9.0,4.0,9.0,9.0,8.0,7.0,8.0,0.0,8.0,1.0,8.0,2.0,8.0,8.0,4.0,4.0,0.0,1.0,7.0,2.0,5.0,6.0,1.0,2.0,3.0,6.0,8.0,7.0,0.0,6.0,1.0,0.0,4.0,0.0,9.0,8.0,8.0,1.0,5.0,6.0,8.0,2.0,7.0,1.0,4.0,8.0,6.0,5.0,1.0,6.0,7.0,4.0,7.0,8.0,2.0,6.0,6.0,5.0,9.0,1.0,6.0,4.0,5.0,4.0,1.0,7.0,8.0,3.0,9.0,1.0,1.0,5.0,7.0,7.0,7.0,8.0,4.0,8.0,8.0,9.0,7.0,5.0,8.0,9.0,1.0,7.0,8.0,0.0,1.0,7.0,9.0,4.0,5.0,1.0,9.0,9.0,9.0,3.0,2.0,6.0,0.0,3.0,7.0,4.0,1.0,7.0,6.0,7.0,5.0,7.0,6.0,1.0,4.0,3.0,7.0,8.0,5.0,9.0,0.0,1.0,7.0,3.0,9.0,8.0,0.0,1.0,7.0,0.0,6.0,9.0,9.0,0.0,1.0,6.0,1.0,0.0,7.0,6.0,7.0,7.0,1.0,6.0,0.0,8.0,3.0,0.0,5.0,3.0,7.0,8.0,0.0,7.0,1.0,7.0,8.0,8.0,1.0,4.0,9.0,9.0,5.0,1.0,9.0],\"xaxis\":\"x\",\"yaxis\":\"y\",\"type\":\"histogram\"},{\"alignmentgroup\":\"True\",\"bingroup\":\"x\",\"hovertemplate\":\"Result=Survived\\u003cbr\\u003eTicket_Num_Cut=%{x}\\u003cbr\\u003ecount=%{y}\\u003cextra\\u003e\\u003c\\u002fextra\\u003e\",\"legendgroup\":\"Survived\",\"marker\":{\"color\":\"#EF553B\",\"opacity\":0.5,\"pattern\":{\"shape\":\"\"}},\"name\":\"Survived\",\"offsetgroup\":\"Survived\",\"orientation\":\"v\",\"showlegend\":true,\"x\":[3.0,9.0,5.0,7.0,6.0,1.0,5.0,6.0,6.0,0.0,6.0,6.0,5.0,7.0,6.0,2.0,7.0,1.0,0.0,0.0,6.0,2.0,3.0,1.0,3.0,4.0,4.0,5.0,0.0,4.0,9.0,0.0,6.0,8.0,7.0,6.0,2.0,9.0,3.0,3.0,5.0,7.0,6.0,9.0,3.0,0.0,2.0,1.0,5.0,2.0,7.0,9.0,8.0,5.0,4.0,4.0,8.0,5.0,7.0,5.0,6.0,9.0,5.0,5.0,8.0,5.0,3.0,2.0,9.0,1.0,1.0,8.0,5.0,2.0,4.0,9.0,2.0,9.0,3.0,0.0,4.0,7.0,4.0,8.0,6.0,2.0,0.0,3.0,4.0,3.0,5.0,7.0,7.0,3.0,3.0,null,6.0,9.0,2.0,1.0,2.0,7.0,6.0,9.0,3.0,2.0,3.0,2.0,1.0,8.0,5.0,5.0,2.0,3.0,2.0,2.0,3.0,7.0,6.0,4.0,2.0,5.0,6.0,3.0,4.0,8.0,5.0,8.0,3.0,2.0,1.0,5.0,3.0,6.0,4.0,9.0,4.0,5.0,6.0,7.0,4.0,0.0,2.0,2.0,2.0,3.0,1.0,3.0,0.0,5.0,3.0,0.0,5.0,8.0,4.0,1.0,6.0,9.0,4.0,3.0,9.0,4.0,6.0,0.0,6.0,9.0,4.0,9.0,1.0,5.0,4.0,2.0,5.0,4.0,4.0,6.0,5.0,0.0,5.0,2.0,8.0,2.0,2.0,3.0,0.0,4.0,0.0,9.0,1.0,2.0,3.0,4.0,4.0,4.0,3.0,5.0,0.0,9.0,2.0,3.0,4.0,5.0,2.0,5.0,2.0,3.0,1.0,2.0,3.0,2.0,1.0,1.0,1.0,0.0,4.0,2.0,0.0,7.0,2.0,4.0,7.0,8.0,0.0,2.0,2.0,2.0,6.0,2.0,9.0,6.0,2.0,4.0,2.0,4.0,6.0,2.0,6.0,5.0,5.0,0.0,3.0,8.0,5.0,5.0,2.0,0.0,2.0,3.0,2.0,6.0,2.0,0.0,0.0,3.0,2.0,0.0,5.0,6.0,3.0,9.0,3.0,4.0,6.0,1.0,3.0,3.0,3.0,2.0,8.0,0.0,4.0,3.0,2.0,5.0,2.0,5.0,0.0,2.0,3.0,3.0,4.0,6.0,5.0,4.0,4.0,3.0,3.0,2.0,3.0,9.0,6.0,4.0,9.0,5.0,6.0,4.0,0.0,5.0,2.0,4.0,8.0,3.0,1.0,2.0,9.0,0.0,2.0,8.0,4.0,5.0,0.0,7.0,5.0,2.0,6.0,9.0,0.0,8.0,5.0,0.0,4.0,3.0,0.0,2.0,5.0,2.0,3.0,9.0,4.0,5.0,0.0,2.0,5.0,0.0,7.0,2.0,1.0,0.0,2.0,5.0,5.0,5.0],\"xaxis\":\"x\",\"yaxis\":\"y\",\"type\":\"histogram\"}],                        {\"template\":{\"data\":{\"histogram2dcontour\":[{\"type\":\"histogram2dcontour\",\"colorbar\":{\"outlinewidth\":0,\"ticks\":\"\"},\"colorscale\":[[0.0,\"#0d0887\"],[0.1111111111111111,\"#46039f\"],[0.2222222222222222,\"#7201a8\"],[0.3333333333333333,\"#9c179e\"],[0.4444444444444444,\"#bd3786\"],[0.5555555555555556,\"#d8576b\"],[0.6666666666666666,\"#ed7953\"],[0.7777777777777778,\"#fb9f3a\"],[0.8888888888888888,\"#fdca26\"],[1.0,\"#f0f921\"]]}],\"choropleth\":[{\"type\":\"choropleth\",\"colorbar\":{\"outlinewidth\":0,\"ticks\":\"\"}}],\"histogram2d\":[{\"type\":\"histogram2d\",\"colorbar\":{\"outlinewidth\":0,\"ticks\":\"\"},\"colorscale\":[[0.0,\"#0d0887\"],[0.1111111111111111,\"#46039f\"],[0.2222222222222222,\"#7201a8\"],[0.3333333333333333,\"#9c179e\"],[0.4444444444444444,\"#bd3786\"],[0.5555555555555556,\"#d8576b\"],[0.6666666666666666,\"#ed7953\"],[0.7777777777777778,\"#fb9f3a\"],[0.8888888888888888,\"#fdca26\"],[1.0,\"#f0f921\"]]}],\"heatmap\":[{\"type\":\"heatmap\",\"colorbar\":{\"outlinewidth\":0,\"ticks\":\"\"},\"colorscale\":[[0.0,\"#0d0887\"],[0.1111111111111111,\"#46039f\"],[0.2222222222222222,\"#7201a8\"],[0.3333333333333333,\"#9c179e\"],[0.4444444444444444,\"#bd3786\"],[0.5555555555555556,\"#d8576b\"],[0.6666666666666666,\"#ed7953\"],[0.7777777777777778,\"#fb9f3a\"],[0.8888888888888888,\"#fdca26\"],[1.0,\"#f0f921\"]]}],\"heatmapgl\":[{\"type\":\"heatmapgl\",\"colorbar\":{\"outlinewidth\":0,\"ticks\":\"\"},\"colorscale\":[[0.0,\"#0d0887\"],[0.1111111111111111,\"#46039f\"],[0.2222222222222222,\"#7201a8\"],[0.3333333333333333,\"#9c179e\"],[0.4444444444444444,\"#bd3786\"],[0.5555555555555556,\"#d8576b\"],[0.6666666666666666,\"#ed7953\"],[0.7777777777777778,\"#fb9f3a\"],[0.8888888888888888,\"#fdca26\"],[1.0,\"#f0f921\"]]}],\"contourcarpet\":[{\"type\":\"contourcarpet\",\"colorbar\":{\"outlinewidth\":0,\"ticks\":\"\"}}],\"contour\":[{\"type\":\"contour\",\"colorbar\":{\"outlinewidth\":0,\"ticks\":\"\"},\"colorscale\":[[0.0,\"#0d0887\"],[0.1111111111111111,\"#46039f\"],[0.2222222222222222,\"#7201a8\"],[0.3333333333333333,\"#9c179e\"],[0.4444444444444444,\"#bd3786\"],[0.5555555555555556,\"#d8576b\"],[0.6666666666666666,\"#ed7953\"],[0.7777777777777778,\"#fb9f3a\"],[0.8888888888888888,\"#fdca26\"],[1.0,\"#f0f921\"]]}],\"surface\":[{\"type\":\"surface\",\"colorbar\":{\"outlinewidth\":0,\"ticks\":\"\"},\"colorscale\":[[0.0,\"#0d0887\"],[0.1111111111111111,\"#46039f\"],[0.2222222222222222,\"#7201a8\"],[0.3333333333333333,\"#9c179e\"],[0.4444444444444444,\"#bd3786\"],[0.5555555555555556,\"#d8576b\"],[0.6666666666666666,\"#ed7953\"],[0.7777777777777778,\"#fb9f3a\"],[0.8888888888888888,\"#fdca26\"],[1.0,\"#f0f921\"]]}],\"mesh3d\":[{\"type\":\"mesh3d\",\"colorbar\":{\"outlinewidth\":0,\"ticks\":\"\"}}],\"scatter\":[{\"fillpattern\":{\"fillmode\":\"overlay\",\"size\":10,\"solidity\":0.2},\"type\":\"scatter\"}],\"parcoords\":[{\"type\":\"parcoords\",\"line\":{\"colorbar\":{\"outlinewidth\":0,\"ticks\":\"\"}}}],\"scatterpolargl\":[{\"type\":\"scatterpolargl\",\"marker\":{\"colorbar\":{\"outlinewidth\":0,\"ticks\":\"\"}}}],\"bar\":[{\"error_x\":{\"color\":\"#2a3f5f\"},\"error_y\":{\"color\":\"#2a3f5f\"},\"marker\":{\"line\":{\"color\":\"#E5ECF6\",\"width\":0.5},\"pattern\":{\"fillmode\":\"overlay\",\"size\":10,\"solidity\":0.2}},\"type\":\"bar\"}],\"scattergeo\":[{\"type\":\"scattergeo\",\"marker\":{\"colorbar\":{\"outlinewidth\":0,\"ticks\":\"\"}}}],\"scatterpolar\":[{\"type\":\"scatterpolar\",\"marker\":{\"colorbar\":{\"outlinewidth\":0,\"ticks\":\"\"}}}],\"histogram\":[{\"marker\":{\"pattern\":{\"fillmode\":\"overlay\",\"size\":10,\"solidity\":0.2}},\"type\":\"histogram\"}],\"scattergl\":[{\"type\":\"scattergl\",\"marker\":{\"colorbar\":{\"outlinewidth\":0,\"ticks\":\"\"}}}],\"scatter3d\":[{\"type\":\"scatter3d\",\"line\":{\"colorbar\":{\"outlinewidth\":0,\"ticks\":\"\"}},\"marker\":{\"colorbar\":{\"outlinewidth\":0,\"ticks\":\"\"}}}],\"scattermapbox\":[{\"type\":\"scattermapbox\",\"marker\":{\"colorbar\":{\"outlinewidth\":0,\"ticks\":\"\"}}}],\"scatterternary\":[{\"type\":\"scatterternary\",\"marker\":{\"colorbar\":{\"outlinewidth\":0,\"ticks\":\"\"}}}],\"scattercarpet\":[{\"type\":\"scattercarpet\",\"marker\":{\"colorbar\":{\"outlinewidth\":0,\"ticks\":\"\"}}}],\"carpet\":[{\"aaxis\":{\"endlinecolor\":\"#2a3f5f\",\"gridcolor\":\"white\",\"linecolor\":\"white\",\"minorgridcolor\":\"white\",\"startlinecolor\":\"#2a3f5f\"},\"baxis\":{\"endlinecolor\":\"#2a3f5f\",\"gridcolor\":\"white\",\"linecolor\":\"white\",\"minorgridcolor\":\"white\",\"startlinecolor\":\"#2a3f5f\"},\"type\":\"carpet\"}],\"table\":[{\"cells\":{\"fill\":{\"color\":\"#EBF0F8\"},\"line\":{\"color\":\"white\"}},\"header\":{\"fill\":{\"color\":\"#C8D4E3\"},\"line\":{\"color\":\"white\"}},\"type\":\"table\"}],\"barpolar\":[{\"marker\":{\"line\":{\"color\":\"#E5ECF6\",\"width\":0.5},\"pattern\":{\"fillmode\":\"overlay\",\"size\":10,\"solidity\":0.2}},\"type\":\"barpolar\"}],\"pie\":[{\"automargin\":true,\"type\":\"pie\"}]},\"layout\":{\"autotypenumbers\":\"strict\",\"colorway\":[\"#636efa\",\"#EF553B\",\"#00cc96\",\"#ab63fa\",\"#FFA15A\",\"#19d3f3\",\"#FF6692\",\"#B6E880\",\"#FF97FF\",\"#FECB52\"],\"font\":{\"color\":\"#2a3f5f\"},\"hovermode\":\"closest\",\"hoverlabel\":{\"align\":\"left\"},\"paper_bgcolor\":\"white\",\"plot_bgcolor\":\"#E5ECF6\",\"polar\":{\"bgcolor\":\"#E5ECF6\",\"angularaxis\":{\"gridcolor\":\"white\",\"linecolor\":\"white\",\"ticks\":\"\"},\"radialaxis\":{\"gridcolor\":\"white\",\"linecolor\":\"white\",\"ticks\":\"\"}},\"ternary\":{\"bgcolor\":\"#E5ECF6\",\"aaxis\":{\"gridcolor\":\"white\",\"linecolor\":\"white\",\"ticks\":\"\"},\"baxis\":{\"gridcolor\":\"white\",\"linecolor\":\"white\",\"ticks\":\"\"},\"caxis\":{\"gridcolor\":\"white\",\"linecolor\":\"white\",\"ticks\":\"\"}},\"coloraxis\":{\"colorbar\":{\"outlinewidth\":0,\"ticks\":\"\"}},\"colorscale\":{\"sequential\":[[0.0,\"#0d0887\"],[0.1111111111111111,\"#46039f\"],[0.2222222222222222,\"#7201a8\"],[0.3333333333333333,\"#9c179e\"],[0.4444444444444444,\"#bd3786\"],[0.5555555555555556,\"#d8576b\"],[0.6666666666666666,\"#ed7953\"],[0.7777777777777778,\"#fb9f3a\"],[0.8888888888888888,\"#fdca26\"],[1.0,\"#f0f921\"]],\"sequentialminus\":[[0.0,\"#0d0887\"],[0.1111111111111111,\"#46039f\"],[0.2222222222222222,\"#7201a8\"],[0.3333333333333333,\"#9c179e\"],[0.4444444444444444,\"#bd3786\"],[0.5555555555555556,\"#d8576b\"],[0.6666666666666666,\"#ed7953\"],[0.7777777777777778,\"#fb9f3a\"],[0.8888888888888888,\"#fdca26\"],[1.0,\"#f0f921\"]],\"diverging\":[[0,\"#8e0152\"],[0.1,\"#c51b7d\"],[0.2,\"#de77ae\"],[0.3,\"#f1b6da\"],[0.4,\"#fde0ef\"],[0.5,\"#f7f7f7\"],[0.6,\"#e6f5d0\"],[0.7,\"#b8e186\"],[0.8,\"#7fbc41\"],[0.9,\"#4d9221\"],[1,\"#276419\"]]},\"xaxis\":{\"gridcolor\":\"white\",\"linecolor\":\"white\",\"ticks\":\"\",\"title\":{\"standoff\":15},\"zerolinecolor\":\"white\",\"automargin\":true,\"zerolinewidth\":2},\"yaxis\":{\"gridcolor\":\"white\",\"linecolor\":\"white\",\"ticks\":\"\",\"title\":{\"standoff\":15},\"zerolinecolor\":\"white\",\"automargin\":true,\"zerolinewidth\":2},\"scene\":{\"xaxis\":{\"backgroundcolor\":\"#E5ECF6\",\"gridcolor\":\"white\",\"linecolor\":\"white\",\"showbackground\":true,\"ticks\":\"\",\"zerolinecolor\":\"white\",\"gridwidth\":2},\"yaxis\":{\"backgroundcolor\":\"#E5ECF6\",\"gridcolor\":\"white\",\"linecolor\":\"white\",\"showbackground\":true,\"ticks\":\"\",\"zerolinecolor\":\"white\",\"gridwidth\":2},\"zaxis\":{\"backgroundcolor\":\"#E5ECF6\",\"gridcolor\":\"white\",\"linecolor\":\"white\",\"showbackground\":true,\"ticks\":\"\",\"zerolinecolor\":\"white\",\"gridwidth\":2}},\"shapedefaults\":{\"line\":{\"color\":\"#2a3f5f\"}},\"annotationdefaults\":{\"arrowcolor\":\"#2a3f5f\",\"arrowhead\":0,\"arrowwidth\":1},\"geo\":{\"bgcolor\":\"white\",\"landcolor\":\"#E5ECF6\",\"subunitcolor\":\"white\",\"showland\":true,\"showlakes\":true,\"lakecolor\":\"white\"},\"title\":{\"x\":0.05},\"mapbox\":{\"style\":\"light\"}}},\"xaxis\":{\"anchor\":\"y\",\"domain\":[0.0,1.0],\"title\":{\"text\":\"Ticket_Num_Cut\"}},\"yaxis\":{\"anchor\":\"x\",\"domain\":[0.0,1.0],\"title\":{\"text\":\"count\"}},\"legend\":{\"title\":{\"text\":\"Result\"},\"tracegroupgap\":0},\"title\":{\"text\":\"Ticket_Num_Cut Distribution by Survival Status\"},\"barmode\":\"overlay\"},                        {\"responsive\": true}                    ).then(function(){\n",
       "                            \n",
       "var gd = document.getElementById('8bebd95d-c1be-4a4d-b29d-7f7ffbb7273e');\n",
       "var x = new MutationObserver(function (mutations, observer) {{\n",
       "        var display = window.getComputedStyle(gd).display;\n",
       "        if (!display || display === 'none') {{\n",
       "            console.log([gd, 'removed!']);\n",
       "            Plotly.purge(gd);\n",
       "            observer.disconnect();\n",
       "        }}\n",
       "}});\n",
       "\n",
       "// Listen for the removal of the full notebook cells\n",
       "var notebookContainer = gd.closest('#notebook-container');\n",
       "if (notebookContainer) {{\n",
       "    x.observe(notebookContainer, {childList: true});\n",
       "}}\n",
       "\n",
       "// Listen for the clearing of the current output cell\n",
       "var outputEl = gd.closest('.output');\n",
       "if (outputEl) {{\n",
       "    x.observe(outputEl, {childList: true});\n",
       "}}\n",
       "\n",
       "                        })                };                });            </script>        </div>"
      ]
     },
     "metadata": {},
     "output_type": "display_data"
    }
   ],
   "source": [
    "import plotly.express as px\n",
    "\n",
    "train_ticket_num = train.copy()\n",
    "train_ticket_num[\"Result\"] = train_ticket_num[\"Survived\"].map({0: \"Dead\", 1: \"Survived\" })\n",
    "\n",
    "\n",
    "fig = px.histogram(\n",
    "    train_ticket_num, \n",
    "    x=\"Ticket_Num_Cut\",\n",
    "    color=\"Result\",\n",
    "    barmode=\"overlay\",\n",
    "    title=\"Ticket_Num_Cut Distribution by Survival Status\"\n",
    ")\n",
    "fig.show()"
   ]
  },
  {
   "cell_type": "markdown",
   "id": "4c060bf7-56cc-45db-bee1-790d54d5804a",
   "metadata": {},
   "source": [
    "#### 티켓 관련 불필요한 Feature 삭제 "
   ]
  },
  {
   "cell_type": "code",
   "execution_count": 228,
   "id": "561c92f0-ef1b-4240-91c0-e964d3165c09",
   "metadata": {},
   "outputs": [],
   "source": [
    "df.drop(['Ticket_Initial', 'Ticket_Num'], axis=1, inplace=True)"
   ]
  },
  {
   "cell_type": "code",
   "execution_count": 229,
   "id": "4dafcc1e-dc0b-42d7-a9eb-22d766ee4fae",
   "metadata": {},
   "outputs": [
    {
     "data": {
      "text/html": [
       "<div>\n",
       "<style scoped>\n",
       "    .dataframe tbody tr th:only-of-type {\n",
       "        vertical-align: middle;\n",
       "    }\n",
       "\n",
       "    .dataframe tbody tr th {\n",
       "        vertical-align: top;\n",
       "    }\n",
       "\n",
       "    .dataframe thead th {\n",
       "        text-align: right;\n",
       "    }\n",
       "</style>\n",
       "<table border=\"1\" class=\"dataframe\">\n",
       "  <thead>\n",
       "    <tr style=\"text-align: right;\">\n",
       "      <th></th>\n",
       "      <th>PassengerId</th>\n",
       "      <th>Survived</th>\n",
       "      <th>Pclass</th>\n",
       "      <th>Sex</th>\n",
       "      <th>Age</th>\n",
       "      <th>Ticket</th>\n",
       "      <th>Fare</th>\n",
       "      <th>Cabin</th>\n",
       "      <th>Embarked</th>\n",
       "      <th>Initial</th>\n",
       "      <th>Family</th>\n",
       "      <th>Ticket_Initial2</th>\n",
       "      <th>Ticket_Num_Cut</th>\n",
       "    </tr>\n",
       "  </thead>\n",
       "  <tbody>\n",
       "    <tr>\n",
       "      <th>0</th>\n",
       "      <td>1</td>\n",
       "      <td>0.0</td>\n",
       "      <td>3</td>\n",
       "      <td>0</td>\n",
       "      <td>3.0</td>\n",
       "      <td>A/5 21171</td>\n",
       "      <td>0.0</td>\n",
       "      <td>0</td>\n",
       "      <td>0</td>\n",
       "      <td>0.0</td>\n",
       "      <td>2</td>\n",
       "      <td>0</td>\n",
       "      <td>3.0</td>\n",
       "    </tr>\n",
       "    <tr>\n",
       "      <th>1</th>\n",
       "      <td>2</td>\n",
       "      <td>1.0</td>\n",
       "      <td>1</td>\n",
       "      <td>1</td>\n",
       "      <td>4.0</td>\n",
       "      <td>PC 17599</td>\n",
       "      <td>3.0</td>\n",
       "      <td>1</td>\n",
       "      <td>1</td>\n",
       "      <td>2.0</td>\n",
       "      <td>2</td>\n",
       "      <td>1</td>\n",
       "      <td>3.0</td>\n",
       "    </tr>\n",
       "    <tr>\n",
       "      <th>2</th>\n",
       "      <td>3</td>\n",
       "      <td>1.0</td>\n",
       "      <td>3</td>\n",
       "      <td>1</td>\n",
       "      <td>3.0</td>\n",
       "      <td>STON/O2. 3101282</td>\n",
       "      <td>0.0</td>\n",
       "      <td>0</td>\n",
       "      <td>0</td>\n",
       "      <td>1.0</td>\n",
       "      <td>1</td>\n",
       "      <td>2</td>\n",
       "      <td>9.0</td>\n",
       "    </tr>\n",
       "    <tr>\n",
       "      <th>3</th>\n",
       "      <td>4</td>\n",
       "      <td>1.0</td>\n",
       "      <td>1</td>\n",
       "      <td>1</td>\n",
       "      <td>4.0</td>\n",
       "      <td>113803</td>\n",
       "      <td>2.0</td>\n",
       "      <td>1</td>\n",
       "      <td>0</td>\n",
       "      <td>2.0</td>\n",
       "      <td>2</td>\n",
       "      <td>3</td>\n",
       "      <td>5.0</td>\n",
       "    </tr>\n",
       "    <tr>\n",
       "      <th>4</th>\n",
       "      <td>5</td>\n",
       "      <td>0.0</td>\n",
       "      <td>3</td>\n",
       "      <td>0</td>\n",
       "      <td>4.0</td>\n",
       "      <td>373450</td>\n",
       "      <td>0.0</td>\n",
       "      <td>0</td>\n",
       "      <td>0</td>\n",
       "      <td>0.0</td>\n",
       "      <td>1</td>\n",
       "      <td>3</td>\n",
       "      <td>9.0</td>\n",
       "    </tr>\n",
       "  </tbody>\n",
       "</table>\n",
       "</div>"
      ],
      "text/plain": [
       "   PassengerId  Survived  Pclass  Sex  Age            Ticket  Fare  Cabin  \\\n",
       "0            1       0.0       3    0  3.0         A/5 21171   0.0      0   \n",
       "1            2       1.0       1    1  4.0          PC 17599   3.0      1   \n",
       "2            3       1.0       3    1  3.0  STON/O2. 3101282   0.0      0   \n",
       "3            4       1.0       1    1  4.0            113803   2.0      1   \n",
       "4            5       0.0       3    0  4.0            373450   0.0      0   \n",
       "\n",
       "   Embarked  Initial  Family  Ticket_Initial2  Ticket_Num_Cut  \n",
       "0         0      0.0       2                0             3.0  \n",
       "1         1      2.0       2                1             3.0  \n",
       "2         0      1.0       1                2             9.0  \n",
       "3         0      2.0       2                3             5.0  \n",
       "4         0      0.0       1                3             9.0  "
      ]
     },
     "execution_count": 229,
     "metadata": {},
     "output_type": "execute_result"
    }
   ],
   "source": [
    "df.head()"
   ]
  },
  {
   "cell_type": "markdown",
   "id": "be4ad69f-399a-409b-a371-5053b8f06366",
   "metadata": {},
   "source": [
    "#### pickle\n",
    "- 데이터 구조, 객체에 상관없이 파일 저장 및 읽기 가능\n"
   ]
  },
  {
   "cell_type": "code",
   "execution_count": 230,
   "id": "7c54bc09-c633-40f3-84e0-685df8404fbb",
   "metadata": {},
   "outputs": [],
   "source": [
    "import pickle"
   ]
  },
  {
   "cell_type": "code",
   "execution_count": 231,
   "id": "bdc34734-6044-4045-984b-755d0de75174",
   "metadata": {},
   "outputs": [],
   "source": [
    "with open('titanic_step1_feature_engineering.pickle', 'wb') as pickle_name:\n",
    "    pickle.dump(df, pickle_name)"
   ]
  },
  {
   "cell_type": "code",
   "execution_count": null,
   "id": "972fa4ed-c7d7-4ac0-9ad2-5d4e4f27e5e1",
   "metadata": {},
   "outputs": [],
   "source": []
  }
 ],
 "metadata": {
  "kernelspec": {
   "display_name": "Python [conda env:base] *",
   "language": "python",
   "name": "conda-base-py"
  },
  "language_info": {
   "codemirror_mode": {
    "name": "ipython",
    "version": 3
   },
   "file_extension": ".py",
   "mimetype": "text/x-python",
   "name": "python",
   "nbconvert_exporter": "python",
   "pygments_lexer": "ipython3",
   "version": "3.13.5"
  }
 },
 "nbformat": 4,
 "nbformat_minor": 5
}
