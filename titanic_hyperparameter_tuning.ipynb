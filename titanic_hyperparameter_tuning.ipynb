{
 "cells": [
  {
   "cell_type": "code",
   "execution_count": 1,
   "id": "4515298e-b834-44fa-943d-a98e96dc687b",
   "metadata": {},
   "outputs": [],
   "source": [
    "import pickle \n",
    "import pandas as pd\n",
    "\n",
    "with open(\"titanic_step4_importance_train.pickle\", \"rb\") as pickle_file:\n",
    "    train_importance = pickle.load(pickle_file)\n",
    "\n",
    "with open(\"titanic_step4_importance_train_y.pickle\", \"rb\") as pickle_file:\n",
    "    train_y = pickle.load(pickle_file)\n",
    "\n",
    "with open(\"titanic_step4_importance_test.pickle\", \"rb\") as pickle_file:\n",
    "    test_importance = pickle.load(pickle_file)\n",
    "\n"
   ]
  },
  {
   "cell_type": "code",
   "execution_count": 2,
   "id": "13dd4e47-a802-4696-9dde-cb4bf48e5b8f",
   "metadata": {},
   "outputs": [],
   "source": [
    "import numpy as np\n",
    "\n",
    "from sklearn.model_selection import cross_val_score\n",
    "from sklearn.model_selection import GridSearchCV\n",
    "from sklearn.model_selection import RandomizedSearchCV\n",
    "from scipy import stats\n",
    "\n",
    "from sklearn.neighbors import KNeighborsClassifier\n",
    "from sklearn.linear_model import LogisticRegression\n",
    "from sklearn.svm import SVC\n",
    "from sklearn.tree import DecisionTreeClassifier\n",
    "from sklearn.ensemble import RandomForestClassifier\n",
    "from sklearn.ensemble import ExtraTreesClassifier\n",
    "from sklearn.ensemble import GradientBoostingClassifier\n",
    "from sklearn.naive_bayes import GaussianNB\n",
    "from xgboost import XGBClassifier\n",
    "from lightgbm import LGBMClassifier\n",
    "import warnings\n",
    "\n",
    "warnings.filterwarnings(\"ignore\")\n"
   ]
  },
  {
   "cell_type": "markdown",
   "id": "6294da94-eddd-4a25-9ee0-cb88b87eb7c3",
   "metadata": {},
   "source": [
    "#### SVC 하이퍼 파라미터\n",
    "- SVC는 분류 경계가 최대가 되는 하이퍼 플레인을 구하는 것이 목표\n",
    "- 하이퍼 플레인을 일직선 또는 곡률을 가진 선으로 할지 선택 가능\n",
    "- 주요 하이퍼 파라미터\n",
    "    - C: regularization \n",
    "    - gamma: 얼마나 훈련 데이터셋에 fit하게 할 지 결정"
   ]
  },
  {
   "cell_type": "markdown",
   "id": "029921d6-62f8-47e0-8c01-6c9e982f0584",
   "metadata": {},
   "source": [
    "#### RandomizedSearchCV + SVC\n",
    "- Grid Search보다 보통 성능이 높다고 평가됨\n",
    "- 하지만 수행 시간이 상당히 걸릴 수 있음 "
   ]
  },
  {
   "cell_type": "code",
   "execution_count": 5,
   "id": "c2cb4a0a-d1c3-4402-93bf-2c7535da82ea",
   "metadata": {},
   "outputs": [
    {
     "name": "stdout",
     "output_type": "stream",
     "text": [
      "0.8339087314041805\n",
      "{'C': np.float64(4.889400554283291), 'gamma': np.float64(0.1516847042112811)}\n",
      "                                               params  mean_test_score\n",
      "0   {'C': 6.77440818389809, 'gamma': 0.88785170273...         0.817086\n",
      "1   {'C': 46.630281994325124, 'gamma': 0.445568164...         0.821549\n",
      "2   {'C': 19.41177730569913, 'gamma': 0.2575964353...         0.822666\n",
      "3   {'C': 32.86837927355188, 'gamma': 0.4926169375...         0.821549\n",
      "4   {'C': 48.21192096250286, 'gamma': 0.8009844748...         0.820444\n",
      "..                                                ...              ...\n",
      "95  {'C': 14.63028322882729, 'gamma': 0.7955577851...         0.820444\n",
      "96  {'C': 17.165184253749988, 'gamma': 0.156595114...         0.819315\n",
      "97  {'C': 31.259768801363897, 'gamma': 0.212003570...         0.822666\n",
      "98  {'C': 27.108447939999504, 'gamma': 0.875683423...         0.819321\n",
      "99  {'C': 28.86465178921625, 'gamma': 0.4122925309...         0.821549\n",
      "\n",
      "[100 rows x 2 columns]\n"
     ]
    }
   ],
   "source": [
    "hyper_params = {\n",
    "    \"C\": stats.uniform(0, 50),\n",
    "    \"gamma\": stats.uniform(0, 1)\n",
    "}\n",
    "\n",
    "gd = RandomizedSearchCV(\n",
    "    estimator=SVC(random_state=2025),\n",
    "    param_distributions=hyper_params,\n",
    "    n_iter=100,\n",
    "    cv=5, # 내부적으로 Stratified K-Fold 사용\n",
    "    scoring=\"accuracy\",\n",
    "    random_state=2025,\n",
    "    n_jobs=-1\n",
    ")\n",
    "\n",
    "gd.fit(train_importance, train_y)\n",
    "print(gd.best_score_)\n",
    "print(gd.best_params_)\n",
    "\n",
    "df = pd.DataFrame(gd.cv_results_)\n",
    "print(df[[\"params\", \"mean_test_score\"]])"
   ]
  },
  {
   "cell_type": "markdown",
   "id": "17fb80ed-3024-4e77-a382-406a4d62524a",
   "metadata": {},
   "source": [
    "#### GridSearchCV + SVC\n",
    "- 하이퍼 파라미터는 일반적으로 적절한 범위가 존재하지 않음, 성능이 나오는 범위를 감에 의존\n",
    "- Randomized Search를 통해 대략적인 범위를 알아낸 후, Grid Search로 범위와 최적의 값을 지정"
   ]
  },
  {
   "cell_type": "code",
   "execution_count": 5,
   "id": "ed4f9286-bd43-4d81-9790-9456390ec748",
   "metadata": {},
   "outputs": [
    {
     "name": "stdout",
     "output_type": "stream",
     "text": [
      "Fitting 5 folds for each of 42 candidates, totalling 210 fits\n",
      "0.8294080723118448\n",
      "{'C': 15, 'gamma': 0.07}\n"
     ]
    }
   ],
   "source": [
    "hyper_params = {\n",
    "    \"C\": [10, 15, 20, 23, 25, 30, 50],\n",
    "    \"gamma\": [0.001, 0.01, 0.05, 0.06, 0.07, 1]\n",
    "}\n",
    "\n",
    "gd = GridSearchCV(\n",
    "    estimator=SVC(random_state=2025),\n",
    "    param_grid=hyper_params,\n",
    "    verbose=True,\n",
    "    cv=5,\n",
    "    scoring=\"accuracy\",\n",
    "    n_jobs=-1\n",
    ")\n",
    "\n",
    "gd.fit(train_importance, train_y)\n",
    "print(gd.best_score_)\n",
    "print(gd.best_params_)\n"
   ]
  },
  {
   "cell_type": "markdown",
   "id": "09d993c9-8e06-45bf-9265-67470a77c311",
   "metadata": {},
   "source": [
    "#### Graident Boosting Classifier 하이퍼 파파미터\n",
    "- learning_rate: 학습률, 가중치를 업데이트할 때 마다 어느정도로 수정할 지의 비율\n",
    "- n_estimator: 트리의 개수 \n",
    "- max_depth: 트리의 깊이"
   ]
  },
  {
   "cell_type": "markdown",
   "id": "e39ec297-7c4e-4198-8a36-d8654ecae8fa",
   "metadata": {},
   "source": [
    "#### Gradient Boosting Classifier + GridSearch"
   ]
  },
  {
   "cell_type": "code",
   "execution_count": 7,
   "id": "53c7f4a1-2180-42c6-9725-c351343fa9e0",
   "metadata": {},
   "outputs": [
    {
     "name": "stdout",
     "output_type": "stream",
     "text": [
      "Fitting 5 folds for each of 48 candidates, totalling 240 fits\n",
      "0.8316740945326722\n",
      "{'learning_rate': 0.05, 'max_depth': 5, 'n_estimators': 2000}\n"
     ]
    }
   ],
   "source": [
    "hyper_params = {\n",
    "    \"learning_rate\": [0.01, 0.05, 0.1, 0.2],\n",
    "    \"n_estimators\" : [100, 1000, 2000],\n",
    "    \"max_depth\":  [3, 5, 10, 15]\n",
    "}\n",
    "\n",
    "gd = GridSearchCV(\n",
    "    estimator=GradientBoostingClassifier(random_state=2025),\n",
    "    param_grid=hyper_params,\n",
    "    verbose=5,\n",
    "    cv=5,\n",
    "    scoring=\"accuracy\",\n",
    "    n_jobs=-1,\n",
    ")\n",
    "\n",
    "gd.fit(train_importance, train_y)\n",
    "print(gd.best_score_)\n",
    "print(gd.best_params_)"
   ]
  },
  {
   "cell_type": "markdown",
   "id": "66b4eaa6-5b95-4a12-904a-8b0a7c196672",
   "metadata": {},
   "source": [
    "#### Logisitic Regression 하이퍼 파라미터 \n",
    "- penalty: regularization 종류 \n",
    "- C: regularization 적용 강도"
   ]
  },
  {
   "cell_type": "code",
   "execution_count": 8,
   "id": "4c78926b-23c3-4b91-80c0-d5cbff4c66a6",
   "metadata": {},
   "outputs": [
    {
     "name": "stdout",
     "output_type": "stream",
     "text": [
      "0.8317054798819911\n",
      "{'C': np.float64(126.408546896565), 'penalty': 'l2'}\n"
     ]
    }
   ],
   "source": [
    "hyper_params = {\n",
    "    \"penalty\": [\"l1\", \"l2\", \"elasticnet\"],\n",
    "    \"C\": stats.uniform(0, 1000)\n",
    "}\n",
    "\n",
    "gd = RandomizedSearchCV(\n",
    "    estimator=LogisticRegression(random_state=2025),\n",
    "    param_distributions=hyper_params,\n",
    "    cv=5,\n",
    "    n_iter=100,\n",
    "    scoring=\"accuracy\",\n",
    "    random_state=2025,\n",
    "    n_jobs=-1\n",
    ")\n",
    "\n",
    "gd.fit(train_importance, train_y)\n",
    "print(gd.best_score_)\n",
    "print(gd.best_params_)"
   ]
  },
  {
   "cell_type": "code",
   "execution_count": 9,
   "id": "7c0268f0-1124-4c14-aedf-7ae460ff3de0",
   "metadata": {},
   "outputs": [
    {
     "name": "stdout",
     "output_type": "stream",
     "text": [
      "Fitting 5 folds for each of 400 candidates, totalling 2000 fits\n",
      "0.8317054798819911\n",
      "{'C': np.float64(701.0050251256281), 'penalty': 'l2'}\n"
     ]
    }
   ],
   "source": [
    "hyper_params = {\n",
    "    \"penalty\": [\"l1\", \"l2\"],\n",
    "    \"C\": np.linspace(700, 900, 200)\n",
    "}\n",
    "\n",
    "gd = GridSearchCV(\n",
    "    estimator=LogisticRegression(random_state=2025),\n",
    "    param_grid=hyper_params,\n",
    "    verbose=5,\n",
    "    cv=5,\n",
    "    scoring=\"accuracy\",\n",
    "    n_jobs=-1,\n",
    ")\n",
    "\n",
    "gd.fit(train_importance, train_y)\n",
    "print(gd.best_score_)\n",
    "print(gd.best_params_)"
   ]
  }
 ],
 "metadata": {
  "kernelspec": {
   "display_name": "Python [conda env:base] *",
   "language": "python",
   "name": "conda-base-py"
  },
  "language_info": {
   "codemirror_mode": {
    "name": "ipython",
    "version": 3
   },
   "file_extension": ".py",
   "mimetype": "text/x-python",
   "name": "python",
   "nbconvert_exporter": "python",
   "pygments_lexer": "ipython3",
   "version": "3.13.5"
  }
 },
 "nbformat": 4,
 "nbformat_minor": 5
}
